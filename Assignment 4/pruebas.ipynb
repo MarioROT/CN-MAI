{
 "cells": [
  {
   "cell_type": "code",
   "execution_count": 1,
   "id": "9fcef67a",
   "metadata": {},
   "outputs": [],
   "source": [
    "include(\"../Assignment 1/NetworkProcessing.jl\")\n",
    "include(\"../Assignment 2/NetworkModels.jl\")\n",
    "using Graphs\n",
    "using Random\n",
    "using DataStructures\n",
    "using Statistics\n",
    "using Setfield\n",
    "using CSV\n",
    "using Plots"
   ]
  },
  {
   "cell_type": "code",
   "execution_count": 2,
   "id": "1abd0104",
   "metadata": {},
   "outputs": [
    {
     "data": {
      "text/plain": [
       "(SimpleGraph{Int64}(859, [[233, 399], [85, 132, 151], [43, 59], [45, 104, 167, 213, 419], [58, 129, 383, 486], [227, 465], [158, 449], [419, 499], [112, 385, 431], [109, 248]  …  [140, 492], [61, 491], [189, 197, 418], [101, 278, 342, 446], [33, 41], [131, 193, 411], [252, 392, 476], [64, 465], [8, 432], [38, 67, 141, 295, 297, 307, 341, 409, 410]]), Dict((12, 439) => 1.0, (2, 151) => 1.0, (88, 490) => 1.0, (221, 400) => 1.0, (161, 462) => 1.0, (254, 293) => 1.0, (188, 371) => 1.0, (19, 157) => 1.0, (12, 126) => 1.0, (154, 213) => 1.0…), Dict{Int64, AbstractString}(56 => \"55\", 35 => \"34\", 425 => \"424\", 429 => \"428\", 60 => \"59\", 220 => \"219\", 308 => \"307\", 67 => \"66\", 215 => \"214\", 73 => \"72\"…))"
      ]
     },
     "execution_count": 2,
     "metadata": {},
     "output_type": "execute_result"
    }
   ],
   "source": [
    "graph, edge_weights, vertex_labels  = NetworkProcessing.read_network(\"../Assignment 1/A1-networks/model/SF_500_g2.7.net\")"
   ]
  },
  {
   "cell_type": "code",
   "execution_count": 32,
   "id": "75ecf577",
   "metadata": {},
   "outputs": [
    {
     "data": {
      "text/plain": [
       "allcombinations (generic function with 1 method)"
      ]
     },
     "execution_count": 32,
     "metadata": {},
     "output_type": "execute_result"
    }
   ],
   "source": [
    "abstract type Model end\n",
    "\n",
    "struct SIS <: Model\n",
    "    μ::Float64 \n",
    "    β::Float64\n",
    "    network::Graphs.SimpleGraphs.SimpleGraph{Int64}\n",
    "    timeStep::Int64\n",
    "    verticesState::Vector{Bool}\n",
    "end\n",
    "μ(s::SIS) = s.μ \n",
    "β(s::SIS) = s.β\n",
    "network(s::SIS) = s.network\n",
    "timeStep(s::SIS) = s.timeStep\n",
    "verticesState(s::SIS) = s.verticesState\n",
    "\n",
    "function create_SIS(graph, μ::AbstractFloat, β::AbstractFloat, p::AbstractFloat)\n",
    "    v = rand!(zeros(nv(graph)))\n",
    "    verticesState = [i < p for i in v]\n",
    "    return SIS(μ, β, graph, 0, verticesState)\n",
    "end\n",
    "\n",
    "function update_SIS(m::Model)\n",
    "    m = @set m.timeStep += 1\n",
    "    for vertex in vertices(m.network)\n",
    "        if m.verticesState[vertex] == 1 && rand() <= m.μ\n",
    "            m = @set m.verticesState[vertex] = 0\n",
    "        else\n",
    "            for neighbor in neighbors(m.network, vertex)\n",
    "                if rand() <= m.β\n",
    "                    m = @set m.verticesState[vertex] = 1\n",
    "                    break\n",
    "                end\n",
    "            end    \n",
    "        end\n",
    "    end \n",
    "    return m\n",
    "end\n",
    "\n",
    "function monte_carlo(N_rep::Int64, T_max::Int64, T_trans::Int64, initParams::Dict{String,Any})\n",
    "    ps_reps = []\n",
    "    for rep in 1:N_rep\n",
    "        sis = create_SIS(initParams[\"graph\"], initParams[\"μ\"], initParams[\"β\"], initParams[\"p0\"])\n",
    "        ps_steps = []\n",
    "        for step in 1:T_max\n",
    "            if step == 1\n",
    "                print(counter(sis.verticesState)[1]/size(sis.verticesState)[1])\n",
    "            end\n",
    "            sis = update_SIS(sis)\n",
    "            if step == 1\n",
    "                print(counter(sis.verticesState)[1]/size(sis.verticesState)[1])\n",
    "            end\n",
    "            if step < T_trans\n",
    "                push!(ps_steps, counter(sis.verticesState)[1]/size(sis.verticesState)[1])\n",
    "            end\n",
    "        end\n",
    "        push!(ps_reps,mean(ps_steps))\n",
    "    end\n",
    "    print(ps_reps)\n",
    "    return mean(ps_reps)\n",
    "end\n",
    "\n",
    "allcombinations(v...) = vec(collect(Iterators.product(v...)))"
   ]
  },
  {
   "cell_type": "code",
   "execution_count": 9,
   "id": "78d14d0f",
   "metadata": {},
   "outputs": [
    {
     "name": "stdout",
     "output_type": "stream",
     "text": [
      "--- > Processing Networks: - > 20x2+5x2.net - > circle9.net"
     ]
    },
    {
     "name": "stderr",
     "output_type": "stream",
     "text": [
      "\u001b[33m\u001b[1m┌ \u001b[22m\u001b[39m\u001b[33m\u001b[1mWarning: \u001b[22m\u001b[39mSkipped marker arg cirlce.\n",
      "\u001b[33m\u001b[1m└ \u001b[22m\u001b[39m\u001b[90m@ Plots C:\\Users\\mario\\.julia\\packages\\Plots\\ju9dp\\src\\args.jl:1149\u001b[39m\n",
      "\u001b[33m\u001b[1m┌ \u001b[22m\u001b[39m\u001b[33m\u001b[1mWarning: \u001b[22m\u001b[39mSkipped marker arg cirlce.\n",
      "\u001b[33m\u001b[1m└ \u001b[22m\u001b[39m\u001b[90m@ Plots C:\\Users\\mario\\.julia\\packages\\Plots\\ju9dp\\src\\args.jl:1149\u001b[39m\n",
      "\u001b[33m\u001b[1m┌ \u001b[22m\u001b[39m\u001b[33m\u001b[1mWarning: \u001b[22m\u001b[39mSkipped marker arg cirlce.\n",
      "\u001b[33m\u001b[1m└ \u001b[22m\u001b[39m\u001b[90m@ Plots C:\\Users\\mario\\.julia\\packages\\Plots\\ju9dp\\src\\args.jl:1149\u001b[39m\n",
      "\u001b[33m\u001b[1m┌ \u001b[22m\u001b[39m\u001b[33m\u001b[1mWarning: \u001b[22m\u001b[39mSkipped marker arg cirlce.\n",
      "\u001b[33m\u001b[1m└ \u001b[22m\u001b[39m\u001b[90m@ Plots C:\\Users\\mario\\.julia\\packages\\Plots\\ju9dp\\src\\args.jl:1149\u001b[39m\n",
      "\u001b[33m\u001b[1m┌ \u001b[22m\u001b[39m\u001b[33m\u001b[1mWarning: \u001b[22m\u001b[39mSkipped marker arg cirlce.\n",
      "\u001b[33m\u001b[1m└ \u001b[22m\u001b[39m\u001b[90m@ Plots C:\\Users\\mario\\.julia\\packages\\Plots\\ju9dp\\src\\args.jl:1149\u001b[39m\n",
      "\u001b[33m\u001b[1m┌ \u001b[22m\u001b[39m\u001b[33m\u001b[1mWarning: \u001b[22m\u001b[39mSkipped marker arg cirlce.\n",
      "\u001b[33m\u001b[1m└ \u001b[22m\u001b[39m\u001b[90m@ Plots C:\\Users\\mario\\.julia\\packages\\Plots\\ju9dp\\src\\args.jl:1149\u001b[39m\n"
     ]
    },
    {
     "data": {
      "text/plain": [
       "\"Exercise_Results.csv\""
      ]
     },
     "execution_count": 9,
     "metadata": {},
     "output_type": "execute_result"
    }
   ],
   "source": [
    "baseDir = \"networks/\"\n",
    "resultsDir = \"results/\"\n",
    "μs = [0.1,0.5,0.9]\n",
    "βs = LinRange(0,1,51)\n",
    "networks = readdir(baseDir * \"toy\")\n",
    "net_results = Dict{Int64, Vector}()\n",
    "print(\"--- > Processing Networks:\")\n",
    "for (i,network) in enumerate(networks[1:2])\n",
    "    print(\"\\n - > $network\")\n",
    "    graph, edge_weights, vertex_labels  = NetworkProcessing.read_network(\"../Assignment 1/A1-networks/toy/$network\")\n",
    "    temp_res = Dict{AbstractFloat, Dict{String, Vector{Float64}}}()\n",
    "    for (j,comb) in enumerate(allcombinations(βs, μs))\n",
    "        initParams = Dict(\"graph\"=>graph,\"μ\"=>comb[2], \"β\"=>comb[1], \"p0\"=>0.2)\n",
    "        p = monte_carlo(100, 1000, 900, initParams)\n",
    "        if j %51 == 1\n",
    "            temp_res[comb[2]] = Dict(\"p\"=>[p], \"β\"=>[comb[1]])\n",
    "        else\n",
    "            append!(temp_res[comb[2]][\"p\"], [p])\n",
    "            append!(temp_res[comb[2]][\"β\"], [comb[1]])\n",
    "        end\n",
    "        net_results[i*j] = [network, comb[2], comb[1], p]\n",
    "    end\n",
    "    for (i, (μ, dict)) in enumerate(temp_res)\n",
    "        if i == 1\n",
    "            plot(dict[\"β\"],dict[\"p\"], marker=:cirlce, label=μ, title=network)\n",
    "        else\n",
    "            plot!(dict[\"β\"],dict[\"p\"], marker=:cirlce, label=μ)\n",
    "        end\n",
    "    end\n",
    "    savefig(resultsDir * \"/$network.png\")\n",
    "end\n",
    "\n",
    "df = NetworkProcessing.construct_df(net_results, [\"network\",\"μ\",\"β\",\"p\"])\n",
    "\n",
    "CSV.write(\"Exercise_Results.csv\", df)"
   ]
  },
  {
   "cell_type": "code",
   "execution_count": 122,
   "id": "fa9c9bac",
   "metadata": {},
   "outputs": [
    {
     "data": {
      "text/plain": [
       "153-element Vector{Tuple{Float64, Float64}}:\n",
       " (0.0, 0.1)\n",
       " (0.02, 0.1)\n",
       " (0.04, 0.1)\n",
       " (0.06, 0.1)\n",
       " (0.08, 0.1)\n",
       " (0.1, 0.1)\n",
       " (0.12, 0.1)\n",
       " (0.14, 0.1)\n",
       " (0.16, 0.1)\n",
       " (0.18, 0.1)\n",
       " (0.2, 0.1)\n",
       " (0.22, 0.1)\n",
       " (0.24, 0.1)\n",
       " ⋮\n",
       " (0.78, 0.9)\n",
       " (0.8, 0.9)\n",
       " (0.82, 0.9)\n",
       " (0.84, 0.9)\n",
       " (0.86, 0.9)\n",
       " (0.88, 0.9)\n",
       " (0.9, 0.9)\n",
       " (0.92, 0.9)\n",
       " (0.94, 0.9)\n",
       " (0.96, 0.9)\n",
       " (0.98, 0.9)\n",
       " (1.0, 0.9)"
      ]
     },
     "execution_count": 122,
     "metadata": {},
     "output_type": "execute_result"
    }
   ],
   "source": [
    "allcombinations(βs,μs)"
   ]
  },
  {
   "cell_type": "code",
   "execution_count": 118,
   "id": "2ac4634c",
   "metadata": {},
   "outputs": [
    {
     "name": "stdout",
     "output_type": "stream",
     "text": [
      "152103"
     ]
    }
   ],
   "source": [
    "for i in 1:51*3\n",
    "    if i%51 == 1\n",
    "        print(i)\n",
    "    end\n",
    "end"
   ]
  },
  {
   "cell_type": "code",
   "execution_count": 97,
   "id": "94816b23",
   "metadata": {},
   "outputs": [
    {
     "data": {
      "image/png": "[encoded data removed]",
      "image/svg+xml": [
       "<?xml version=\"1.0\" encoding=\"utf-8\"?>\n",
       "<svg xmlns=\"http://www.w3.org/2000/svg\" xmlns:xlink=\"http://www.w3.org/1999/xlink\" width=\"600\" height=\"400\" viewBox=\"0 0 2400 1600\">\n",
       "<defs>\n",
       "  <clipPath id=\"clip730\">\n",
       "    <rect x=\"0\" y=\"0\" width=\"2400\" height=\"1600\"/>\n",
       "  </clipPath>\n",
       "</defs>\n",
       "<path clip-path=\"url(#clip730)\" d=\"M0 1600 L2400 1600 L2400 0 L0 0  Z\" fill=\"#ffffff\" fill-rule=\"evenodd\" fill-opacity=\"1\"/>\n",
       "<defs>\n",
       "  <clipPath id=\"clip731\">\n",
       "    <rect x=\"480\" y=\"0\" width=\"1681\" height=\"1600\"/>\n",
       "  </clipPath>\n",
       "</defs>\n",
       "<path clip-path=\"url(#clip730)\" d=\"M156.598 1486.45 L2352.76 1486.45 L2352.76 47.2441 L156.598 47.2441  Z\" fill=\"#ffffff\" fill-rule=\"evenodd\" fill-opacity=\"1\"/>\n",
       "<defs>\n",
       "  <clipPath id=\"clip732\">\n",
       "    <rect x=\"156\" y=\"47\" width=\"2197\" height=\"1440\"/>\n",
       "  </clipPath>\n",
       "</defs>\n",
       "<polyline clip-path=\"url(#clip732)\" style=\"stroke:#000000; stroke-linecap:round; stroke-linejoin:round; stroke-width:2; stroke-opacity:0.1; fill:none\" points=\"166.985,1486.45 166.985,47.2441 \"/>\n",
       "<polyline clip-path=\"url(#clip732)\" style=\"stroke:#000000; stroke-linecap:round; stroke-linejoin:round; stroke-width:2; stroke-opacity:0.1; fill:none\" points=\"703.944,1486.45 703.944,47.2441 \"/>\n",
       "<polyline clip-path=\"url(#clip732)\" style=\"stroke:#000000; stroke-linecap:round; stroke-linejoin:round; stroke-width:2; stroke-opacity:0.1; fill:none\" points=\"1240.9,1486.45 1240.9,47.2441 \"/>\n",
       "<polyline clip-path=\"url(#clip732)\" style=\"stroke:#000000; stroke-linecap:round; stroke-linejoin:round; stroke-width:2; stroke-opacity:0.1; fill:none\" points=\"1777.86,1486.45 1777.86,47.2441 \"/>\n",
       "<polyline clip-path=\"url(#clip732)\" style=\"stroke:#000000; stroke-linecap:round; stroke-linejoin:round; stroke-width:2; stroke-opacity:0.1; fill:none\" points=\"2314.82,1486.45 2314.82,47.2441 \"/>\n",
       "<polyline clip-path=\"url(#clip730)\" style=\"stroke:#000000; stroke-linecap:round; stroke-linejoin:round; stroke-width:4; stroke-opacity:1; fill:none\" points=\"156.598,1486.45 2352.76,1486.45 \"/>\n",
       "<polyline clip-path=\"url(#clip730)\" style=\"stroke:#000000; stroke-linecap:round; stroke-linejoin:round; stroke-width:4; stroke-opacity:1; fill:none\" points=\"166.985,1486.45 166.985,1467.55 \"/>\n",
       "<polyline clip-path=\"url(#clip730)\" style=\"stroke:#000000; stroke-linecap:round; stroke-linejoin:round; stroke-width:4; stroke-opacity:1; fill:none\" points=\"703.944,1486.45 703.944,1467.55 \"/>\n",
       "<polyline clip-path=\"url(#clip730)\" style=\"stroke:#000000; stroke-linecap:round; stroke-linejoin:round; stroke-width:4; stroke-opacity:1; fill:none\" points=\"1240.9,1486.45 1240.9,1467.55 \"/>\n",
       "<polyline clip-path=\"url(#clip730)\" style=\"stroke:#000000; stroke-linecap:round; stroke-linejoin:round; stroke-width:4; stroke-opacity:1; fill:none\" points=\"1777.86,1486.45 1777.86,1467.55 \"/>\n",
       "<polyline clip-path=\"url(#clip730)\" style=\"stroke:#000000; stroke-linecap:round; stroke-linejoin:round; stroke-width:4; stroke-opacity:1; fill:none\" points=\"2314.82,1486.45 2314.82,1467.55 \"/>\n",
       "<path clip-path=\"url(#clip730)\" d=\"M129.289 1517.37 Q125.677 1517.37 123.849 1520.93 Q122.043 1524.47 122.043 1531.6 Q122.043 1538.71 123.849 1542.27 Q125.677 1545.82 129.289 1545.82 Q132.923 1545.82 134.728 1542.27 Q136.557 1538.71 136.557 1531.6 Q136.557 1524.47 134.728 1520.93 Q132.923 1517.37 129.289 1517.37 M129.289 1513.66 Q135.099 1513.66 138.154 1518.27 Q141.233 1522.85 141.233 1531.6 Q141.233 1540.33 138.154 1544.94 Q135.099 1549.52 129.289 1549.52 Q123.478 1549.52 120.4 1544.94 Q117.344 1540.33 117.344 1531.6 Q117.344 1522.85 120.4 1518.27 Q123.478 1513.66 129.289 1513.66 Z\" fill=\"#000000\" fill-rule=\"nonzero\" fill-opacity=\"1\" /><path clip-path=\"url(#clip730)\" d=\"M149.45 1542.97 L154.335 1542.97 L154.335 1548.85 L149.45 1548.85 L149.45 1542.97 Z\" fill=\"#000000\" fill-rule=\"nonzero\" fill-opacity=\"1\" /><path clip-path=\"url(#clip730)\" d=\"M174.52 1517.37 Q170.909 1517.37 169.08 1520.93 Q167.274 1524.47 167.274 1531.6 Q167.274 1538.71 169.08 1542.27 Q170.909 1545.82 174.52 1545.82 Q178.154 1545.82 179.96 1542.27 Q181.788 1538.71 181.788 1531.6 Q181.788 1524.47 179.96 1520.93 Q178.154 1517.37 174.52 1517.37 M174.52 1513.66 Q180.33 1513.66 183.385 1518.27 Q186.464 1522.85 186.464 1531.6 Q186.464 1540.33 183.385 1544.94 Q180.33 1549.52 174.52 1549.52 Q168.71 1549.52 165.631 1544.94 Q162.575 1540.33 162.575 1531.6 Q162.575 1522.85 165.631 1518.27 Q168.71 1513.66 174.52 1513.66 Z\" fill=\"#000000\" fill-rule=\"nonzero\" fill-opacity=\"1\" /><path clip-path=\"url(#clip730)\" d=\"M204.682 1517.37 Q201.071 1517.37 199.242 1520.93 Q197.436 1524.47 197.436 1531.6 Q197.436 1538.71 199.242 1542.27 Q201.071 1545.82 204.682 1545.82 Q208.316 1545.82 210.121 1542.27 Q211.95 1538.71 211.95 1531.6 Q211.95 1524.47 210.121 1520.93 Q208.316 1517.37 204.682 1517.37 M204.682 1513.66 Q210.492 1513.66 213.547 1518.27 Q216.626 1522.85 216.626 1531.6 Q216.626 1540.33 213.547 1544.94 Q210.492 1549.52 204.682 1549.52 Q198.872 1549.52 195.793 1544.94 Q192.737 1540.33 192.737 1531.6 Q192.737 1522.85 195.793 1518.27 Q198.872 1513.66 204.682 1513.66 Z\" fill=\"#000000\" fill-rule=\"nonzero\" fill-opacity=\"1\" /><path clip-path=\"url(#clip730)\" d=\"M666.745 1517.37 Q663.134 1517.37 661.305 1520.93 Q659.499 1524.47 659.499 1531.6 Q659.499 1538.71 661.305 1542.27 Q663.134 1545.82 666.745 1545.82 Q670.379 1545.82 672.184 1542.27 Q674.013 1538.71 674.013 1531.6 Q674.013 1524.47 672.184 1520.93 Q670.379 1517.37 666.745 1517.37 M666.745 1513.66 Q672.555 1513.66 675.61 1518.27 Q678.689 1522.85 678.689 1531.6 Q678.689 1540.33 675.61 1544.94 Q672.555 1549.52 666.745 1549.52 Q660.935 1549.52 657.856 1544.94 Q654.8 1540.33 654.8 1531.6 Q654.8 1522.85 657.856 1518.27 Q660.935 1513.66 666.745 1513.66 Z\" fill=\"#000000\" fill-rule=\"nonzero\" fill-opacity=\"1\" /><path clip-path=\"url(#clip730)\" d=\"M686.907 1542.97 L691.791 1542.97 L691.791 1548.85 L686.907 1548.85 L686.907 1542.97 Z\" fill=\"#000000\" fill-rule=\"nonzero\" fill-opacity=\"1\" /><path clip-path=\"url(#clip730)\" d=\"M706.004 1544.91 L722.323 1544.91 L722.323 1548.85 L700.379 1548.85 L700.379 1544.91 Q703.041 1542.16 707.624 1537.53 Q712.231 1532.88 713.411 1531.53 Q715.656 1529.01 716.536 1527.27 Q717.439 1525.51 717.439 1523.82 Q717.439 1521.07 715.494 1519.33 Q713.573 1517.6 710.471 1517.6 Q708.272 1517.6 705.819 1518.36 Q703.388 1519.13 700.61 1520.68 L700.61 1515.95 Q703.434 1514.82 705.888 1514.24 Q708.342 1513.66 710.379 1513.66 Q715.749 1513.66 718.943 1516.35 Q722.138 1519.03 722.138 1523.52 Q722.138 1525.65 721.328 1527.57 Q720.541 1529.47 718.434 1532.07 Q717.856 1532.74 714.754 1535.95 Q711.652 1539.15 706.004 1544.91 Z\" fill=\"#000000\" fill-rule=\"nonzero\" fill-opacity=\"1\" /><path clip-path=\"url(#clip730)\" d=\"M732.184 1514.29 L750.541 1514.29 L750.541 1518.22 L736.467 1518.22 L736.467 1526.7 Q737.485 1526.35 738.504 1526.19 Q739.522 1526 740.541 1526 Q746.328 1526 749.707 1529.17 Q753.087 1532.34 753.087 1537.76 Q753.087 1543.34 749.615 1546.44 Q746.142 1549.52 739.823 1549.52 Q737.647 1549.52 735.379 1549.15 Q733.133 1548.78 730.726 1548.04 L730.726 1543.34 Q732.809 1544.47 735.031 1545.03 Q737.254 1545.58 739.73 1545.58 Q743.735 1545.58 746.073 1543.48 Q748.411 1541.37 748.411 1537.76 Q748.411 1534.15 746.073 1532.04 Q743.735 1529.94 739.73 1529.94 Q737.855 1529.94 735.98 1530.35 Q734.129 1530.77 732.184 1531.65 L732.184 1514.29 Z\" fill=\"#000000\" fill-rule=\"nonzero\" fill-opacity=\"1\" /><path clip-path=\"url(#clip730)\" d=\"M1203.21 1517.37 Q1199.59 1517.37 1197.77 1520.93 Q1195.96 1524.47 1195.96 1531.6 Q1195.96 1538.71 1197.77 1542.27 Q1199.59 1545.82 1203.21 1545.82 Q1206.84 1545.82 1208.65 1542.27 Q1210.47 1538.71 1210.47 1531.6 Q1210.47 1524.47 1208.65 1520.93 Q1206.84 1517.37 1203.21 1517.37 M1203.21 1513.66 Q1209.02 1513.66 1212.07 1518.27 Q1215.15 1522.85 1215.15 1531.6 Q1215.15 1540.33 1212.07 1544.94 Q1209.02 1549.52 1203.21 1549.52 Q1197.4 1549.52 1194.32 1544.94 Q1191.26 1540.33 1191.26 1531.6 Q1191.26 1522.85 1194.32 1518.27 Q1197.4 1513.66 1203.21 1513.66 Z\" fill=\"#000000\" fill-rule=\"nonzero\" fill-opacity=\"1\" /><path clip-path=\"url(#clip730)\" d=\"M1223.37 1542.97 L1228.25 1542.97 L1228.25 1548.85 L1223.37 1548.85 L1223.37 1542.97 Z\" fill=\"#000000\" fill-rule=\"nonzero\" fill-opacity=\"1\" /><path clip-path=\"url(#clip730)\" d=\"M1238.48 1514.29 L1256.84 1514.29 L1256.84 1518.22 L1242.77 1518.22 L1242.77 1526.7 Q1243.78 1526.35 1244.8 1526.19 Q1245.82 1526 1246.84 1526 Q1252.63 1526 1256.01 1529.17 Q1259.39 1532.34 1259.39 1537.76 Q1259.39 1543.34 1255.91 1546.44 Q1252.44 1549.52 1246.12 1549.52 Q1243.95 1549.52 1241.68 1549.15 Q1239.43 1548.78 1237.02 1548.04 L1237.02 1543.34 Q1239.11 1544.47 1241.33 1545.03 Q1243.55 1545.58 1246.03 1545.58 Q1250.03 1545.58 1252.37 1543.48 Q1254.71 1541.37 1254.71 1537.76 Q1254.71 1534.15 1252.37 1532.04 Q1250.03 1529.94 1246.03 1529.94 Q1244.15 1529.94 1242.28 1530.35 Q1240.43 1530.77 1238.48 1531.65 L1238.48 1514.29 Z\" fill=\"#000000\" fill-rule=\"nonzero\" fill-opacity=\"1\" /><path clip-path=\"url(#clip730)\" d=\"M1278.6 1517.37 Q1274.99 1517.37 1273.16 1520.93 Q1271.35 1524.47 1271.35 1531.6 Q1271.35 1538.71 1273.16 1542.27 Q1274.99 1545.82 1278.6 1545.82 Q1282.23 1545.82 1284.04 1542.27 Q1285.87 1538.71 1285.87 1531.6 Q1285.87 1524.47 1284.04 1520.93 Q1282.23 1517.37 1278.6 1517.37 M1278.6 1513.66 Q1284.41 1513.66 1287.46 1518.27 Q1290.54 1522.85 1290.54 1531.6 Q1290.54 1540.33 1287.46 1544.94 Q1284.41 1549.52 1278.6 1549.52 Q1272.79 1549.52 1269.71 1544.94 Q1266.65 1540.33 1266.65 1531.6 Q1266.65 1522.85 1269.71 1518.27 Q1272.79 1513.66 1278.6 1513.66 Z\" fill=\"#000000\" fill-rule=\"nonzero\" fill-opacity=\"1\" /><path clip-path=\"url(#clip730)\" d=\"M1740.66 1517.37 Q1737.05 1517.37 1735.22 1520.93 Q1733.42 1524.47 1733.42 1531.6 Q1733.42 1538.71 1735.22 1542.27 Q1737.05 1545.82 1740.66 1545.82 Q1744.3 1545.82 1746.1 1542.27 Q1747.93 1538.71 1747.93 1531.6 Q1747.93 1524.47 1746.1 1520.93 Q1744.3 1517.37 1740.66 1517.37 M1740.66 1513.66 Q1746.47 1513.66 1749.53 1518.27 Q1752.61 1522.85 1752.61 1531.6 Q1752.61 1540.33 1749.53 1544.94 Q1746.47 1549.52 1740.66 1549.52 Q1734.85 1549.52 1731.77 1544.94 Q1728.72 1540.33 1728.72 1531.6 Q1728.72 1522.85 1731.77 1518.27 Q1734.85 1513.66 1740.66 1513.66 Z\" fill=\"#000000\" fill-rule=\"nonzero\" fill-opacity=\"1\" /><path clip-path=\"url(#clip730)\" d=\"M1760.82 1542.97 L1765.71 1542.97 L1765.71 1548.85 L1760.82 1548.85 L1760.82 1542.97 Z\" fill=\"#000000\" fill-rule=\"nonzero\" fill-opacity=\"1\" /><path clip-path=\"url(#clip730)\" d=\"M1774.71 1514.29 L1796.93 1514.29 L1796.93 1516.28 L1784.39 1548.85 L1779.5 1548.85 L1791.31 1518.22 L1774.71 1518.22 L1774.71 1514.29 Z\" fill=\"#000000\" fill-rule=\"nonzero\" fill-opacity=\"1\" /><path clip-path=\"url(#clip730)\" d=\"M1806.1 1514.29 L1824.46 1514.29 L1824.46 1518.22 L1810.38 1518.22 L1810.38 1526.7 Q1811.4 1526.35 1812.42 1526.19 Q1813.44 1526 1814.46 1526 Q1820.24 1526 1823.62 1529.17 Q1827 1532.34 1827 1537.76 Q1827 1543.34 1823.53 1546.44 Q1820.06 1549.52 1813.74 1549.52 Q1811.56 1549.52 1809.3 1549.15 Q1807.05 1548.78 1804.64 1548.04 L1804.64 1543.34 Q1806.73 1544.47 1808.95 1545.03 Q1811.17 1545.58 1813.65 1545.58 Q1817.65 1545.58 1819.99 1543.48 Q1822.33 1541.37 1822.33 1537.76 Q1822.33 1534.15 1819.99 1532.04 Q1817.65 1529.94 1813.65 1529.94 Q1811.77 1529.94 1809.9 1530.35 Q1808.05 1530.77 1806.1 1531.65 L1806.1 1514.29 Z\" fill=\"#000000\" fill-rule=\"nonzero\" fill-opacity=\"1\" /><path clip-path=\"url(#clip730)\" d=\"M2266.89 1544.91 L2274.53 1544.91 L2274.53 1518.55 L2266.22 1520.21 L2266.22 1515.95 L2274.48 1514.29 L2279.16 1514.29 L2279.16 1544.91 L2286.8 1544.91 L2286.8 1548.85 L2266.89 1548.85 L2266.89 1544.91 Z\" fill=\"#000000\" fill-rule=\"nonzero\" fill-opacity=\"1\" /><path clip-path=\"url(#clip730)\" d=\"M2296.24 1542.97 L2301.13 1542.97 L2301.13 1548.85 L2296.24 1548.85 L2296.24 1542.97 Z\" fill=\"#000000\" fill-rule=\"nonzero\" fill-opacity=\"1\" /><path clip-path=\"url(#clip730)\" d=\"M2321.31 1517.37 Q2317.7 1517.37 2315.87 1520.93 Q2314.07 1524.47 2314.07 1531.6 Q2314.07 1538.71 2315.87 1542.27 Q2317.7 1545.82 2321.31 1545.82 Q2324.95 1545.82 2326.75 1542.27 Q2328.58 1538.71 2328.58 1531.6 Q2328.58 1524.47 2326.75 1520.93 Q2324.95 1517.37 2321.31 1517.37 M2321.31 1513.66 Q2327.12 1513.66 2330.18 1518.27 Q2333.26 1522.85 2333.26 1531.6 Q2333.26 1540.33 2330.18 1544.94 Q2327.12 1549.52 2321.31 1549.52 Q2315.5 1549.52 2312.42 1544.94 Q2309.37 1540.33 2309.37 1531.6 Q2309.37 1522.85 2312.42 1518.27 Q2315.5 1513.66 2321.31 1513.66 Z\" fill=\"#000000\" fill-rule=\"nonzero\" fill-opacity=\"1\" /><path clip-path=\"url(#clip730)\" d=\"M2351.47 1517.37 Q2347.86 1517.37 2346.03 1520.93 Q2344.23 1524.47 2344.23 1531.6 Q2344.23 1538.71 2346.03 1542.27 Q2347.86 1545.82 2351.47 1545.82 Q2355.11 1545.82 2356.91 1542.27 Q2358.74 1538.71 2358.74 1531.6 Q2358.74 1524.47 2356.91 1520.93 Q2355.11 1517.37 2351.47 1517.37 M2351.47 1513.66 Q2357.28 1513.66 2360.34 1518.27 Q2363.42 1522.85 2363.42 1531.6 Q2363.42 1540.33 2360.34 1544.94 Q2357.28 1549.52 2351.47 1549.52 Q2345.66 1549.52 2342.58 1544.94 Q2339.53 1540.33 2339.53 1531.6 Q2339.53 1522.85 2342.58 1518.27 Q2345.66 1513.66 2351.47 1513.66 Z\" fill=\"#000000\" fill-rule=\"nonzero\" fill-opacity=\"1\" /><polyline clip-path=\"url(#clip732)\" style=\"stroke:#000000; stroke-linecap:round; stroke-linejoin:round; stroke-width:2; stroke-opacity:0.1; fill:none\" points=\"156.598,1480.93 2352.76,1480.93 \"/>\n",
       "<polyline clip-path=\"url(#clip732)\" style=\"stroke:#000000; stroke-linecap:round; stroke-linejoin:round; stroke-width:2; stroke-opacity:0.1; fill:none\" points=\"156.598,1173.02 2352.76,1173.02 \"/>\n",
       "<polyline clip-path=\"url(#clip732)\" style=\"stroke:#000000; stroke-linecap:round; stroke-linejoin:round; stroke-width:2; stroke-opacity:0.1; fill:none\" points=\"156.598,865.109 2352.76,865.109 \"/>\n",
       "<polyline clip-path=\"url(#clip732)\" style=\"stroke:#000000; stroke-linecap:round; stroke-linejoin:round; stroke-width:2; stroke-opacity:0.1; fill:none\" points=\"156.598,557.197 2352.76,557.197 \"/>\n",
       "<polyline clip-path=\"url(#clip732)\" style=\"stroke:#000000; stroke-linecap:round; stroke-linejoin:round; stroke-width:2; stroke-opacity:0.1; fill:none\" points=\"156.598,249.285 2352.76,249.285 \"/>\n",
       "<polyline clip-path=\"url(#clip730)\" style=\"stroke:#000000; stroke-linecap:round; stroke-linejoin:round; stroke-width:4; stroke-opacity:1; fill:none\" points=\"156.598,1486.45 156.598,47.2441 \"/>\n",
       "<polyline clip-path=\"url(#clip730)\" style=\"stroke:#000000; stroke-linecap:round; stroke-linejoin:round; stroke-width:4; stroke-opacity:1; fill:none\" points=\"156.598,1480.93 175.496,1480.93 \"/>\n",
       "<polyline clip-path=\"url(#clip730)\" style=\"stroke:#000000; stroke-linecap:round; stroke-linejoin:round; stroke-width:4; stroke-opacity:1; fill:none\" points=\"156.598,1173.02 175.496,1173.02 \"/>\n",
       "<polyline clip-path=\"url(#clip730)\" style=\"stroke:#000000; stroke-linecap:round; stroke-linejoin:round; stroke-width:4; stroke-opacity:1; fill:none\" points=\"156.598,865.109 175.496,865.109 \"/>\n",
       "<polyline clip-path=\"url(#clip730)\" style=\"stroke:#000000; stroke-linecap:round; stroke-linejoin:round; stroke-width:4; stroke-opacity:1; fill:none\" points=\"156.598,557.197 175.496,557.197 \"/>\n",
       "<polyline clip-path=\"url(#clip730)\" style=\"stroke:#000000; stroke-linecap:round; stroke-linejoin:round; stroke-width:4; stroke-opacity:1; fill:none\" points=\"156.598,249.285 175.496,249.285 \"/>\n",
       "<path clip-path=\"url(#clip730)\" d=\"M63.4226 1466.73 Q59.8115 1466.73 57.9828 1470.3 Q56.1773 1473.84 56.1773 1480.97 Q56.1773 1488.07 57.9828 1491.64 Q59.8115 1495.18 63.4226 1495.18 Q67.0569 1495.18 68.8624 1491.64 Q70.6911 1488.07 70.6911 1480.97 Q70.6911 1473.84 68.8624 1470.3 Q67.0569 1466.73 63.4226 1466.73 M63.4226 1463.03 Q69.2328 1463.03 72.2883 1467.63 Q75.367 1472.22 75.367 1480.97 Q75.367 1489.69 72.2883 1494.3 Q69.2328 1498.88 63.4226 1498.88 Q57.6125 1498.88 54.5338 1494.3 Q51.4782 1489.69 51.4782 1480.97 Q51.4782 1472.22 54.5338 1467.63 Q57.6125 1463.03 63.4226 1463.03 Z\" fill=\"#000000\" fill-rule=\"nonzero\" fill-opacity=\"1\" /><path clip-path=\"url(#clip730)\" d=\"M83.5845 1492.33 L88.4688 1492.33 L88.4688 1498.21 L83.5845 1498.21 L83.5845 1492.33 Z\" fill=\"#000000\" fill-rule=\"nonzero\" fill-opacity=\"1\" /><path clip-path=\"url(#clip730)\" d=\"M108.654 1466.73 Q105.043 1466.73 103.214 1470.3 Q101.409 1473.84 101.409 1480.97 Q101.409 1488.07 103.214 1491.64 Q105.043 1495.18 108.654 1495.18 Q112.288 1495.18 114.094 1491.64 Q115.922 1488.07 115.922 1480.97 Q115.922 1473.84 114.094 1470.3 Q112.288 1466.73 108.654 1466.73 M108.654 1463.03 Q114.464 1463.03 117.52 1467.63 Q120.598 1472.22 120.598 1480.97 Q120.598 1489.69 117.52 1494.3 Q114.464 1498.88 108.654 1498.88 Q102.844 1498.88 99.765 1494.3 Q96.7095 1489.69 96.7095 1480.97 Q96.7095 1472.22 99.765 1467.63 Q102.844 1463.03 108.654 1463.03 Z\" fill=\"#000000\" fill-rule=\"nonzero\" fill-opacity=\"1\" /><path clip-path=\"url(#clip730)\" d=\"M65.0198 1158.82 Q61.4087 1158.82 59.58 1162.38 Q57.7745 1165.93 57.7745 1173.06 Q57.7745 1180.16 59.58 1183.73 Q61.4087 1187.27 65.0198 1187.27 Q68.6541 1187.27 70.4596 1183.73 Q72.2883 1180.16 72.2883 1173.06 Q72.2883 1165.93 70.4596 1162.38 Q68.6541 1158.82 65.0198 1158.82 M65.0198 1155.12 Q70.83 1155.12 73.8855 1159.72 Q76.9642 1164.31 76.9642 1173.06 Q76.9642 1181.78 73.8855 1186.39 Q70.83 1190.97 65.0198 1190.97 Q59.2097 1190.97 56.131 1186.39 Q53.0754 1181.78 53.0754 1173.06 Q53.0754 1164.31 56.131 1159.72 Q59.2097 1155.12 65.0198 1155.12 Z\" fill=\"#000000\" fill-rule=\"nonzero\" fill-opacity=\"1\" /><path clip-path=\"url(#clip730)\" d=\"M85.1818 1184.42 L90.066 1184.42 L90.066 1190.3 L85.1818 1190.3 L85.1818 1184.42 Z\" fill=\"#000000\" fill-rule=\"nonzero\" fill-opacity=\"1\" /><path clip-path=\"url(#clip730)\" d=\"M104.279 1186.37 L120.598 1186.37 L120.598 1190.3 L98.6539 1190.3 L98.6539 1186.37 Q101.316 1183.61 105.899 1178.98 Q110.506 1174.33 111.686 1172.99 Q113.932 1170.46 114.811 1168.73 Q115.714 1166.97 115.714 1165.28 Q115.714 1162.52 113.77 1160.79 Q111.848 1159.05 108.746 1159.05 Q106.547 1159.05 104.094 1159.82 Q101.663 1160.58 98.8854 1162.13 L98.8854 1157.41 Q101.709 1156.27 104.163 1155.69 Q106.617 1155.12 108.654 1155.12 Q114.024 1155.12 117.219 1157.8 Q120.413 1160.49 120.413 1164.98 Q120.413 1167.11 119.603 1169.03 Q118.816 1170.93 116.709 1173.52 Q116.131 1174.19 113.029 1177.41 Q109.927 1180.6 104.279 1186.37 Z\" fill=\"#000000\" fill-rule=\"nonzero\" fill-opacity=\"1\" /><path clip-path=\"url(#clip730)\" d=\"M62.9365 850.908 Q59.3254 850.908 57.4967 854.473 Q55.6912 858.014 55.6912 865.144 Q55.6912 872.25 57.4967 875.815 Q59.3254 879.357 62.9365 879.357 Q66.5707 879.357 68.3763 875.815 Q70.205 872.25 70.205 865.144 Q70.205 858.014 68.3763 854.473 Q66.5707 850.908 62.9365 850.908 M62.9365 847.204 Q68.7467 847.204 71.8022 851.811 Q74.8809 856.394 74.8809 865.144 Q74.8809 873.871 71.8022 878.477 Q68.7467 883.06 62.9365 883.06 Q57.1264 883.06 54.0477 878.477 Q50.9921 873.871 50.9921 865.144 Q50.9921 856.394 54.0477 851.811 Q57.1264 847.204 62.9365 847.204 Z\" fill=\"#000000\" fill-rule=\"nonzero\" fill-opacity=\"1\" /><path clip-path=\"url(#clip730)\" d=\"M83.0984 876.51 L87.9827 876.51 L87.9827 882.389 L83.0984 882.389 L83.0984 876.51 Z\" fill=\"#000000\" fill-rule=\"nonzero\" fill-opacity=\"1\" /><path clip-path=\"url(#clip730)\" d=\"M111.015 851.903 L99.2095 870.352 L111.015 870.352 L111.015 851.903 M109.788 847.829 L115.668 847.829 L115.668 870.352 L120.598 870.352 L120.598 874.241 L115.668 874.241 L115.668 882.389 L111.015 882.389 L111.015 874.241 L95.4132 874.241 L95.4132 869.727 L109.788 847.829 Z\" fill=\"#000000\" fill-rule=\"nonzero\" fill-opacity=\"1\" /><path clip-path=\"url(#clip730)\" d=\"M63.2606 542.996 Q59.6495 542.996 57.8208 546.561 Q56.0152 550.102 56.0152 557.232 Q56.0152 564.338 57.8208 567.903 Q59.6495 571.445 63.2606 571.445 Q66.8948 571.445 68.7004 567.903 Q70.5291 564.338 70.5291 557.232 Q70.5291 550.102 68.7004 546.561 Q66.8948 542.996 63.2606 542.996 M63.2606 539.292 Q69.0707 539.292 72.1263 543.899 Q75.205 548.482 75.205 557.232 Q75.205 565.959 72.1263 570.565 Q69.0707 575.148 63.2606 575.148 Q57.4504 575.148 54.3717 570.565 Q51.3162 565.959 51.3162 557.232 Q51.3162 548.482 54.3717 543.899 Q57.4504 539.292 63.2606 539.292 Z\" fill=\"#000000\" fill-rule=\"nonzero\" fill-opacity=\"1\" /><path clip-path=\"url(#clip730)\" d=\"M83.4225 568.598 L88.3067 568.598 L88.3067 574.477 L83.4225 574.477 L83.4225 568.598 Z\" fill=\"#000000\" fill-rule=\"nonzero\" fill-opacity=\"1\" /><path clip-path=\"url(#clip730)\" d=\"M109.071 555.334 Q105.922 555.334 104.071 557.487 Q102.242 559.639 102.242 563.389 Q102.242 567.116 104.071 569.292 Q105.922 571.445 109.071 571.445 Q112.219 571.445 114.047 569.292 Q115.899 567.116 115.899 563.389 Q115.899 559.639 114.047 557.487 Q112.219 555.334 109.071 555.334 M118.353 540.681 L118.353 544.94 Q116.594 544.107 114.788 543.667 Q113.006 543.227 111.246 543.227 Q106.617 543.227 104.163 546.352 Q101.733 549.477 101.385 555.797 Q102.751 553.783 104.811 552.718 Q106.871 551.63 109.348 551.63 Q114.557 551.63 117.566 554.801 Q120.598 557.95 120.598 563.389 Q120.598 568.713 117.45 571.931 Q114.302 575.148 109.071 575.148 Q103.075 575.148 99.9039 570.565 Q96.7326 565.959 96.7326 557.232 Q96.7326 549.038 100.621 544.176 Q104.51 539.292 111.061 539.292 Q112.82 539.292 114.603 539.639 Q116.408 539.987 118.353 540.681 Z\" fill=\"#000000\" fill-rule=\"nonzero\" fill-opacity=\"1\" /><path clip-path=\"url(#clip730)\" d=\"M63.5152 235.084 Q59.9041 235.084 58.0754 238.649 Q56.2699 242.19 56.2699 249.32 Q56.2699 256.426 58.0754 259.991 Q59.9041 263.533 63.5152 263.533 Q67.1494 263.533 68.955 259.991 Q70.7837 256.426 70.7837 249.32 Q70.7837 242.19 68.955 238.649 Q67.1494 235.084 63.5152 235.084 M63.5152 231.38 Q69.3254 231.38 72.3809 235.987 Q75.4596 240.57 75.4596 249.32 Q75.4596 258.047 72.3809 262.653 Q69.3254 267.237 63.5152 267.237 Q57.7051 267.237 54.6264 262.653 Q51.5708 258.047 51.5708 249.32 Q51.5708 240.57 54.6264 235.987 Q57.7051 231.38 63.5152 231.38 Z\" fill=\"#000000\" fill-rule=\"nonzero\" fill-opacity=\"1\" /><path clip-path=\"url(#clip730)\" d=\"M83.6771 260.686 L88.5614 260.686 L88.5614 266.565 L83.6771 266.565 L83.6771 260.686 Z\" fill=\"#000000\" fill-rule=\"nonzero\" fill-opacity=\"1\" /><path clip-path=\"url(#clip730)\" d=\"M108.746 250.153 Q105.413 250.153 103.492 251.936 Q101.594 253.718 101.594 256.843 Q101.594 259.968 103.492 261.75 Q105.413 263.533 108.746 263.533 Q112.08 263.533 114.001 261.75 Q115.922 259.945 115.922 256.843 Q115.922 253.718 114.001 251.936 Q112.103 250.153 108.746 250.153 M104.071 248.163 Q101.061 247.422 99.3715 245.362 Q97.7048 243.302 97.7048 240.339 Q97.7048 236.195 100.645 233.788 Q103.608 231.38 108.746 231.38 Q113.908 231.38 116.848 233.788 Q119.788 236.195 119.788 240.339 Q119.788 243.302 118.098 245.362 Q116.432 247.422 113.445 248.163 Q116.825 248.95 118.7 251.241 Q120.598 253.533 120.598 256.843 Q120.598 261.866 117.52 264.551 Q114.464 267.237 108.746 267.237 Q103.029 267.237 99.9502 264.551 Q96.8947 261.866 96.8947 256.843 Q96.8947 253.533 98.7928 251.241 Q100.691 248.95 104.071 248.163 M102.358 240.778 Q102.358 243.464 104.024 244.968 Q105.714 246.473 108.746 246.473 Q111.756 246.473 113.445 244.968 Q115.158 243.464 115.158 240.778 Q115.158 238.093 113.445 236.589 Q111.756 235.084 108.746 235.084 Q105.714 235.084 104.024 236.589 Q102.358 238.093 102.358 240.778 Z\" fill=\"#000000\" fill-rule=\"nonzero\" fill-opacity=\"1\" /><polyline clip-path=\"url(#clip732)\" style=\"stroke:#009af9; stroke-linecap:round; stroke-linejoin:round; stroke-width:4; stroke-opacity:1; fill:none\" points=\"974.53,314.35 2215.32,827.1 2290.6,440.7 507.355,157.71 300.134,1006.42 1608.15,132.061 532.769,176.246 2033.99,1387.08 218.754,170.814 1916.45,535.298 \"/>\n",
       "<circle clip-path=\"url(#clip732)\" cx=\"974.53\" cy=\"314.35\" r=\"14.4\" fill=\"#009af9\" fill-rule=\"evenodd\" fill-opacity=\"1\" stroke=\"#000000\" stroke-opacity=\"1\" stroke-width=\"3.2\"/>\n",
       "<circle clip-path=\"url(#clip732)\" cx=\"2215.32\" cy=\"827.1\" r=\"14.4\" fill=\"#009af9\" fill-rule=\"evenodd\" fill-opacity=\"1\" stroke=\"#000000\" stroke-opacity=\"1\" stroke-width=\"3.2\"/>\n",
       "<circle clip-path=\"url(#clip732)\" cx=\"2290.6\" cy=\"440.7\" r=\"14.4\" fill=\"#009af9\" fill-rule=\"evenodd\" fill-opacity=\"1\" stroke=\"#000000\" stroke-opacity=\"1\" stroke-width=\"3.2\"/>\n",
       "<circle clip-path=\"url(#clip732)\" cx=\"507.355\" cy=\"157.71\" r=\"14.4\" fill=\"#009af9\" fill-rule=\"evenodd\" fill-opacity=\"1\" stroke=\"#000000\" stroke-opacity=\"1\" stroke-width=\"3.2\"/>\n",
       "<circle clip-path=\"url(#clip732)\" cx=\"300.134\" cy=\"1006.42\" r=\"14.4\" fill=\"#009af9\" fill-rule=\"evenodd\" fill-opacity=\"1\" stroke=\"#000000\" stroke-opacity=\"1\" stroke-width=\"3.2\"/>\n",
       "<circle clip-path=\"url(#clip732)\" cx=\"1608.15\" cy=\"132.061\" r=\"14.4\" fill=\"#009af9\" fill-rule=\"evenodd\" fill-opacity=\"1\" stroke=\"#000000\" stroke-opacity=\"1\" stroke-width=\"3.2\"/>\n",
       "<circle clip-path=\"url(#clip732)\" cx=\"532.769\" cy=\"176.246\" r=\"14.4\" fill=\"#009af9\" fill-rule=\"evenodd\" fill-opacity=\"1\" stroke=\"#000000\" stroke-opacity=\"1\" stroke-width=\"3.2\"/>\n",
       "<circle clip-path=\"url(#clip732)\" cx=\"2033.99\" cy=\"1387.08\" r=\"14.4\" fill=\"#009af9\" fill-rule=\"evenodd\" fill-opacity=\"1\" stroke=\"#000000\" stroke-opacity=\"1\" stroke-width=\"3.2\"/>\n",
       "<circle clip-path=\"url(#clip732)\" cx=\"218.754\" cy=\"170.814\" r=\"14.4\" fill=\"#009af9\" fill-rule=\"evenodd\" fill-opacity=\"1\" stroke=\"#000000\" stroke-opacity=\"1\" stroke-width=\"3.2\"/>\n",
       "<circle clip-path=\"url(#clip732)\" cx=\"1916.45\" cy=\"535.298\" r=\"14.4\" fill=\"#009af9\" fill-rule=\"evenodd\" fill-opacity=\"1\" stroke=\"#000000\" stroke-opacity=\"1\" stroke-width=\"3.2\"/>\n",
       "<polyline clip-path=\"url(#clip732)\" style=\"stroke:#e26f46; stroke-linecap:round; stroke-linejoin:round; stroke-width:4; stroke-opacity:1; fill:none\" points=\"1721.64,87.9763 1809.92,980.105 591.825,389.042 368.265,514.952 1025.89,1248.77 1698.66,228.834 558.721,1437.91 371.587,1445.72 615.55,1009.14 1149.22,1357.72 \"/>\n",
       "<circle clip-path=\"url(#clip732)\" cx=\"1721.64\" cy=\"87.9763\" r=\"14.4\" fill=\"#e26f46\" fill-rule=\"evenodd\" fill-opacity=\"1\" stroke=\"#000000\" stroke-opacity=\"1\" stroke-width=\"3.2\"/>\n",
       "<circle clip-path=\"url(#clip732)\" cx=\"1809.92\" cy=\"980.105\" r=\"14.4\" fill=\"#e26f46\" fill-rule=\"evenodd\" fill-opacity=\"1\" stroke=\"#000000\" stroke-opacity=\"1\" stroke-width=\"3.2\"/>\n",
       "<circle clip-path=\"url(#clip732)\" cx=\"591.825\" cy=\"389.042\" r=\"14.4\" fill=\"#e26f46\" fill-rule=\"evenodd\" fill-opacity=\"1\" stroke=\"#000000\" stroke-opacity=\"1\" stroke-width=\"3.2\"/>\n",
       "<circle clip-path=\"url(#clip732)\" cx=\"368.265\" cy=\"514.952\" r=\"14.4\" fill=\"#e26f46\" fill-rule=\"evenodd\" fill-opacity=\"1\" stroke=\"#000000\" stroke-opacity=\"1\" stroke-width=\"3.2\"/>\n",
       "<circle clip-path=\"url(#clip732)\" cx=\"1025.89\" cy=\"1248.77\" r=\"14.4\" fill=\"#e26f46\" fill-rule=\"evenodd\" fill-opacity=\"1\" stroke=\"#000000\" stroke-opacity=\"1\" stroke-width=\"3.2\"/>\n",
       "<circle clip-path=\"url(#clip732)\" cx=\"1698.66\" cy=\"228.834\" r=\"14.4\" fill=\"#e26f46\" fill-rule=\"evenodd\" fill-opacity=\"1\" stroke=\"#000000\" stroke-opacity=\"1\" stroke-width=\"3.2\"/>\n",
       "<circle clip-path=\"url(#clip732)\" cx=\"558.721\" cy=\"1437.91\" r=\"14.4\" fill=\"#e26f46\" fill-rule=\"evenodd\" fill-opacity=\"1\" stroke=\"#000000\" stroke-opacity=\"1\" stroke-width=\"3.2\"/>\n",
       "<circle clip-path=\"url(#clip732)\" cx=\"371.587\" cy=\"1445.72\" r=\"14.4\" fill=\"#e26f46\" fill-rule=\"evenodd\" fill-opacity=\"1\" stroke=\"#000000\" stroke-opacity=\"1\" stroke-width=\"3.2\"/>\n",
       "<circle clip-path=\"url(#clip732)\" cx=\"615.55\" cy=\"1009.14\" r=\"14.4\" fill=\"#e26f46\" fill-rule=\"evenodd\" fill-opacity=\"1\" stroke=\"#000000\" stroke-opacity=\"1\" stroke-width=\"3.2\"/>\n",
       "<circle clip-path=\"url(#clip732)\" cx=\"1149.22\" cy=\"1357.72\" r=\"14.4\" fill=\"#e26f46\" fill-rule=\"evenodd\" fill-opacity=\"1\" stroke=\"#000000\" stroke-opacity=\"1\" stroke-width=\"3.2\"/>\n",
       "<path clip-path=\"url(#clip730)\" d=\"M2036.76 250.738 L2279.55 250.738 L2279.55 95.2176 L2036.76 95.2176  Z\" fill=\"#ffffff\" fill-rule=\"evenodd\" fill-opacity=\"1\"/>\n",
       "<polyline clip-path=\"url(#clip730)\" style=\"stroke:#000000; stroke-linecap:round; stroke-linejoin:round; stroke-width:4; stroke-opacity:1; fill:none\" points=\"2036.76,250.738 2279.55,250.738 2279.55,95.2176 2036.76,95.2176 2036.76,250.738 \"/>\n",
       "<polyline clip-path=\"url(#clip730)\" style=\"stroke:#009af9; stroke-linecap:round; stroke-linejoin:round; stroke-width:4; stroke-opacity:1; fill:none\" points=\"2061.17,147.058 2207.58,147.058 \"/>\n",
       "<circle clip-path=\"url(#clip730)\" cx=\"2134.37\" cy=\"147.058\" r=\"20.3348\" fill=\"#009af9\" fill-rule=\"evenodd\" fill-opacity=\"1\" stroke=\"#000000\" stroke-opacity=\"1\" stroke-width=\"4.55111\"/>\n",
       "<path clip-path=\"url(#clip730)\" d=\"M2247.16 142.393 Q2246.45 141.977 2245.59 141.791 Q2244.76 141.583 2243.74 141.583 Q2240.13 141.583 2238.18 143.944 Q2236.26 146.282 2236.26 150.68 L2236.26 164.338 L2231.98 164.338 L2231.98 138.412 L2236.26 138.412 L2236.26 142.44 Q2237.6 140.078 2239.76 138.944 Q2241.91 137.787 2244.99 137.787 Q2245.43 137.787 2245.96 137.856 Q2246.49 137.903 2247.14 138.018 L2247.16 142.393 Z\" fill=\"#000000\" fill-rule=\"nonzero\" fill-opacity=\"1\" /><polyline clip-path=\"url(#clip730)\" style=\"stroke:#e26f46; stroke-linecap:round; stroke-linejoin:round; stroke-width:4; stroke-opacity:1; fill:none\" points=\"2061.17,198.898 2207.58,198.898 \"/>\n",
       "<circle clip-path=\"url(#clip730)\" cx=\"2134.37\" cy=\"198.898\" r=\"20.3348\" fill=\"#e26f46\" fill-rule=\"evenodd\" fill-opacity=\"1\" stroke=\"#000000\" stroke-opacity=\"1\" stroke-width=\"4.55111\"/>\n",
       "<path clip-path=\"url(#clip730)\" d=\"M2250.89 194.187 L2250.89 180.159 L2255.15 180.159 L2255.15 216.178 L2250.89 216.178 L2250.89 212.289 Q2249.55 214.603 2247.49 215.738 Q2245.45 216.849 2242.58 216.849 Q2237.88 216.849 2234.92 213.099 Q2231.98 209.349 2231.98 203.238 Q2231.98 197.127 2234.92 193.377 Q2237.88 189.627 2242.58 189.627 Q2245.45 189.627 2247.49 190.761 Q2249.55 191.872 2250.89 194.187 M2236.38 203.238 Q2236.38 207.937 2238.3 210.622 Q2240.24 213.284 2243.62 213.284 Q2247 213.284 2248.95 210.622 Q2250.89 207.937 2250.89 203.238 Q2250.89 198.539 2248.95 195.877 Q2247 193.192 2243.62 193.192 Q2240.24 193.192 2238.3 195.877 Q2236.38 198.539 2236.38 203.238 Z\" fill=\"#000000\" fill-rule=\"nonzero\" fill-opacity=\"1\" /></svg>\n"
      ],
      "text/html": [
       "<?xml version=\"1.0\" encoding=\"utf-8\"?>\n",
       "<svg xmlns=\"http://www.w3.org/2000/svg\" xmlns:xlink=\"http://www.w3.org/1999/xlink\" width=\"600\" height=\"400\" viewBox=\"0 0 2400 1600\">\n",
       "<defs>\n",
       "  <clipPath id=\"clip780\">\n",
       "    <rect x=\"0\" y=\"0\" width=\"2400\" height=\"1600\"/>\n",
       "  </clipPath>\n",
       "</defs>\n",
       "<path clip-path=\"url(#clip780)\" d=\"M0 1600 L2400 1600 L2400 0 L0 0  Z\" fill=\"#ffffff\" fill-rule=\"evenodd\" fill-opacity=\"1\"/>\n",
       "<defs>\n",
       "  <clipPath id=\"clip781\">\n",
       "    <rect x=\"480\" y=\"0\" width=\"1681\" height=\"1600\"/>\n",
       "  </clipPath>\n",
       "</defs>\n",
       "<path clip-path=\"url(#clip780)\" d=\"M156.598 1486.45 L2352.76 1486.45 L2352.76 47.2441 L156.598 47.2441  Z\" fill=\"#ffffff\" fill-rule=\"evenodd\" fill-opacity=\"1\"/>\n",
       "<defs>\n",
       "  <clipPath id=\"clip782\">\n",
       "    <rect x=\"156\" y=\"47\" width=\"2197\" height=\"1440\"/>\n",
       "  </clipPath>\n",
       "</defs>\n",
       "<polyline clip-path=\"url(#clip782)\" style=\"stroke:#000000; stroke-linecap:round; stroke-linejoin:round; stroke-width:2; stroke-opacity:0.1; fill:none\" points=\"166.985,1486.45 166.985,47.2441 \"/>\n",
       "<polyline clip-path=\"url(#clip782)\" style=\"stroke:#000000; stroke-linecap:round; stroke-linejoin:round; stroke-width:2; stroke-opacity:0.1; fill:none\" points=\"703.944,1486.45 703.944,47.2441 \"/>\n",
       "<polyline clip-path=\"url(#clip782)\" style=\"stroke:#000000; stroke-linecap:round; stroke-linejoin:round; stroke-width:2; stroke-opacity:0.1; fill:none\" points=\"1240.9,1486.45 1240.9,47.2441 \"/>\n",
       "<polyline clip-path=\"url(#clip782)\" style=\"stroke:#000000; stroke-linecap:round; stroke-linejoin:round; stroke-width:2; stroke-opacity:0.1; fill:none\" points=\"1777.86,1486.45 1777.86,47.2441 \"/>\n",
       "<polyline clip-path=\"url(#clip782)\" style=\"stroke:#000000; stroke-linecap:round; stroke-linejoin:round; stroke-width:2; stroke-opacity:0.1; fill:none\" points=\"2314.82,1486.45 2314.82,47.2441 \"/>\n",
       "<polyline clip-path=\"url(#clip780)\" style=\"stroke:#000000; stroke-linecap:round; stroke-linejoin:round; stroke-width:4; stroke-opacity:1; fill:none\" points=\"156.598,1486.45 2352.76,1486.45 \"/>\n",
       "<polyline clip-path=\"url(#clip780)\" style=\"stroke:#000000; stroke-linecap:round; stroke-linejoin:round; stroke-width:4; stroke-opacity:1; fill:none\" points=\"166.985,1486.45 166.985,1467.55 \"/>\n",
       "<polyline clip-path=\"url(#clip780)\" style=\"stroke:#000000; stroke-linecap:round; stroke-linejoin:round; stroke-width:4; stroke-opacity:1; fill:none\" points=\"703.944,1486.45 703.944,1467.55 \"/>\n",
       "<polyline clip-path=\"url(#clip780)\" style=\"stroke:#000000; stroke-linecap:round; stroke-linejoin:round; stroke-width:4; stroke-opacity:1; fill:none\" points=\"1240.9,1486.45 1240.9,1467.55 \"/>\n",
       "<polyline clip-path=\"url(#clip780)\" style=\"stroke:#000000; stroke-linecap:round; stroke-linejoin:round; stroke-width:4; stroke-opacity:1; fill:none\" points=\"1777.86,1486.45 1777.86,1467.55 \"/>\n",
       "<polyline clip-path=\"url(#clip780)\" style=\"stroke:#000000; stroke-linecap:round; stroke-linejoin:round; stroke-width:4; stroke-opacity:1; fill:none\" points=\"2314.82,1486.45 2314.82,1467.55 \"/>\n",
       "<path clip-path=\"url(#clip780)\" d=\"M129.289 1517.37 Q125.677 1517.37 123.849 1520.93 Q122.043 1524.47 122.043 1531.6 Q122.043 1538.71 123.849 1542.27 Q125.677 1545.82 129.289 1545.82 Q132.923 1545.82 134.728 1542.27 Q136.557 1538.71 136.557 1531.6 Q136.557 1524.47 134.728 1520.93 Q132.923 1517.37 129.289 1517.37 M129.289 1513.66 Q135.099 1513.66 138.154 1518.27 Q141.233 1522.85 141.233 1531.6 Q141.233 1540.33 138.154 1544.94 Q135.099 1549.52 129.289 1549.52 Q123.478 1549.52 120.4 1544.94 Q117.344 1540.33 117.344 1531.6 Q117.344 1522.85 120.4 1518.27 Q123.478 1513.66 129.289 1513.66 Z\" fill=\"#000000\" fill-rule=\"nonzero\" fill-opacity=\"1\" /><path clip-path=\"url(#clip780)\" d=\"M149.45 1542.97 L154.335 1542.97 L154.335 1548.85 L149.45 1548.85 L149.45 1542.97 Z\" fill=\"#000000\" fill-rule=\"nonzero\" fill-opacity=\"1\" /><path clip-path=\"url(#clip780)\" d=\"M174.52 1517.37 Q170.909 1517.37 169.08 1520.93 Q167.274 1524.47 167.274 1531.6 Q167.274 1538.71 169.08 1542.27 Q170.909 1545.82 174.52 1545.82 Q178.154 1545.82 179.96 1542.27 Q181.788 1538.71 181.788 1531.6 Q181.788 1524.47 179.96 1520.93 Q178.154 1517.37 174.52 1517.37 M174.52 1513.66 Q180.33 1513.66 183.385 1518.27 Q186.464 1522.85 186.464 1531.6 Q186.464 1540.33 183.385 1544.94 Q180.33 1549.52 174.52 1549.52 Q168.71 1549.52 165.631 1544.94 Q162.575 1540.33 162.575 1531.6 Q162.575 1522.85 165.631 1518.27 Q168.71 1513.66 174.52 1513.66 Z\" fill=\"#000000\" fill-rule=\"nonzero\" fill-opacity=\"1\" /><path clip-path=\"url(#clip780)\" d=\"M204.682 1517.37 Q201.071 1517.37 199.242 1520.93 Q197.436 1524.47 197.436 1531.6 Q197.436 1538.71 199.242 1542.27 Q201.071 1545.82 204.682 1545.82 Q208.316 1545.82 210.121 1542.27 Q211.95 1538.71 211.95 1531.6 Q211.95 1524.47 210.121 1520.93 Q208.316 1517.37 204.682 1517.37 M204.682 1513.66 Q210.492 1513.66 213.547 1518.27 Q216.626 1522.85 216.626 1531.6 Q216.626 1540.33 213.547 1544.94 Q210.492 1549.52 204.682 1549.52 Q198.872 1549.52 195.793 1544.94 Q192.737 1540.33 192.737 1531.6 Q192.737 1522.85 195.793 1518.27 Q198.872 1513.66 204.682 1513.66 Z\" fill=\"#000000\" fill-rule=\"nonzero\" fill-opacity=\"1\" /><path clip-path=\"url(#clip780)\" d=\"M666.745 1517.37 Q663.134 1517.37 661.305 1520.93 Q659.499 1524.47 659.499 1531.6 Q659.499 1538.71 661.305 1542.27 Q663.134 1545.82 666.745 1545.82 Q670.379 1545.82 672.184 1542.27 Q674.013 1538.71 674.013 1531.6 Q674.013 1524.47 672.184 1520.93 Q670.379 1517.37 666.745 1517.37 M666.745 1513.66 Q672.555 1513.66 675.61 1518.27 Q678.689 1522.85 678.689 1531.6 Q678.689 1540.33 675.61 1544.94 Q672.555 1549.52 666.745 1549.52 Q660.935 1549.52 657.856 1544.94 Q654.8 1540.33 654.8 1531.6 Q654.8 1522.85 657.856 1518.27 Q660.935 1513.66 666.745 1513.66 Z\" fill=\"#000000\" fill-rule=\"nonzero\" fill-opacity=\"1\" /><path clip-path=\"url(#clip780)\" d=\"M686.907 1542.97 L691.791 1542.97 L691.791 1548.85 L686.907 1548.85 L686.907 1542.97 Z\" fill=\"#000000\" fill-rule=\"nonzero\" fill-opacity=\"1\" /><path clip-path=\"url(#clip780)\" d=\"M706.004 1544.91 L722.323 1544.91 L722.323 1548.85 L700.379 1548.85 L700.379 1544.91 Q703.041 1542.16 707.624 1537.53 Q712.231 1532.88 713.411 1531.53 Q715.656 1529.01 716.536 1527.27 Q717.439 1525.51 717.439 1523.82 Q717.439 1521.07 715.494 1519.33 Q713.573 1517.6 710.471 1517.6 Q708.272 1517.6 705.819 1518.36 Q703.388 1519.13 700.61 1520.68 L700.61 1515.95 Q703.434 1514.82 705.888 1514.24 Q708.342 1513.66 710.379 1513.66 Q715.749 1513.66 718.943 1516.35 Q722.138 1519.03 722.138 1523.52 Q722.138 1525.65 721.328 1527.57 Q720.541 1529.47 718.434 1532.07 Q717.856 1532.74 714.754 1535.95 Q711.652 1539.15 706.004 1544.91 Z\" fill=\"#000000\" fill-rule=\"nonzero\" fill-opacity=\"1\" /><path clip-path=\"url(#clip780)\" d=\"M732.184 1514.29 L750.541 1514.29 L750.541 1518.22 L736.467 1518.22 L736.467 1526.7 Q737.485 1526.35 738.504 1526.19 Q739.522 1526 740.541 1526 Q746.328 1526 749.707 1529.17 Q753.087 1532.34 753.087 1537.76 Q753.087 1543.34 749.615 1546.44 Q746.142 1549.52 739.823 1549.52 Q737.647 1549.52 735.379 1549.15 Q733.133 1548.78 730.726 1548.04 L730.726 1543.34 Q732.809 1544.47 735.031 1545.03 Q737.254 1545.58 739.73 1545.58 Q743.735 1545.58 746.073 1543.48 Q748.411 1541.37 748.411 1537.76 Q748.411 1534.15 746.073 1532.04 Q743.735 1529.94 739.73 1529.94 Q737.855 1529.94 735.98 1530.35 Q734.129 1530.77 732.184 1531.65 L732.184 1514.29 Z\" fill=\"#000000\" fill-rule=\"nonzero\" fill-opacity=\"1\" /><path clip-path=\"url(#clip780)\" d=\"M1203.21 1517.37 Q1199.59 1517.37 1197.77 1520.93 Q1195.96 1524.47 1195.96 1531.6 Q1195.96 1538.71 1197.77 1542.27 Q1199.59 1545.82 1203.21 1545.82 Q1206.84 1545.82 1208.65 1542.27 Q1210.47 1538.71 1210.47 1531.6 Q1210.47 1524.47 1208.65 1520.93 Q1206.84 1517.37 1203.21 1517.37 M1203.21 1513.66 Q1209.02 1513.66 1212.07 1518.27 Q1215.15 1522.85 1215.15 1531.6 Q1215.15 1540.33 1212.07 1544.94 Q1209.02 1549.52 1203.21 1549.52 Q1197.4 1549.52 1194.32 1544.94 Q1191.26 1540.33 1191.26 1531.6 Q1191.26 1522.85 1194.32 1518.27 Q1197.4 1513.66 1203.21 1513.66 Z\" fill=\"#000000\" fill-rule=\"nonzero\" fill-opacity=\"1\" /><path clip-path=\"url(#clip780)\" d=\"M1223.37 1542.97 L1228.25 1542.97 L1228.25 1548.85 L1223.37 1548.85 L1223.37 1542.97 Z\" fill=\"#000000\" fill-rule=\"nonzero\" fill-opacity=\"1\" /><path clip-path=\"url(#clip780)\" d=\"M1238.48 1514.29 L1256.84 1514.29 L1256.84 1518.22 L1242.77 1518.22 L1242.77 1526.7 Q1243.78 1526.35 1244.8 1526.19 Q1245.82 1526 1246.84 1526 Q1252.63 1526 1256.01 1529.17 Q1259.39 1532.34 1259.39 1537.76 Q1259.39 1543.34 1255.91 1546.44 Q1252.44 1549.52 1246.12 1549.52 Q1243.95 1549.52 1241.68 1549.15 Q1239.43 1548.78 1237.02 1548.04 L1237.02 1543.34 Q1239.11 1544.47 1241.33 1545.03 Q1243.55 1545.58 1246.03 1545.58 Q1250.03 1545.58 1252.37 1543.48 Q1254.71 1541.37 1254.71 1537.76 Q1254.71 1534.15 1252.37 1532.04 Q1250.03 1529.94 1246.03 1529.94 Q1244.15 1529.94 1242.28 1530.35 Q1240.43 1530.77 1238.48 1531.65 L1238.48 1514.29 Z\" fill=\"#000000\" fill-rule=\"nonzero\" fill-opacity=\"1\" /><path clip-path=\"url(#clip780)\" d=\"M1278.6 1517.37 Q1274.99 1517.37 1273.16 1520.93 Q1271.35 1524.47 1271.35 1531.6 Q1271.35 1538.71 1273.16 1542.27 Q1274.99 1545.82 1278.6 1545.82 Q1282.23 1545.82 1284.04 1542.27 Q1285.87 1538.71 1285.87 1531.6 Q1285.87 1524.47 1284.04 1520.93 Q1282.23 1517.37 1278.6 1517.37 M1278.6 1513.66 Q1284.41 1513.66 1287.46 1518.27 Q1290.54 1522.85 1290.54 1531.6 Q1290.54 1540.33 1287.46 1544.94 Q1284.41 1549.52 1278.6 1549.52 Q1272.79 1549.52 1269.71 1544.94 Q1266.65 1540.33 1266.65 1531.6 Q1266.65 1522.85 1269.71 1518.27 Q1272.79 1513.66 1278.6 1513.66 Z\" fill=\"#000000\" fill-rule=\"nonzero\" fill-opacity=\"1\" /><path clip-path=\"url(#clip780)\" d=\"M1740.66 1517.37 Q1737.05 1517.37 1735.22 1520.93 Q1733.42 1524.47 1733.42 1531.6 Q1733.42 1538.71 1735.22 1542.27 Q1737.05 1545.82 1740.66 1545.82 Q1744.3 1545.82 1746.1 1542.27 Q1747.93 1538.71 1747.93 1531.6 Q1747.93 1524.47 1746.1 1520.93 Q1744.3 1517.37 1740.66 1517.37 M1740.66 1513.66 Q1746.47 1513.66 1749.53 1518.27 Q1752.61 1522.85 1752.61 1531.6 Q1752.61 1540.33 1749.53 1544.94 Q1746.47 1549.52 1740.66 1549.52 Q1734.85 1549.52 1731.77 1544.94 Q1728.72 1540.33 1728.72 1531.6 Q1728.72 1522.85 1731.77 1518.27 Q1734.85 1513.66 1740.66 1513.66 Z\" fill=\"#000000\" fill-rule=\"nonzero\" fill-opacity=\"1\" /><path clip-path=\"url(#clip780)\" d=\"M1760.82 1542.97 L1765.71 1542.97 L1765.71 1548.85 L1760.82 1548.85 L1760.82 1542.97 Z\" fill=\"#000000\" fill-rule=\"nonzero\" fill-opacity=\"1\" /><path clip-path=\"url(#clip780)\" d=\"M1774.71 1514.29 L1796.93 1514.29 L1796.93 1516.28 L1784.39 1548.85 L1779.5 1548.85 L1791.31 1518.22 L1774.71 1518.22 L1774.71 1514.29 Z\" fill=\"#000000\" fill-rule=\"nonzero\" fill-opacity=\"1\" /><path clip-path=\"url(#clip780)\" d=\"M1806.1 1514.29 L1824.46 1514.29 L1824.46 1518.22 L1810.38 1518.22 L1810.38 1526.7 Q1811.4 1526.35 1812.42 1526.19 Q1813.44 1526 1814.46 1526 Q1820.24 1526 1823.62 1529.17 Q1827 1532.34 1827 1537.76 Q1827 1543.34 1823.53 1546.44 Q1820.06 1549.52 1813.74 1549.52 Q1811.56 1549.52 1809.3 1549.15 Q1807.05 1548.78 1804.64 1548.04 L1804.64 1543.34 Q1806.73 1544.47 1808.95 1545.03 Q1811.17 1545.58 1813.65 1545.58 Q1817.65 1545.58 1819.99 1543.48 Q1822.33 1541.37 1822.33 1537.76 Q1822.33 1534.15 1819.99 1532.04 Q1817.65 1529.94 1813.65 1529.94 Q1811.77 1529.94 1809.9 1530.35 Q1808.05 1530.77 1806.1 1531.65 L1806.1 1514.29 Z\" fill=\"#000000\" fill-rule=\"nonzero\" fill-opacity=\"1\" /><path clip-path=\"url(#clip780)\" d=\"M2266.89 1544.91 L2274.53 1544.91 L2274.53 1518.55 L2266.22 1520.21 L2266.22 1515.95 L2274.48 1514.29 L2279.16 1514.29 L2279.16 1544.91 L2286.8 1544.91 L2286.8 1548.85 L2266.89 1548.85 L2266.89 1544.91 Z\" fill=\"#000000\" fill-rule=\"nonzero\" fill-opacity=\"1\" /><path clip-path=\"url(#clip780)\" d=\"M2296.24 1542.97 L2301.13 1542.97 L2301.13 1548.85 L2296.24 1548.85 L2296.24 1542.97 Z\" fill=\"#000000\" fill-rule=\"nonzero\" fill-opacity=\"1\" /><path clip-path=\"url(#clip780)\" d=\"M2321.31 1517.37 Q2317.7 1517.37 2315.87 1520.93 Q2314.07 1524.47 2314.07 1531.6 Q2314.07 1538.71 2315.87 1542.27 Q2317.7 1545.82 2321.31 1545.82 Q2324.95 1545.82 2326.75 1542.27 Q2328.58 1538.71 2328.58 1531.6 Q2328.58 1524.47 2326.75 1520.93 Q2324.95 1517.37 2321.31 1517.37 M2321.31 1513.66 Q2327.12 1513.66 2330.18 1518.27 Q2333.26 1522.85 2333.26 1531.6 Q2333.26 1540.33 2330.18 1544.94 Q2327.12 1549.52 2321.31 1549.52 Q2315.5 1549.52 2312.42 1544.94 Q2309.37 1540.33 2309.37 1531.6 Q2309.37 1522.85 2312.42 1518.27 Q2315.5 1513.66 2321.31 1513.66 Z\" fill=\"#000000\" fill-rule=\"nonzero\" fill-opacity=\"1\" /><path clip-path=\"url(#clip780)\" d=\"M2351.47 1517.37 Q2347.86 1517.37 2346.03 1520.93 Q2344.23 1524.47 2344.23 1531.6 Q2344.23 1538.71 2346.03 1542.27 Q2347.86 1545.82 2351.47 1545.82 Q2355.11 1545.82 2356.91 1542.27 Q2358.74 1538.71 2358.74 1531.6 Q2358.74 1524.47 2356.91 1520.93 Q2355.11 1517.37 2351.47 1517.37 M2351.47 1513.66 Q2357.28 1513.66 2360.34 1518.27 Q2363.42 1522.85 2363.42 1531.6 Q2363.42 1540.33 2360.34 1544.94 Q2357.28 1549.52 2351.47 1549.52 Q2345.66 1549.52 2342.58 1544.94 Q2339.53 1540.33 2339.53 1531.6 Q2339.53 1522.85 2342.58 1518.27 Q2345.66 1513.66 2351.47 1513.66 Z\" fill=\"#000000\" fill-rule=\"nonzero\" fill-opacity=\"1\" /><polyline clip-path=\"url(#clip782)\" style=\"stroke:#000000; stroke-linecap:round; stroke-linejoin:round; stroke-width:2; stroke-opacity:0.1; fill:none\" points=\"156.598,1480.93 2352.76,1480.93 \"/>\n",
       "<polyline clip-path=\"url(#clip782)\" style=\"stroke:#000000; stroke-linecap:round; stroke-linejoin:round; stroke-width:2; stroke-opacity:0.1; fill:none\" points=\"156.598,1173.02 2352.76,1173.02 \"/>\n",
       "<polyline clip-path=\"url(#clip782)\" style=\"stroke:#000000; stroke-linecap:round; stroke-linejoin:round; stroke-width:2; stroke-opacity:0.1; fill:none\" points=\"156.598,865.109 2352.76,865.109 \"/>\n",
       "<polyline clip-path=\"url(#clip782)\" style=\"stroke:#000000; stroke-linecap:round; stroke-linejoin:round; stroke-width:2; stroke-opacity:0.1; fill:none\" points=\"156.598,557.197 2352.76,557.197 \"/>\n",
       "<polyline clip-path=\"url(#clip782)\" style=\"stroke:#000000; stroke-linecap:round; stroke-linejoin:round; stroke-width:2; stroke-opacity:0.1; fill:none\" points=\"156.598,249.285 2352.76,249.285 \"/>\n",
       "<polyline clip-path=\"url(#clip780)\" style=\"stroke:#000000; stroke-linecap:round; stroke-linejoin:round; stroke-width:4; stroke-opacity:1; fill:none\" points=\"156.598,1486.45 156.598,47.2441 \"/>\n",
       "<polyline clip-path=\"url(#clip780)\" style=\"stroke:#000000; stroke-linecap:round; stroke-linejoin:round; stroke-width:4; stroke-opacity:1; fill:none\" points=\"156.598,1480.93 175.496,1480.93 \"/>\n",
       "<polyline clip-path=\"url(#clip780)\" style=\"stroke:#000000; stroke-linecap:round; stroke-linejoin:round; stroke-width:4; stroke-opacity:1; fill:none\" points=\"156.598,1173.02 175.496,1173.02 \"/>\n",
       "<polyline clip-path=\"url(#clip780)\" style=\"stroke:#000000; stroke-linecap:round; stroke-linejoin:round; stroke-width:4; stroke-opacity:1; fill:none\" points=\"156.598,865.109 175.496,865.109 \"/>\n",
       "<polyline clip-path=\"url(#clip780)\" style=\"stroke:#000000; stroke-linecap:round; stroke-linejoin:round; stroke-width:4; stroke-opacity:1; fill:none\" points=\"156.598,557.197 175.496,557.197 \"/>\n",
       "<polyline clip-path=\"url(#clip780)\" style=\"stroke:#000000; stroke-linecap:round; stroke-linejoin:round; stroke-width:4; stroke-opacity:1; fill:none\" points=\"156.598,249.285 175.496,249.285 \"/>\n",
       "<path clip-path=\"url(#clip780)\" d=\"M63.4226 1466.73 Q59.8115 1466.73 57.9828 1470.3 Q56.1773 1473.84 56.1773 1480.97 Q56.1773 1488.07 57.9828 1491.64 Q59.8115 1495.18 63.4226 1495.18 Q67.0569 1495.18 68.8624 1491.64 Q70.6911 1488.07 70.6911 1480.97 Q70.6911 1473.84 68.8624 1470.3 Q67.0569 1466.73 63.4226 1466.73 M63.4226 1463.03 Q69.2328 1463.03 72.2883 1467.63 Q75.367 1472.22 75.367 1480.97 Q75.367 1489.69 72.2883 1494.3 Q69.2328 1498.88 63.4226 1498.88 Q57.6125 1498.88 54.5338 1494.3 Q51.4782 1489.69 51.4782 1480.97 Q51.4782 1472.22 54.5338 1467.63 Q57.6125 1463.03 63.4226 1463.03 Z\" fill=\"#000000\" fill-rule=\"nonzero\" fill-opacity=\"1\" /><path clip-path=\"url(#clip780)\" d=\"M83.5845 1492.33 L88.4688 1492.33 L88.4688 1498.21 L83.5845 1498.21 L83.5845 1492.33 Z\" fill=\"#000000\" fill-rule=\"nonzero\" fill-opacity=\"1\" /><path clip-path=\"url(#clip780)\" d=\"M108.654 1466.73 Q105.043 1466.73 103.214 1470.3 Q101.409 1473.84 101.409 1480.97 Q101.409 1488.07 103.214 1491.64 Q105.043 1495.18 108.654 1495.18 Q112.288 1495.18 114.094 1491.64 Q115.922 1488.07 115.922 1480.97 Q115.922 1473.84 114.094 1470.3 Q112.288 1466.73 108.654 1466.73 M108.654 1463.03 Q114.464 1463.03 117.52 1467.63 Q120.598 1472.22 120.598 1480.97 Q120.598 1489.69 117.52 1494.3 Q114.464 1498.88 108.654 1498.88 Q102.844 1498.88 99.765 1494.3 Q96.7095 1489.69 96.7095 1480.97 Q96.7095 1472.22 99.765 1467.63 Q102.844 1463.03 108.654 1463.03 Z\" fill=\"#000000\" fill-rule=\"nonzero\" fill-opacity=\"1\" /><path clip-path=\"url(#clip780)\" d=\"M65.0198 1158.82 Q61.4087 1158.82 59.58 1162.38 Q57.7745 1165.93 57.7745 1173.06 Q57.7745 1180.16 59.58 1183.73 Q61.4087 1187.27 65.0198 1187.27 Q68.6541 1187.27 70.4596 1183.73 Q72.2883 1180.16 72.2883 1173.06 Q72.2883 1165.93 70.4596 1162.38 Q68.6541 1158.82 65.0198 1158.82 M65.0198 1155.12 Q70.83 1155.12 73.8855 1159.72 Q76.9642 1164.31 76.9642 1173.06 Q76.9642 1181.78 73.8855 1186.39 Q70.83 1190.97 65.0198 1190.97 Q59.2097 1190.97 56.131 1186.39 Q53.0754 1181.78 53.0754 1173.06 Q53.0754 1164.31 56.131 1159.72 Q59.2097 1155.12 65.0198 1155.12 Z\" fill=\"#000000\" fill-rule=\"nonzero\" fill-opacity=\"1\" /><path clip-path=\"url(#clip780)\" d=\"M85.1818 1184.42 L90.066 1184.42 L90.066 1190.3 L85.1818 1190.3 L85.1818 1184.42 Z\" fill=\"#000000\" fill-rule=\"nonzero\" fill-opacity=\"1\" /><path clip-path=\"url(#clip780)\" d=\"M104.279 1186.37 L120.598 1186.37 L120.598 1190.3 L98.6539 1190.3 L98.6539 1186.37 Q101.316 1183.61 105.899 1178.98 Q110.506 1174.33 111.686 1172.99 Q113.932 1170.46 114.811 1168.73 Q115.714 1166.97 115.714 1165.28 Q115.714 1162.52 113.77 1160.79 Q111.848 1159.05 108.746 1159.05 Q106.547 1159.05 104.094 1159.82 Q101.663 1160.58 98.8854 1162.13 L98.8854 1157.41 Q101.709 1156.27 104.163 1155.69 Q106.617 1155.12 108.654 1155.12 Q114.024 1155.12 117.219 1157.8 Q120.413 1160.49 120.413 1164.98 Q120.413 1167.11 119.603 1169.03 Q118.816 1170.93 116.709 1173.52 Q116.131 1174.19 113.029 1177.41 Q109.927 1180.6 104.279 1186.37 Z\" fill=\"#000000\" fill-rule=\"nonzero\" fill-opacity=\"1\" /><path clip-path=\"url(#clip780)\" d=\"M62.9365 850.908 Q59.3254 850.908 57.4967 854.473 Q55.6912 858.014 55.6912 865.144 Q55.6912 872.25 57.4967 875.815 Q59.3254 879.357 62.9365 879.357 Q66.5707 879.357 68.3763 875.815 Q70.205 872.25 70.205 865.144 Q70.205 858.014 68.3763 854.473 Q66.5707 850.908 62.9365 850.908 M62.9365 847.204 Q68.7467 847.204 71.8022 851.811 Q74.8809 856.394 74.8809 865.144 Q74.8809 873.871 71.8022 878.477 Q68.7467 883.06 62.9365 883.06 Q57.1264 883.06 54.0477 878.477 Q50.9921 873.871 50.9921 865.144 Q50.9921 856.394 54.0477 851.811 Q57.1264 847.204 62.9365 847.204 Z\" fill=\"#000000\" fill-rule=\"nonzero\" fill-opacity=\"1\" /><path clip-path=\"url(#clip780)\" d=\"M83.0984 876.51 L87.9827 876.51 L87.9827 882.389 L83.0984 882.389 L83.0984 876.51 Z\" fill=\"#000000\" fill-rule=\"nonzero\" fill-opacity=\"1\" /><path clip-path=\"url(#clip780)\" d=\"M111.015 851.903 L99.2095 870.352 L111.015 870.352 L111.015 851.903 M109.788 847.829 L115.668 847.829 L115.668 870.352 L120.598 870.352 L120.598 874.241 L115.668 874.241 L115.668 882.389 L111.015 882.389 L111.015 874.241 L95.4132 874.241 L95.4132 869.727 L109.788 847.829 Z\" fill=\"#000000\" fill-rule=\"nonzero\" fill-opacity=\"1\" /><path clip-path=\"url(#clip780)\" d=\"M63.2606 542.996 Q59.6495 542.996 57.8208 546.561 Q56.0152 550.102 56.0152 557.232 Q56.0152 564.338 57.8208 567.903 Q59.6495 571.445 63.2606 571.445 Q66.8948 571.445 68.7004 567.903 Q70.5291 564.338 70.5291 557.232 Q70.5291 550.102 68.7004 546.561 Q66.8948 542.996 63.2606 542.996 M63.2606 539.292 Q69.0707 539.292 72.1263 543.899 Q75.205 548.482 75.205 557.232 Q75.205 565.959 72.1263 570.565 Q69.0707 575.148 63.2606 575.148 Q57.4504 575.148 54.3717 570.565 Q51.3162 565.959 51.3162 557.232 Q51.3162 548.482 54.3717 543.899 Q57.4504 539.292 63.2606 539.292 Z\" fill=\"#000000\" fill-rule=\"nonzero\" fill-opacity=\"1\" /><path clip-path=\"url(#clip780)\" d=\"M83.4225 568.598 L88.3067 568.598 L88.3067 574.477 L83.4225 574.477 L83.4225 568.598 Z\" fill=\"#000000\" fill-rule=\"nonzero\" fill-opacity=\"1\" /><path clip-path=\"url(#clip780)\" d=\"M109.071 555.334 Q105.922 555.334 104.071 557.487 Q102.242 559.639 102.242 563.389 Q102.242 567.116 104.071 569.292 Q105.922 571.445 109.071 571.445 Q112.219 571.445 114.047 569.292 Q115.899 567.116 115.899 563.389 Q115.899 559.639 114.047 557.487 Q112.219 555.334 109.071 555.334 M118.353 540.681 L118.353 544.94 Q116.594 544.107 114.788 543.667 Q113.006 543.227 111.246 543.227 Q106.617 543.227 104.163 546.352 Q101.733 549.477 101.385 555.797 Q102.751 553.783 104.811 552.718 Q106.871 551.63 109.348 551.63 Q114.557 551.63 117.566 554.801 Q120.598 557.95 120.598 563.389 Q120.598 568.713 117.45 571.931 Q114.302 575.148 109.071 575.148 Q103.075 575.148 99.9039 570.565 Q96.7326 565.959 96.7326 557.232 Q96.7326 549.038 100.621 544.176 Q104.51 539.292 111.061 539.292 Q112.82 539.292 114.603 539.639 Q116.408 539.987 118.353 540.681 Z\" fill=\"#000000\" fill-rule=\"nonzero\" fill-opacity=\"1\" /><path clip-path=\"url(#clip780)\" d=\"M63.5152 235.084 Q59.9041 235.084 58.0754 238.649 Q56.2699 242.19 56.2699 249.32 Q56.2699 256.426 58.0754 259.991 Q59.9041 263.533 63.5152 263.533 Q67.1494 263.533 68.955 259.991 Q70.7837 256.426 70.7837 249.32 Q70.7837 242.19 68.955 238.649 Q67.1494 235.084 63.5152 235.084 M63.5152 231.38 Q69.3254 231.38 72.3809 235.987 Q75.4596 240.57 75.4596 249.32 Q75.4596 258.047 72.3809 262.653 Q69.3254 267.237 63.5152 267.237 Q57.7051 267.237 54.6264 262.653 Q51.5708 258.047 51.5708 249.32 Q51.5708 240.57 54.6264 235.987 Q57.7051 231.38 63.5152 231.38 Z\" fill=\"#000000\" fill-rule=\"nonzero\" fill-opacity=\"1\" /><path clip-path=\"url(#clip780)\" d=\"M83.6771 260.686 L88.5614 260.686 L88.5614 266.565 L83.6771 266.565 L83.6771 260.686 Z\" fill=\"#000000\" fill-rule=\"nonzero\" fill-opacity=\"1\" /><path clip-path=\"url(#clip780)\" d=\"M108.746 250.153 Q105.413 250.153 103.492 251.936 Q101.594 253.718 101.594 256.843 Q101.594 259.968 103.492 261.75 Q105.413 263.533 108.746 263.533 Q112.08 263.533 114.001 261.75 Q115.922 259.945 115.922 256.843 Q115.922 253.718 114.001 251.936 Q112.103 250.153 108.746 250.153 M104.071 248.163 Q101.061 247.422 99.3715 245.362 Q97.7048 243.302 97.7048 240.339 Q97.7048 236.195 100.645 233.788 Q103.608 231.38 108.746 231.38 Q113.908 231.38 116.848 233.788 Q119.788 236.195 119.788 240.339 Q119.788 243.302 118.098 245.362 Q116.432 247.422 113.445 248.163 Q116.825 248.95 118.7 251.241 Q120.598 253.533 120.598 256.843 Q120.598 261.866 117.52 264.551 Q114.464 267.237 108.746 267.237 Q103.029 267.237 99.9502 264.551 Q96.8947 261.866 96.8947 256.843 Q96.8947 253.533 98.7928 251.241 Q100.691 248.95 104.071 248.163 M102.358 240.778 Q102.358 243.464 104.024 244.968 Q105.714 246.473 108.746 246.473 Q111.756 246.473 113.445 244.968 Q115.158 243.464 115.158 240.778 Q115.158 238.093 113.445 236.589 Q111.756 235.084 108.746 235.084 Q105.714 235.084 104.024 236.589 Q102.358 238.093 102.358 240.778 Z\" fill=\"#000000\" fill-rule=\"nonzero\" fill-opacity=\"1\" /><polyline clip-path=\"url(#clip782)\" style=\"stroke:#009af9; stroke-linecap:round; stroke-linejoin:round; stroke-width:4; stroke-opacity:1; fill:none\" points=\"974.53,314.35 2215.32,827.1 2290.6,440.7 507.355,157.71 300.134,1006.42 1608.15,132.061 532.769,176.246 2033.99,1387.08 218.754,170.814 1916.45,535.298 \"/>\n",
       "<circle clip-path=\"url(#clip782)\" cx=\"974.53\" cy=\"314.35\" r=\"14.4\" fill=\"#009af9\" fill-rule=\"evenodd\" fill-opacity=\"1\" stroke=\"#000000\" stroke-opacity=\"1\" stroke-width=\"3.2\"/>\n",
       "<circle clip-path=\"url(#clip782)\" cx=\"2215.32\" cy=\"827.1\" r=\"14.4\" fill=\"#009af9\" fill-rule=\"evenodd\" fill-opacity=\"1\" stroke=\"#000000\" stroke-opacity=\"1\" stroke-width=\"3.2\"/>\n",
       "<circle clip-path=\"url(#clip782)\" cx=\"2290.6\" cy=\"440.7\" r=\"14.4\" fill=\"#009af9\" fill-rule=\"evenodd\" fill-opacity=\"1\" stroke=\"#000000\" stroke-opacity=\"1\" stroke-width=\"3.2\"/>\n",
       "<circle clip-path=\"url(#clip782)\" cx=\"507.355\" cy=\"157.71\" r=\"14.4\" fill=\"#009af9\" fill-rule=\"evenodd\" fill-opacity=\"1\" stroke=\"#000000\" stroke-opacity=\"1\" stroke-width=\"3.2\"/>\n",
       "<circle clip-path=\"url(#clip782)\" cx=\"300.134\" cy=\"1006.42\" r=\"14.4\" fill=\"#009af9\" fill-rule=\"evenodd\" fill-opacity=\"1\" stroke=\"#000000\" stroke-opacity=\"1\" stroke-width=\"3.2\"/>\n",
       "<circle clip-path=\"url(#clip782)\" cx=\"1608.15\" cy=\"132.061\" r=\"14.4\" fill=\"#009af9\" fill-rule=\"evenodd\" fill-opacity=\"1\" stroke=\"#000000\" stroke-opacity=\"1\" stroke-width=\"3.2\"/>\n",
       "<circle clip-path=\"url(#clip782)\" cx=\"532.769\" cy=\"176.246\" r=\"14.4\" fill=\"#009af9\" fill-rule=\"evenodd\" fill-opacity=\"1\" stroke=\"#000000\" stroke-opacity=\"1\" stroke-width=\"3.2\"/>\n",
       "<circle clip-path=\"url(#clip782)\" cx=\"2033.99\" cy=\"1387.08\" r=\"14.4\" fill=\"#009af9\" fill-rule=\"evenodd\" fill-opacity=\"1\" stroke=\"#000000\" stroke-opacity=\"1\" stroke-width=\"3.2\"/>\n",
       "<circle clip-path=\"url(#clip782)\" cx=\"218.754\" cy=\"170.814\" r=\"14.4\" fill=\"#009af9\" fill-rule=\"evenodd\" fill-opacity=\"1\" stroke=\"#000000\" stroke-opacity=\"1\" stroke-width=\"3.2\"/>\n",
       "<circle clip-path=\"url(#clip782)\" cx=\"1916.45\" cy=\"535.298\" r=\"14.4\" fill=\"#009af9\" fill-rule=\"evenodd\" fill-opacity=\"1\" stroke=\"#000000\" stroke-opacity=\"1\" stroke-width=\"3.2\"/>\n",
       "<polyline clip-path=\"url(#clip782)\" style=\"stroke:#e26f46; stroke-linecap:round; stroke-linejoin:round; stroke-width:4; stroke-opacity:1; fill:none\" points=\"1721.64,87.9763 1809.92,980.105 591.825,389.042 368.265,514.952 1025.89,1248.77 1698.66,228.834 558.721,1437.91 371.587,1445.72 615.55,1009.14 1149.22,1357.72 \"/>\n",
       "<circle clip-path=\"url(#clip782)\" cx=\"1721.64\" cy=\"87.9763\" r=\"14.4\" fill=\"#e26f46\" fill-rule=\"evenodd\" fill-opacity=\"1\" stroke=\"#000000\" stroke-opacity=\"1\" stroke-width=\"3.2\"/>\n",
       "<circle clip-path=\"url(#clip782)\" cx=\"1809.92\" cy=\"980.105\" r=\"14.4\" fill=\"#e26f46\" fill-rule=\"evenodd\" fill-opacity=\"1\" stroke=\"#000000\" stroke-opacity=\"1\" stroke-width=\"3.2\"/>\n",
       "<circle clip-path=\"url(#clip782)\" cx=\"591.825\" cy=\"389.042\" r=\"14.4\" fill=\"#e26f46\" fill-rule=\"evenodd\" fill-opacity=\"1\" stroke=\"#000000\" stroke-opacity=\"1\" stroke-width=\"3.2\"/>\n",
       "<circle clip-path=\"url(#clip782)\" cx=\"368.265\" cy=\"514.952\" r=\"14.4\" fill=\"#e26f46\" fill-rule=\"evenodd\" fill-opacity=\"1\" stroke=\"#000000\" stroke-opacity=\"1\" stroke-width=\"3.2\"/>\n",
       "<circle clip-path=\"url(#clip782)\" cx=\"1025.89\" cy=\"1248.77\" r=\"14.4\" fill=\"#e26f46\" fill-rule=\"evenodd\" fill-opacity=\"1\" stroke=\"#000000\" stroke-opacity=\"1\" stroke-width=\"3.2\"/>\n",
       "<circle clip-path=\"url(#clip782)\" cx=\"1698.66\" cy=\"228.834\" r=\"14.4\" fill=\"#e26f46\" fill-rule=\"evenodd\" fill-opacity=\"1\" stroke=\"#000000\" stroke-opacity=\"1\" stroke-width=\"3.2\"/>\n",
       "<circle clip-path=\"url(#clip782)\" cx=\"558.721\" cy=\"1437.91\" r=\"14.4\" fill=\"#e26f46\" fill-rule=\"evenodd\" fill-opacity=\"1\" stroke=\"#000000\" stroke-opacity=\"1\" stroke-width=\"3.2\"/>\n",
       "<circle clip-path=\"url(#clip782)\" cx=\"371.587\" cy=\"1445.72\" r=\"14.4\" fill=\"#e26f46\" fill-rule=\"evenodd\" fill-opacity=\"1\" stroke=\"#000000\" stroke-opacity=\"1\" stroke-width=\"3.2\"/>\n",
       "<circle clip-path=\"url(#clip782)\" cx=\"615.55\" cy=\"1009.14\" r=\"14.4\" fill=\"#e26f46\" fill-rule=\"evenodd\" fill-opacity=\"1\" stroke=\"#000000\" stroke-opacity=\"1\" stroke-width=\"3.2\"/>\n",
       "<circle clip-path=\"url(#clip782)\" cx=\"1149.22\" cy=\"1357.72\" r=\"14.4\" fill=\"#e26f46\" fill-rule=\"evenodd\" fill-opacity=\"1\" stroke=\"#000000\" stroke-opacity=\"1\" stroke-width=\"3.2\"/>\n",
       "<path clip-path=\"url(#clip780)\" d=\"M2036.76 250.738 L2279.55 250.738 L2279.55 95.2176 L2036.76 95.2176  Z\" fill=\"#ffffff\" fill-rule=\"evenodd\" fill-opacity=\"1\"/>\n",
       "<polyline clip-path=\"url(#clip780)\" style=\"stroke:#000000; stroke-linecap:round; stroke-linejoin:round; stroke-width:4; stroke-opacity:1; fill:none\" points=\"2036.76,250.738 2279.55,250.738 2279.55,95.2176 2036.76,95.2176 2036.76,250.738 \"/>\n",
       "<polyline clip-path=\"url(#clip780)\" style=\"stroke:#009af9; stroke-linecap:round; stroke-linejoin:round; stroke-width:4; stroke-opacity:1; fill:none\" points=\"2061.17,147.058 2207.58,147.058 \"/>\n",
       "<circle clip-path=\"url(#clip780)\" cx=\"2134.37\" cy=\"147.058\" r=\"20.3348\" fill=\"#009af9\" fill-rule=\"evenodd\" fill-opacity=\"1\" stroke=\"#000000\" stroke-opacity=\"1\" stroke-width=\"4.55111\"/>\n",
       "<path clip-path=\"url(#clip780)\" d=\"M2247.16 142.393 Q2246.45 141.977 2245.59 141.791 Q2244.76 141.583 2243.74 141.583 Q2240.13 141.583 2238.18 143.944 Q2236.26 146.282 2236.26 150.68 L2236.26 164.338 L2231.98 164.338 L2231.98 138.412 L2236.26 138.412 L2236.26 142.44 Q2237.6 140.078 2239.76 138.944 Q2241.91 137.787 2244.99 137.787 Q2245.43 137.787 2245.96 137.856 Q2246.49 137.903 2247.14 138.018 L2247.16 142.393 Z\" fill=\"#000000\" fill-rule=\"nonzero\" fill-opacity=\"1\" /><polyline clip-path=\"url(#clip780)\" style=\"stroke:#e26f46; stroke-linecap:round; stroke-linejoin:round; stroke-width:4; stroke-opacity:1; fill:none\" points=\"2061.17,198.898 2207.58,198.898 \"/>\n",
       "<circle clip-path=\"url(#clip780)\" cx=\"2134.37\" cy=\"198.898\" r=\"20.3348\" fill=\"#e26f46\" fill-rule=\"evenodd\" fill-opacity=\"1\" stroke=\"#000000\" stroke-opacity=\"1\" stroke-width=\"4.55111\"/>\n",
       "<path clip-path=\"url(#clip780)\" d=\"M2250.89 194.187 L2250.89 180.159 L2255.15 180.159 L2255.15 216.178 L2250.89 216.178 L2250.89 212.289 Q2249.55 214.603 2247.49 215.738 Q2245.45 216.849 2242.58 216.849 Q2237.88 216.849 2234.92 213.099 Q2231.98 209.349 2231.98 203.238 Q2231.98 197.127 2234.92 193.377 Q2237.88 189.627 2242.58 189.627 Q2245.45 189.627 2247.49 190.761 Q2249.55 191.872 2250.89 194.187 M2236.38 203.238 Q2236.38 207.937 2238.3 210.622 Q2240.24 213.284 2243.62 213.284 Q2247 213.284 2248.95 210.622 Q2250.89 207.937 2250.89 203.238 Q2250.89 198.539 2248.95 195.877 Q2247 193.192 2243.62 193.192 Q2240.24 193.192 2238.3 195.877 Q2236.38 198.539 2236.38 203.238 Z\" fill=\"#000000\" fill-rule=\"nonzero\" fill-opacity=\"1\" /></svg>\n"
      ]
     },
     "execution_count": 97,
     "metadata": {},
     "output_type": "execute_result"
    }
   ],
   "source": [
    "using Plots\n",
    "r1 = rand!(zeros(10)) \n",
    "r2 = rand!(zeros(10)) \n",
    "d1 = rand!(zeros(10)) \n",
    "d2 = rand!(zeros(10)) \n",
    "\n",
    "plot(r1,r2, marker=:circle, label=\"r\")\n",
    "plot!(d1,d2, marker=:circle, label=\"d\")"
   ]
  },
  {
   "cell_type": "code",
   "execution_count": 78,
   "id": "4ad444a7",
   "metadata": {},
   "outputs": [
    {
     "data": {
      "text/plain": [
       "Dict{AbstractFloat, Dict{String, Vector{Float64}}}()"
      ]
     },
     "execution_count": 78,
     "metadata": {},
     "output_type": "execute_result"
    }
   ],
   "source": [
    "g = Dict{AbstractFloat, Dict{String, Vector{Float64}}}()"
   ]
  },
  {
   "cell_type": "code",
   "execution_count": 80,
   "id": "4bb68aad",
   "metadata": {},
   "outputs": [
    {
     "data": {
      "text/plain": [
       "Dict{String, Vector{Float64}} with 2 entries:\n",
       "  \"p\" => [0.5]\n",
       "  \"β\" => [0.5]"
      ]
     },
     "execution_count": 80,
     "metadata": {},
     "output_type": "execute_result"
    }
   ],
   "source": [
    "g[0.2] = Dict(\"p\"=>[0.5], \"β\"=>[0.5])"
   ]
  },
  {
   "cell_type": "code",
   "execution_count": 86,
   "id": "d16fb4bf",
   "metadata": {},
   "outputs": [
    {
     "data": {
      "text/plain": [
       "2-element Vector{Float64}:\n",
       " 0.5\n",
       " 0.7"
      ]
     },
     "execution_count": 86,
     "metadata": {},
     "output_type": "execute_result"
    }
   ],
   "source": [
    "append!(g[0.2][\"p\"], [0.7])"
   ]
  },
  {
   "cell_type": "code",
   "execution_count": 87,
   "id": "5f2620e6",
   "metadata": {},
   "outputs": [
    {
     "data": {
      "text/plain": [
       "Dict{String, Vector{Float64}} with 2 entries:\n",
       "  \"p\" => [0.5, 0.7]\n",
       "  \"β\" => [0.5]"
      ]
     },
     "execution_count": 87,
     "metadata": {},
     "output_type": "execute_result"
    }
   ],
   "source": [
    "g[0.2]"
   ]
  },
  {
   "cell_type": "code",
   "execution_count": 98,
   "id": "abadc15d",
   "metadata": {},
   "outputs": [
    {
     "name": "stdout",
     "output_type": "stream",
     "text": [
      "Tengo 3.perros\n"
     ]
    }
   ],
   "source": [
    "f = 3\n",
    "println(\"Tengo $f.perros\")"
   ]
  },
  {
   "cell_type": "code",
   "execution_count": 65,
   "id": "5624c4bf",
   "metadata": {},
   "outputs": [
    {
     "data": {
      "text/plain": [
       "2-element Vector{String}:\n",
       " \"20x2+5x2.net\"\n",
       " \"circle9.net\""
      ]
     },
     "execution_count": 65,
     "metadata": {},
     "output_type": "execute_result"
    }
   ],
   "source": [
    "readdir(\"../Assignment 1/A1-Networks/toy\")[1:2]"
   ]
  },
  {
   "cell_type": "code",
   "execution_count": 56,
   "id": "289f328b",
   "metadata": {},
   "outputs": [
    {
     "data": {
      "text/plain": [
       "51-element Vector{Float64}:\n",
       " 0.0\n",
       " 0.02\n",
       " 0.04\n",
       " 0.06\n",
       " 0.08\n",
       " 0.1\n",
       " 0.12\n",
       " 0.14\n",
       " 0.16\n",
       " 0.18\n",
       " 0.2\n",
       " 0.22\n",
       " 0.24\n",
       " ⋮\n",
       " 0.78\n",
       " 0.8\n",
       " 0.82\n",
       " 0.84\n",
       " 0.86\n",
       " 0.88\n",
       " 0.9\n",
       " 0.92\n",
       " 0.94\n",
       " 0.96\n",
       " 0.98\n",
       " 1.0"
      ]
     },
     "execution_count": 56,
     "metadata": {},
     "output_type": "execute_result"
    }
   ],
   "source": [
    "net_results = Dict{String, Vector}()\n",
    "for dir in readdir(\"A1-Networks\")\n",
    "    for file in readdir(\"A1-networks/$dir\")"
   ]
  },
  {
   "cell_type": "code",
   "execution_count": 72,
   "id": "c5975578",
   "metadata": {},
   "outputs": [
    {
     "name": "stdout",
     "output_type": "stream",
     "text": [
      "110211312"
     ]
    }
   ],
   "source": [
    "for (i,n) in enumerate([10,11,12])\n",
    "    print(i, n)\n",
    "end"
   ]
  },
  {
   "cell_type": "code",
   "execution_count": 32,
   "id": "7dec910c",
   "metadata": {},
   "outputs": [
    {
     "data": {
      "text/plain": [
       "SIS(0.5, 0.5, SimpleGraph{Int64}(859, [[233, 399], [85, 132, 151], [43, 59], [45, 104, 167, 213, 419], [58, 129, 383, 486], [227, 465], [158, 449], [419, 499], [112, 385, 431], [109, 248]  …  [140, 492], [61, 491], [189, 197, 418], [101, 278, 342, 446], [33, 41], [131, 193, 411], [252, 392, 476], [64, 465], [8, 432], [38, 67, 141, 295, 297, 307, 341, 409, 410]]), 0, Bool[0, 0, 0, 0, 0, 0, 0, 0, 0, 0  …  0, 0, 0, 0, 0, 0, 0, 0, 0, 0])"
      ]
     },
     "execution_count": 32,
     "metadata": {},
     "output_type": "execute_result"
    }
   ],
   "source": [
    "sis = SIS(0.5, 0.5, graph, 0, zeros(nv(graph)))"
   ]
  },
  {
   "cell_type": "code",
   "execution_count": 36,
   "id": "29805f62",
   "metadata": {},
   "outputs": [
    {
     "data": {
      "text/plain": [
       "SIS(0.2, 0.5, SimpleGraph{Int64}(859, [[233, 399], [85, 132, 151], [43, 59], [45, 104, 167, 213, 419], [58, 129, 383, 486], [227, 465], [158, 449], [419, 499], [112, 385, 431], [109, 248]  …  [140, 492], [61, 491], [189, 197, 418], [101, 278, 342, 446], [33, 41], [131, 193, 411], [252, 392, 476], [64, 465], [8, 432], [38, 67, 141, 295, 297, 307, 341, 409, 410]]), 0, Bool[0, 0, 0, 0, 0, 0, 0, 0, 0, 0  …  0, 0, 0, 0, 0, 0, 0, 0, 0, 0])"
      ]
     },
     "execution_count": 36,
     "metadata": {},
     "output_type": "execute_result"
    }
   ],
   "source": [
    "sis = @set sis.μ = 0.2"
   ]
  },
  {
   "cell_type": "code",
   "execution_count": 49,
   "id": "eafe10de",
   "metadata": {},
   "outputs": [
    {
     "data": {
      "text/plain": [
       "allcombinations (generic function with 1 method)"
      ]
     },
     "execution_count": 49,
     "metadata": {},
     "output_type": "execute_result"
    }
   ],
   "source": [
    "allcombinations(v...) = vec(collect(Iterators.product(v...)))\n"
   ]
  },
  {
   "cell_type": "code",
   "execution_count": 66,
   "id": "4968699b",
   "metadata": {},
   "outputs": [
    {
     "ename": "LoadError",
     "evalue": "MethodError: no method matching +(::Tuple{Float64, Float64}, ::Float64)\n\n\u001b[0mClosest candidates are:\n\u001b[0m  +(::Any, ::Any, \u001b[91m::Any\u001b[39m, \u001b[91m::Any...\u001b[39m)\n\u001b[0m\u001b[90m   @\u001b[39m \u001b[90mBase\u001b[39m \u001b[90m\u001b[4moperators.jl:587\u001b[24m\u001b[39m\n\u001b[0m  +(\u001b[91m::Complex{Bool}\u001b[39m, ::Real)\n\u001b[0m\u001b[90m   @\u001b[39m \u001b[90mBase\u001b[39m \u001b[90m\u001b[4mcomplex.jl:320\u001b[24m\u001b[39m\n\u001b[0m  +(\u001b[91m::Missing\u001b[39m, ::Number)\n\u001b[0m\u001b[90m   @\u001b[39m \u001b[90mBase\u001b[39m \u001b[90m\u001b[4mmissing.jl:123\u001b[24m\u001b[39m\n\u001b[0m  ...\n",
     "output_type": "error",
     "traceback": [
      "MethodError: no method matching +(::Tuple{Float64, Float64}, ::Float64)\n\n\u001b[0mClosest candidates are:\n\u001b[0m  +(::Any, ::Any, \u001b[91m::Any\u001b[39m, \u001b[91m::Any...\u001b[39m)\n\u001b[0m\u001b[90m   @\u001b[39m \u001b[90mBase\u001b[39m \u001b[90m\u001b[4moperators.jl:587\u001b[24m\u001b[39m\n\u001b[0m  +(\u001b[91m::Complex{Bool}\u001b[39m, ::Real)\n\u001b[0m\u001b[90m   @\u001b[39m \u001b[90mBase\u001b[39m \u001b[90m\u001b[4mcomplex.jl:320\u001b[24m\u001b[39m\n\u001b[0m  +(\u001b[91m::Missing\u001b[39m, ::Number)\n\u001b[0m\u001b[90m   @\u001b[39m \u001b[90mBase\u001b[39m \u001b[90m\u001b[4mmissing.jl:123\u001b[24m\u001b[39m\n\u001b[0m  ...\n",
      "",
      "Stacktrace:",
      " [1] top-level scope",
      "   @ In[66]:1"
     ]
    }
   ],
   "source": [
    "allcombinations([0.3,0.5,0.8], [0.2,0.6,0.9])[1] + (0.2)"
   ]
  },
  {
   "cell_type": "code",
   "execution_count": 13,
   "id": "b0f13afb",
   "metadata": {},
   "outputs": [
    {
     "data": {
      "text/plain": [
       "500"
      ]
     },
     "execution_count": 13,
     "metadata": {},
     "output_type": "execute_result"
    }
   ],
   "source": [
    "nv(graph)"
   ]
  },
  {
   "cell_type": "code",
   "execution_count": 67,
   "id": "81df4f38",
   "metadata": {},
   "outputs": [
    {
     "data": {
      "text/plain": [
       "Dict{String, Any} with 4 entries:\n",
       "  \"μ\"     => 0.9\n",
       "  \"p0\"    => 0.2\n",
       "  \"graph\" => SimpleGraph{Int64}(859, [[233, 399], [85, 132, 151], [43, 59], [45…\n",
       "  \"β\"     => 0.9"
      ]
     },
     "execution_count": 67,
     "metadata": {},
     "output_type": "execute_result"
    }
   ],
   "source": [
    "initParams = Dict(\"graph\"=>graph,\"μ\"=>0.9, \"β\"=>0.9, \"p0\"=>0.2)"
   ]
  },
  {
   "cell_type": "code",
   "execution_count": 70,
   "id": "22deda4d",
   "metadata": {},
   "outputs": [
    {
     "data": {
      "text/plain": [
       "0.5248921023359278"
      ]
     },
     "execution_count": 70,
     "metadata": {},
     "output_type": "execute_result"
    }
   ],
   "source": [
    "monte_carlo(1, 1000, 900, initParams)"
   ]
  },
  {
   "cell_type": "code",
   "execution_count": 100,
   "id": "5cfdaa88",
   "metadata": {},
   "outputs": [
    {
     "data": {
      "text/plain": [
       "3.0"
      ]
     },
     "execution_count": 100,
     "metadata": {},
     "output_type": "execute_result"
    }
   ],
   "source": [
    "using Statistics\n",
    "mean([1,2,3,4,5])"
   ]
  },
  {
   "cell_type": "code",
   "execution_count": 6,
   "id": "097e8d4b",
   "metadata": {},
   "outputs": [
    {
     "data": {
      "text/plain": [
       "SIS(0.4, 0.8, SimpleGraph{Int64}(859, [[233, 399], [85, 132, 151], [43, 59], [45, 104, 167, 213, 419], [58, 129, 383, 486], [227, 465], [158, 449], [419, 499], [112, 385, 431], [109, 248]  …  [140, 492], [61, 491], [189, 197, 418], [101, 278, 342, 446], [33, 41], [131, 193, 411], [252, 392, 476], [64, 465], [8, 432], [38, 67, 141, 295, 297, 307, 341, 409, 410]]), 0, [0.0, 0.0, 0.0, 0.0, 0.0, 0.0, 0.0, 0.0, 0.0, 0.0  …  0.0, 0.0, 0.0, 0.0, 0.0, 0.0, 0.0, 0.0, 0.0, 0.0])"
      ]
     },
     "execution_count": 6,
     "metadata": {},
     "output_type": "execute_result"
    }
   ],
   "source": [
    "sis1 = SIS(0.4, 0.8, graph, 0, zeros(nv(graph)))"
   ]
  },
  {
   "cell_type": "code",
   "execution_count": 11,
   "id": "98cefbdd",
   "metadata": {},
   "outputs": [
    {
     "data": {
      "text/plain": [
       "false"
      ]
     },
     "execution_count": 11,
     "metadata": {},
     "output_type": "execute_result"
    }
   ],
   "source": [
    "5==5 && 7==6"
   ]
  },
  {
   "cell_type": "code",
   "execution_count": 7,
   "id": "119d6edc",
   "metadata": {},
   "outputs": [
    {
     "ename": "LoadError",
     "evalue": "type SIS has no field vert",
     "output_type": "error",
     "traceback": [
      "type SIS has no field vert",
      "",
      "Stacktrace:",
      " [1] setproperty!(x::SIS, f::Symbol, v::Int64)",
      "   @ Base .\\Base.jl:39",
      " [2] top-level scope",
      "   @ In[7]:1"
     ]
    }
   ],
   "source": [
    "sis1.vert = 5"
   ]
  },
  {
   "cell_type": "code",
   "execution_count": 15,
   "id": "0baaa894",
   "metadata": {},
   "outputs": [
    {
     "data": {
      "text/plain": [
       "502"
      ]
     },
     "execution_count": 15,
     "metadata": {},
     "output_type": "execute_result"
    }
   ],
   "source": [
    "nv(graph)"
   ]
  },
  {
   "cell_type": "code",
   "execution_count": 9,
   "id": "07cbcf26",
   "metadata": {},
   "outputs": [
    {
     "data": {
      "text/plain": [
       "1"
      ]
     },
     "execution_count": 9,
     "metadata": {},
     "output_type": "execute_result"
    }
   ],
   "source": [
    "add_vertices!(graph, 1)"
   ]
  },
  {
   "cell_type": "code",
   "execution_count": 14,
   "id": "885d4073",
   "metadata": {},
   "outputs": [
    {
     "data": {
      "text/plain": [
       "1"
      ]
     },
     "execution_count": 14,
     "metadata": {},
     "output_type": "execute_result"
    }
   ],
   "source": [
    "initiate_SIS(sis1)"
   ]
  },
  {
   "cell_type": "code",
   "execution_count": 54,
   "id": "b7e01736",
   "metadata": {},
   "outputs": [
    {
     "data": {
      "text/plain": [
       "Vector{Float64}\u001b[90m (alias for \u001b[39m\u001b[90mArray{Float64, 1}\u001b[39m\u001b[90m)\u001b[39m"
      ]
     },
     "execution_count": 54,
     "metadata": {},
     "output_type": "execute_result"
    }
   ],
   "source": [
    "typeof([1.2,2.4])"
   ]
  },
  {
   "cell_type": "code",
   "execution_count": 23,
   "id": "c2df0193",
   "metadata": {},
   "outputs": [
    {
     "data": {
      "text/plain": [
       "19.18"
      ]
     },
     "execution_count": 23,
     "metadata": {},
     "output_type": "execute_result"
    }
   ],
   "source": [
    "using Random\n",
    "using DataStructures\n",
    "\n",
    "count = 0\n",
    "for i in 1:100\n",
    "    v = rand!(zeros(100))\n",
    "    rp = [i < 0.2 for i in v]\n",
    "    count += counter(rp)[1]\n",
    "end\n",
    "count/100"
   ]
  },
  {
   "cell_type": "code",
   "execution_count": 94,
   "id": "ada12dc7",
   "metadata": {},
   "outputs": [
    {
     "data": {
      "text/plain": [
       "0.23333333333333334"
      ]
     },
     "execution_count": 94,
     "metadata": {},
     "output_type": "execute_result"
    }
   ],
   "source": [
    "v = rand!(zeros(150))\n",
    "rp = [i < 0.2 for i in v]\n",
    "counter(rp)[1]/150"
   ]
  },
  {
   "cell_type": "code",
   "execution_count": 34,
   "id": "cdbc6438",
   "metadata": {
    "scrolled": true
   },
   "outputs": [
    {
     "data": {
      "text/plain": [
       "17"
      ]
     },
     "execution_count": 34,
     "metadata": {},
     "output_type": "execute_result"
    }
   ],
   "source": [
    "using DataStructures\n",
    "rp = [i < 0.2 for i in v]\n",
    "counter(rp)[1]"
   ]
  },
  {
   "cell_type": "code",
   "execution_count": 53,
   "id": "b75b6f40",
   "metadata": {},
   "outputs": [
    {
     "data": {
      "text/plain": [
       "502"
      ]
     },
     "execution_count": 53,
     "metadata": {},
     "output_type": "execute_result"
    }
   ],
   "source": [
    "vertices(graph)[502]"
   ]
  },
  {
   "cell_type": "code",
   "execution_count": null,
   "id": "b919b6d3",
   "metadata": {},
   "outputs": [],
   "source": [
    "monte_carlo_SIS()"
   ]
  },
  {
   "cell_type": "code",
   "execution_count": 16,
   "id": "f43d8b8a",
   "metadata": {},
   "outputs": [
    {
     "data": {
      "text/plain": [
       "Float64"
      ]
     },
     "execution_count": 16,
     "metadata": {},
     "output_type": "execute_result"
    }
   ],
   "source": [
    "typeof(1.0)"
   ]
  },
  {
   "cell_type": "code",
   "execution_count": 15,
   "id": "0fce6205",
   "metadata": {},
   "outputs": [
    {
     "data": {
      "text/plain": [
       "(SimpleGraph{Int64}(62203, [[6, 8, 9, 10, 12, 13, 15, 16, 20, 23  …  477, 478, 479, 486, 487, 488, 490, 491, 497, 498], [6, 7, 8, 10, 12, 19, 20, 23, 24, 26  …  478, 481, 485, 486, 487, 491, 492, 494, 495, 499], [4, 6, 7, 9, 11, 12, 14, 16, 18, 20  …  484, 487, 488, 489, 490, 491, 492, 493, 496, 498], [3, 6, 8, 11, 13, 15, 17, 18, 24, 25  …  479, 484, 487, 489, 490, 492, 495, 496, 498, 500], [7, 8, 9, 11, 15, 16, 17, 18, 19, 20  …  487, 488, 490, 491, 492, 493, 496, 497, 498, 500], [1, 2, 3, 4, 7, 11, 13, 14, 15, 16  …  483, 486, 487, 488, 489, 490, 492, 494, 499, 500], [2, 3, 5, 6, 9, 10, 12, 13, 14, 15  …  482, 485, 487, 490, 494, 496, 497, 498, 499, 500], [1, 2, 4, 5, 9, 10, 11, 12, 13, 17  …  484, 485, 486, 489, 492, 493, 495, 497, 498, 499], [1, 3, 5, 7, 8, 10, 11, 14, 16, 18  …  484, 485, 488, 489, 490, 491, 493, 494, 498, 499], [1, 2, 7, 8, 9, 11, 14, 16, 17, 18  …  478, 479, 482, 483, 484, 486, 487, 490, 498, 500]  …  [1, 2, 3, 5, 9, 11, 12, 13, 18, 20  …  482, 484, 485, 487, 488, 490, 492, 493, 497, 500], [2, 3, 4, 5, 6, 8, 12, 13, 15, 18  …  484, 487, 488, 491, 493, 494, 495, 496, 498, 500], [3, 5, 8, 9, 11, 12, 13, 14, 15, 16  …  479, 485, 487, 489, 490, 491, 492, 494, 495, 497], [2, 6, 7, 9, 11, 14, 15, 16, 17, 19  …  481, 482, 483, 484, 489, 492, 493, 496, 499, 500], [2, 4, 8, 11, 12, 16, 17, 18, 19, 20  …  481, 484, 485, 486, 487, 489, 492, 493, 499, 500], [3, 4, 5, 7, 12, 13, 19, 21, 23, 24  …  482, 484, 485, 487, 488, 492, 494, 497, 499, 500], [1, 5, 7, 8, 14, 15, 16, 20, 21, 22  …  481, 483, 485, 486, 488, 491, 493, 496, 498, 499], [1, 3, 4, 5, 7, 8, 9, 10, 11, 12  …  475, 476, 478, 479, 482, 483, 486, 487, 492, 497], [2, 6, 7, 8, 9, 11, 12, 15, 16, 18  …  485, 486, 487, 489, 490, 494, 495, 496, 497, 500], [4, 5, 6, 7, 10, 11, 12, 13, 14, 16  …  484, 486, 488, 489, 491, 492, 494, 495, 496, 499]]), Dict((262, 419) => 1.0, (243, 313) => 1.0, (416, 469) => 1.0, (308, 347) => 1.0, (12, 418) => 1.0, (75, 444) => 1.0, (60, 171) => 1.0, (225, 288) => 1.0, (25, 73) => 1.0, (306, 456) => 1.0…), Dict{Int64, AbstractString}(56 => \"55\", 35 => \"34\", 425 => \"424\", 429 => \"428\", 60 => \"59\", 220 => \"219\", 308 => \"307\", 67 => \"66\", 215 => \"214\", 73 => \"72\"…))"
      ]
     },
     "execution_count": 15,
     "metadata": {},
     "output_type": "execute_result"
    }
   ],
   "source": [
    "graph, edge_weights, vertex_labels  = NetworkProcessing.read_network(\"NatNets/ER_500_05.net\")"
   ]
  },
  {
   "cell_type": "code",
   "execution_count": 33,
   "id": "d39a9622",
   "metadata": {},
   "outputs": [
    {
     "name": "stdout",
     "output_type": "stream",
     "text": [
      "0.1880.9020.2060.8940.2240.8860.1960.9180.1980.9120.1720.9260.2180.8880.1740.9040.1860.920.210.876Any[0.6670878754171308, 0.6670255839822028, 0.6672502780867636, 0.666271412680757, 0.6676551724137936, 0.6667208008898777, 0.6673904338153509, 0.6663270300333701, 0.6668164627363737, 0.6665695216907688]"
     ]
    },
    {
     "data": {
      "text/plain": [
       "0.6669114571746388"
      ]
     },
     "execution_count": 33,
     "metadata": {},
     "output_type": "execute_result"
    }
   ],
   "source": [
    "initParams = Dict(\"graph\"=>graph,\"μ\"=>0.5, \"β\"=>0.1, \"p0\"=>0.2)\n",
    "monte_carlo(10, 1000, 900, initParams)"
   ]
  }
 ],
 "metadata": {
  "kernelspec": {
   "display_name": "Julia CN 1.10.3",
   "language": "julia",
   "name": "julia-cn-1.10"
  },
  "language_info": {
   "file_extension": ".jl",
   "mimetype": "application/julia",
   "name": "julia",
   "version": "1.10.3"
  }
 },
 "nbformat": 4,
 "nbformat_minor": 5
}
