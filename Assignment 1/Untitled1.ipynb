{
 "cells": [
  {
   "cell_type": "code",
   "execution_count": 18,
   "id": "76317826",
   "metadata": {},
   "outputs": [
    {
     "data": {
      "text/plain": [
       "1.5555555555555556"
      ]
     },
     "execution_count": 18,
     "metadata": {},
     "output_type": "execute_result"
    }
   ],
   "source": [
    "import networkx as nx\n",
    "G = nx.read_pajek(\"A1-networks/toy/wheel.net\")\n",
    "G = nx.Graph(G)\n",
    "# nx.average_clustering(G)\n",
    "nx.average_shortest_path_length(G)"
   ]
  },
  {
   "cell_type": "code",
   "execution_count": 3,
   "id": "b7d7bdf8",
   "metadata": {},
   "outputs": [
    {
     "data": {
      "text/plain": [
       "<9x9 sparse array of type '<class 'numpy.float64'>'\n",
       "\twith 32 stored elements in Compressed Sparse Row format>"
      ]
     },
     "execution_count": 3,
     "metadata": {},
     "output_type": "execute_result"
    }
   ],
   "source": [
    "nx.adjacency_matrix(G)"
   ]
  },
  {
   "cell_type": "code",
   "execution_count": 11,
   "id": "4ae8500e",
   "metadata": {},
   "outputs": [],
   "source": [
    "A = nx.adjacency_matrix(G)\n",
    "# print(A.todense())\n",
    "\n",
    "# A.setdiag(A.diagonal() * 2)\n",
    "# print(A.todense())\n"
   ]
  },
  {
   "cell_type": "code",
   "execution_count": 15,
   "id": "dcb45ee8",
   "metadata": {},
   "outputs": [
    {
     "data": {
      "text/plain": [
       "32.0"
      ]
     },
     "execution_count": 15,
     "metadata": {},
     "output_type": "execute_result"
    }
   ],
   "source": [
    "sum(sum(A.todense()))"
   ]
  },
  {
   "cell_type": "code",
   "execution_count": 19,
   "id": "c65dbf4a",
   "metadata": {},
   "outputs": [
    {
     "data": {
      "text/plain": [
       "{'1': 0.5714285714285714,\n",
       " '2': 0.017857142857142856,\n",
       " '3': 0.017857142857142856,\n",
       " '4': 0.017857142857142856,\n",
       " '5': 0.017857142857142856,\n",
       " '6': 0.017857142857142856,\n",
       " '7': 0.017857142857142856,\n",
       " '8': 0.017857142857142856,\n",
       " '9': 0.017857142857142856}"
      ]
     },
     "execution_count": 19,
     "metadata": {},
     "output_type": "execute_result"
    }
   ],
   "source": [
    "nx.betweenness_centrality(G)"
   ]
  },
  {
   "cell_type": "code",
   "execution_count": 20,
   "id": "4633de0b",
   "metadata": {},
   "outputs": [
    {
     "data": {
      "text/plain": [
       "{'1': 0.2337658248235892,\n",
       " '2': 0.09577927189705132,\n",
       " '3': 0.09577927189705132,\n",
       " '4': 0.09577927189705132,\n",
       " '5': 0.09577927189705132,\n",
       " '6': 0.09577927189705132,\n",
       " '7': 0.09577927189705132,\n",
       " '8': 0.09577927189705132,\n",
       " '9': 0.09577927189705132}"
      ]
     },
     "execution_count": 20,
     "metadata": {},
     "output_type": "execute_result"
    }
   ],
   "source": [
    "nx.pagerank(G)"
   ]
  }
 ],
 "metadata": {
  "kernelspec": {
   "display_name": "Python 3 (ipykernel)",
   "language": "python",
   "name": "python3"
  },
  "language_info": {
   "codemirror_mode": {
    "name": "ipython",
    "version": 3
   },
   "file_extension": ".py",
   "mimetype": "text/x-python",
   "name": "python",
   "nbconvert_exporter": "python",
   "pygments_lexer": "ipython3",
   "version": "3.9.12"
  }
 },
 "nbformat": 4,
 "nbformat_minor": 5
}
