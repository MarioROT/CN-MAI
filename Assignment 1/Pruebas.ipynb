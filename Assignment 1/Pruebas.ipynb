{
 "cells": [
  {
   "cell_type": "code",
   "execution_count": 27,
   "id": "68b34d41",
   "metadata": {},
   "outputs": [],
   "source": [
    "using Graphs, Graphs.Experimental.ShortestPaths\n",
    "using GraphIO"
   ]
  },
  {
   "cell_type": "code",
   "execution_count": 28,
   "id": "eda616da",
   "metadata": {},
   "outputs": [
    {
     "data": {
      "text/plain": [
       "{9, 16} undirected simple Int64 graph"
      ]
     },
     "execution_count": 28,
     "metadata": {},
     "output_type": "execute_result"
    }
   ],
   "source": [
    "using GraphIO.NET\n",
    "using Statistics\n",
    "using DataFrames\n",
    "\n",
    "file_path = \"A1-networks/toy/wheel.net\"\n",
    "graph = loadgraph(file_path, \"graph_key\", NETFormat())"
   ]
  },
  {
   "cell_type": "code",
   "execution_count": 29,
   "id": "0077ed21",
   "metadata": {},
   "outputs": [
    {
     "data": {
      "text/plain": [
       "read_weighted_net (generic function with 1 method)"
      ]
     },
     "execution_count": 29,
     "metadata": {},
     "output_type": "execute_result"
    }
   ],
   "source": [
    "function read_weighted_net(file_path)\n",
    "    graph = loadgraph(file_path, \"graph_key\", NETFormat())\n",
    "    \n",
    "    edge_weights = Dict{Tuple{Int,Int}, Float64}()\n",
    "    open(file_path, \"r\") do file\n",
    "        reading_edges = false\n",
    "        for line in eachline(file)\n",
    "            if occursin(\"*Edges\", line)\n",
    "                reading_edges = true\n",
    "            elseif reading_edges\n",
    "                edge_data = split(line)\n",
    "                if length(edge_data) >= 3\n",
    "                    src, dst, weight = parse(Int, edge_data[1]), parse(Int, edge_data[2]), parse(Float64, edge_data[3])\n",
    "                    edge_weights[(src, dst)] = weight\n",
    "                    # Assuming you add edges to your graph here\n",
    "                    add_edge!(graph, src, dst)  # Add the edge to the graph if not already added\n",
    "                end\n",
    "            end\n",
    "        end\n",
    "    end\n",
    "    return graph, edge_weights\n",
    "end"
   ]
  },
  {
   "cell_type": "code",
   "execution_count": 30,
   "id": "7bf25fcb",
   "metadata": {},
   "outputs": [
    {
     "data": {
      "text/plain": [
       "(SimpleGraph{Int64}(16, [[2, 3, 4, 5, 6, 7, 8, 9], [1, 3, 9], [1, 2, 4], [1, 3, 5], [1, 4, 6], [1, 5, 7], [1, 6, 8], [1, 7, 9], [1, 2, 8]]), Dict((4, 5) => 1.0, (1, 2) => 1.0, (1, 3) => 1.0, (1, 4) => 1.0, (9, 2) => 1.0, (7, 8) => 1.0, (8, 9) => 1.0, (1, 9) => 1.0, (3, 4) => 1.0, (5, 6) => 1.0…))"
      ]
     },
     "execution_count": 30,
     "metadata": {},
     "output_type": "execute_result"
    }
   ],
   "source": [
    "graph, edge_weights = read_weighted_net(\"A1-networks/toy/wheel.net\")"
   ]
  },
  {
   "cell_type": "code",
   "execution_count": 44,
   "id": "ee498538",
   "metadata": {},
   "outputs": [
    {
     "data": {
      "text/plain": [
       "network_num_descriptors (generic function with 2 methods)"
      ]
     },
     "execution_count": 44,
     "metadata": {},
     "output_type": "execute_result"
    }
   ],
   "source": [
    "function network_num_descriptors(graph, verbose = true)\n",
    "    # Number of nodes and edges\n",
    "    num_nodes = nv(graph)\n",
    "    num_edges = ne(graph)\n",
    "\n",
    "    # Degrees\n",
    "    degrees = degree(graph)\n",
    "    min_degree = minimum(degrees)\n",
    "    max_degree = maximum(degrees)\n",
    "    avg_degree = mean(degrees)\n",
    "\n",
    "    # Average clustering coefficient \n",
    "    avg_clustering_coefficient = sum(local_clustering_coefficient(graph, vertices(graph)))/nv(graph)\n",
    "\n",
    "    # Assortativity \n",
    "    assort = assortativity(graph)\n",
    "\n",
    "    # Average path length and Diameter\n",
    "    # For a large graph, this might be computationally expensive\n",
    "    avg_path_length = sum(shortest_paths(graph).dists)/(num_nodes*(num_nodes-1))\n",
    "    diam = Graphs.diameter(graph)  # Same adjustment as above\n",
    "    \n",
    "    if verbose\n",
    "        # Printing the results\n",
    "        println(\"Number of nodes: $num_nodes\")\n",
    "        println(\"Number of edges: $num_edges\")\n",
    "        println(\"Degree -- Min: $min_degree, Max: $max_degree, Avg: $avg_degree\")\n",
    "        println(\"Average Clustering Coefficient: $avg_clustering_coefficient\")\n",
    "        println(\"Assortativity: $assort\")\n",
    "        println(\"Average Path Length: $avg_path_length\")\n",
    "        println(\"Diameter: $diam\")\n",
    "    end\n",
    "    \n",
    "    return [isa(i, AbstractFloat) ? round(i, digits=4) : i for i in [num_nodes, num_edges, min_degree, max_degree, avg_degree, avg_clustering_coefficient, assort, avg_path_length, diam]]\n",
    "end"
   ]
  },
  {
   "cell_type": "code",
   "execution_count": 46,
   "id": "a95b15cc",
   "metadata": {},
   "outputs": [
    {
     "name": "stdout",
     "output_type": "stream",
     "text": [
      "Number of nodes: 9\n",
      "Number of edges: 16\n",
      "Degree -- Min: 3, Max: 8, Avg: 3.5555555555555554\n",
      "Average Clustering Coefficient: 0.6243386243386244\n",
      "Assortativity: -0.3333333333333333\n",
      "Average Path Length: 1.5555555555555556\n",
      "Diameter: 2\n"
     ]
    },
    {
     "data": {
      "text/plain": [
       "9-element Vector{Float64}:\n",
       "  9.0\n",
       " 16.0\n",
       "  3.0\n",
       "  8.0\n",
       "  3.5556\n",
       "  0.6243\n",
       " -0.3333\n",
       "  1.5556\n",
       "  2.0"
      ]
     },
     "execution_count": 46,
     "metadata": {},
     "output_type": "execute_result"
    }
   ],
   "source": [
    "network_num_descriptors(graph)"
   ]
  },
  {
   "cell_type": "code",
   "execution_count": 13,
   "id": "dbd3d3e8",
   "metadata": {},
   "outputs": [
    {
     "data": {
      "text/plain": [
       "construct_df (generic function with 2 methods)"
      ]
     },
     "execution_count": 13,
     "metadata": {},
     "output_type": "execute_result"
    }
   ],
   "source": [
    "function construct_df(data_dict, col_names = [])\n",
    "    # Initialize an empty DataFrame with appropriate column names\n",
    "    if isempty(col_names)\n",
    "        col_names = [\"Col$(i)\" for i in 1:length(first(values(data_dict)))]\n",
    "    end\n",
    "    \n",
    "    col_names_with_key = [\"Index\"; col_names]\n",
    "    \n",
    "    # Initialize an empty DataFrame with the updated column names\n",
    "    df = DataFrame(; (Symbol(col_name) => Any[] for col_name in col_names_with_key)...)\n",
    "    \n",
    "    # Sort the dictionary by keys to maintain the order\n",
    "    sorted_keys = sort(collect(keys(data_dict)))\n",
    "\n",
    "    # Populate the DataFrame, including the key as the first column in each row\n",
    "    for key in sorted_keys\n",
    "        row_data = [key; data_dict[key]]\n",
    "        push!(df, row_data)\n",
    "    end\n",
    "    \n",
    "    return df\n",
    "end"
   ]
  },
  {
   "cell_type": "code",
   "execution_count": 36,
   "id": "31db1b72",
   "metadata": {},
   "outputs": [
    {
     "data": {
      "text/plain": [
       "compute_strength (generic function with 2 methods)"
      ]
     },
     "execution_count": 36,
     "metadata": {},
     "output_type": "execute_result"
    }
   ],
   "source": [
    "function compute_strength(edge_weights, mode=\"undirected\")\n",
    "    weights_count = Dict{Int, AbstractFloat}()\n",
    "    if mode == \"undirected\"\n",
    "        for (key,value) in edge_weights\n",
    "            for v in key\n",
    "                if haskey(weights_count, v)\n",
    "                    weights_count[v] += value\n",
    "                else\n",
    "                    weights_count[v] = value\n",
    "                end\n",
    "            end\n",
    "        end\n",
    "    elseif mode == \"directed\"\n",
    "        for (key,value) in edge_weights\n",
    "            v = key[1]\n",
    "            if haskey(weights_count, v)\n",
    "                weights_count[v] += value\n",
    "            else\n",
    "                weights_count[v] = value\n",
    "            end\n",
    "        end\n",
    "    end\n",
    "    return weights_count\n",
    "end"
   ]
  },
  {
   "cell_type": "code",
   "execution_count": 4,
   "id": "989d3f1a",
   "metadata": {},
   "outputs": [
    {
     "data": {
      "text/plain": [
       "nodes_num_descriptors (generic function with 1 method)"
      ]
     },
     "execution_count": 4,
     "metadata": {},
     "output_type": "execute_result"
    }
   ],
   "source": [
    "function nodes_num_descriptors(graph, edge_weights, verbose = false)\n",
    "    num_nodes = nv(graph)\n",
    "    node_descriptors = Dict{Int, Vector}()\n",
    "    degrees = degree(graph)\n",
    "    strenghts = compute_strength(edge_weights)\n",
    "    aspls = shortest_paths(graph).dists\n",
    "    lspls = maximum(collect(adjacency_matrix(graph)); dims = 2)\n",
    "    b_centralities = betweenness_centrality(graph) \n",
    "    e_centralities = eigenvector_centrality(graph)\n",
    "    pageranks = pagerank(graph)\n",
    "    for i in vertices(graph)\n",
    "        deg = degrees[i]\n",
    "        stren = strenghts[i]\n",
    "        aspl = sum(aspls[i,:])/(num_nodes-1)\n",
    "        lspl = lspls[i]\n",
    "        cl_cf = local_clustering_coefficient(graph, i)\n",
    "        bc = b_centralities[i] \n",
    "        ec = e_centralities[i]\n",
    "        pr = pageranks[i]\n",
    "        \n",
    "        node_descriptors[i] = [deg,stren, aspl, lspl, cl_cf, bc, ec, pr]\n",
    "    end\n",
    "    \n",
    "    df_nodes_descriptors = construct_df(node_descriptors, [\"Degree\", \"Strength\", \"ASPL\", \"LSPL\", \"Clust Coeff\", \"Betweeness\", \"Eigenvector\", \"PageRank\"])\n",
    "    \n",
    "    if verbose\n",
    "        println(df_nodes_descriptors)\n",
    "    end\n",
    "    \n",
    "    return df_modes_descriptors\n",
    "end"
   ]
  },
  {
   "cell_type": "code",
   "execution_count": 176,
   "id": "612b8d15",
   "metadata": {
    "scrolled": true
   },
   "outputs": [
    {
     "name": "stdout",
     "output_type": "stream",
     "text": [
      "\u001b[1m9×8 DataFrame\u001b[0m\n",
      "\u001b[1m Row \u001b[0m│\u001b[1m Degree  \u001b[0m\u001b[1m Strength \u001b[0m\u001b[1m ASPL    \u001b[0m\u001b[1m LSPL    \u001b[0m\u001b[1m Clust Coeff \u001b[0m\u001b[1m Betweeness \u001b[0m\u001b[1m Eigenvector \u001b[0m\u001b[1m PageRank  \u001b[0m\n",
      "     │\u001b[90m Float64 \u001b[0m\u001b[90m Float64  \u001b[0m\u001b[90m Float64 \u001b[0m\u001b[90m Float64 \u001b[0m\u001b[90m Float64     \u001b[0m\u001b[90m Float64    \u001b[0m\u001b[90m Float64     \u001b[0m\u001b[90m Float64   \u001b[0m\n",
      "─────┼──────────────────────────────────────────────────────────────────────────────────────\n",
      "   1 │     8.0       8.0    1.0        1.0     0.285714   0.571429      0.57735   0.233766\n",
      "   2 │     3.0       3.0    1.625      1.0     0.666667   0.0178571     0.288675  0.0957793\n",
      "   3 │     3.0       3.0    1.625      1.0     0.666667   0.0178571     0.288675  0.0957793\n",
      "   4 │     3.0       3.0    1.625      1.0     0.666667   0.0178571     0.288675  0.0957793\n",
      "   5 │     3.0       3.0    1.625      1.0     0.666667   0.0178571     0.288675  0.0957793\n",
      "   6 │     3.0       3.0    1.625      1.0     0.666667   0.0178571     0.288675  0.0957793\n",
      "   7 │     3.0       3.0    1.625      1.0     0.666667   0.0178571     0.288675  0.0957793\n",
      "   8 │     3.0       3.0    1.625      1.0     0.666667   0.0178571     0.288675  0.0957793\n",
      "   9 │     3.0       3.0    1.625      1.0     0.666667   0.0178571     0.288675  0.0957793\n"
     ]
    }
   ],
   "source": [
    "nodes_num_descriptors(graph)"
   ]
  },
  {
   "cell_type": "markdown",
   "id": "81eaa025",
   "metadata": {},
   "source": [
    "## Final Tests"
   ]
  },
  {
   "cell_type": "code",
   "execution_count": 1,
   "id": "93e8bba8",
   "metadata": {},
   "outputs": [
    {
     "data": {
      "text/plain": [
       "Main.NetworkProcessing"
      ]
     },
     "execution_count": 1,
     "metadata": {},
     "output_type": "execute_result"
    }
   ],
   "source": [
    "include(\"NetworkProcessing.jl\")"
   ]
  },
  {
   "cell_type": "code",
   "execution_count": 2,
   "id": "2cbac4d7",
   "metadata": {},
   "outputs": [
    {
     "name": "stdout",
     "output_type": "stream",
     "text": [
      "Number of nodes: 3618\n",
      "Number of edges: 14142\n",
      "Degree -- Min: 1, Max: 250, Avg: 7.817578772802653\n",
      "Average Clustering Coefficient: 0.4957489312349576\n",
      "Assortativity: 0.04622413053190826\n",
      "Average Path Length: 4.439594641910406\n",
      "Diameter: 17\n"
     ]
    },
    {
     "data": {
      "text/plain": [
       "9-element Vector{Float64}:\n",
       "  3618.0\n",
       " 14142.0\n",
       "     1.0\n",
       "   250.0\n",
       "     7.8176\n",
       "     0.4957\n",
       "     0.0462\n",
       "     4.4396\n",
       "    17.0"
      ]
     },
     "execution_count": 2,
     "metadata": {},
     "output_type": "execute_result"
    }
   ],
   "source": [
    "graph, edge_weights = NetworkProcessing.read_network(\"A1-networks/real/airports_UW.net\")\n",
    "NetworkProcessing.network_num_descriptors(graph)"
   ]
  },
  {
   "cell_type": "code",
   "execution_count": 17,
   "id": "34a590b4",
   "metadata": {
    "scrolled": true
   },
   "outputs": [
    {
     "name": "stdout",
     "output_type": "stream",
     "text": [
      "\u001b[1m9×9 DataFrame\u001b[0m\n",
      "\u001b[1m Row \u001b[0m│\u001b[1m Index \u001b[0m\u001b[1m Degree \u001b[0m\u001b[1m Strength \u001b[0m\u001b[1m ASPL  \u001b[0m\u001b[1m LSPL \u001b[0m\u001b[1m Clust Coeff \u001b[0m\u001b[1m Betweeness \u001b[0m\u001b[1m Eigenvector \u001b[0m\u001b[1m PageRank  \u001b[0m\n",
      "     │\u001b[90m Any   \u001b[0m\u001b[90m Any    \u001b[0m\u001b[90m Any      \u001b[0m\u001b[90m Any   \u001b[0m\u001b[90m Any  \u001b[0m\u001b[90m Any         \u001b[0m\u001b[90m Any        \u001b[0m\u001b[90m Any         \u001b[0m\u001b[90m Any       \u001b[0m\n",
      "─────┼───────────────────────────────────────────────────────────────────────────────────────\n",
      "   1 │ 1.0    8.0     8.0       1.0    1.0   0.285714     0.571429    0.57735      0.233766\n",
      "   2 │ 2.0    3.0     3.0       1.625  1.0   0.666667     0.0178571   0.288675     0.0957793\n",
      "   3 │ 3.0    3.0     3.0       1.625  1.0   0.666667     0.0178571   0.288675     0.0957793\n",
      "   4 │ 4.0    3.0     3.0       1.625  1.0   0.666667     0.0178571   0.288675     0.0957793\n",
      "   5 │ 5.0    3.0     3.0       1.625  1.0   0.666667     0.0178571   0.288675     0.0957793\n",
      "   6 │ 6.0    3.0     3.0       1.625  1.0   0.666667     0.0178571   0.288675     0.0957793\n",
      "   7 │ 7.0    3.0     3.0       1.625  1.0   0.666667     0.0178571   0.288675     0.0957793\n",
      "   8 │ 8.0    3.0     3.0       1.625  1.0   0.666667     0.0178571   0.288675     0.0957793\n",
      "   9 │ 9.0    3.0     3.0       1.625  1.0   0.666667     0.0178571   0.288675     0.0957793\n"
     ]
    }
   ],
   "source": [
    "NetworkProcessing.nodes_num_descriptors(graph, edge_weights)"
   ]
  },
  {
   "cell_type": "code",
   "execution_count": 18,
   "id": "7d6b701d",
   "metadata": {},
   "outputs": [],
   "source": [
    "using CSV\n",
    "\n",
    "net_descriptors = Dict{String, Vector}()\n",
    "for dir in readdir(\"A1-Networks\")\n",
    "    for file in readdir(\"A1-networks/$dir\")\n",
    "        graph, edge_weights = NetworkProcessing.read_weighted_net(\"A1-networks/$dir/$file\")\n",
    "       net_descriptors[file] = NetworkProcessing.network_num_descriptors(graph, false)\n",
    "    end\n",
    "end"
   ]
  },
  {
   "cell_type": "code",
   "execution_count": 19,
   "id": "7f71b1f3",
   "metadata": {},
   "outputs": [
    {
     "data": {
      "text/html": [
       "<div><div style = \"float: left;\"><span>26×10 DataFrame</span></div><div style = \"clear: both;\"></div></div><div class = \"data-frame\" style = \"overflow-x: scroll;\"><table class = \"data-frame\" style = \"margin-bottom: 6px;\"><thead><tr class = \"header\"><th class = \"rowNumber\" style = \"font-weight: bold; text-align: right;\">Row</th><th style = \"text-align: left;\">Index</th><th style = \"text-align: left;\"># Nodes</th><th style = \"text-align: left;\"># Edged</th><th style = \"text-align: left;\">Degree (min)</th><th style = \"text-align: left;\">Degree (max)</th><th style = \"text-align: left;\">Degree (avg)</th><th style = \"text-align: left;\">ACC</th><th style = \"text-align: left;\">Assort.</th><th style = \"text-align: left;\">APL</th><th style = \"text-align: left;\">Diameter</th></tr><tr class = \"subheader headerLastRow\"><th class = \"rowNumber\" style = \"font-weight: bold; text-align: right;\"></th><th title = \"Any\" style = \"text-align: left;\">Any</th><th title = \"Any\" style = \"text-align: left;\">Any</th><th title = \"Any\" style = \"text-align: left;\">Any</th><th title = \"Any\" style = \"text-align: left;\">Any</th><th title = \"Any\" style = \"text-align: left;\">Any</th><th title = \"Any\" style = \"text-align: left;\">Any</th><th title = \"Any\" style = \"text-align: left;\">Any</th><th title = \"Any\" style = \"text-align: left;\">Any</th><th title = \"Any\" style = \"text-align: left;\">Any</th><th title = \"Any\" style = \"text-align: left;\">Any</th></tr></thead><tbody><tr><td class = \"rowNumber\" style = \"font-weight: bold; text-align: right;\">1</td><td style = \"text-align: left;\">20x2+5x2.net</td><td style = \"text-align: left;\">50.0</td><td style = \"text-align: left;\">404.0</td><td style = \"text-align: left;\">4.0</td><td style = \"text-align: left;\">22.0</td><td style = \"text-align: left;\">16.16</td><td style = \"text-align: left;\">0.9716</td><td style = \"text-align: left;\">0.9186</td><td style = \"text-align: left;\">2.3878</td><td style = \"text-align: left;\">4.0</td></tr><tr><td class = \"rowNumber\" style = \"font-weight: bold; text-align: right;\">2</td><td style = \"text-align: left;\">256_4_4_2_15_18_p.net</td><td style = \"text-align: left;\">256.0</td><td style = \"text-align: left;\">2274.0</td><td style = \"text-align: left;\">15.0</td><td style = \"text-align: left;\">23.0</td><td style = \"text-align: left;\">17.7656</td><td style = \"text-align: left;\">0.7331</td><td style = \"text-align: left;\">0.0286</td><td style = \"text-align: left;\">2.7821</td><td style = \"text-align: left;\">5.0</td></tr><tr><td class = \"rowNumber\" style = \"font-weight: bold; text-align: right;\">3</td><td style = \"text-align: left;\">256_4_4_4_13_18_p.net</td><td style = \"text-align: left;\">256.0</td><td style = \"text-align: left;\">2299.0</td><td style = \"text-align: left;\">10.0</td><td style = \"text-align: left;\">25.0</td><td style = \"text-align: left;\">17.9609</td><td style = \"text-align: left;\">0.5113</td><td style = \"text-align: left;\">0.0007</td><td style = \"text-align: left;\">2.6511</td><td style = \"text-align: left;\">4.0</td></tr><tr><td class = \"rowNumber\" style = \"font-weight: bold; text-align: right;\">4</td><td style = \"text-align: left;\">BA1000.net</td><td style = \"text-align: left;\">1000.0</td><td style = \"text-align: left;\">3990.0</td><td style = \"text-align: left;\">4.0</td><td style = \"text-align: left;\">115.0</td><td style = \"text-align: left;\">7.98</td><td style = \"text-align: left;\">0.0354</td><td style = \"text-align: left;\">-0.0542</td><td style = \"text-align: left;\">3.1833</td><td style = \"text-align: left;\">5.0</td></tr><tr><td class = \"rowNumber\" style = \"font-weight: bold; text-align: right;\">5</td><td style = \"text-align: left;\">ER1000k8.net</td><td style = \"text-align: left;\">1000.0</td><td style = \"text-align: left;\">3956.0</td><td style = \"text-align: left;\">1.0</td><td style = \"text-align: left;\">17.0</td><td style = \"text-align: left;\">7.912</td><td style = \"text-align: left;\">0.008</td><td style = \"text-align: left;\">-0.0168</td><td style = \"text-align: left;\">3.5698</td><td style = \"text-align: left;\">6.0</td></tr><tr><td class = \"rowNumber\" style = \"font-weight: bold; text-align: right;\">6</td><td style = \"text-align: left;\">ER5000k8.net</td><td style = \"text-align: left;\">5000.0</td><td style = \"text-align: left;\">19980.0</td><td style = \"text-align: left;\">4.0</td><td style = \"text-align: left;\">17.0</td><td style = \"text-align: left;\">7.9918</td><td style = \"text-align: left;\">0.0014</td><td style = \"text-align: left;\">-0.0555</td><td style = \"text-align: left;\">4.3797</td><td style = \"text-align: left;\">6.0</td></tr><tr><td class = \"rowNumber\" style = \"font-weight: bold; text-align: right;\">7</td><td style = \"text-align: left;\">PGP.net</td><td style = \"text-align: left;\">10680.0</td><td style = \"text-align: left;\">24316.0</td><td style = \"text-align: left;\">1.0</td><td style = \"text-align: left;\">205.0</td><td style = \"text-align: left;\">4.5536</td><td style = \"text-align: left;\">0.2659</td><td style = \"text-align: left;\">0.2382</td><td style = \"text-align: left;\">7.4855</td><td style = \"text-align: left;\">24.0</td></tr><tr><td class = \"rowNumber\" style = \"font-weight: bold; text-align: right;\">8</td><td style = \"text-align: left;\">SF_1000_g2.5.net</td><td style = \"text-align: left;\">1000.0</td><td style = \"text-align: left;\">1905.0</td><td style = \"text-align: left;\">2.0</td><td style = \"text-align: left;\">30.0</td><td style = \"text-align: left;\">3.81</td><td style = \"text-align: left;\">0.0096</td><td style = \"text-align: left;\">0.02</td><td style = \"text-align: left;\">4.6149</td><td style = \"text-align: left;\">10.0</td></tr><tr><td class = \"rowNumber\" style = \"font-weight: bold; text-align: right;\">9</td><td style = \"text-align: left;\">SF_1000_g2.7.net</td><td style = \"text-align: left;\">1000.0</td><td style = \"text-align: left;\">1668.0</td><td style = \"text-align: left;\">2.0</td><td style = \"text-align: left;\">24.0</td><td style = \"text-align: left;\">3.336</td><td style = \"text-align: left;\">0.0067</td><td style = \"text-align: left;\">-0.002</td><td style = \"text-align: left;\">5.4688</td><td style = \"text-align: left;\">12.0</td></tr><tr><td class = \"rowNumber\" style = \"font-weight: bold; text-align: right;\">10</td><td style = \"text-align: left;\">SF_1000_g3.0.net</td><td style = \"text-align: left;\">1000.0</td><td style = \"text-align: left;\">1517.0</td><td style = \"text-align: left;\">2.0</td><td style = \"text-align: left;\">26.0</td><td style = \"text-align: left;\">3.034</td><td style = \"text-align: left;\">0.0052</td><td style = \"text-align: left;\">-0.0085</td><td style = \"text-align: left;\">5.9651</td><td style = \"text-align: left;\">13.0</td></tr><tr><td class = \"rowNumber\" style = \"font-weight: bold; text-align: right;\">11</td><td style = \"text-align: left;\">SF_500_g2.7.net</td><td style = \"text-align: left;\">500.0</td><td style = \"text-align: left;\">859.0</td><td style = \"text-align: left;\">2.0</td><td style = \"text-align: left;\">22.0</td><td style = \"text-align: left;\">3.436</td><td style = \"text-align: left;\">0.0078</td><td style = \"text-align: left;\">-0.0256</td><td style = \"text-align: left;\">4.8759</td><td style = \"text-align: left;\">12.0</td></tr><tr><td class = \"rowNumber\" style = \"font-weight: bold; text-align: right;\">12</td><td style = \"text-align: left;\">airports_UW.net</td><td style = \"text-align: left;\">3618.0</td><td style = \"text-align: left;\">14142.0</td><td style = \"text-align: left;\">1.0</td><td style = \"text-align: left;\">250.0</td><td style = \"text-align: left;\">7.8176</td><td style = \"text-align: left;\">0.4957</td><td style = \"text-align: left;\">0.0462</td><td style = \"text-align: left;\">4.4396</td><td style = \"text-align: left;\">17.0</td></tr><tr><td class = \"rowNumber\" style = \"font-weight: bold; text-align: right;\">13</td><td style = \"text-align: left;\">circle9.net</td><td style = \"text-align: left;\">9.0</td><td style = \"text-align: left;\">9.0</td><td style = \"text-align: left;\">2.0</td><td style = \"text-align: left;\">2.0</td><td style = \"text-align: left;\">2.0</td><td style = \"text-align: left;\">0.0</td><td style = \"text-align: left;\">NaN</td><td style = \"text-align: left;\">2.5</td><td style = \"text-align: left;\">4.0</td></tr><tr><td class = \"rowNumber\" style = \"font-weight: bold; text-align: right;\">14</td><td style = \"text-align: left;\">dolphins.net</td><td style = \"text-align: left;\">62.0</td><td style = \"text-align: left;\">159.0</td><td style = \"text-align: left;\">1.0</td><td style = \"text-align: left;\">12.0</td><td style = \"text-align: left;\">5.129</td><td style = \"text-align: left;\">0.259</td><td style = \"text-align: left;\">-0.0436</td><td style = \"text-align: left;\">3.357</td><td style = \"text-align: left;\">8.0</td></tr><tr><td class = \"rowNumber\" style = \"font-weight: bold; text-align: right;\">15</td><td style = \"text-align: left;\">graph3+1+3.net</td><td style = \"text-align: left;\">7.0</td><td style = \"text-align: left;\">8.0</td><td style = \"text-align: left;\">2.0</td><td style = \"text-align: left;\">3.0</td><td style = \"text-align: left;\">2.2857</td><td style = \"text-align: left;\">0.6667</td><td style = \"text-align: left;\">-0.6</td><td style = \"text-align: left;\">2.1905</td><td style = \"text-align: left;\">4.0</td></tr><tr><td class = \"rowNumber\" style = \"font-weight: bold; text-align: right;\">16</td><td style = \"text-align: left;\">graph4+4.net</td><td style = \"text-align: left;\">8.0</td><td style = \"text-align: left;\">13.0</td><td style = \"text-align: left;\">3.0</td><td style = \"text-align: left;\">4.0</td><td style = \"text-align: left;\">3.25</td><td style = \"text-align: left;\">0.875</td><td style = \"text-align: left;\">-0.0833</td><td style = \"text-align: left;\">1.8571</td><td style = \"text-align: left;\">3.0</td></tr><tr><td class = \"rowNumber\" style = \"font-weight: bold; text-align: right;\">17</td><td style = \"text-align: left;\">grid-p-6x6.net</td><td style = \"text-align: left;\">36.0</td><td style = \"text-align: left;\">72.0</td><td style = \"text-align: left;\">4.0</td><td style = \"text-align: left;\">4.0</td><td style = \"text-align: left;\">4.0</td><td style = \"text-align: left;\">0.0</td><td style = \"text-align: left;\">NaN</td><td style = \"text-align: left;\">3.0857</td><td style = \"text-align: left;\">6.0</td></tr><tr><td class = \"rowNumber\" style = \"font-weight: bold; text-align: right;\">18</td><td style = \"text-align: left;\">homorand_N1000_K4_0.net</td><td style = \"text-align: left;\">1000.0</td><td style = \"text-align: left;\">2000.0</td><td style = \"text-align: left;\">4.0</td><td style = \"text-align: left;\">4.0</td><td style = \"text-align: left;\">4.0</td><td style = \"text-align: left;\">0.002</td><td style = \"text-align: left;\">NaN</td><td style = \"text-align: left;\">5.64</td><td style = \"text-align: left;\">9.0</td></tr><tr><td class = \"rowNumber\" style = \"font-weight: bold; text-align: right;\">19</td><td style = \"text-align: left;\">homorand_N1000_K6_0.net</td><td style = \"text-align: left;\">1000.0</td><td style = \"text-align: left;\">2994.0</td><td style = \"text-align: left;\">5.0</td><td style = \"text-align: left;\">6.0</td><td style = \"text-align: left;\">5.988</td><td style = \"text-align: left;\">0.0038</td><td style = \"text-align: left;\">0.1919</td><td style = \"text-align: left;\">4.1913</td><td style = \"text-align: left;\">6.0</td></tr><tr><td class = \"rowNumber\" style = \"font-weight: bold; text-align: right;\">20</td><td style = \"text-align: left;\">rb125.net</td><td style = \"text-align: left;\">125.0</td><td style = \"text-align: left;\">410.0</td><td style = \"text-align: left;\">4.0</td><td style = \"text-align: left;\">100.0</td><td style = \"text-align: left;\">6.56</td><td style = \"text-align: left;\">0.8373</td><td style = \"text-align: left;\">-0.173</td><td style = \"text-align: left;\">2.3032</td><td style = \"text-align: left;\">4.0</td></tr><tr><td class = \"rowNumber\" style = \"font-weight: bold; text-align: right;\">21</td><td style = \"text-align: left;\">rb25.net</td><td style = \"text-align: left;\">25.0</td><td style = \"text-align: left;\">66.0</td><td style = \"text-align: left;\">4.0</td><td style = \"text-align: left;\">20.0</td><td style = \"text-align: left;\">5.28</td><td style = \"text-align: left;\">0.9023</td><td style = \"text-align: left;\">-0.1635</td><td style = \"text-align: left;\">2.0333</td><td style = \"text-align: left;\">4.0</td></tr><tr><td class = \"rowNumber\" style = \"font-weight: bold; text-align: right;\">22</td><td style = \"text-align: left;\">star.net</td><td style = \"text-align: left;\">9.0</td><td style = \"text-align: left;\">8.0</td><td style = \"text-align: left;\">1.0</td><td style = \"text-align: left;\">8.0</td><td style = \"text-align: left;\">1.7778</td><td style = \"text-align: left;\">0.0</td><td style = \"text-align: left;\">-1.0</td><td style = \"text-align: left;\">1.7778</td><td style = \"text-align: left;\">2.0</td></tr><tr><td class = \"rowNumber\" style = \"font-weight: bold; text-align: right;\">23</td><td style = \"text-align: left;\">wheel.net</td><td style = \"text-align: left;\">9.0</td><td style = \"text-align: left;\">16.0</td><td style = \"text-align: left;\">3.0</td><td style = \"text-align: left;\">8.0</td><td style = \"text-align: left;\">3.5556</td><td style = \"text-align: left;\">0.6243</td><td style = \"text-align: left;\">-0.3333</td><td style = \"text-align: left;\">1.5556</td><td style = \"text-align: left;\">2.0</td></tr><tr><td class = \"rowNumber\" style = \"font-weight: bold; text-align: right;\">24</td><td style = \"text-align: left;\">ws1000.net</td><td style = \"text-align: left;\">1000.0</td><td style = \"text-align: left;\">3000.0</td><td style = \"text-align: left;\">3.0</td><td style = \"text-align: left;\">13.0</td><td style = \"text-align: left;\">6.0</td><td style = \"text-align: left;\">0.0044</td><td style = \"text-align: left;\">-0.0999</td><td style = \"text-align: left;\">4.0913</td><td style = \"text-align: left;\">6.0</td></tr><tr><td class = \"rowNumber\" style = \"font-weight: bold; text-align: right;\">25</td><td style = \"text-align: left;\">ws2000.net</td><td style = \"text-align: left;\">2000.0</td><td style = \"text-align: left;\">6000.0</td><td style = \"text-align: left;\">3.0</td><td style = \"text-align: left;\">13.0</td><td style = \"text-align: left;\">6.0</td><td style = \"text-align: left;\">0.0033</td><td style = \"text-align: left;\">-0.0762</td><td style = \"text-align: left;\">4.5111</td><td style = \"text-align: left;\">7.0</td></tr><tr><td class = \"rowNumber\" style = \"font-weight: bold; text-align: right;\">26</td><td style = \"text-align: left;\">zachary_unwh.net</td><td style = \"text-align: left;\">34.0</td><td style = \"text-align: left;\">78.0</td><td style = \"text-align: left;\">1.0</td><td style = \"text-align: left;\">17.0</td><td style = \"text-align: left;\">4.5882</td><td style = \"text-align: left;\">0.5706</td><td style = \"text-align: left;\">-0.4756</td><td style = \"text-align: left;\">2.4082</td><td style = \"text-align: left;\">5.0</td></tr></tbody></table></div>"
      ],
      "text/latex": [
       "\\begin{tabular}{r|ccccccc}\n",
       "\t& Index & \\# Nodes & \\# Edged & Degree (min) & Degree (max) & Degree (avg) & \\\\\n",
       "\t\\hline\n",
       "\t& Any & Any & Any & Any & Any & Any & \\\\\n",
       "\t\\hline\n",
       "\t1 & 20x2+5x2.net & 50.0 & 404.0 & 4.0 & 22.0 & 16.16 & $\\dots$ \\\\\n",
       "\t2 & 256\\_4\\_4\\_2\\_15\\_18\\_p.net & 256.0 & 2274.0 & 15.0 & 23.0 & 17.7656 & $\\dots$ \\\\\n",
       "\t3 & 256\\_4\\_4\\_4\\_13\\_18\\_p.net & 256.0 & 2299.0 & 10.0 & 25.0 & 17.9609 & $\\dots$ \\\\\n",
       "\t4 & BA1000.net & 1000.0 & 3990.0 & 4.0 & 115.0 & 7.98 & $\\dots$ \\\\\n",
       "\t5 & ER1000k8.net & 1000.0 & 3956.0 & 1.0 & 17.0 & 7.912 & $\\dots$ \\\\\n",
       "\t6 & ER5000k8.net & 5000.0 & 19980.0 & 4.0 & 17.0 & 7.9918 & $\\dots$ \\\\\n",
       "\t7 & PGP.net & 10680.0 & 24316.0 & 1.0 & 205.0 & 4.5536 & $\\dots$ \\\\\n",
       "\t8 & SF\\_1000\\_g2.5.net & 1000.0 & 1905.0 & 2.0 & 30.0 & 3.81 & $\\dots$ \\\\\n",
       "\t9 & SF\\_1000\\_g2.7.net & 1000.0 & 1668.0 & 2.0 & 24.0 & 3.336 & $\\dots$ \\\\\n",
       "\t10 & SF\\_1000\\_g3.0.net & 1000.0 & 1517.0 & 2.0 & 26.0 & 3.034 & $\\dots$ \\\\\n",
       "\t11 & SF\\_500\\_g2.7.net & 500.0 & 859.0 & 2.0 & 22.0 & 3.436 & $\\dots$ \\\\\n",
       "\t12 & airports\\_UW.net & 3618.0 & 14142.0 & 1.0 & 250.0 & 7.8176 & $\\dots$ \\\\\n",
       "\t13 & circle9.net & 9.0 & 9.0 & 2.0 & 2.0 & 2.0 & $\\dots$ \\\\\n",
       "\t14 & dolphins.net & 62.0 & 159.0 & 1.0 & 12.0 & 5.129 & $\\dots$ \\\\\n",
       "\t15 & graph3+1+3.net & 7.0 & 8.0 & 2.0 & 3.0 & 2.2857 & $\\dots$ \\\\\n",
       "\t16 & graph4+4.net & 8.0 & 13.0 & 3.0 & 4.0 & 3.25 & $\\dots$ \\\\\n",
       "\t17 & grid-p-6x6.net & 36.0 & 72.0 & 4.0 & 4.0 & 4.0 & $\\dots$ \\\\\n",
       "\t18 & homorand\\_N1000\\_K4\\_0.net & 1000.0 & 2000.0 & 4.0 & 4.0 & 4.0 & $\\dots$ \\\\\n",
       "\t19 & homorand\\_N1000\\_K6\\_0.net & 1000.0 & 2994.0 & 5.0 & 6.0 & 5.988 & $\\dots$ \\\\\n",
       "\t20 & rb125.net & 125.0 & 410.0 & 4.0 & 100.0 & 6.56 & $\\dots$ \\\\\n",
       "\t21 & rb25.net & 25.0 & 66.0 & 4.0 & 20.0 & 5.28 & $\\dots$ \\\\\n",
       "\t22 & star.net & 9.0 & 8.0 & 1.0 & 8.0 & 1.7778 & $\\dots$ \\\\\n",
       "\t23 & wheel.net & 9.0 & 16.0 & 3.0 & 8.0 & 3.5556 & $\\dots$ \\\\\n",
       "\t24 & ws1000.net & 1000.0 & 3000.0 & 3.0 & 13.0 & 6.0 & $\\dots$ \\\\\n",
       "\t25 & ws2000.net & 2000.0 & 6000.0 & 3.0 & 13.0 & 6.0 & $\\dots$ \\\\\n",
       "\t26 & zachary\\_unwh.net & 34.0 & 78.0 & 1.0 & 17.0 & 4.5882 & $\\dots$ \\\\\n",
       "\\end{tabular}\n"
      ],
      "text/plain": [
       "\u001b[1m26×10 DataFrame\u001b[0m\n",
       "\u001b[1m Row \u001b[0m│\u001b[1m Index                   \u001b[0m\u001b[1m # Nodes \u001b[0m\u001b[1m # Edged \u001b[0m\u001b[1m Degree (min) \u001b[0m\u001b[1m Degree (max) \u001b[0m\u001b[1m \u001b[0m ⋯\n",
       "     │\u001b[90m Any                     \u001b[0m\u001b[90m Any     \u001b[0m\u001b[90m Any     \u001b[0m\u001b[90m Any          \u001b[0m\u001b[90m Any          \u001b[0m\u001b[90m \u001b[0m ⋯\n",
       "─────┼──────────────────────────────────────────────────────────────────────────\n",
       "   1 │ 20x2+5x2.net             50.0     404.0    4.0           22.0           ⋯\n",
       "   2 │ 256_4_4_2_15_18_p.net    256.0    2274.0   15.0          23.0\n",
       "   3 │ 256_4_4_4_13_18_p.net    256.0    2299.0   10.0          25.0\n",
       "   4 │ BA1000.net               1000.0   3990.0   4.0           115.0\n",
       "   5 │ ER1000k8.net             1000.0   3956.0   1.0           17.0           ⋯\n",
       "   6 │ ER5000k8.net             5000.0   19980.0  4.0           17.0\n",
       "   7 │ PGP.net                  10680.0  24316.0  1.0           205.0\n",
       "   8 │ SF_1000_g2.5.net         1000.0   1905.0   2.0           30.0\n",
       "   9 │ SF_1000_g2.7.net         1000.0   1668.0   2.0           24.0           ⋯\n",
       "  10 │ SF_1000_g3.0.net         1000.0   1517.0   2.0           26.0\n",
       "  11 │ SF_500_g2.7.net          500.0    859.0    2.0           22.0\n",
       "  ⋮  │            ⋮                ⋮        ⋮          ⋮             ⋮         ⋱\n",
       "  17 │ grid-p-6x6.net           36.0     72.0     4.0           4.0\n",
       "  18 │ homorand_N1000_K4_0.net  1000.0   2000.0   4.0           4.0            ⋯\n",
       "  19 │ homorand_N1000_K6_0.net  1000.0   2994.0   5.0           6.0\n",
       "  20 │ rb125.net                125.0    410.0    4.0           100.0\n",
       "  21 │ rb25.net                 25.0     66.0     4.0           20.0\n",
       "  22 │ star.net                 9.0      8.0      1.0           8.0            ⋯\n",
       "  23 │ wheel.net                9.0      16.0     3.0           8.0\n",
       "  24 │ ws1000.net               1000.0   3000.0   3.0           13.0\n",
       "  25 │ ws2000.net               2000.0   6000.0   3.0           13.0\n",
       "  26 │ zachary_unwh.net         34.0     78.0     1.0           17.0           ⋯\n",
       "\u001b[36m                                                    5 columns and 5 rows omitted\u001b[0m"
      ]
     },
     "execution_count": 19,
     "metadata": {},
     "output_type": "execute_result"
    }
   ],
   "source": [
    "df = NetworkProcessing.construct_df(net_descriptors, [\"# Nodes\", \"# Edged\", \"Degree (min)\", \"Degree (max)\", \"Degree (avg)\", \"ACC\", \"Assort.\", \"APL\", \"Diameter\"])\n",
    "CSV.write(\"ExerciseA_Results.csv\", df)\n",
    "df"
   ]
  },
  {
   "cell_type": "code",
   "execution_count": 3,
   "id": "789ebcb0",
   "metadata": {},
   "outputs": [
    {
     "data": {
      "text/html": [
       "<div><div style = \"float: left;\"><span>3618×9 DataFrame</span></div><div style = \"float: right;\"><span style = \"font-style: italic;\">3593 rows omitted</span></div><div style = \"clear: both;\"></div></div><div class = \"data-frame\" style = \"overflow-x: scroll;\"><table class = \"data-frame\" style = \"margin-bottom: 6px;\"><thead><tr class = \"header\"><th class = \"rowNumber\" style = \"font-weight: bold; text-align: right;\">Row</th><th style = \"text-align: left;\">Index</th><th style = \"text-align: left;\">Degree</th><th style = \"text-align: left;\">Strength</th><th style = \"text-align: left;\">ASPL</th><th style = \"text-align: left;\">LSPL</th><th style = \"text-align: left;\">Clust Coeff</th><th style = \"text-align: left;\">Betweeness</th><th style = \"text-align: left;\">Eigenvector</th><th style = \"text-align: left;\">PageRank</th></tr><tr class = \"subheader headerLastRow\"><th class = \"rowNumber\" style = \"font-weight: bold; text-align: right;\"></th><th title = \"Any\" style = \"text-align: left;\">Any</th><th title = \"Any\" style = \"text-align: left;\">Any</th><th title = \"Any\" style = \"text-align: left;\">Any</th><th title = \"Any\" style = \"text-align: left;\">Any</th><th title = \"Any\" style = \"text-align: left;\">Any</th><th title = \"Any\" style = \"text-align: left;\">Any</th><th title = \"Any\" style = \"text-align: left;\">Any</th><th title = \"Any\" style = \"text-align: left;\">Any</th><th title = \"Any\" style = \"text-align: left;\">Any</th></tr></thead><tbody><tr><td class = \"rowNumber\" style = \"font-weight: bold; text-align: right;\">1</td><td style = \"text-align: left;\">AAA</td><td style = \"text-align: left;\">2.0</td><td style = \"text-align: left;\">92.0</td><td style = \"text-align: left;\">4.517</td><td style = \"text-align: left;\">1.0</td><td style = \"text-align: left;\">1.0</td><td style = \"text-align: left;\">0.0</td><td style = \"text-align: left;\">8.96615e-5</td><td style = \"text-align: left;\">0.000146141</td></tr><tr><td class = \"rowNumber\" style = \"font-weight: bold; text-align: right;\">2</td><td style = \"text-align: left;\">AAE</td><td style = \"text-align: left;\">6.0</td><td style = \"text-align: left;\">7284.0</td><td style = \"text-align: left;\">3.67763</td><td style = \"text-align: left;\">1.0</td><td style = \"text-align: left;\">0.733333</td><td style = \"text-align: left;\">6.3893e-5</td><td style = \"text-align: left;\">0.00591853</td><td style = \"text-align: left;\">0.000183379</td></tr><tr><td class = \"rowNumber\" style = \"font-weight: bold; text-align: right;\">3</td><td style = \"text-align: left;\">AAL</td><td style = \"text-align: left;\">3.0</td><td style = \"text-align: left;\">13071.0</td><td style = \"text-align: left;\">3.91042</td><td style = \"text-align: left;\">1.0</td><td style = \"text-align: left;\">1.0</td><td style = \"text-align: left;\">0.0</td><td style = \"text-align: left;\">0.00332087</td><td style = \"text-align: left;\">0.000104625</td></tr><tr><td class = \"rowNumber\" style = \"font-weight: bold; text-align: right;\">4</td><td style = \"text-align: left;\">AAN</td><td style = \"text-align: left;\">11.0</td><td style = \"text-align: left;\">3224.5</td><td style = \"text-align: left;\">3.92784</td><td style = \"text-align: left;\">1.0</td><td style = \"text-align: left;\">0.672727</td><td style = \"text-align: left;\">1.01215e-5</td><td style = \"text-align: left;\">0.0069863</td><td style = \"text-align: left;\">0.000277637</td></tr><tr><td class = \"rowNumber\" style = \"font-weight: bold; text-align: right;\">5</td><td style = \"text-align: left;\">AAQ</td><td style = \"text-align: left;\">10.0</td><td style = \"text-align: left;\">1690.0</td><td style = \"text-align: left;\">3.81006</td><td style = \"text-align: left;\">1.0</td><td style = \"text-align: left;\">0.333333</td><td style = \"text-align: left;\">2.00262e-5</td><td style = \"text-align: left;\">0.00656959</td><td style = \"text-align: left;\">0.000274695</td></tr><tr><td class = \"rowNumber\" style = \"font-weight: bold; text-align: right;\">6</td><td style = \"text-align: left;\">AAR</td><td style = \"text-align: left;\">6.0</td><td style = \"text-align: left;\">11653.0</td><td style = \"text-align: left;\">3.60077</td><td style = \"text-align: left;\">1.0</td><td style = \"text-align: left;\">0.933333</td><td style = \"text-align: left;\">1.69907e-8</td><td style = \"text-align: left;\">0.00911095</td><td style = \"text-align: left;\">0.000166138</td></tr><tr><td class = \"rowNumber\" style = \"font-weight: bold; text-align: right;\">7</td><td style = \"text-align: left;\">AAT</td><td style = \"text-align: left;\">1.0</td><td style = \"text-align: left;\">28.5</td><td style = \"text-align: left;\">4.68261</td><td style = \"text-align: left;\">1.0</td><td style = \"text-align: left;\">0.0</td><td style = \"text-align: left;\">0.0</td><td style = \"text-align: left;\">0.000124775</td><td style = \"text-align: left;\">6.9491e-5</td></tr><tr><td class = \"rowNumber\" style = \"font-weight: bold; text-align: right;\">8</td><td style = \"text-align: left;\">AAU</td><td style = \"text-align: left;\">1.0</td><td style = \"text-align: left;\">38.0</td><td style = \"text-align: left;\">5.63202</td><td style = \"text-align: left;\">1.0</td><td style = \"text-align: left;\">0.0</td><td style = \"text-align: left;\">0.0</td><td style = \"text-align: left;\">8.64069e-7</td><td style = \"text-align: left;\">0.000107245</td></tr><tr><td class = \"rowNumber\" style = \"font-weight: bold; text-align: right;\">9</td><td style = \"text-align: left;\">AAY</td><td style = \"text-align: left;\">4.0</td><td style = \"text-align: left;\">646.0</td><td style = \"text-align: left;\">4.51783</td><td style = \"text-align: left;\">1.0</td><td style = \"text-align: left;\">0.833333</td><td style = \"text-align: left;\">6.11664e-8</td><td style = \"text-align: left;\">0.000595804</td><td style = \"text-align: left;\">0.000142846</td></tr><tr><td class = \"rowNumber\" style = \"font-weight: bold; text-align: right;\">10</td><td style = \"text-align: left;\">ABA</td><td style = \"text-align: left;\">1.0</td><td style = \"text-align: left;\">164.0</td><td style = \"text-align: left;\">4.87255</td><td style = \"text-align: left;\">1.0</td><td style = \"text-align: left;\">0.0</td><td style = \"text-align: left;\">0.0</td><td style = \"text-align: left;\">6.83965e-5</td><td style = \"text-align: left;\">6.97388e-5</td></tr><tr><td class = \"rowNumber\" style = \"font-weight: bold; text-align: right;\">11</td><td style = \"text-align: left;\">ABD</td><td style = \"text-align: left;\">4.0</td><td style = \"text-align: left;\">2918.0</td><td style = \"text-align: left;\">3.95604</td><td style = \"text-align: left;\">1.0</td><td style = \"text-align: left;\">0.833333</td><td style = \"text-align: left;\">3.02739e-6</td><td style = \"text-align: left;\">0.00238341</td><td style = \"text-align: left;\">0.000139882</td></tr><tr><td class = \"rowNumber\" style = \"font-weight: bold; text-align: right;\">12</td><td style = \"text-align: left;\">ABE</td><td style = \"text-align: left;\">14.0</td><td style = \"text-align: left;\">21783.0</td><td style = \"text-align: left;\">3.64584</td><td style = \"text-align: left;\">1.0</td><td style = \"text-align: left;\">0.923077</td><td style = \"text-align: left;\">2.2698e-6</td><td style = \"text-align: left;\">0.0207574</td><td style = \"text-align: left;\">0.000297879</td></tr><tr><td class = \"rowNumber\" style = \"font-weight: bold; text-align: right;\">13</td><td style = \"text-align: left;\">ABI</td><td style = \"text-align: left;\">3.0</td><td style = \"text-align: left;\">2582.0</td><td style = \"text-align: left;\">3.93226</td><td style = \"text-align: left;\">1.0</td><td style = \"text-align: left;\">1.0</td><td style = \"text-align: left;\">0.0</td><td style = \"text-align: left;\">0.00354365</td><td style = \"text-align: left;\">0.000113309</td></tr><tr><td style = \"text-align: right;\">&vellip;</td><td style = \"text-align: right;\">&vellip;</td><td style = \"text-align: right;\">&vellip;</td><td style = \"text-align: right;\">&vellip;</td><td style = \"text-align: right;\">&vellip;</td><td style = \"text-align: right;\">&vellip;</td><td style = \"text-align: right;\">&vellip;</td><td style = \"text-align: right;\">&vellip;</td><td style = \"text-align: right;\">&vellip;</td><td style = \"text-align: right;\">&vellip;</td></tr><tr><td class = \"rowNumber\" style = \"font-weight: bold; text-align: right;\">3607</td><td style = \"text-align: left;\">ZSE</td><td style = \"text-align: left;\">4.0</td><td style = \"text-align: left;\">1429.0</td><td style = \"text-align: left;\">4.18468</td><td style = \"text-align: left;\">1.0</td><td style = \"text-align: left;\">0.833333</td><td style = \"text-align: left;\">7.07016e-6</td><td style = \"text-align: left;\">0.000889881</td><td style = \"text-align: left;\">0.000167738</td></tr><tr><td class = \"rowNumber\" style = \"font-weight: bold; text-align: right;\">3608</td><td style = \"text-align: left;\">ZSJ</td><td style = \"text-align: left;\">4.0</td><td style = \"text-align: left;\">322.0</td><td style = \"text-align: left;\">5.59718</td><td style = \"text-align: left;\">1.0</td><td style = \"text-align: left;\">0.333333</td><td style = \"text-align: left;\">0.000313559</td><td style = \"text-align: left;\">6.03083e-6</td><td style = \"text-align: left;\">0.000301597</td></tr><tr><td class = \"rowNumber\" style = \"font-weight: bold; text-align: right;\">3609</td><td style = \"text-align: left;\">ZTB</td><td style = \"text-align: left;\">2.0</td><td style = \"text-align: left;\">230.0</td><td style = \"text-align: left;\">6.58916</td><td style = \"text-align: left;\">1.0</td><td style = \"text-align: left;\">1.0</td><td style = \"text-align: left;\">0.0</td><td style = \"text-align: left;\">6.24358e-8</td><td style = \"text-align: left;\">0.000171869</td></tr><tr><td class = \"rowNumber\" style = \"font-weight: bold; text-align: right;\">3610</td><td style = \"text-align: left;\">ZTH</td><td style = \"text-align: left;\">2.0</td><td style = \"text-align: left;\">422.0</td><td style = \"text-align: left;\">4.04341</td><td style = \"text-align: left;\">1.0</td><td style = \"text-align: left;\">1.0</td><td style = \"text-align: left;\">0.0</td><td style = \"text-align: left;\">0.00156786</td><td style = \"text-align: left;\">0.000112126</td></tr><tr><td class = \"rowNumber\" style = \"font-weight: bold; text-align: right;\">3611</td><td style = \"text-align: left;\">ZTM</td><td style = \"text-align: left;\">3.0</td><td style = \"text-align: left;\">275.0</td><td style = \"text-align: left;\">5.60299</td><td style = \"text-align: left;\">1.0</td><td style = \"text-align: left;\">0.666667</td><td style = \"text-align: left;\">5.0972e-8</td><td style = \"text-align: left;\">1.35821e-5</td><td style = \"text-align: left;\">0.000199811</td></tr><tr><td class = \"rowNumber\" style = \"font-weight: bold; text-align: right;\">3612</td><td style = \"text-align: left;\">ZUH</td><td style = \"text-align: left;\">13.0</td><td style = \"text-align: left;\">8721.0</td><td style = \"text-align: left;\">3.93475</td><td style = \"text-align: left;\">1.0</td><td style = \"text-align: left;\">0.75641</td><td style = \"text-align: left;\">3.99256e-6</td><td style = \"text-align: left;\">0.00300433</td><td style = \"text-align: left;\">0.000284039</td></tr><tr><td class = \"rowNumber\" style = \"font-weight: bold; text-align: right;\">3613</td><td style = \"text-align: left;\">ZUM</td><td style = \"text-align: left;\">1.0</td><td style = \"text-align: left;\">57.0</td><td style = \"text-align: left;\">5.49212</td><td style = \"text-align: left;\">1.0</td><td style = \"text-align: left;\">0.0</td><td style = \"text-align: left;\">0.0</td><td style = \"text-align: left;\">2.49501e-6</td><td style = \"text-align: left;\">9.69567e-5</td></tr><tr><td class = \"rowNumber\" style = \"font-weight: bold; text-align: right;\">3614</td><td style = \"text-align: left;\">ZVA</td><td style = \"text-align: left;\">1.0</td><td style = \"text-align: left;\">19.0</td><td style = \"text-align: left;\">7.57727</td><td style = \"text-align: left;\">1.0</td><td style = \"text-align: left;\">0.0</td><td style = \"text-align: left;\">0.0</td><td style = \"text-align: left;\">1.83996e-9</td><td style = \"text-align: left;\">0.000133937</td></tr><tr><td class = \"rowNumber\" style = \"font-weight: bold; text-align: right;\">3615</td><td style = \"text-align: left;\">ZVK</td><td style = \"text-align: left;\">2.0</td><td style = \"text-align: left;\">370.0</td><td style = \"text-align: left;\">4.93779</td><td style = \"text-align: left;\">1.0</td><td style = \"text-align: left;\">1.0</td><td style = \"text-align: left;\">0.0</td><td style = \"text-align: left;\">3.44805e-5</td><td style = \"text-align: left;\">0.000127656</td></tr><tr><td class = \"rowNumber\" style = \"font-weight: bold; text-align: right;\">3616</td><td style = \"text-align: left;\">ZWL</td><td style = \"text-align: left;\">2.0</td><td style = \"text-align: left;\">64.0</td><td style = \"text-align: left;\">5.74205</td><td style = \"text-align: left;\">1.0</td><td style = \"text-align: left;\">1.0</td><td style = \"text-align: left;\">0.0</td><td style = \"text-align: left;\">1.72333e-6</td><td style = \"text-align: left;\">0.000187151</td></tr><tr><td class = \"rowNumber\" style = \"font-weight: bold; text-align: right;\">3617</td><td style = \"text-align: left;\">ZYL</td><td style = \"text-align: left;\">2.0</td><td style = \"text-align: left;\">3276.0</td><td style = \"text-align: left;\">3.99862</td><td style = \"text-align: left;\">1.0</td><td style = \"text-align: left;\">1.0</td><td style = \"text-align: left;\">0.0</td><td style = \"text-align: left;\">0.00187129</td><td style = \"text-align: left;\">8.60842e-5</td></tr><tr><td class = \"rowNumber\" style = \"font-weight: bold; text-align: right;\">3618</td><td style = \"text-align: left;\">ZZU</td><td style = \"text-align: left;\">3.0</td><td style = \"text-align: left;\">63.0</td><td style = \"text-align: left;\">4.96406</td><td style = \"text-align: left;\">1.0</td><td style = \"text-align: left;\">0.333333</td><td style = \"text-align: left;\">0.000552944</td><td style = \"text-align: left;\">4.0054e-5</td><td style = \"text-align: left;\">0.000234806</td></tr></tbody></table></div>"
      ],
      "text/latex": [
       "\\begin{tabular}{r|ccccccccc}\n",
       "\t& Index & Degree & Strength & ASPL & LSPL & Clust Coeff & Betweeness & Eigenvector & PageRank\\\\\n",
       "\t\\hline\n",
       "\t& Any & Any & Any & Any & Any & Any & Any & Any & Any\\\\\n",
       "\t\\hline\n",
       "\t1 & AAA & 2.0 & 92.0 & 4.517 & 1.0 & 1.0 & 0.0 & 8.96615e-5 & 0.000146141 \\\\\n",
       "\t2 & AAE & 6.0 & 7284.0 & 3.67763 & 1.0 & 0.733333 & 6.3893e-5 & 0.00591853 & 0.000183379 \\\\\n",
       "\t3 & AAL & 3.0 & 13071.0 & 3.91042 & 1.0 & 1.0 & 0.0 & 0.00332087 & 0.000104625 \\\\\n",
       "\t4 & AAN & 11.0 & 3224.5 & 3.92784 & 1.0 & 0.672727 & 1.01215e-5 & 0.0069863 & 0.000277637 \\\\\n",
       "\t5 & AAQ & 10.0 & 1690.0 & 3.81006 & 1.0 & 0.333333 & 2.00262e-5 & 0.00656959 & 0.000274695 \\\\\n",
       "\t6 & AAR & 6.0 & 11653.0 & 3.60077 & 1.0 & 0.933333 & 1.69907e-8 & 0.00911095 & 0.000166138 \\\\\n",
       "\t7 & AAT & 1.0 & 28.5 & 4.68261 & 1.0 & 0.0 & 0.0 & 0.000124775 & 6.9491e-5 \\\\\n",
       "\t8 & AAU & 1.0 & 38.0 & 5.63202 & 1.0 & 0.0 & 0.0 & 8.64069e-7 & 0.000107245 \\\\\n",
       "\t9 & AAY & 4.0 & 646.0 & 4.51783 & 1.0 & 0.833333 & 6.11664e-8 & 0.000595804 & 0.000142846 \\\\\n",
       "\t10 & ABA & 1.0 & 164.0 & 4.87255 & 1.0 & 0.0 & 0.0 & 6.83965e-5 & 6.97388e-5 \\\\\n",
       "\t11 & ABD & 4.0 & 2918.0 & 3.95604 & 1.0 & 0.833333 & 3.02739e-6 & 0.00238341 & 0.000139882 \\\\\n",
       "\t12 & ABE & 14.0 & 21783.0 & 3.64584 & 1.0 & 0.923077 & 2.2698e-6 & 0.0207574 & 0.000297879 \\\\\n",
       "\t13 & ABI & 3.0 & 2582.0 & 3.93226 & 1.0 & 1.0 & 0.0 & 0.00354365 & 0.000113309 \\\\\n",
       "\t14 & ABJ & 28.0 & 25044.5 & 3.46641 & 1.0 & 0.354497 & 0.000950328 & 0.024453 & 0.000701749 \\\\\n",
       "\t15 & ABK & 3.0 & 250.0 & 5.42826 & 1.0 & 1.0 & 0.0 & 7.83946e-6 & 0.000206394 \\\\\n",
       "\t16 & ABL & 4.0 & 278.0 & 5.19215 & 1.0 & 0.666667 & 2.7479e-6 & 6.29072e-6 & 0.000253215 \\\\\n",
       "\t17 & ABM & 3.0 & 268.0 & 4.46447 & 1.0 & 0.333333 & 0.000275759 & 8.99645e-5 & 0.000202127 \\\\\n",
       "\t18 & ABQ & 36.0 & 105678.0 & 3.423 & 1.0 & 0.34127 & 0.00418884 & 0.0289915 & 0.00102828 \\\\\n",
       "\t19 & ABR & 3.0 & 2958.0 & 4.04645 & 1.0 & 0.333333 & 0.000552944 & 0.00142822 & 0.000184345 \\\\\n",
       "\t20 & ABS & 1.0 & 4391.0 & 4.66215 & 1.0 & 0.0 & 0.0 & 9.17872e-5 & 7.65332e-5 \\\\\n",
       "\t21 & ABT & 2.0 & 2210.0 & 4.09068 & 1.0 & 1.0 & 0.0 & 0.00173044 & 8.44538e-5 \\\\\n",
       "\t22 & ABV & 3.0 & 3253.0 & 3.70749 & 1.0 & 0.666667 & 8.55573e-5 & 0.00366467 & 0.000133478 \\\\\n",
       "\t23 & ABX & 5.0 & 3935.0 & 4.21371 & 1.0 & 0.6 & 5.70465e-6 & 0.000463654 & 0.00023589 \\\\\n",
       "\t24 & ABY & 1.0 & 1410.0 & 3.91595 & 1.0 & 0.0 & 0.0 & 0.0021665 & 6.00792e-5 \\\\\n",
       "\t25 & ABZ & 22.0 & 32727.5 & 3.58363 & 1.0 & 0.281385 & 0.00374792 & 0.0146941 & 0.000589635 \\\\\n",
       "\t26 & ACA & 8.0 & 13579.0 & 3.90158 & 1.0 & 0.678571 & 4.41868e-5 & 0.0063752 & 0.000215675 \\\\\n",
       "\t27 & ACC & 24.0 & 16868.5 & 3.36024 & 1.0 & 0.318841 & 0.000733839 & 0.024156 & 0.000574562 \\\\\n",
       "\t28 & ACE & 38.0 & 27079.5 & 3.5311 & 1.0 & 0.475107 & 5.57718e-5 & 0.0413952 & 0.000672031 \\\\\n",
       "\t29 & ACH & 1.0 & 1300.0 & 3.98894 & 1.0 & 0.0 & 0.0 & 0.00211695 & 5.85261e-5 \\\\\n",
       "\t30 & ACI & 3.0 & 907.5 & 4.50733 & 1.0 & 1.0 & 0.0 & 0.000844686 & 0.000100874 \\\\\n",
       "\t$\\dots$ & $\\dots$ & $\\dots$ & $\\dots$ & $\\dots$ & $\\dots$ & $\\dots$ & $\\dots$ & $\\dots$ & $\\dots$ \\\\\n",
       "\\end{tabular}\n"
      ],
      "text/plain": [
       "\u001b[1m3618×9 DataFrame\u001b[0m\n",
       "\u001b[1m  Row \u001b[0m│\u001b[1m Index \u001b[0m\u001b[1m Degree \u001b[0m\u001b[1m Strength \u001b[0m\u001b[1m ASPL    \u001b[0m\u001b[1m LSPL \u001b[0m\u001b[1m Clust Coeff \u001b[0m\u001b[1m Betweeness  \u001b[0m\u001b[1m Eige\u001b[0m ⋯\n",
       "      │\u001b[90m Any   \u001b[0m\u001b[90m Any    \u001b[0m\u001b[90m Any      \u001b[0m\u001b[90m Any     \u001b[0m\u001b[90m Any  \u001b[0m\u001b[90m Any         \u001b[0m\u001b[90m Any         \u001b[0m\u001b[90m Any \u001b[0m ⋯\n",
       "──────┼─────────────────────────────────────────────────────────────────────────\n",
       "    1 │ AAA    2.0     92.0      4.517    1.0   1.0          0.0          8.96 ⋯\n",
       "    2 │ AAE    6.0     7284.0    3.67763  1.0   0.733333     6.3893e-5    0.00\n",
       "    3 │ AAL    3.0     13071.0   3.91042  1.0   1.0          0.0          0.00\n",
       "    4 │ AAN    11.0    3224.5    3.92784  1.0   0.672727     1.01215e-5   0.00\n",
       "    5 │ AAQ    10.0    1690.0    3.81006  1.0   0.333333     2.00262e-5   0.00 ⋯\n",
       "    6 │ AAR    6.0     11653.0   3.60077  1.0   0.933333     1.69907e-8   0.00\n",
       "    7 │ AAT    1.0     28.5      4.68261  1.0   0.0          0.0          0.00\n",
       "    8 │ AAU    1.0     38.0      5.63202  1.0   0.0          0.0          8.64\n",
       "    9 │ AAY    4.0     646.0     4.51783  1.0   0.833333     6.11664e-8   0.00 ⋯\n",
       "   10 │ ABA    1.0     164.0     4.87255  1.0   0.0          0.0          6.83\n",
       "   11 │ ABD    4.0     2918.0    3.95604  1.0   0.833333     3.02739e-6   0.00\n",
       "  ⋮   │   ⋮      ⋮        ⋮         ⋮      ⋮         ⋮            ⋮            ⋱\n",
       " 3609 │ ZTB    2.0     230.0     6.58916  1.0   1.0          0.0          6.24\n",
       " 3610 │ ZTH    2.0     422.0     4.04341  1.0   1.0          0.0          0.00 ⋯\n",
       " 3611 │ ZTM    3.0     275.0     5.60299  1.0   0.666667     5.0972e-8    1.35\n",
       " 3612 │ ZUH    13.0    8721.0    3.93475  1.0   0.75641      3.99256e-6   0.00\n",
       " 3613 │ ZUM    1.0     57.0      5.49212  1.0   0.0          0.0          2.49\n",
       " 3614 │ ZVA    1.0     19.0      7.57727  1.0   0.0          0.0          1.83 ⋯\n",
       " 3615 │ ZVK    2.0     370.0     4.93779  1.0   1.0          0.0          3.44\n",
       " 3616 │ ZWL    2.0     64.0      5.74205  1.0   1.0          0.0          1.72\n",
       " 3617 │ ZYL    2.0     3276.0    3.99862  1.0   1.0          0.0          0.00\n",
       " 3618 │ ZZU    3.0     63.0      4.96406  1.0   0.333333     0.000552944  4.00 ⋯\n",
       "\u001b[36m                                                 2 columns and 3597 rows omitted\u001b[0m"
      ]
     },
     "execution_count": 3,
     "metadata": {},
     "output_type": "execute_result"
    }
   ],
   "source": [
    "graph, edge_weights, vertex_labels = NetworkProcessing.read_network(\"A1-networks/real/airports_UW.net\")\n",
    "NetworkProcessing.nodes_num_descriptors(graph, edge_weights, vertex_labels)"
   ]
  }
 ],
 "metadata": {
  "kernelspec": {
   "display_name": "Julia 1.10.1",
   "language": "julia",
   "name": "julia-1.10"
  },
  "language_info": {
   "file_extension": ".jl",
   "mimetype": "application/julia",
   "name": "julia",
   "version": "1.10.1"
  }
 },
 "nbformat": 4,
 "nbformat_minor": 5
}
