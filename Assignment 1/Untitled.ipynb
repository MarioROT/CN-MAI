{
 "cells": [
  {
   "cell_type": "code",
   "execution_count": 2,
   "id": "68b34d41",
   "metadata": {},
   "outputs": [],
   "source": [
    "using Graphs, Graphs.Experimental.ShortestPaths\n",
    "using GraphIO"
   ]
  },
  {
   "cell_type": "code",
   "execution_count": 3,
   "id": "eda616da",
   "metadata": {},
   "outputs": [
    {
     "data": {
      "text/plain": [
       "{9, 16} undirected simple Int64 graph"
      ]
     },
     "execution_count": 3,
     "metadata": {},
     "output_type": "execute_result"
    }
   ],
   "source": [
    "using GraphIO.NET\n",
    "using Statistics\n",
    "using Pandas\n",
    "\n",
    "file_path = \"A1-networks/toy/wheel.net\"\n",
    "graph = loadgraph(file_path, \"graph_key\", NETFormat())"
   ]
  },
  {
   "cell_type": "code",
   "execution_count": 113,
   "id": "0077ed21",
   "metadata": {},
   "outputs": [
    {
     "data": {
      "text/plain": [
       "read_weighted_net (generic function with 1 method)"
      ]
     },
     "execution_count": 113,
     "metadata": {},
     "output_type": "execute_result"
    }
   ],
   "source": [
    "function read_weighted_net(file_path)\n",
    "    graph = loadgraph(file_path, \"graph_key\", NETFormat())\n",
    "    \n",
    "    edge_weights = Dict{Tuple{Int,Int}, Float64}()\n",
    "    open(file_path, \"r\") do file\n",
    "        reading_edges = false\n",
    "        for line in eachline(file)\n",
    "            if occursin(\"*Edges\", line)\n",
    "                reading_edges = true\n",
    "            elseif reading_edges\n",
    "                edge_data = split(line)\n",
    "                if length(edge_data) >= 3\n",
    "                    src, dst, weight = parse(Int, edge_data[1]), parse(Int, edge_data[2]), parse(Float64, edge_data[3])\n",
    "                    edge_weights[(src, dst)] = weight\n",
    "                    # Assuming you add edges to your graph here\n",
    "                    add_edge!(graph, src, dst)  # Add the edge to the graph if not already added\n",
    "                end\n",
    "            end\n",
    "        end\n",
    "    end\n",
    "    return graph, edge_weights\n",
    "end"
   ]
  },
  {
   "cell_type": "code",
   "execution_count": 114,
   "id": "7bf25fcb",
   "metadata": {},
   "outputs": [
    {
     "data": {
      "text/plain": [
       "(SimpleGraph{Int64}(16, [[2, 3, 4, 5, 6, 7, 8, 9], [1, 3, 9], [1, 2, 4], [1, 3, 5], [1, 4, 6], [1, 5, 7], [1, 6, 8], [1, 7, 9], [1, 2, 8]]), Dict((4, 5) => 1.0, (1, 2) => 1.0, (1, 3) => 1.0, (1, 4) => 1.0, (9, 2) => 1.0, (7, 8) => 1.0, (8, 9) => 1.0, (1, 9) => 1.0, (3, 4) => 1.0, (5, 6) => 1.0…))"
      ]
     },
     "execution_count": 114,
     "metadata": {},
     "output_type": "execute_result"
    }
   ],
   "source": [
    "graph, edge_weights = read_weighted_net(\"A1-networks/toy/wheel.net\")"
   ]
  },
  {
   "cell_type": "code",
   "execution_count": 106,
   "id": "ee498538",
   "metadata": {},
   "outputs": [
    {
     "data": {
      "text/plain": [
       "network_num_descriptors (generic function with 1 method)"
      ]
     },
     "execution_count": 106,
     "metadata": {},
     "output_type": "execute_result"
    }
   ],
   "source": [
    "function network_num_descriptors(graph)\n",
    "    # Number of nodes and edges\n",
    "    num_nodes = nv(graph)\n",
    "    num_edges = ne(graph)\n",
    "\n",
    "    # Degrees\n",
    "    degrees = degree(graph)\n",
    "    min_degree = minimum(degrees)\n",
    "    max_degree = maximum(degrees)\n",
    "    avg_degree = mean(degrees)\n",
    "\n",
    "    # Average clustering coefficient \n",
    "    avg_clustering_coefficient = sum(local_clustering_coefficient(graph, vertices(graph)))/nv(graph)\n",
    "\n",
    "    # Assortativity \n",
    "    assort = assortativity(graph)\n",
    "\n",
    "    # Average path length and Diameter\n",
    "    # For a large graph, this might be computationally expensive\n",
    "    avg_path_length = sum(shortest_paths(graph).dists)/(num_nodes*(num_nodes-1))\n",
    "    diam = Graphs.diameter(graph)  # Same adjustment as above\n",
    "\n",
    "    # Printing the results\n",
    "    println(\"Number of nodes: $num_nodes\")\n",
    "    println(\"Number of edges: $num_edges\")\n",
    "    println(\"Degree -- Min: $min_degree, Max: $max_degree, Avg: $avg_degree\")\n",
    "    println(\"Average Clustering Coefficient: $avg_clustering_coefficient\")\n",
    "    println(\"Assortativity: $assort\")\n",
    "    println(\"Average Path Length: $avg_path_length\")\n",
    "    println(\"Diameter: $diam\")\n",
    "end"
   ]
  },
  {
   "cell_type": "code",
   "execution_count": 107,
   "id": "a95b15cc",
   "metadata": {},
   "outputs": [
    {
     "name": "stdout",
     "output_type": "stream",
     "text": [
      "Number of nodes: 9\n",
      "Number of edges: 16\n",
      "Degree -- Min: 3, Max: 8, Avg: 3.5555555555555554\n",
      "Average Clustering Coefficient: 0.6243386243386244\n",
      "Assortativity: -0.3333333333333333\n",
      "Average Path Length: 1.5555555555555556\n",
      "Diameter: 2\n"
     ]
    }
   ],
   "source": [
    "network_num_descriptors(graph)"
   ]
  },
  {
   "cell_type": "code",
   "execution_count": null,
   "id": "2ec5def6",
   "metadata": {},
   "outputs": [],
   "source": [
    "function construct_df(data_dict, col_names = [])\n",
    "    # Initialize an empty DataFrame with appropriate column names\n",
    "    # Assuming all vectors are of the same length and represent the same variables\n",
    "    if col_names == []\n",
    "        col_names = [\"Col$(i)\" for i in 1:length(first(values(data_dict)))]\n",
    "    end\n",
    "    \n",
    "    df = DataFrames.DataFrame(; (Symbol(col_name) => Float64[] for col_name in col_names)...)\n",
    "\n",
    "    # Sort the dictionary by keys to maintain the order\n",
    "    sorted_keys = sort(collect(keys(data_dict)))\n",
    "\n",
    "    # Populate the DataFrame\n",
    "    for key in sorted_keys\n",
    "        push!(df, data_dict[key])\n",
    "    end\n",
    "    return df\n",
    "end"
   ]
  },
  {
   "cell_type": "code",
   "execution_count": null,
   "id": "31db1b72",
   "metadata": {},
   "outputs": [],
   "source": [
    "function compute_strength(edge_weights, mode=\"undirected\")\n",
    "    weights_count = Dict{Int, Int}()\n",
    "    if mode == \"undirected\"\n",
    "        for (key,value) in edge_weights\n",
    "            for v in key\n",
    "                if haskey(weights_count, v)\n",
    "                    weights_count[v] += value\n",
    "                else\n",
    "                    weights_count[v] = value\n",
    "                end\n",
    "            end\n",
    "        end\n",
    "    elseif mode == \"directed\"\n",
    "        for (key,value) in edge_weights\n",
    "            v = key[1]\n",
    "            if haskey(weights_count, v)\n",
    "                weights_count[v] += value\n",
    "            else\n",
    "                weights_count[v] = value\n",
    "            end\n",
    "        end\n",
    "    end\n",
    "    return weights_count\n",
    "end"
   ]
  },
  {
   "cell_type": "code",
   "execution_count": 175,
   "id": "989d3f1a",
   "metadata": {},
   "outputs": [
    {
     "data": {
      "text/plain": [
       "nodes_num_descriptors (generic function with 1 method)"
      ]
     },
     "execution_count": 175,
     "metadata": {},
     "output_type": "execute_result"
    }
   ],
   "source": [
    "function nodes_num_descriptors(graph)\n",
    "    num_nodes = nv(graph)\n",
    "    node_descriptors = Dict{Int, Vector}()\n",
    "    degrees = degree(graph)\n",
    "    strenghts = compute_strength(edge_weights)\n",
    "    aspls = shortest_paths(graph).dists\n",
    "    lspls = maximum(collect(adjacency_matrix(graph)); dims = 2)\n",
    "    b_centralities = betweenness_centrality(graph) \n",
    "    e_centralities = eigenvector_centrality(graph)\n",
    "    pageranks = pagerank(graph)\n",
    "    for i in vertices(graph)\n",
    "        deg = degrees[i]\n",
    "        stren = strenghts[i]\n",
    "        aspl = sum(aspls[i,:])/(num_nodes-1)\n",
    "        lspl = lspls[i]\n",
    "        cl_cf = local_clustering_coefficient(graph, i)\n",
    "        bc = b_centralities[i] \n",
    "        ec = e_centralities[i]\n",
    "        pr = pageranks[i]\n",
    "        \n",
    "        node_descriptors[i] = [deg,stren, aspl, lspl, cl_cf, bc, ec, pr]\n",
    "    end\n",
    "    println(construct_df(node_descriptors, [\"Degree\", \"Strength\", \"ASPL\", \"LSPL\", \"Clust Coeff\", \"Betweeness\", \"Eigenvector\", \"PageRank\"]))\n",
    "end"
   ]
  },
  {
   "cell_type": "code",
   "execution_count": 176,
   "id": "612b8d15",
   "metadata": {
    "scrolled": true
   },
   "outputs": [
    {
     "name": "stdout",
     "output_type": "stream",
     "text": [
      "\u001b[1m9×8 DataFrame\u001b[0m\n",
      "\u001b[1m Row \u001b[0m│\u001b[1m Degree  \u001b[0m\u001b[1m Strength \u001b[0m\u001b[1m ASPL    \u001b[0m\u001b[1m LSPL    \u001b[0m\u001b[1m Clust Coeff \u001b[0m\u001b[1m Betweeness \u001b[0m\u001b[1m Eigenvector \u001b[0m\u001b[1m PageRank  \u001b[0m\n",
      "     │\u001b[90m Float64 \u001b[0m\u001b[90m Float64  \u001b[0m\u001b[90m Float64 \u001b[0m\u001b[90m Float64 \u001b[0m\u001b[90m Float64     \u001b[0m\u001b[90m Float64    \u001b[0m\u001b[90m Float64     \u001b[0m\u001b[90m Float64   \u001b[0m\n",
      "─────┼──────────────────────────────────────────────────────────────────────────────────────\n",
      "   1 │     8.0       8.0    1.0        1.0     0.285714   0.571429      0.57735   0.233766\n",
      "   2 │     3.0       3.0    1.625      1.0     0.666667   0.0178571     0.288675  0.0957793\n",
      "   3 │     3.0       3.0    1.625      1.0     0.666667   0.0178571     0.288675  0.0957793\n",
      "   4 │     3.0       3.0    1.625      1.0     0.666667   0.0178571     0.288675  0.0957793\n",
      "   5 │     3.0       3.0    1.625      1.0     0.666667   0.0178571     0.288675  0.0957793\n",
      "   6 │     3.0       3.0    1.625      1.0     0.666667   0.0178571     0.288675  0.0957793\n",
      "   7 │     3.0       3.0    1.625      1.0     0.666667   0.0178571     0.288675  0.0957793\n",
      "   8 │     3.0       3.0    1.625      1.0     0.666667   0.0178571     0.288675  0.0957793\n",
      "   9 │     3.0       3.0    1.625      1.0     0.666667   0.0178571     0.288675  0.0957793\n"
     ]
    }
   ],
   "source": [
    "nodes_num_descriptors(graph)"
   ]
  }
 ],
 "metadata": {
  "kernelspec": {
   "display_name": "Julia 1.10.1",
   "language": "julia",
   "name": "julia-1.10"
  },
  "language_info": {
   "file_extension": ".jl",
   "mimetype": "application/julia",
   "name": "julia",
   "version": "1.10.1"
  }
 },
 "nbformat": 4,
 "nbformat_minor": 5
}
