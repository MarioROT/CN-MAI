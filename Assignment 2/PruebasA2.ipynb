{
 "cells": [
  {
   "cell_type": "code",
   "execution_count": null,
   "id": "04d3fd84",
   "metadata": {},
   "outputs": [],
   "source": [
    "using Graphs, Graphs.Experimental.ShortestPaths\n",
    "using GraphIO\n",
    "using GraphIO.NET\n",
    "using Statistics\n",
    "using DataFrames     "
   ]
  }
 ],
 "metadata": {
  "kernelspec": {
   "display_name": "Julia 1.10.2",
   "language": "julia",
   "name": "julia-1.10"
  },
  "language_info": {
   "file_extension": ".jl",
   "mimetype": "application/julia",
   "name": "julia",
   "version": "1.10.2"
  }
 },
 "nbformat": 4,
 "nbformat_minor": 5
}
