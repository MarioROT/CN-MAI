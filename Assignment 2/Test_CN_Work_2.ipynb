{
  "nbformat": 4,
  "nbformat_minor": 0,
  "metadata": {
    "colab": {
      "provenance": []
    },
    "kernelspec": {
      "display_name": "Julia",
      "language": "julia",
      "name": "julia"
    },
    "language_info": {
      "file_extension": ".jl",
      "mimetype": "application/julia",
      "name": "julia"
    },
    "gpuClass": "standard"
  },
  "cells": [
    {
      "cell_type": "markdown",
      "metadata": {
        "id": "tQ1r1bbb0yBv"
      },
      "source": [
        "# <img src=\"https://github.com/JuliaLang/julia-logo-graphics/raw/master/images/julia-logo-color.png\" height=\"100\" /> _Colab Notebook Template_\n",
        "\n",
        "## Instructions\n",
        "1. Work on a copy of this notebook: _File_ > _Save a copy in Drive_ (you will need a Google account). Alternatively, you can download the notebook using _File_ > _Download .ipynb_, then upload it to [Colab](https://colab.research.google.com/).\n",
        "2. If you need a GPU: _Runtime_ > _Change runtime type_ > _Harware accelerator_ = _GPU_.\n",
        "3. Execute the following cell (click on it and press Ctrl+Enter) to install Julia, IJulia and other packages (if needed, update `JULIA_VERSION` and the other parameters). This takes a couple of minutes.\n",
        "4. Reload this page (press Ctrl+R, or ⌘+R, or the F5 key) and continue to the next section.\n",
        "\n",
        "_Notes_:\n",
        "* If your Colab Runtime gets reset (e.g., due to inactivity), repeat steps 2, 3 and 4.\n",
        "* After installation, if you want to change the Julia version or activate/deactivate the GPU, you will need to reset the Runtime: _Runtime_ > _Factory reset runtime_ and repeat steps 3 and 4."
      ]
    },
    {
      "cell_type": "code",
      "metadata": {
        "id": "GIeFXS0F0zww",
        "colab": {
          "base_uri": "https://localhost:8080/"
        },
        "outputId": "91f202cc-94ab-4965-b3aa-48d1285913fb"
      },
      "source": [
        "%%shell\n",
        "set -e\n",
        "\n",
        "#---------------------------------------------------#\n",
        "JULIA_VERSION=\"1.8.2\" # any version ≥ 0.7.0\n",
        "JULIA_PACKAGES=\"IJulia BenchmarkTools\"\n",
        "JULIA_PACKAGES_IF_GPU=\"CUDA\" # or CuArrays for older Julia versions\n",
        "JULIA_NUM_THREADS=2\n",
        "#---------------------------------------------------#\n",
        "\n",
        "if [ -z `which julia` ]; then\n",
        "  # Install Julia\n",
        "  JULIA_VER=`cut -d '.' -f -2 <<< \"$JULIA_VERSION\"`\n",
        "  echo \"Installing Julia $JULIA_VERSION on the current Colab Runtime...\"\n",
        "  BASE_URL=\"https://julialang-s3.julialang.org/bin/linux/x64\"\n",
        "  URL=\"$BASE_URL/$JULIA_VER/julia-$JULIA_VERSION-linux-x86_64.tar.gz\"\n",
        "  wget -nv $URL -O /tmp/julia.tar.gz # -nv means \"not verbose\"\n",
        "  tar -x -f /tmp/julia.tar.gz -C /usr/local --strip-components 1\n",
        "  rm /tmp/julia.tar.gz\n",
        "\n",
        "  # Install Packages\n",
        "  nvidia-smi -L &> /dev/null && export GPU=1 || export GPU=0\n",
        "  if [ $GPU -eq 1 ]; then\n",
        "    JULIA_PACKAGES=\"$JULIA_PACKAGES $JULIA_PACKAGES_IF_GPU\"\n",
        "  fi\n",
        "  for PKG in `echo $JULIA_PACKAGES`; do\n",
        "    echo \"Installing Julia package $PKG...\"\n",
        "    julia -e 'using Pkg; pkg\"add '$PKG'; precompile;\"' &> /dev/null\n",
        "  done\n",
        "\n",
        "  # Install kernel and rename it to \"julia\"\n",
        "  echo \"Installing IJulia kernel...\"\n",
        "  julia -e 'using IJulia; IJulia.installkernel(\"julia\", env=Dict(\n",
        "      \"JULIA_NUM_THREADS\"=>\"'\"$JULIA_NUM_THREADS\"'\"))'\n",
        "  KERNEL_DIR=`julia -e \"using IJulia; print(IJulia.kerneldir())\"`\n",
        "  KERNEL_NAME=`ls -d \"$KERNEL_DIR\"/julia*`\n",
        "  mv -f $KERNEL_NAME \"$KERNEL_DIR\"/julia\n",
        "\n",
        "  echo ''\n",
        "  echo \"Successfully installed `julia -v`!\"\n",
        "  echo \"Please reload this page (press Ctrl+R, ⌘+R, or the F5 key) then\"\n",
        "  echo \"jump to the 'Checking the Installation' section.\"\n",
        "fi"
      ],
      "execution_count": null,
      "outputs": [
        {
          "output_type": "stream",
          "name": "stdout",
          "text": [
            "Installing Julia 1.8.2 on the current Colab Runtime...\n",
            "2024-03-31 10:36:51 URL:https://storage.googleapis.com/julialang2/bin/linux/x64/1.8/julia-1.8.2-linux-x86_64.tar.gz [135859273/135859273] -> \"/tmp/julia.tar.gz\" [1]\n",
            "Installing Julia package IJulia...\n",
            "Installing Julia package BenchmarkTools...\n",
            "Installing IJulia kernel...\n",
            "\u001b[36m\u001b[1m[ \u001b[22m\u001b[39m\u001b[36m\u001b[1mInfo: \u001b[22m\u001b[39mInstalling julia kernelspec in /root/.local/share/jupyter/kernels/julia-1.8\n",
            "\n",
            "Successfully installed julia version 1.8.2!\n",
            "Please reload this page (press Ctrl+R, ⌘+R, or the F5 key) then\n",
            "jump to the 'Checking the Installation' section.\n"
          ]
        },
        {
          "output_type": "execute_result",
          "data": {
            "text/plain": []
          },
          "metadata": {},
          "execution_count": 1
        }
      ]
    },
    {
      "cell_type": "markdown",
      "metadata": {
        "id": "-OS3Ac017T1i"
      },
      "source": [
        "# Checking the Installation\n",
        "The `versioninfo()` function should print your Julia version and some other info about the system:"
      ]
    },
    {
      "cell_type": "code",
      "metadata": {
        "id": "EEzvvzCl1i0F",
        "colab": {
          "base_uri": "https://localhost:8080/"
        },
        "outputId": "4d1ff9db-bc49-403b-eee6-e9f04e0b603b"
      },
      "source": [
        "versioninfo()"
      ],
      "execution_count": 1,
      "outputs": [
        {
          "output_type": "stream",
          "name": "stdout",
          "text": [
            "Julia Version 1.8.2\n",
            "Commit 36034abf260 (2022-09-29 15:21 UTC)\n",
            "Platform Info:\n",
            "  OS: Linux (x86_64-linux-gnu)\n",
            "  CPU: 2 × Intel(R) Xeon(R) CPU @ 2.20GHz\n",
            "  WORD_SIZE: 64\n",
            "  LIBM: libopenlibm\n",
            "  LLVM: libLLVM-13.0.1 (ORCJIT, broadwell)\n",
            "  Threads: 2 on 2 virtual cores\n",
            "Environment:\n",
            "  LD_LIBRARY_PATH = /usr/local/nvidia/lib:/usr/local/nvidia/lib64\n",
            "  JULIA_NUM_THREADS = 2\n"
          ]
        }
      ]
    },
    {
      "cell_type": "code",
      "source": [
        "using BenchmarkTools\n",
        "\n",
        "M = rand(2^11, 2^11)\n",
        "\n",
        "@btime $M * $M;"
      ],
      "metadata": {
        "colab": {
          "base_uri": "https://localhost:8080/"
        },
        "id": "YjM_qq54lCcs",
        "outputId": "61d783d0-057a-4250-941a-381a708939e9"
      },
      "execution_count": 2,
      "outputs": [
        {
          "output_type": "stream",
          "name": "stdout",
          "text": [
            "  558.512 ms (2 allocations: 32.00 MiB)\n"
          ]
        }
      ]
    },
    {
      "cell_type": "code",
      "metadata": {
        "id": "XciCcMAJOT3_",
        "colab": {
          "base_uri": "https://localhost:8080/"
        },
        "outputId": "1c490b63-37e1-438b-fa44-fae85c33a8df"
      },
      "source": [
        "try\n",
        "    using CUDA\n",
        "catch\n",
        "    println(\"No GPU found.\")\n",
        "else\n",
        "    run(`nvidia-smi`)\n",
        "    # Create a new random matrix directly on the GPU:\n",
        "    M_on_gpu = CUDA.CURAND.rand(2^11, 2^11)\n",
        "    @btime $M_on_gpu * $M_on_gpu; nothing\n",
        "end"
      ],
      "execution_count": 3,
      "outputs": [
        {
          "output_type": "stream",
          "name": "stdout",
          "text": [
            "No GPU found.\n"
          ]
        }
      ]
    },
    {
      "cell_type": "code",
      "source": [
        "using Pkg\n",
        "Pkg.add(\"Graphs\")\n",
        "Pkg.add(\"GraphIO\")\n",
        "#Pkg.add(\"Plots\")\n",
        "#Pkg.add(\"LightGraphs\")\n",
        "Pkg.add(\"Random\")\n",
        "Pkg.add(\"StatsBase\")\n",
        "Pkg.add(\"Distributions\")"
      ],
      "metadata": {
        "id": "pwI5NpLsm4yS",
        "outputId": "dcbdae22-109f-4fc7-873b-d2153c583461",
        "colab": {
          "base_uri": "https://localhost:8080/"
        }
      },
      "execution_count": 12,
      "outputs": [
        {
          "output_type": "stream",
          "name": "stderr",
          "text": [
            "\u001b[32m\u001b[1m   Resolving\u001b[22m\u001b[39m package versions...\n",
            "\u001b[32m\u001b[1m  No Changes\u001b[22m\u001b[39m to `~/.julia/environments/v1.8/Project.toml`\n",
            "\u001b[32m\u001b[1m  No Changes\u001b[22m\u001b[39m to `~/.julia/environments/v1.8/Manifest.toml`\n",
            "\u001b[32m\u001b[1m   Resolving\u001b[22m\u001b[39m package versions...\n",
            "\u001b[32m\u001b[1m  No Changes\u001b[22m\u001b[39m to `~/.julia/environments/v1.8/Project.toml`\n",
            "\u001b[32m\u001b[1m  No Changes\u001b[22m\u001b[39m to `~/.julia/environments/v1.8/Manifest.toml`\n",
            "\u001b[32m\u001b[1m   Resolving\u001b[22m\u001b[39m package versions...\n",
            "\u001b[32m\u001b[1m  No Changes\u001b[22m\u001b[39m to `~/.julia/environments/v1.8/Project.toml`\n",
            "\u001b[32m\u001b[1m  No Changes\u001b[22m\u001b[39m to `~/.julia/environments/v1.8/Manifest.toml`\n",
            "\u001b[32m\u001b[1m   Resolving\u001b[22m\u001b[39m package versions...\n",
            "\u001b[32m\u001b[1m  No Changes\u001b[22m\u001b[39m to `~/.julia/environments/v1.8/Project.toml`\n",
            "\u001b[32m\u001b[1m  No Changes\u001b[22m\u001b[39m to `~/.julia/environments/v1.8/Manifest.toml`\n",
            "\u001b[32m\u001b[1m   Resolving\u001b[22m\u001b[39m package versions...\n",
            "\u001b[32m\u001b[1m  No Changes\u001b[22m\u001b[39m to `~/.julia/environments/v1.8/Project.toml`\n",
            "\u001b[32m\u001b[1m  No Changes\u001b[22m\u001b[39m to `~/.julia/environments/v1.8/Manifest.toml`\n"
          ]
        }
      ]
    },
    {
      "cell_type": "markdown",
      "source": [
        "Small-world model"
      ],
      "metadata": {
        "id": "p4Vvbplln5xC"
      }
    },
    {
      "cell_type": "code",
      "source": [
        "using Graphs\n",
        "using GraphIO\n",
        "\n",
        "function small_world_network(n::Int, k::Int, p::Float64)\n",
        "\n",
        "  g = Graphs.SimpleGraph(n)\n",
        "  neighbor=div(k,2)\n",
        "\n",
        "  #We create a ring network\n",
        "  for node in 1:n\n",
        "    for k in 1:neighbor\n",
        "      k1=node+k\n",
        "      k2=node+n-k\n",
        "\n",
        "      if k1>n\n",
        "        Graphs.add_edge!(g, node, k1%n)\n",
        "      else\n",
        "        Graphs.add_edge!(g, node, k1)\n",
        "      end\n",
        "\n",
        "      if k2>n\n",
        "        Graphs.add_edge!(g, node, k2%n)\n",
        "      else\n",
        "        Graphs.add_edge!(g, node, k2)\n",
        "      end\n",
        "    end\n",
        "  end\n",
        "\n",
        "  #We change randomly edge connections to add higher clustering\n",
        "  for edge in Graphs.edges(g)\n",
        "    if rand() < p\n",
        "\n",
        "      u, v = Graphs.src(edge), Graphs.dst(edge)\n",
        "      target = rand(1:n)\n",
        "\n",
        "      #Not self loops or previous or multi-edge allowed\n",
        "      while target == u || Graphs.has_edge(g, u, target)\n",
        "          target = rand(1:n)\n",
        "      end\n",
        "\n",
        "      Graphs.rem_edge!(g, edge)\n",
        "      Graphs.add_edge!(g, u, target)\n",
        "\n",
        "    end\n",
        "  end\n",
        "\n",
        "  return g\n",
        "\n",
        "end"
      ],
      "metadata": {
        "colab": {
          "base_uri": "https://localhost:8080/"
        },
        "id": "L1TlEAMvCbLx",
        "outputId": "9964f359-5c4e-4406-8060-8b0ddc81c975"
      },
      "execution_count": 29,
      "outputs": [
        {
          "output_type": "execute_result",
          "data": {
            "text/plain": [
              "small_world_network (generic function with 1 method)"
            ]
          },
          "metadata": {},
          "execution_count": 29
        }
      ]
    },
    {
      "cell_type": "code",
      "source": [
        "using Graphs\n",
        "\n",
        "Graphs.SimpleGraph(3)"
      ],
      "metadata": {
        "colab": {
          "base_uri": "https://localhost:8080/"
        },
        "id": "YCWxDqmdRr3w",
        "outputId": "6993007e-83ea-4f98-b1db-7e2de0d6959f"
      },
      "execution_count": 21,
      "outputs": [
        {
          "output_type": "execute_result",
          "data": {
            "text/plain": [
              "{3, 0} undirected simple Int64 graph"
            ]
          },
          "metadata": {},
          "execution_count": 21
        }
      ]
    },
    {
      "cell_type": "markdown",
      "source": [
        "Saving graph in NET format"
      ],
      "metadata": {
        "id": "14igiogeoL7B"
      }
    },
    {
      "cell_type": "code",
      "source": [
        "using Graphs\n",
        "\n",
        " # Save the network to a Pajek (.net) file\n",
        "function savegraph_net(g::Graphs.SimpleGraph{Int}, gname::String)\n",
        "\n",
        "  num_vertices=Graphs.nv(g)\n",
        "  file=gname*\".net\"\n",
        "\n",
        "  open(file, \"w\") do io\n",
        "      println(io, \"*Vertices \", num_vertices)\n",
        "\n",
        "      for v in 1:num_vertices\n",
        "        println(io, v, ' ','\"', v, '\"')\n",
        "      end\n",
        "\n",
        "      println(io, \"*Edges\")\n",
        "      for e in Graphs.edges(g)\n",
        "          println(io, Graphs.src(e), ' ', Graphs.dst(e))\n",
        "      end\n",
        "  end\n",
        "end"
      ],
      "metadata": {
        "colab": {
          "base_uri": "https://localhost:8080/"
        },
        "id": "Nh3WzmnQtl82",
        "outputId": "0b4e7ae7-8c2b-4910-d500-dbdbf6c597c3"
      },
      "execution_count": 36,
      "outputs": [
        {
          "output_type": "execute_result",
          "data": {
            "text/plain": [
              "savegraph_net (generic function with 1 method)"
            ]
          },
          "metadata": {},
          "execution_count": 36
        }
      ]
    },
    {
      "cell_type": "code",
      "source": [
        "savegraph_net(g,\"Test3\")"
      ],
      "metadata": {
        "id": "hVfbBvslSdej"
      },
      "execution_count": null,
      "outputs": []
    },
    {
      "cell_type": "markdown",
      "source": [
        "Test using the Julia functions"
      ],
      "metadata": {
        "id": "Z_tXxkyLTdcS"
      }
    },
    {
      "cell_type": "code",
      "source": [
        "using Graphs\n",
        "test=Graphs.newman_watts_strogatz(1000, 15, 0.3)\n"
      ],
      "metadata": {
        "colab": {
          "base_uri": "https://localhost:8080/"
        },
        "id": "UtLPqzPFTczq",
        "outputId": "1571d4ab-e981-4c6f-faeb-64290d21be3f"
      },
      "execution_count": 15,
      "outputs": [
        {
          "output_type": "execute_result",
          "data": {
            "text/plain": [
              "{1000, 9114} undirected simple Int64 graph"
            ]
          },
          "metadata": {},
          "execution_count": 15
        }
      ]
    },
    {
      "cell_type": "code",
      "source": [
        "test2=small_world_network(1000, 15, 1.0)"
      ],
      "metadata": {
        "colab": {
          "base_uri": "https://localhost:8080/"
        },
        "id": "lXVDYgxhgtrj",
        "outputId": "5c604392-81ea-4097-b36c-415970034fd4"
      },
      "execution_count": 39,
      "outputs": [
        {
          "output_type": "execute_result",
          "data": {
            "text/plain": [
              "{1000, 7000} undirected simple Int64 graph"
            ]
          },
          "metadata": {},
          "execution_count": 39
        }
      ]
    },
    {
      "cell_type": "code",
      "source": [
        "savegraph_net(test2,\"ok\")"
      ],
      "metadata": {
        "id": "cGVt_r4TrCuu"
      },
      "execution_count": 40,
      "outputs": []
    },
    {
      "cell_type": "code",
      "source": [
        "degree(test2)"
      ],
      "metadata": {
        "colab": {
          "base_uri": "https://localhost:8080/"
        },
        "id": "_ommIG1ErTfE",
        "outputId": "9f79c946-9f49-43ad-df46-3b2bdcae6cf5"
      },
      "execution_count": null,
      "outputs": [
        {
          "output_type": "execute_result",
          "data": {
            "text/plain": [
              "1000-element Vector{Int64}:\n",
              " 16\n",
              " 17\n",
              " 15\n",
              " 15\n",
              " 15\n",
              " 15\n",
              " 17\n",
              " 18\n",
              " 17\n",
              " 14\n",
              " 16\n",
              " 13\n",
              " 15\n",
              "  ⋮\n",
              " 11\n",
              " 14\n",
              " 13\n",
              " 14\n",
              " 13\n",
              " 13\n",
              " 16\n",
              " 12\n",
              " 12\n",
              " 13\n",
              " 15\n",
              " 10"
            ]
          },
          "metadata": {},
          "execution_count": 169
        }
      ]
    },
    {
      "cell_type": "markdown",
      "source": [
        "Configuration Model"
      ],
      "metadata": {
        "id": "YPw_FCPUoo9Z"
      }
    },
    {
      "cell_type": "code",
      "source": [
        "using Graphs\n",
        "using Random\n",
        "\n",
        "function configuration_model(degree_distribution::Vector{Int})\n",
        "\n",
        "    num_nodes = length(degree_distribution)\n",
        "\n",
        "\n",
        "    total_stubs = sum(degree_distribution)\n",
        "\n",
        "    # In case total degrees is odd, make it even\n",
        "    if total_stubs % 2 != 0\n",
        "        idx = rand(1:num_nodes)\n",
        "        degree_distribution[idx] += 1\n",
        "        total_stubs += 1\n",
        "    end\n",
        "\n",
        "    # Create as many stubs as the degree of each node\n",
        "    stubs = []\n",
        "    for (node, degree) in enumerate(degree_distribution)\n",
        "        for _ in 1:degree\n",
        "            push!(stubs, node)\n",
        "        end\n",
        "    end\n",
        "\n",
        "    # Randomly order the stubs\n",
        "    Random.shuffle!(stubs)\n",
        "\n",
        "    graph = Graphs.SimpleGraph(num_nodes)\n",
        "\n",
        "    while length(stubs) >= 2\n",
        "        u = pop!(stubs)\n",
        "        v = pop!(stubs)\n",
        "\n",
        "        # Avoiding self-loops and multiple edges\n",
        "        if u != v && !Graphs.has_edge(graph, u, v)\n",
        "            Graphs.add_edge!(graph, u, v)\n",
        "        end\n",
        "    end\n",
        "\n",
        "    return graph\n",
        "end"
      ],
      "metadata": {
        "colab": {
          "base_uri": "https://localhost:8080/"
        },
        "id": "q15zyeAOO57F",
        "outputId": "87253e7d-f00f-4562-8e0f-ec7d96212ae0"
      },
      "execution_count": 80,
      "outputs": [
        {
          "output_type": "execute_result",
          "data": {
            "text/plain": [
              "configuration_model (generic function with 2 methods)"
            ]
          },
          "metadata": {},
          "execution_count": 80
        }
      ]
    },
    {
      "cell_type": "code",
      "source": [
        "degree_distribution = [5, 3, 2, 4, 6, 1, 3]\n",
        "network = configuration_model(degree_distribution)"
      ],
      "metadata": {
        "colab": {
          "base_uri": "https://localhost:8080/"
        },
        "id": "ecKHsE0KciZI",
        "outputId": "f64cc536-9d7c-46af-9b25-0b0d9d7dd0ea"
      },
      "execution_count": 81,
      "outputs": [
        {
          "output_type": "execute_result",
          "data": {
            "text/plain": [
              "{7, 8} undirected simple Int64 graph"
            ]
          },
          "metadata": {},
          "execution_count": 81
        }
      ]
    },
    {
      "cell_type": "code",
      "source": [
        "savegraph_net(network,\"CM\")"
      ],
      "metadata": {
        "id": "yhcXhvOoVB7f"
      },
      "execution_count": 82,
      "outputs": []
    },
    {
      "cell_type": "code",
      "source": [
        "Graphs.degree(network)"
      ],
      "metadata": {
        "colab": {
          "base_uri": "https://localhost:8080/"
        },
        "id": "ouzob_GRVMKk",
        "outputId": "ea84844e-82e3-4ace-e6e4-d0dbe8323ee3"
      },
      "execution_count": 83,
      "outputs": [
        {
          "output_type": "execute_result",
          "data": {
            "text/plain": [
              "7-element Vector{Int64}:\n",
              " 4\n",
              " 2\n",
              " 2\n",
              " 2\n",
              " 3\n",
              " 1\n",
              " 2"
            ]
          },
          "metadata": {},
          "execution_count": 83
        }
      ]
    },
    {
      "cell_type": "markdown",
      "metadata": {
        "id": "8RC1QNNqk6h1"
      },
      "source": [
        "# Need Help?\n",
        "\n",
        "* Learning: https://julialang.org/learning/\n",
        "* Documentation: https://docs.julialang.org/\n",
        "* Questions & Discussions:\n",
        "  * https://discourse.julialang.org/\n",
        "  * http://julialang.slack.com/\n",
        "  * https://stackoverflow.com/questions/tagged/julia\n",
        "\n",
        "If you ever ask for help or file an issue about Julia, you should generally provide the output of `versioninfo()`."
      ]
    },
    {
      "cell_type": "markdown",
      "metadata": {
        "id": "2UMidUQB03vJ"
      },
      "source": [
        "Add new code cells by clicking the `+ Code` button (or _Insert_ > _Code cell_).\n",
        "\n",
        "Have fun!\n",
        "\n",
        "<img src=\"https://raw.githubusercontent.com/JuliaLang/julia-logo-graphics/master/images/julia-logo-mask.png\" height=\"100\" />"
      ]
    }
  ]
}