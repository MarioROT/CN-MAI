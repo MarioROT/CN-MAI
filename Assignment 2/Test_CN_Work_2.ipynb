{
  "cells": [
    {
      "cell_type": "markdown",
      "metadata": {
        "id": "tQ1r1bbb0yBv"
      },
      "source": [
        "# <img src=\"https://github.com/JuliaLang/julia-logo-graphics/raw/master/images/julia-logo-color.png\" height=\"100\" /> _Colab Notebook Template_\n",
        "\n",
        "## Instructions\n",
        "1. Work on a copy of this notebook: _File_ > _Save a copy in Drive_ (you will need a Google account). Alternatively, you can download the notebook using _File_ > _Download .ipynb_, then upload it to [Colab](https://colab.research.google.com/).\n",
        "2. If you need a GPU: _Runtime_ > _Change runtime type_ > _Harware accelerator_ = _GPU_.\n",
        "3. Execute the following cell (click on it and press Ctrl+Enter) to install Julia, IJulia and other packages (if needed, update `JULIA_VERSION` and the other parameters). This takes a couple of minutes.\n",
        "4. Reload this page (press Ctrl+R, or ⌘+R, or the F5 key) and continue to the next section.\n",
        "\n",
        "_Notes_:\n",
        "* If your Colab Runtime gets reset (e.g., due to inactivity), repeat steps 2, 3 and 4.\n",
        "* After installation, if you want to change the Julia version or activate/deactivate the GPU, you will need to reset the Runtime: _Runtime_ > _Factory reset runtime_ and repeat steps 3 and 4."
      ]
    },
    {
      "cell_type": "code",
      "execution_count": null,
      "metadata": {
        "colab": {
          "base_uri": "https://localhost:8080/"
        },
        "id": "GIeFXS0F0zww",
        "outputId": "63d269c6-c26a-41f2-bfca-a6efda48d05a"
      },
      "outputs": [
        {
          "name": "stdout",
          "output_type": "stream",
          "text": [
            "Installing Julia 1.8.2 on the current Colab Runtime...\n",
            "2024-03-10 13:11:29 URL:https://julialang-s3.julialang.org/bin/linux/x64/1.8/julia-1.8.2-linux-x86_64.tar.gz [135859273/135859273] -> \"/tmp/julia.tar.gz\" [1]\n",
            "Installing Julia package IJulia...\n",
            "Installing Julia package BenchmarkTools...\n",
            "Installing IJulia kernel...\n",
            "\u001b[36m\u001b[1m[ \u001b[22m\u001b[39m\u001b[36m\u001b[1mInfo: \u001b[22m\u001b[39mInstalling julia kernelspec in /root/.local/share/jupyter/kernels/julia-1.8\n",
            "\n",
            "Successfully installed julia version 1.8.2!\n",
            "Please reload this page (press Ctrl+R, ⌘+R, or the F5 key) then\n",
            "jump to the 'Checking the Installation' section.\n"
          ]
        },
        {
          "data": {
            "text/plain": []
          },
          "execution_count": 1,
          "metadata": {},
          "output_type": "execute_result"
        }
      ],
      "source": [
        "%%shell\n",
        "set -e\n",
        "\n",
        "#---------------------------------------------------#\n",
        "JULIA_VERSION=\"1.8.2\" # any version ≥ 0.7.0\n",
        "JULIA_PACKAGES=\"IJulia BenchmarkTools\"\n",
        "JULIA_PACKAGES_IF_GPU=\"CUDA\" # or CuArrays for older Julia versions\n",
        "JULIA_NUM_THREADS=2\n",
        "#---------------------------------------------------#\n",
        "\n",
        "if [ -z `which julia` ]; then\n",
        "  # Install Julia\n",
        "  JULIA_VER=`cut -d '.' -f -2 <<< \"$JULIA_VERSION\"`\n",
        "  echo \"Installing Julia $JULIA_VERSION on the current Colab Runtime...\"\n",
        "  BASE_URL=\"https://julialang-s3.julialang.org/bin/linux/x64\"\n",
        "  URL=\"$BASE_URL/$JULIA_VER/julia-$JULIA_VERSION-linux-x86_64.tar.gz\"\n",
        "  wget -nv $URL -O /tmp/julia.tar.gz # -nv means \"not verbose\"\n",
        "  tar -x -f /tmp/julia.tar.gz -C /usr/local --strip-components 1\n",
        "  rm /tmp/julia.tar.gz\n",
        "\n",
        "  # Install Packages\n",
        "  nvidia-smi -L &> /dev/null && export GPU=1 || export GPU=0\n",
        "  if [ $GPU -eq 1 ]; then\n",
        "    JULIA_PACKAGES=\"$JULIA_PACKAGES $JULIA_PACKAGES_IF_GPU\"\n",
        "  fi\n",
        "  for PKG in `echo $JULIA_PACKAGES`; do\n",
        "    echo \"Installing Julia package $PKG...\"\n",
        "    julia -e 'using Pkg; pkg\"add '$PKG'; precompile;\"' &> /dev/null\n",
        "  done\n",
        "\n",
        "  # Install kernel and rename it to \"julia\"\n",
        "  echo \"Installing IJulia kernel...\"\n",
        "  julia -e 'using IJulia; IJulia.installkernel(\"julia\", env=Dict(\n",
        "      \"JULIA_NUM_THREADS\"=>\"'\"$JULIA_NUM_THREADS\"'\"))'\n",
        "  KERNEL_DIR=`julia -e \"using IJulia; print(IJulia.kerneldir())\"`\n",
        "  KERNEL_NAME=`ls -d \"$KERNEL_DIR\"/julia*`\n",
        "  mv -f $KERNEL_NAME \"$KERNEL_DIR\"/julia\n",
        "\n",
        "  echo ''\n",
        "  echo \"Successfully installed `julia -v`!\"\n",
        "  echo \"Please reload this page (press Ctrl+R, ⌘+R, or the F5 key) then\"\n",
        "  echo \"jump to the 'Checking the Installation' section.\"\n",
        "fi"
      ]
    },
    {
      "cell_type": "markdown",
      "metadata": {
        "id": "-OS3Ac017T1i"
      },
      "source": [
        "# Checking the Installation\n",
        "The `versioninfo()` function should print your Julia version and some other info about the system:"
      ]
    },
    {
      "cell_type": "code",
      "execution_count": null,
      "metadata": {
        "colab": {
          "base_uri": "https://localhost:8080/"
        },
        "id": "EEzvvzCl1i0F",
        "outputId": "620ea1d3-5328-4a39-b506-9d62b8a468b6"
      },
      "outputs": [
        {
          "name": "stdout",
          "output_type": "stream",
          "text": [
            "Julia Version 1.8.2\n",
            "Commit 36034abf260 (2022-09-29 15:21 UTC)\n",
            "Platform Info:\n",
            "  OS: Linux (x86_64-linux-gnu)\n",
            "  CPU: 2 × Intel(R) Xeon(R) CPU @ 2.20GHz\n",
            "  WORD_SIZE: 64\n",
            "  LIBM: libopenlibm\n",
            "  LLVM: libLLVM-13.0.1 (ORCJIT, broadwell)\n",
            "  Threads: 2 on 2 virtual cores\n",
            "Environment:\n",
            "  LD_LIBRARY_PATH = /usr/local/nvidia/lib:/usr/local/nvidia/lib64\n",
            "  JULIA_NUM_THREADS = 2\n"
          ]
        }
      ],
      "source": [
        "versioninfo()"
      ]
    },
    {
      "cell_type": "code",
      "execution_count": null,
      "metadata": {
        "colab": {
          "base_uri": "https://localhost:8080/"
        },
        "id": "YjM_qq54lCcs",
        "outputId": "1a30808e-f397-4ddc-d578-832b4081cbf8"
      },
      "outputs": [
        {
          "name": "stdout",
          "output_type": "stream",
          "text": [
            "  502.491 ms (2 allocations: 32.00 MiB)\n"
          ]
        }
      ],
      "source": [
        "using BenchmarkTools\n",
        "\n",
        "M = rand(2^11, 2^11)\n",
        "\n",
        "@btime $M * $M;"
      ]
    },
    {
      "cell_type": "code",
      "execution_count": null,
      "metadata": {
        "colab": {
          "base_uri": "https://localhost:8080/"
        },
        "id": "XciCcMAJOT3_",
        "outputId": "0dfac6cd-499c-4fd6-d9c1-d2df5953f393"
      },
      "outputs": [
        {
          "name": "stdout",
          "output_type": "stream",
          "text": [
            "No GPU found.\n"
          ]
        }
      ],
      "source": [
        "try\n",
        "    using CUDA\n",
        "catch\n",
        "    println(\"No GPU found.\")\n",
        "else\n",
        "    run(`nvidia-smi`)\n",
        "    # Create a new random matrix directly on the GPU:\n",
        "    M_on_gpu = CUDA.CURAND.rand(2^11, 2^11)\n",
        "    @btime $M_on_gpu * $M_on_gpu; nothing\n",
        "end"
      ]
    },
    {
      "cell_type": "code",
      "execution_count": null,
      "metadata": {
        "colab": {
          "base_uri": "https://localhost:8080/"
        },
        "id": "pwI5NpLsm4yS",
        "outputId": "35ef38c9-12d9-4f3b-9587-e6e5957103d2"
      },
      "outputs": [
        {
          "name": "stderr",
          "output_type": "stream",
          "text": [
            "\u001b[32m\u001b[1m    Updating\u001b[22m\u001b[39m registry at `~/.julia/registries/General.toml`\n",
            "\u001b[32m\u001b[1m   Resolving\u001b[22m\u001b[39m package versions...\n",
            "\u001b[32m\u001b[1m   Installed\u001b[22m\u001b[39m Inflate ──────────── v0.1.4\n",
            "\u001b[32m\u001b[1m   Installed\u001b[22m\u001b[39m OrderedCollections ─ v1.6.3\n",
            "\u001b[32m\u001b[1m   Installed\u001b[22m\u001b[39m StaticArraysCore ─── v1.4.2\n",
            "\u001b[32m\u001b[1m   Installed\u001b[22m\u001b[39m ArnoldiMethod ────── v0.2.0\n",
            "\u001b[32m\u001b[1m   Installed\u001b[22m\u001b[39m MacroTools ───────── v0.5.13\n",
            "\u001b[32m\u001b[1m   Installed\u001b[22m\u001b[39m DataStructures ───── v0.18.18\n",
            "\u001b[32m\u001b[1m   Installed\u001b[22m\u001b[39m StaticArrays ─────── v1.9.3\n",
            "\u001b[32m\u001b[1m   Installed\u001b[22m\u001b[39m Compat ───────────── v4.14.0\n",
            "\u001b[32m\u001b[1m   Installed\u001b[22m\u001b[39m SimpleTraits ─────── v0.9.4\n",
            "\u001b[32m\u001b[1m   Installed\u001b[22m\u001b[39m Graphs ───────────── v1.9.0\n",
            "\u001b[32m\u001b[1m    Updating\u001b[22m\u001b[39m `~/.julia/environments/v1.8/Project.toml`\n",
            " \u001b[90m [86223c79] \u001b[39m\u001b[92m+ Graphs v1.9.0\u001b[39m\n",
            "\u001b[32m\u001b[1m    Updating\u001b[22m\u001b[39m `~/.julia/environments/v1.8/Manifest.toml`\n",
            "\u001b[33m⌅\u001b[39m\u001b[90m [ec485272] \u001b[39m\u001b[92m+ ArnoldiMethod v0.2.0\u001b[39m\n",
            " \u001b[90m [34da2185] \u001b[39m\u001b[92m+ Compat v4.14.0\u001b[39m\n",
            " \u001b[90m [864edb3b] \u001b[39m\u001b[92m+ DataStructures v0.18.18\u001b[39m\n",
            " \u001b[90m [86223c79] \u001b[39m\u001b[92m+ Graphs v1.9.0\u001b[39m\n",
            " \u001b[90m [d25df0c9] \u001b[39m\u001b[92m+ Inflate v0.1.4\u001b[39m\n",
            " \u001b[90m [1914dd2f] \u001b[39m\u001b[92m+ MacroTools v0.5.13\u001b[39m\n",
            " \u001b[90m [bac558e1] \u001b[39m\u001b[92m+ OrderedCollections v1.6.3\u001b[39m\n",
            " \u001b[90m [699a6c99] \u001b[39m\u001b[92m+ SimpleTraits v0.9.4\u001b[39m\n",
            " \u001b[90m [90137ffa] \u001b[39m\u001b[92m+ StaticArrays v1.9.3\u001b[39m\n",
            " \u001b[90m [1e83bf80] \u001b[39m\u001b[92m+ StaticArraysCore v1.4.2\u001b[39m\n",
            " \u001b[90m [8ba89e20] \u001b[39m\u001b[92m+ Distributed\u001b[39m\n",
            " \u001b[90m [1a1011a3] \u001b[39m\u001b[92m+ SharedArrays\u001b[39m\n",
            "\u001b[36m\u001b[1m        Info\u001b[22m\u001b[39m Packages marked with \u001b[33m⌅\u001b[39m have new versions available but compatibility constraints restrict them from upgrading. To see why use `status --outdated -m`\n",
            "\u001b[32m\u001b[1mPrecompiling\u001b[22m\u001b[39m project...\n",
            "\u001b[32m  ✓ \u001b[39m\u001b[90mStaticArraysCore\u001b[39m\n",
            "\u001b[32m  ✓ \u001b[39m\u001b[90mOrderedCollections\u001b[39m\n",
            "\u001b[32m  ✓ \u001b[39m\u001b[90mCompat\u001b[39m\n",
            "\u001b[32m  ✓ \u001b[39m\u001b[90mInflate\u001b[39m\n",
            "\u001b[32m  ✓ \u001b[39m\u001b[90mMacroTools\u001b[39m\n",
            "\u001b[32m  ✓ \u001b[39m\u001b[90mDataStructures\u001b[39m\n",
            "\u001b[32m  ✓ \u001b[39m\u001b[90mSimpleTraits\u001b[39m\n",
            "\u001b[32m  ✓ \u001b[39m\u001b[90mStaticArrays\u001b[39m\n",
            "\u001b[32m  ✓ \u001b[39m\u001b[90mArnoldiMethod\u001b[39m\n",
            "\u001b[32m  ✓ \u001b[39mGraphs\n",
            "  10 dependencies successfully precompiled in 24 seconds. 20 already precompiled.\n",
            "\u001b[32m\u001b[1m   Resolving\u001b[22m\u001b[39m package versions...\n",
            "\u001b[32m\u001b[1m   Installed\u001b[22m\u001b[39m Requires ─ v1.3.0\n",
            "\u001b[32m\u001b[1m   Installed\u001b[22m\u001b[39m GraphIO ── v0.7.0\n",
            "\u001b[32m\u001b[1m    Updating\u001b[22m\u001b[39m `~/.julia/environments/v1.8/Project.toml`\n",
            " \u001b[90m [aa1b3936] \u001b[39m\u001b[92m+ GraphIO v0.7.0\u001b[39m\n",
            "\u001b[32m\u001b[1m    Updating\u001b[22m\u001b[39m `~/.julia/environments/v1.8/Manifest.toml`\n",
            " \u001b[90m [aa1b3936] \u001b[39m\u001b[92m+ GraphIO v0.7.0\u001b[39m\n",
            " \u001b[90m [ae029012] \u001b[39m\u001b[92m+ Requires v1.3.0\u001b[39m\n",
            " \u001b[90m [8bb1440f] \u001b[39m\u001b[92m+ DelimitedFiles\u001b[39m\n",
            "\u001b[32m\u001b[1mPrecompiling\u001b[22m\u001b[39m project...\n",
            "\u001b[32m  ✓ \u001b[39m\u001b[90mRequires\u001b[39m\n",
            "\u001b[32m  ✓ \u001b[39mGraphIO\n",
            "  2 dependencies successfully precompiled in 3 seconds. 30 already precompiled.\n",
            "\u001b[32m\u001b[1m   Resolving\u001b[22m\u001b[39m package versions...\n",
            "\u001b[32m\u001b[1m   Installed\u001b[22m\u001b[39m GR_jll ─────────────────────── v0.72.10+0\n",
            "\u001b[32m\u001b[1m   Installed\u001b[22m\u001b[39m JpegTurbo_jll ──────────────── v3.0.2+0\n",
            "\u001b[32m\u001b[1m   Installed\u001b[22m\u001b[39m x265_jll ───────────────────── v3.5.0+0\n",
            "\u001b[32m\u001b[1m   Installed\u001b[22m\u001b[39m libfdk_aac_jll ─────────────── v2.0.2+0\n",
            "\u001b[32m\u001b[1m   Installed\u001b[22m\u001b[39m LERC_jll ───────────────────── v3.0.0+1\n",
            "\u001b[32m\u001b[1m   Installed\u001b[22m\u001b[39m Opus_jll ───────────────────── v1.3.2+0\n",
            "\u001b[32m\u001b[1m   Installed\u001b[22m\u001b[39m LoggingExtras ──────────────── v1.0.3\n",
            "\u001b[32m\u001b[1m   Installed\u001b[22m\u001b[39m Xorg_xkbcomp_jll ───────────── v1.4.6+0\n",
            "\u001b[32m\u001b[1m   Installed\u001b[22m\u001b[39m RelocatableFolders ─────────── v1.0.1\n",
            "\u001b[32m\u001b[1m   Installed\u001b[22m\u001b[39m Measures ───────────────────── v0.3.2\n",
            "\u001b[32m\u001b[1m   Installed\u001b[22m\u001b[39m Contour ────────────────────── v0.6.2\n",
            "\u001b[32m\u001b[1m   Installed\u001b[22m\u001b[39m ConcurrentUtilities ────────── v2.3.1\n",
            "\u001b[32m\u001b[1m   Installed\u001b[22m\u001b[39m Grisu ──────────────────────── v1.0.2\n",
            "\u001b[32m\u001b[1m   Installed\u001b[22m\u001b[39m Xorg_xcb_util_wm_jll ───────── v0.4.1+1\n",
            "\u001b[32m\u001b[1m   Installed\u001b[22m\u001b[39m PlotUtils ──────────────────── v1.4.1\n",
            "\u001b[32m\u001b[1m   Installed\u001b[22m\u001b[39m RecipesPipeline ────────────── v0.6.12\n",
            "\u001b[32m\u001b[1m   Installed\u001b[22m\u001b[39m OpenSSL ────────────────────── v1.4.2\n",
            "\u001b[32m\u001b[1m   Installed\u001b[22m\u001b[39m Xorg_libpthread_stubs_jll ──── v0.1.1+0\n",
            "\u001b[32m\u001b[1m   Installed\u001b[22m\u001b[39m Xorg_libSM_jll ─────────────── v1.2.3+0\n",
            "\u001b[32m\u001b[1m   Installed\u001b[22m\u001b[39m Cairo_jll ──────────────────── v1.18.0+1\n",
            "\u001b[32m\u001b[1m   Installed\u001b[22m\u001b[39m Xorg_xcb_util_jll ──────────── v0.4.0+1\n",
            "\u001b[32m\u001b[1m   Installed\u001b[22m\u001b[39m HTTP ───────────────────────── v1.10.3\n",
            "\u001b[32m\u001b[1m   Installed\u001b[22m\u001b[39m Fontconfig_jll ─────────────── v2.13.93+0\n",
            "\u001b[32m\u001b[1m   Installed\u001b[22m\u001b[39m Xorg_libxkbfile_jll ────────── v1.1.2+0\n",
            "\u001b[32m\u001b[1m   Installed\u001b[22m\u001b[39m Libgpg_error_jll ───────────── v1.42.0+0\n",
            "\u001b[32m\u001b[1m   Installed\u001b[22m\u001b[39m Xorg_libXinerama_jll ───────── v1.1.4+4\n",
            "\u001b[32m\u001b[1m   Installed\u001b[22m\u001b[39m Xorg_libXau_jll ────────────── v1.0.11+0\n",
            "\u001b[32m\u001b[1m   Installed\u001b[22m\u001b[39m EpollShim_jll ──────────────── v0.0.20230411+0\n",
            "\u001b[32m\u001b[1m   Installed\u001b[22m\u001b[39m Missings ───────────────────── v1.1.0\n",
            "\u001b[32m\u001b[1m   Installed\u001b[22m\u001b[39m FFMPEG ─────────────────────── v0.4.1\n",
            "\u001b[32m\u001b[1m   Installed\u001b[22m\u001b[39m IrrationalConstants ────────── v0.2.2\n",
            "\u001b[32m\u001b[1m   Installed\u001b[22m\u001b[39m Xorg_xcb_util_keysyms_jll ──── v0.4.0+1\n",
            "\u001b[32m\u001b[1m   Installed\u001b[22m\u001b[39m Showoff ────────────────────── v1.0.3\n",
            "\u001b[32m\u001b[1m   Installed\u001b[22m\u001b[39m xkbcommon_jll ──────────────── v1.4.1+1\n",
            "\u001b[32m\u001b[1m   Installed\u001b[22m\u001b[39m Bzip2_jll ──────────────────── v1.0.8+1\n",
            "\u001b[32m\u001b[1m   Installed\u001b[22m\u001b[39m Pipe ───────────────────────── v1.3.0\n",
            "\u001b[32m\u001b[1m   Installed\u001b[22m\u001b[39m XZ_jll ─────────────────────── v5.6.0+0\n",
            "\u001b[32m\u001b[1m   Installed\u001b[22m\u001b[39m SimpleBufferStream ─────────── v1.1.0\n",
            "\u001b[32m\u001b[1m   Installed\u001b[22m\u001b[39m HarfBuzz_jll ───────────────── v2.8.1+1\n",
            "\u001b[32m\u001b[1m   Installed\u001b[22m\u001b[39m LZO_jll ────────────────────── v2.10.1+0\n",
            "\u001b[32m\u001b[1m   Installed\u001b[22m\u001b[39m NaNMath ────────────────────── v1.0.2\n",
            "\u001b[32m\u001b[1m   Installed\u001b[22m\u001b[39m PlotThemes ─────────────────── v3.1.0\n",
            "\u001b[32m\u001b[1m   Installed\u001b[22m\u001b[39m fzf_jll ────────────────────── v0.43.0+0\n",
            "\u001b[32m\u001b[1m   Installed\u001b[22m\u001b[39m TranscodingStreams ─────────── v0.10.4\n",
            "\u001b[32m\u001b[1m   Installed\u001b[22m\u001b[39m FriBidi_jll ────────────────── v1.0.10+0\n",
            "\u001b[32m\u001b[1m   Installed\u001b[22m\u001b[39m UnicodeFun ─────────────────── v0.4.1\n",
            "\u001b[32m\u001b[1m   Installed\u001b[22m\u001b[39m x264_jll ───────────────────── v2021.5.5+0\n",
            "\u001b[32m\u001b[1m   Installed\u001b[22m\u001b[39m GLFW_jll ───────────────────── v3.3.9+0\n",
            "\u001b[32m\u001b[1m   Installed\u001b[22m\u001b[39m ColorSchemes ───────────────── v3.24.0\n",
            "\u001b[32m\u001b[1m   Installed\u001b[22m\u001b[39m FreeType2_jll ──────────────── v2.13.1+0\n",
            "\u001b[32m\u001b[1m   Installed\u001b[22m\u001b[39m JLFzf ──────────────────────── v0.1.7\n",
            "\u001b[32m\u001b[1m   Installed\u001b[22m\u001b[39m Colors ─────────────────────── v0.12.10\n",
            "\u001b[32m\u001b[1m   Installed\u001b[22m\u001b[39m StatsAPI ───────────────────── v1.7.0\n",
            "\u001b[32m\u001b[1m   Installed\u001b[22m\u001b[39m CodecZlib ──────────────────── v0.7.4\n",
            "\u001b[32m\u001b[1m   Installed\u001b[22m\u001b[39m StatsBase ──────────────────── v0.34.2\n",
            "\u001b[32m\u001b[1m   Installed\u001b[22m\u001b[39m Xorg_libxcb_jll ────────────── v1.15.0+0\n",
            "\u001b[32m\u001b[1m   Installed\u001b[22m\u001b[39m libpng_jll ─────────────────── v1.6.43+1\n",
            "\u001b[32m\u001b[1m   Installed\u001b[22m\u001b[39m mtdev_jll ──────────────────── v1.1.6+0\n",
            "\u001b[32m\u001b[1m   Installed\u001b[22m\u001b[39m GR ─────────────────────────── v0.72.10\n",
            "\u001b[32m\u001b[1m   Installed\u001b[22m\u001b[39m libaom_jll ─────────────────── v3.4.0+0\n",
            "\u001b[32m\u001b[1m   Installed\u001b[22m\u001b[39m ExceptionUnwrapping ────────── v0.1.10\n",
            "\u001b[32m\u001b[1m   Installed\u001b[22m\u001b[39m Scratch ────────────────────── v1.2.1\n",
            "\u001b[32m\u001b[1m   Installed\u001b[22m\u001b[39m ColorTypes ─────────────────── v0.11.4\n",
            "\u001b[32m\u001b[1m   Installed\u001b[22m\u001b[39m gperf_jll ──────────────────── v3.1.1+0\n",
            "\u001b[32m\u001b[1m   Installed\u001b[22m\u001b[39m eudev_jll ──────────────────── v3.2.9+0\n",
            "\u001b[32m\u001b[1m   Installed\u001b[22m\u001b[39m Xorg_libXext_jll ───────────── v1.3.4+4\n",
            "\u001b[32m\u001b[1m   Installed\u001b[22m\u001b[39m TensorCore ─────────────────── v0.1.1\n",
            "\u001b[32m\u001b[1m   Installed\u001b[22m\u001b[39m Plots ──────────────────────── v1.39.0\n",
            "\u001b[32m\u001b[1m   Installed\u001b[22m\u001b[39m Xorg_xcb_util_cursor_jll ───── v0.1.4+0\n",
            "\u001b[32m\u001b[1m   Installed\u001b[22m\u001b[39m Zstd_jll ───────────────────── v1.5.5+0\n",
            "\u001b[32m\u001b[1m   Installed\u001b[22m\u001b[39m Expat_jll ──────────────────── v2.5.0+0\n",
            "\u001b[32m\u001b[1m   Installed\u001b[22m\u001b[39m Libtiff_jll ────────────────── v4.5.1+1\n",
            "\u001b[32m\u001b[1m   Installed\u001b[22m\u001b[39m Format ─────────────────────── v1.3.6\n",
            "\u001b[32m\u001b[1m   Installed\u001b[22m\u001b[39m Libffi_jll ─────────────────── v3.2.2+1\n",
            "\u001b[32m\u001b[1m   Installed\u001b[22m\u001b[39m ConstructionBase ───────────── v1.5.4\n",
            "\u001b[32m\u001b[1m   Installed\u001b[22m\u001b[39m ColorVectorSpace ───────────── v0.10.0\n",
            "\u001b[32m\u001b[1m   Installed\u001b[22m\u001b[39m Xorg_libXrender_jll ────────── v0.9.10+4\n",
            "\u001b[32m\u001b[1m   Installed\u001b[22m\u001b[39m libevdev_jll ───────────────── v1.11.0+0\n",
            "\u001b[32m\u001b[1m   Installed\u001b[22m\u001b[39m libinput_jll ───────────────── v1.18.0+0\n",
            "\u001b[32m\u001b[1m   Installed\u001b[22m\u001b[39m Ogg_jll ────────────────────── v1.3.5+1\n",
            "\u001b[32m\u001b[1m   Installed\u001b[22m\u001b[39m ChainRulesCore ─────────────── v1.23.0\n",
            "\u001b[32m\u001b[1m   Installed\u001b[22m\u001b[39m Xorg_libXi_jll ─────────────── v1.7.10+4\n",
            "\u001b[32m\u001b[1m   Installed\u001b[22m\u001b[39m XSLT_jll ───────────────────── v1.1.34+0\n",
            "\u001b[32m\u001b[1m   Installed\u001b[22m\u001b[39m Vulkan_Loader_jll ──────────── v1.3.243+0\n",
            "\u001b[32m\u001b[1m   Installed\u001b[22m\u001b[39m Reexport ───────────────────── v1.2.2\n",
            "\u001b[32m\u001b[1m   Installed\u001b[22m\u001b[39m LogExpFunctions ────────────── v0.3.27\n",
            "\u001b[32m\u001b[1m   Installed\u001b[22m\u001b[39m Xorg_libXcursor_jll ────────── v1.2.0+4\n",
            "\u001b[32m\u001b[1m   Installed\u001b[22m\u001b[39m InverseFunctions ───────────── v0.1.12\n",
            "\u001b[32m\u001b[1m   Installed\u001b[22m\u001b[39m Wayland_protocols_jll ──────── v1.31.0+0\n",
            "\u001b[32m\u001b[1m   Installed\u001b[22m\u001b[39m Libuuid_jll ────────────────── v2.39.3+1\n",
            "\u001b[32m\u001b[1m   Installed\u001b[22m\u001b[39m DocStringExtensions ────────── v0.9.3\n",
            "\u001b[32m\u001b[1m   Installed\u001b[22m\u001b[39m Xorg_xcb_util_renderutil_jll ─ v0.3.9+1\n",
            "\u001b[32m\u001b[1m   Installed\u001b[22m\u001b[39m Graphite2_jll ──────────────── v1.3.14+0\n",
            "\u001b[32m\u001b[1m   Installed\u001b[22m\u001b[39m libass_jll ─────────────────── v0.15.1+0\n",
            "\u001b[32m\u001b[1m   Installed\u001b[22m\u001b[39m Xorg_libICE_jll ────────────── v1.0.10+1\n",
            "\u001b[32m\u001b[1m   Installed\u001b[22m\u001b[39m Pixman_jll ─────────────────── v0.42.2+0\n",
            "\u001b[32m\u001b[1m   Installed\u001b[22m\u001b[39m Wayland_jll ────────────────── v1.21.0+1\n",
            "\u001b[32m\u001b[1m   Installed\u001b[22m\u001b[39m Gettext_jll ────────────────── v0.21.0+0\n",
            "\u001b[32m\u001b[1m   Installed\u001b[22m\u001b[39m Xorg_xtrans_jll ────────────── v1.5.0+0\n",
            "\u001b[32m\u001b[1m   Installed\u001b[22m\u001b[39m XML2_jll ───────────────────── v2.12.5+0\n",
            "\u001b[32m\u001b[1m   Installed\u001b[22m\u001b[39m Latexify ───────────────────── v0.16.2\n",
            "\u001b[32m\u001b[1m   Installed\u001b[22m\u001b[39m OpenSSL_jll ────────────────── v3.0.13+0\n",
            "\u001b[32m\u001b[1m   Installed\u001b[22m\u001b[39m BitFlags ───────────────────── v0.1.8\n",
            "\u001b[32m\u001b[1m   Installed\u001b[22m\u001b[39m FFMPEG_jll ─────────────────── v4.4.4+1\n",
            "\u001b[32m\u001b[1m   Installed\u001b[22m\u001b[39m Xorg_xkeyboard_config_jll ──── v2.39.0+0\n",
            "\u001b[32m\u001b[1m   Installed\u001b[22m\u001b[39m Libgcrypt_jll ──────────────── v1.8.7+0\n",
            "\u001b[32m\u001b[1m   Installed\u001b[22m\u001b[39m DataAPI ────────────────────── v1.16.0\n",
            "\u001b[32m\u001b[1m   Installed\u001b[22m\u001b[39m LLVMOpenMP_jll ─────────────── v15.0.7+0\n",
            "\u001b[32m\u001b[1m   Installed\u001b[22m\u001b[39m Xorg_libXrandr_jll ─────────── v1.5.2+4\n",
            "\u001b[32m\u001b[1m   Installed\u001b[22m\u001b[39m RecipesBase ────────────────── v1.3.4\n",
            "\u001b[32m\u001b[1m   Installed\u001b[22m\u001b[39m FixedPointNumbers ──────────── v0.8.4\n",
            "\u001b[32m\u001b[1m   Installed\u001b[22m\u001b[39m LAME_jll ───────────────────── v3.100.1+0\n",
            "\u001b[32m\u001b[1m   Installed\u001b[22m\u001b[39m Xorg_libXfixes_jll ─────────── v5.0.3+4\n",
            "\u001b[32m\u001b[1m   Installed\u001b[22m\u001b[39m Libiconv_jll ───────────────── v1.17.0+0\n",
            "\u001b[32m\u001b[1m   Installed\u001b[22m\u001b[39m Qt6Base_jll ────────────────── v6.5.3+1\n",
            "\u001b[32m\u001b[1m   Installed\u001b[22m\u001b[39m URIs ───────────────────────── v1.5.1\n",
            "\u001b[32m\u001b[1m   Installed\u001b[22m\u001b[39m libvorbis_jll ──────────────── v1.3.7+1\n",
            "\u001b[32m\u001b[1m   Installed\u001b[22m\u001b[39m Glib_jll ───────────────────── v2.76.5+0\n",
            "\u001b[32m\u001b[1m   Installed\u001b[22m\u001b[39m LaTeXStrings ───────────────── v1.3.1\n",
            "\u001b[32m\u001b[1m   Installed\u001b[22m\u001b[39m Libglvnd_jll ───────────────── v1.6.0+0\n",
            "\u001b[32m\u001b[1m   Installed\u001b[22m\u001b[39m Xorg_libX11_jll ────────────── v1.8.6+0\n",
            "\u001b[32m\u001b[1m   Installed\u001b[22m\u001b[39m Xorg_libXdmcp_jll ──────────── v1.1.4+0\n",
            "\u001b[32m\u001b[1m   Installed\u001b[22m\u001b[39m Unzip ──────────────────────── v0.2.0\n",
            "\u001b[32m\u001b[1m   Installed\u001b[22m\u001b[39m UnitfulLatexify ────────────── v1.6.3\n",
            "\u001b[32m\u001b[1m   Installed\u001b[22m\u001b[39m ChangesOfVariables ─────────── v0.1.8\n",
            "\u001b[32m\u001b[1m   Installed\u001b[22m\u001b[39m SortingAlgorithms ──────────── v1.2.1\n",
            "\u001b[32m\u001b[1m   Installed\u001b[22m\u001b[39m Libmount_jll ───────────────── v2.35.0+0\n",
            "\u001b[32m\u001b[1m   Installed\u001b[22m\u001b[39m Unitful ────────────────────── v1.19.0\n",
            "\u001b[32m\u001b[1m   Installed\u001b[22m\u001b[39m Xorg_xcb_util_image_jll ────── v0.4.0+1\n",
            "\u001b[32m\u001b[1m    Updating\u001b[22m\u001b[39m `~/.julia/environments/v1.8/Project.toml`\n",
            "\u001b[33m⌅\u001b[39m\u001b[90m [91a5bcdd] \u001b[39m\u001b[92m+ Plots v1.39.0\u001b[39m\n",
            "\u001b[32m\u001b[1m    Updating\u001b[22m\u001b[39m `~/.julia/environments/v1.8/Manifest.toml`\n",
            " \u001b[90m [d1d4a3ce] \u001b[39m\u001b[92m+ BitFlags v0.1.8\u001b[39m\n",
            " \u001b[90m [d360d2e6] \u001b[39m\u001b[92m+ ChainRulesCore v1.23.0\u001b[39m\n",
            " \u001b[90m [9e997f8a] \u001b[39m\u001b[92m+ ChangesOfVariables v0.1.8\u001b[39m\n",
            " \u001b[90m [944b1d66] \u001b[39m\u001b[92m+ CodecZlib v0.7.4\u001b[39m\n",
            " \u001b[90m [35d6a980] \u001b[39m\u001b[92m+ ColorSchemes v3.24.0\u001b[39m\n",
            " \u001b[90m [3da002f7] \u001b[39m\u001b[92m+ ColorTypes v0.11.4\u001b[39m\n",
            " \u001b[90m [c3611d14] \u001b[39m\u001b[92m+ ColorVectorSpace v0.10.0\u001b[39m\n",
            " \u001b[90m [5ae59095] \u001b[39m\u001b[92m+ Colors v0.12.10\u001b[39m\n",
            " \u001b[90m [f0e56b4a] \u001b[39m\u001b[92m+ ConcurrentUtilities v2.3.1\u001b[39m\n",
            " \u001b[90m [187b0558] \u001b[39m\u001b[92m+ ConstructionBase v1.5.4\u001b[39m\n",
            " \u001b[90m [d38c429a] \u001b[39m\u001b[92m+ Contour v0.6.2\u001b[39m\n",
            " \u001b[90m [9a962f9c] \u001b[39m\u001b[92m+ DataAPI v1.16.0\u001b[39m\n",
            " \u001b[90m [ffbed154] \u001b[39m\u001b[92m+ DocStringExtensions v0.9.3\u001b[39m\n",
            " \u001b[90m [460bff9d] \u001b[39m\u001b[92m+ ExceptionUnwrapping v0.1.10\u001b[39m\n",
            " \u001b[90m [c87230d0] \u001b[39m\u001b[92m+ FFMPEG v0.4.1\u001b[39m\n",
            " \u001b[90m [53c48c17] \u001b[39m\u001b[92m+ FixedPointNumbers v0.8.4\u001b[39m\n",
            " \u001b[90m [1fa38f19] \u001b[39m\u001b[92m+ Format v1.3.6\u001b[39m\n",
            "\u001b[33m⌅\u001b[39m\u001b[90m [28b8d3ca] \u001b[39m\u001b[92m+ GR v0.72.10\u001b[39m\n",
            " \u001b[90m [42e2da0e] \u001b[39m\u001b[92m+ Grisu v1.0.2\u001b[39m\n",
            " \u001b[90m [cd3eb016] \u001b[39m\u001b[92m+ HTTP v1.10.3\u001b[39m\n",
            " \u001b[90m [3587e190] \u001b[39m\u001b[92m+ InverseFunctions v0.1.12\u001b[39m\n",
            " \u001b[90m [92d709cd] \u001b[39m\u001b[92m+ IrrationalConstants v0.2.2\u001b[39m\n",
            " \u001b[90m [1019f520] \u001b[39m\u001b[92m+ JLFzf v0.1.7\u001b[39m\n",
            " \u001b[90m [b964fa9f] \u001b[39m\u001b[92m+ LaTeXStrings v1.3.1\u001b[39m\n",
            " \u001b[90m [23fbe1c1] \u001b[39m\u001b[92m+ Latexify v0.16.2\u001b[39m\n",
            " \u001b[90m [2ab3a3ac] \u001b[39m\u001b[92m+ LogExpFunctions v0.3.27\u001b[39m\n",
            " \u001b[90m [e6f89c97] \u001b[39m\u001b[92m+ LoggingExtras v1.0.3\u001b[39m\n",
            " \u001b[90m [442fdcdd] \u001b[39m\u001b[92m+ Measures v0.3.2\u001b[39m\n",
            " \u001b[90m [e1d29d7a] \u001b[39m\u001b[92m+ Missings v1.1.0\u001b[39m\n",
            " \u001b[90m [77ba4419] \u001b[39m\u001b[92m+ NaNMath v1.0.2\u001b[39m\n",
            " \u001b[90m [4d8831e6] \u001b[39m\u001b[92m+ OpenSSL v1.4.2\u001b[39m\n",
            " \u001b[90m [b98c9c47] \u001b[39m\u001b[92m+ Pipe v1.3.0\u001b[39m\n",
            " \u001b[90m [ccf2f8ad] \u001b[39m\u001b[92m+ PlotThemes v3.1.0\u001b[39m\n",
            " \u001b[90m [995b91a9] \u001b[39m\u001b[92m+ PlotUtils v1.4.1\u001b[39m\n",
            "\u001b[33m⌅\u001b[39m\u001b[90m [91a5bcdd] \u001b[39m\u001b[92m+ Plots v1.39.0\u001b[39m\n",
            " \u001b[90m [3cdcf5f2] \u001b[39m\u001b[92m+ RecipesBase v1.3.4\u001b[39m\n",
            " \u001b[90m [01d81517] \u001b[39m\u001b[92m+ RecipesPipeline v0.6.12\u001b[39m\n",
            " \u001b[90m [189a3867] \u001b[39m\u001b[92m+ Reexport v1.2.2\u001b[39m\n",
            " \u001b[90m [05181044] \u001b[39m\u001b[92m+ RelocatableFolders v1.0.1\u001b[39m\n",
            " \u001b[90m [6c6a2e73] \u001b[39m\u001b[92m+ Scratch v1.2.1\u001b[39m\n",
            " \u001b[90m [992d4aef] \u001b[39m\u001b[92m+ Showoff v1.0.3\u001b[39m\n",
            " \u001b[90m [777ac1f9] \u001b[39m\u001b[92m+ SimpleBufferStream v1.1.0\u001b[39m\n",
            " \u001b[90m [a2af1166] \u001b[39m\u001b[92m+ SortingAlgorithms v1.2.1\u001b[39m\n",
            " \u001b[90m [82ae8749] \u001b[39m\u001b[92m+ StatsAPI v1.7.0\u001b[39m\n",
            " \u001b[90m [2913bbd2] \u001b[39m\u001b[92m+ StatsBase v0.34.2\u001b[39m\n",
            " \u001b[90m [62fd8b95] \u001b[39m\u001b[92m+ TensorCore v0.1.1\u001b[39m\n",
            " \u001b[90m [3bb67fe8] \u001b[39m\u001b[92m+ TranscodingStreams v0.10.4\u001b[39m\n",
            " \u001b[90m [5c2747f8] \u001b[39m\u001b[92m+ URIs v1.5.1\u001b[39m\n",
            " \u001b[90m [1cfade01] \u001b[39m\u001b[92m+ UnicodeFun v0.4.1\u001b[39m\n",
            " \u001b[90m [1986cc42] \u001b[39m\u001b[92m+ Unitful v1.19.0\u001b[39m\n",
            " \u001b[90m [45397f5d] \u001b[39m\u001b[92m+ UnitfulLatexify v1.6.3\u001b[39m\n",
            " \u001b[90m [41fe7b60] \u001b[39m\u001b[92m+ Unzip v0.2.0\u001b[39m\n",
            " \u001b[90m [6e34b625] \u001b[39m\u001b[92m+ Bzip2_jll v1.0.8+1\u001b[39m\n",
            " \u001b[90m [83423d85] \u001b[39m\u001b[92m+ Cairo_jll v1.18.0+1\u001b[39m\n",
            " \u001b[90m [2702e6a9] \u001b[39m\u001b[92m+ EpollShim_jll v0.0.20230411+0\u001b[39m\n",
            " \u001b[90m [2e619515] \u001b[39m\u001b[92m+ Expat_jll v2.5.0+0\u001b[39m\n",
            "\u001b[33m⌅\u001b[39m\u001b[90m [b22a6f82] \u001b[39m\u001b[92m+ FFMPEG_jll v4.4.4+1\u001b[39m\n",
            " \u001b[90m [a3f928ae] \u001b[39m\u001b[92m+ Fontconfig_jll v2.13.93+0\u001b[39m\n",
            " \u001b[90m [d7e528f0] \u001b[39m\u001b[92m+ FreeType2_jll v2.13.1+0\u001b[39m\n",
            " \u001b[90m [559328eb] \u001b[39m\u001b[92m+ FriBidi_jll v1.0.10+0\u001b[39m\n",
            " \u001b[90m [0656b61e] \u001b[39m\u001b[92m+ GLFW_jll v3.3.9+0\u001b[39m\n",
            "\u001b[33m⌅\u001b[39m\u001b[90m [d2c73de3] \u001b[39m\u001b[92m+ GR_jll v0.72.10+0\u001b[39m\n",
            " \u001b[90m [78b55507] \u001b[39m\u001b[92m+ Gettext_jll v0.21.0+0\u001b[39m\n",
            " \u001b[90m [7746bdde] \u001b[39m\u001b[92m+ Glib_jll v2.76.5+0\u001b[39m\n",
            " \u001b[90m [3b182d85] \u001b[39m\u001b[92m+ Graphite2_jll v1.3.14+0\u001b[39m\n",
            " \u001b[90m [2e76f6c2] \u001b[39m\u001b[92m+ HarfBuzz_jll v2.8.1+1\u001b[39m\n",
            " \u001b[90m [aacddb02] \u001b[39m\u001b[92m+ JpegTurbo_jll v3.0.2+0\u001b[39m\n",
            " \u001b[90m [c1c5ebd0] \u001b[39m\u001b[92m+ LAME_jll v3.100.1+0\u001b[39m\n",
            " \u001b[90m [88015f11] \u001b[39m\u001b[92m+ LERC_jll v3.0.0+1\u001b[39m\n",
            " \u001b[90m [1d63c593] \u001b[39m\u001b[92m+ LLVMOpenMP_jll v15.0.7+0\u001b[39m\n",
            " \u001b[90m [dd4b983a] \u001b[39m\u001b[92m+ LZO_jll v2.10.1+0\u001b[39m\n",
            "\u001b[33m⌅\u001b[39m\u001b[90m [e9f186c6] \u001b[39m\u001b[92m+ Libffi_jll v3.2.2+1\u001b[39m\n",
            " \u001b[90m [d4300ac3] \u001b[39m\u001b[92m+ Libgcrypt_jll v1.8.7+0\u001b[39m\n",
            " \u001b[90m [7e76a0d4] \u001b[39m\u001b[92m+ Libglvnd_jll v1.6.0+0\u001b[39m\n",
            " \u001b[90m [7add5ba3] \u001b[39m\u001b[92m+ Libgpg_error_jll v1.42.0+0\u001b[39m\n",
            " \u001b[90m [94ce4f54] \u001b[39m\u001b[92m+ Libiconv_jll v1.17.0+0\u001b[39m\n",
            " \u001b[90m [4b2f31a3] \u001b[39m\u001b[92m+ Libmount_jll v2.35.0+0\u001b[39m\n",
            "\u001b[33m⌅\u001b[39m\u001b[90m [89763e89] \u001b[39m\u001b[92m+ Libtiff_jll v4.5.1+1\u001b[39m\n",
            " \u001b[90m [38a345b3] \u001b[39m\u001b[92m+ Libuuid_jll v2.39.3+1\u001b[39m\n",
            " \u001b[90m [e7412a2a] \u001b[39m\u001b[92m+ Ogg_jll v1.3.5+1\u001b[39m\n",
            " \u001b[90m [458c3c95] \u001b[39m\u001b[92m+ OpenSSL_jll v3.0.13+0\u001b[39m\n",
            " \u001b[90m [91d4177d] \u001b[39m\u001b[92m+ Opus_jll v1.3.2+0\u001b[39m\n",
            " \u001b[90m [30392449] \u001b[39m\u001b[92m+ Pixman_jll v0.42.2+0\u001b[39m\n",
            " \u001b[90m [c0090381] \u001b[39m\u001b[92m+ Qt6Base_jll v6.5.3+1\u001b[39m\n",
            " \u001b[90m [a44049a8] \u001b[39m\u001b[92m+ Vulkan_Loader_jll v1.3.243+0\u001b[39m\n",
            " \u001b[90m [a2964d1f] \u001b[39m\u001b[92m+ Wayland_jll v1.21.0+1\u001b[39m\n",
            " \u001b[90m [2381bf8a] \u001b[39m\u001b[92m+ Wayland_protocols_jll v1.31.0+0\u001b[39m\n",
            " \u001b[90m [02c8fc9c] \u001b[39m\u001b[92m+ XML2_jll v2.12.5+0\u001b[39m\n",
            " \u001b[90m [aed1982a] \u001b[39m\u001b[92m+ XSLT_jll v1.1.34+0\u001b[39m\n",
            " \u001b[90m [ffd25f8a] \u001b[39m\u001b[92m+ XZ_jll v5.6.0+0\u001b[39m\n",
            " \u001b[90m [f67eecfb] \u001b[39m\u001b[92m+ Xorg_libICE_jll v1.0.10+1\u001b[39m\n",
            " \u001b[90m [c834827a] \u001b[39m\u001b[92m+ Xorg_libSM_jll v1.2.3+0\u001b[39m\n",
            " \u001b[90m [4f6342f7] \u001b[39m\u001b[92m+ Xorg_libX11_jll v1.8.6+0\u001b[39m\n",
            " \u001b[90m [0c0b7dd1] \u001b[39m\u001b[92m+ Xorg_libXau_jll v1.0.11+0\u001b[39m\n",
            " \u001b[90m [935fb764] \u001b[39m\u001b[92m+ Xorg_libXcursor_jll v1.2.0+4\u001b[39m\n",
            " \u001b[90m [a3789734] \u001b[39m\u001b[92m+ Xorg_libXdmcp_jll v1.1.4+0\u001b[39m\n",
            " \u001b[90m [1082639a] \u001b[39m\u001b[92m+ Xorg_libXext_jll v1.3.4+4\u001b[39m\n",
            " \u001b[90m [d091e8ba] \u001b[39m\u001b[92m+ Xorg_libXfixes_jll v5.0.3+4\u001b[39m\n",
            " \u001b[90m [a51aa0fd] \u001b[39m\u001b[92m+ Xorg_libXi_jll v1.7.10+4\u001b[39m\n",
            " \u001b[90m [d1454406] \u001b[39m\u001b[92m+ Xorg_libXinerama_jll v1.1.4+4\u001b[39m\n",
            " \u001b[90m [ec84b674] \u001b[39m\u001b[92m+ Xorg_libXrandr_jll v1.5.2+4\u001b[39m\n",
            " \u001b[90m [ea2f1a96] \u001b[39m\u001b[92m+ Xorg_libXrender_jll v0.9.10+4\u001b[39m\n",
            " \u001b[90m [14d82f49] \u001b[39m\u001b[92m+ Xorg_libpthread_stubs_jll v0.1.1+0\u001b[39m\n",
            " \u001b[90m [c7cfdc94] \u001b[39m\u001b[92m+ Xorg_libxcb_jll v1.15.0+0\u001b[39m\n",
            " \u001b[90m [cc61e674] \u001b[39m\u001b[92m+ Xorg_libxkbfile_jll v1.1.2+0\u001b[39m\n",
            " \u001b[90m [e920d4aa] \u001b[39m\u001b[92m+ Xorg_xcb_util_cursor_jll v0.1.4+0\u001b[39m\n",
            " \u001b[90m [12413925] \u001b[39m\u001b[92m+ Xorg_xcb_util_image_jll v0.4.0+1\u001b[39m\n",
            " \u001b[90m [2def613f] \u001b[39m\u001b[92m+ Xorg_xcb_util_jll v0.4.0+1\u001b[39m\n",
            " \u001b[90m [975044d2] \u001b[39m\u001b[92m+ Xorg_xcb_util_keysyms_jll v0.4.0+1\u001b[39m\n",
            " \u001b[90m [0d47668e] \u001b[39m\u001b[92m+ Xorg_xcb_util_renderutil_jll v0.3.9+1\u001b[39m\n",
            " \u001b[90m [c22f9ab0] \u001b[39m\u001b[92m+ Xorg_xcb_util_wm_jll v0.4.1+1\u001b[39m\n",
            " \u001b[90m [35661453] \u001b[39m\u001b[92m+ Xorg_xkbcomp_jll v1.4.6+0\u001b[39m\n",
            " \u001b[90m [33bec58e] \u001b[39m\u001b[92m+ Xorg_xkeyboard_config_jll v2.39.0+0\u001b[39m\n",
            " \u001b[90m [c5fb5394] \u001b[39m\u001b[92m+ Xorg_xtrans_jll v1.5.0+0\u001b[39m\n",
            " \u001b[90m [3161d3a3] \u001b[39m\u001b[92m+ Zstd_jll v1.5.5+0\u001b[39m\n",
            " \u001b[90m [35ca27e7] \u001b[39m\u001b[92m+ eudev_jll v3.2.9+0\u001b[39m\n",
            " \u001b[90m [214eeab7] \u001b[39m\u001b[92m+ fzf_jll v0.43.0+0\u001b[39m\n",
            " \u001b[90m [1a1c6b14] \u001b[39m\u001b[92m+ gperf_jll v3.1.1+0\u001b[39m\n",
            " \u001b[90m [a4ae2306] \u001b[39m\u001b[92m+ libaom_jll v3.4.0+0\u001b[39m\n",
            " \u001b[90m [0ac62f75] \u001b[39m\u001b[92m+ libass_jll v0.15.1+0\u001b[39m\n",
            " \u001b[90m [2db6ffa8] \u001b[39m\u001b[92m+ libevdev_jll v1.11.0+0\u001b[39m\n",
            " \u001b[90m [f638f0a6] \u001b[39m\u001b[92m+ libfdk_aac_jll v2.0.2+0\u001b[39m\n",
            " \u001b[90m [36db933b] \u001b[39m\u001b[92m+ libinput_jll v1.18.0+0\u001b[39m\n",
            " \u001b[90m [b53b4c65] \u001b[39m\u001b[92m+ libpng_jll v1.6.43+1\u001b[39m\n",
            " \u001b[90m [f27f6e37] \u001b[39m\u001b[92m+ libvorbis_jll v1.3.7+1\u001b[39m\n",
            " \u001b[90m [009596ad] \u001b[39m\u001b[92m+ mtdev_jll v1.1.6+0\u001b[39m\n",
            " \u001b[90m [1270edf5] \u001b[39m\u001b[92m+ x264_jll v2021.5.5+0\u001b[39m\n",
            " \u001b[90m [dfaa095f] \u001b[39m\u001b[92m+ x265_jll v3.5.0+0\u001b[39m\n",
            " \u001b[90m [d8fb68d0] \u001b[39m\u001b[92m+ xkbcommon_jll v1.4.1+1\u001b[39m\n",
            " \u001b[90m [05823500] \u001b[39m\u001b[92m+ OpenLibm_jll v0.8.1+0\u001b[39m\n",
            " \u001b[90m [efcefdf7] \u001b[39m\u001b[92m+ PCRE2_jll v10.40.0+0\u001b[39m\n",
            "\u001b[36m\u001b[1m        Info\u001b[22m\u001b[39m Packages marked with \u001b[33m⌅\u001b[39m have new versions available but compatibility constraints restrict them from upgrading. To see why use `status --outdated -m`\n",
            "\u001b[32m\u001b[1mPrecompiling\u001b[22m\u001b[39m project...\n",
            "\u001b[32m  ✓ \u001b[39m\u001b[90mLaTeXStrings\u001b[39m\n",
            "\u001b[32m  ✓ \u001b[39m\u001b[90mTensorCore\u001b[39m\n",
            "\u001b[32m  ✓ \u001b[39m\u001b[90mStatsAPI\u001b[39m\n",
            "\u001b[32m  ✓ \u001b[39m\u001b[90mContour\u001b[39m\n",
            "\u001b[32m  ✓ \u001b[39m\u001b[90mConcurrentUtilities\u001b[39m\n",
            "\u001b[32m  ✓ \u001b[39m\u001b[90mXorg_libICE_jll\u001b[39m\n",
            "\u001b[32m  ✓ \u001b[39m\u001b[90mPipe\u001b[39m\n",
            "\u001b[32m  ✓ \u001b[39m\u001b[90mFormat\u001b[39m\n",
            "\u001b[32m  ✓ \u001b[39m\u001b[90mOpenLibm_jll\u001b[39m\n",
            "\u001b[32m  ✓ \u001b[39m\u001b[90mMeasures\u001b[39m\n",
            "\u001b[32m  ✓ \u001b[39m\u001b[90mInverseFunctions\u001b[39m\n",
            "\u001b[32m  ✓ \u001b[39m\u001b[90mFixedPointNumbers\u001b[39m\n",
            "\u001b[32m  ✓ \u001b[39m\u001b[90mGrisu\u001b[39m\n",
            "\u001b[32m  ✓ \u001b[39m\u001b[90mUnzip\u001b[39m\n",
            "\u001b[32m  ✓ \u001b[39m\u001b[90mReexport\u001b[39m\n",
            "\u001b[32m  ✓ \u001b[39m\u001b[90mDocStringExtensions\u001b[39m\n",
            "\u001b[32m  ✓ \u001b[39m\u001b[90mURIs\u001b[39m\n",
            "\u001b[32m  ✓ \u001b[39m\u001b[90mIrrationalConstants\u001b[39m\n",
            "\u001b[32m  ✓ \u001b[39m\u001b[90mSimpleBufferStream\u001b[39m\n",
            "\u001b[32m  ✓ \u001b[39m\u001b[90mExceptionUnwrapping\u001b[39m\n",
            "\u001b[32m  ✓ \u001b[39m\u001b[90mUnicodeFun\u001b[39m\n",
            "\u001b[32m  ✓ \u001b[39m\u001b[90mPCRE2_jll\u001b[39m\n",
            "\u001b[32m  ✓ \u001b[39m\u001b[90mConstructionBase\u001b[39m\n",
            "\u001b[32m  ✓ \u001b[39m\u001b[90mTranscodingStreams\u001b[39m\n",
            "\u001b[32m  ✓ \u001b[39m\u001b[90mDataAPI\u001b[39m\n",
            "\u001b[32m  ✓ \u001b[39m\u001b[90mBitFlags\u001b[39m\n",
            "\u001b[32m  ✓ \u001b[39m\u001b[90mScratch\u001b[39m\n",
            "\u001b[32m  ✓ \u001b[39m\u001b[90mChainRulesCore\u001b[39m\n",
            "\u001b[32m  ✓ \u001b[39m\u001b[90mLoggingExtras\u001b[39m\n",
            "\u001b[32m  ✓ \u001b[39m\u001b[90mGraphite2_jll\u001b[39m\n",
            "\u001b[32m  ✓ \u001b[39m\u001b[90mOpenSSL_jll\u001b[39m\n",
            "\u001b[32m  ✓ \u001b[39m\u001b[90mLibmount_jll\u001b[39m\n",
            "\u001b[32m  ✓ \u001b[39m\u001b[90mEpollShim_jll\u001b[39m\n",
            "\u001b[32m  ✓ \u001b[39m\u001b[90mRecipesBase\u001b[39m\n",
            "\u001b[32m  ✓ \u001b[39m\u001b[90mBzip2_jll\u001b[39m\n",
            "\u001b[32m  ✓ \u001b[39m\u001b[90mLLVMOpenMP_jll\u001b[39m\n",
            "\u001b[32m  ✓ \u001b[39m\u001b[90mXorg_libXau_jll\u001b[39m\n",
            "\u001b[32m  ✓ \u001b[39m\u001b[90mlibpng_jll\u001b[39m\n",
            "\u001b[32m  ✓ \u001b[39m\u001b[90mlibfdk_aac_jll\u001b[39m\n",
            "\u001b[32m  ✓ \u001b[39m\u001b[90mLAME_jll\u001b[39m\n",
            "\u001b[32m  ✓ \u001b[39m\u001b[90mLERC_jll\u001b[39m\n",
            "\u001b[32m  ✓ \u001b[39m\u001b[90mfzf_jll\u001b[39m\n",
            "\u001b[32m  ✓ \u001b[39m\u001b[90mJpegTurbo_jll\u001b[39m\n",
            "\u001b[32m  ✓ \u001b[39m\u001b[90mXZ_jll\u001b[39m\n",
            "\u001b[32m  ✓ \u001b[39m\u001b[90mOgg_jll\u001b[39m\n",
            "\u001b[32m  ✓ \u001b[39m\u001b[90mmtdev_jll\u001b[39m\n",
            "\u001b[32m  ✓ \u001b[39m\u001b[90mXorg_libXdmcp_jll\u001b[39m\n",
            "\u001b[32m  ✓ \u001b[39m\u001b[90mgperf_jll\u001b[39m\n",
            "\u001b[32m  ✓ \u001b[39m\u001b[90mx265_jll\u001b[39m\n",
            "\u001b[32m  ✓ \u001b[39m\u001b[90mlibaom_jll\u001b[39m\n",
            "\u001b[32m  ✓ \u001b[39m\u001b[90mx264_jll\u001b[39m\n",
            "\u001b[32m  ✓ \u001b[39m\u001b[90mZstd_jll\u001b[39m\n",
            "\u001b[32m  ✓ \u001b[39m\u001b[90mExpat_jll\u001b[39m\n",
            "\u001b[32m  ✓ \u001b[39m\u001b[90mOpus_jll\u001b[39m\n",
            "\u001b[32m  ✓ \u001b[39m\u001b[90mLZO_jll\u001b[39m\n",
            "\u001b[32m  ✓ \u001b[39m\u001b[90mXorg_xtrans_jll\u001b[39m\n",
            "\u001b[32m  ✓ \u001b[39m\u001b[90mlibevdev_jll\u001b[39m\n",
            "\u001b[32m  ✓ \u001b[39m\u001b[90mLibiconv_jll\u001b[39m\n",
            "\u001b[32m  ✓ \u001b[39m\u001b[90mLibffi_jll\u001b[39m\n",
            "\u001b[32m  ✓ \u001b[39m\u001b[90mLibgpg_error_jll\u001b[39m\n",
            "\u001b[32m  ✓ \u001b[39m\u001b[90mWayland_protocols_jll\u001b[39m\n",
            "\u001b[32m  ✓ \u001b[39m\u001b[90mXorg_libpthread_stubs_jll\u001b[39m\n",
            "\u001b[32m  ✓ \u001b[39m\u001b[90mFriBidi_jll\u001b[39m\n",
            "\u001b[32m  ✓ \u001b[39m\u001b[90mLibuuid_jll\u001b[39m\n",
            "\u001b[32m  ✓ \u001b[39m\u001b[90mSortingAlgorithms\u001b[39m\n",
            "\u001b[32m  ✓ \u001b[39m\u001b[90mNaNMath\u001b[39m\n",
            "\u001b[32m  ✓ \u001b[39m\u001b[90mXorg_libSM_jll\u001b[39m\n",
            "\u001b[32m  ✓ \u001b[39m\u001b[90mChangesOfVariables\u001b[39m\n",
            "\u001b[32m  ✓ \u001b[39m\u001b[90mShowoff\u001b[39m\n",
            "\u001b[32m  ✓ \u001b[39m\u001b[90mLatexify\u001b[39m\n",
            "\u001b[32m  ✓ \u001b[39m\u001b[90mCodecZlib\u001b[39m\n",
            "\u001b[32m  ✓ \u001b[39m\u001b[90mMissings\u001b[39m\n",
            "\u001b[32m  ✓ \u001b[39m\u001b[90mColorTypes\u001b[39m\n",
            "\u001b[32m  ✓ \u001b[39m\u001b[90mRelocatableFolders\u001b[39m\n",
            "\u001b[32m  ✓ \u001b[39m\u001b[90mFreeType2_jll\u001b[39m\n",
            "\u001b[32m  ✓ \u001b[39m\u001b[90mPixman_jll\u001b[39m\n",
            "\u001b[32m  ✓ \u001b[39m\u001b[90mOpenSSL\u001b[39m\n",
            "\u001b[32m  ✓ \u001b[39m\u001b[90mJLFzf\u001b[39m\n",
            "\u001b[32m  ✓ \u001b[39m\u001b[90mlibvorbis_jll\u001b[39m\n",
            "\u001b[32m  ✓ \u001b[39m\u001b[90meudev_jll\u001b[39m\n",
            "\u001b[32m  ✓ \u001b[39m\u001b[90mLibtiff_jll\u001b[39m\n",
            "\u001b[32m  ✓ \u001b[39m\u001b[90mXML2_jll\u001b[39m\n",
            "\u001b[32m  ✓ \u001b[39m\u001b[90mLibgcrypt_jll\u001b[39m\n",
            "\u001b[32m  ✓ \u001b[39m\u001b[90mLogExpFunctions\u001b[39m\n",
            "\u001b[32m  ✓ \u001b[39m\u001b[90mColorVectorSpace\u001b[39m\n",
            "\u001b[32m  ✓ \u001b[39m\u001b[90mFontconfig_jll\u001b[39m\n",
            "\u001b[32m  ✓ \u001b[39m\u001b[90mColors\u001b[39m\n",
            "\u001b[32m  ✓ \u001b[39m\u001b[90mHTTP\u001b[39m\n",
            "\u001b[32m  ✓ \u001b[39m\u001b[90mlibinput_jll\u001b[39m\n",
            "\u001b[32m  ✓ \u001b[39m\u001b[90mGettext_jll\u001b[39m\n",
            "\u001b[32m  ✓ \u001b[39m\u001b[90mWayland_jll\u001b[39m\n",
            "\u001b[32m  ✓ \u001b[39m\u001b[90mXSLT_jll\u001b[39m\n",
            "\u001b[32m  ✓ \u001b[39m\u001b[90mStatsBase\u001b[39m\n",
            "\u001b[32m  ✓ \u001b[39m\u001b[90mGlib_jll\u001b[39m\n",
            "\u001b[32m  ✓ \u001b[39m\u001b[90mXorg_libxcb_jll\u001b[39m\n",
            "\u001b[32m  ✓ \u001b[39m\u001b[90mXorg_xcb_util_jll\u001b[39m\n",
            "\u001b[32m  ✓ \u001b[39m\u001b[90mXorg_libX11_jll\u001b[39m\n",
            "\u001b[32m  ✓ \u001b[39m\u001b[90mXorg_xcb_util_image_jll\u001b[39m\n",
            "\u001b[32m  ✓ \u001b[39m\u001b[90mXorg_xcb_util_keysyms_jll\u001b[39m\n",
            "\u001b[32m  ✓ \u001b[39m\u001b[90mXorg_xcb_util_renderutil_jll\u001b[39m\n",
            "\u001b[32m  ✓ \u001b[39m\u001b[90mXorg_xcb_util_wm_jll\u001b[39m\n",
            "\u001b[32m  ✓ \u001b[39m\u001b[90mXorg_libXrender_jll\u001b[39m\n",
            "\u001b[32m  ✓ \u001b[39m\u001b[90mXorg_libXext_jll\u001b[39m\n",
            "\u001b[32m  ✓ \u001b[39m\u001b[90mXorg_libXfixes_jll\u001b[39m\n",
            "\u001b[32m  ✓ \u001b[39m\u001b[90mXorg_libxkbfile_jll\u001b[39m\n",
            "\u001b[32m  ✓ \u001b[39m\u001b[90mColorSchemes\u001b[39m\n",
            "\u001b[32m  ✓ \u001b[39m\u001b[90mXorg_xcb_util_cursor_jll\u001b[39m\n",
            "\u001b[32m  ✓ \u001b[39m\u001b[90mXorg_libXinerama_jll\u001b[39m\n",
            "\u001b[32m  ✓ \u001b[39m\u001b[90mLibglvnd_jll\u001b[39m\n",
            "\u001b[32m  ✓ \u001b[39m\u001b[90mXorg_libXrandr_jll\u001b[39m\n",
            "\u001b[32m  ✓ \u001b[39m\u001b[90mCairo_jll\u001b[39m\n",
            "\u001b[32m  ✓ \u001b[39m\u001b[90mXorg_libXcursor_jll\u001b[39m\n",
            "\u001b[32m  ✓ \u001b[39m\u001b[90mXorg_libXi_jll\u001b[39m\n",
            "\u001b[32m  ✓ \u001b[39m\u001b[90mXorg_xkbcomp_jll\u001b[39m\n",
            "\u001b[32m  ✓ \u001b[39m\u001b[90mHarfBuzz_jll\u001b[39m\n",
            "\u001b[32m  ✓ \u001b[39m\u001b[90mGLFW_jll\u001b[39m\n",
            "\u001b[32m  ✓ \u001b[39m\u001b[90mXorg_xkeyboard_config_jll\u001b[39m\n",
            "\u001b[32m  ✓ \u001b[39m\u001b[90mlibass_jll\u001b[39m\n",
            "\u001b[32m  ✓ \u001b[39m\u001b[90mxkbcommon_jll\u001b[39m\n",
            "\u001b[32m  ✓ \u001b[39m\u001b[90mUnitful\u001b[39m\n",
            "\u001b[32m  ✓ \u001b[39m\u001b[90mVulkan_Loader_jll\u001b[39m\n",
            "\u001b[32m  ✓ \u001b[39m\u001b[90mFFMPEG_jll\u001b[39m\n",
            "\u001b[32m  ✓ \u001b[39m\u001b[90mQt6Base_jll\u001b[39m\n",
            "\u001b[32m  ✓ \u001b[39m\u001b[90mFFMPEG\u001b[39m\n",
            "\u001b[32m  ✓ \u001b[39m\u001b[90mUnitfulLatexify\u001b[39m\n",
            "\u001b[32m  ✓ \u001b[39m\u001b[90mGR_jll\u001b[39m\n",
            "\u001b[32m  ✓ \u001b[39m\u001b[90mGR\u001b[39m\n",
            "\u001b[32m  ✓ \u001b[39m\u001b[90mPlotUtils\u001b[39m\n",
            "\u001b[32m  ✓ \u001b[39m\u001b[90mRecipesPipeline\u001b[39m\n",
            "\u001b[32m  ✓ \u001b[39m\u001b[90mPlotThemes\u001b[39m\n",
            "\u001b[32m  ✓ \u001b[39mPlots\n",
            "  131 dependencies successfully precompiled in 186 seconds. 32 already precompiled.\n"
          ]
        }
      ],
      "source": [
        "using Pkg\n",
        "Pkg.add(\"Graphs\")\n",
        "Pkg.add(\"GraphIO\")\n",
        "Pkg.add(\"Plots\")\n"
      ]
    },
    {
      "cell_type": "code",
      "execution_count": null,
      "metadata": {
        "colab": {
          "base_uri": "https://localhost:8080/"
        },
        "id": "cVHIXkAmnIs1",
        "outputId": "1e1a5afd-ee88-4a09-b79e-58b5c4c16340"
      },
      "outputs": [
        {
          "data": {
            "text/plain": [
              "{3618, 14142} undirected simple Int64 graph"
            ]
          },
          "execution_count": 187,
          "metadata": {},
          "output_type": "execute_result"
        }
      ],
      "source": [
        "using GraphIO.NET\n",
        "using Graphs\n",
        "\n",
        "file_path = \"/content/Network/real/airports_UW.net\"\n",
        "network=Graphs.loadgraph(file_path, \"graph_key\", NETFormat())\n",
        "\n",
        "# Reading the .net file\n",
        "#graph = GraphIO.loadgraph(file_path, GraphIO.PajekFormat())"
      ]
    },
    {
      "cell_type": "code",
      "execution_count": null,
      "metadata": {
        "colab": {
          "base_uri": "https://localhost:8080/",
          "height": 124
        },
        "id": "gDrXtRrM-mUc",
        "outputId": "14d9a8e9-53a3-48e6-af34-944496d39692"
      },
      "outputs": [
        {
          "ename": "LoadError",
          "evalue": "syntax: optional positional arguments must occur at end around In[6]:6",
          "output_type": "error",
          "traceback": [
            "syntax: optional positional arguments must occur at end around In[6]:6",
            "",
            "Stacktrace:",
            " [1] top-level scope",
            "   @ In[6]:6"
          ]
        }
      ],
      "source": [
        "# First working version\n",
        "\n",
        "using Plots\n",
        "\n",
        "# Function to calculate the degree probability distribution function\n",
        "function degree_pdf(graph, num_bins::Int=2, log_plot::Bool=false, CCDF::Bool:false)\n",
        "\n",
        "    degree_counts = Graphs.degree_histogram(graph)\n",
        "\n",
        "    # Calculate probabilities\n",
        "    num_nodes = nv(graph)\n",
        "\n",
        "\n",
        "    pdf = Dict(degree => count / num_nodes for (degree, count) in degree_counts)\n",
        "\n",
        "    degrees = collect(keys(pdf))\n",
        "    probabilities = collect(values(pdf))\n",
        "\n",
        "    if CCDF\n",
        "      # Calculate CCDF\n",
        "      ccdf_values = 1.0 .- cumsum(probabilities)\n",
        "\n",
        "      if log_plot\n",
        "        plot = histogram(degrees, weights=ccdf_values, xlabel=\"Log Degree (K)\", ylabel=\"Comp. Cum. Probability (P(K))\", legend=false, bins=num_bins, yscale=:log10)\n",
        "      else\n",
        "        plot = histogram(degrees, weights=ccdf_values, xlabel=\"Log Degree (K)\", ylabel=\"Comp. Cum. Probability (P(K))\", legend=false, bins=num_bins)\n",
        "      end\n",
        "\n",
        "\n",
        "    else\n",
        "    #plot=histogram(degrees,weights=probabilities,xlabel=\"Degree (K)\", ylabel=\"Probability (P(K))\", legend=false, bins=num_bins)\n",
        "\n",
        "      if log_plot\n",
        "        plot = histogram(degrees, weights=probabilities, xlabel=\"Degree (K)\", ylabel=\"Probability (P(K))\", legend=false, bins=num_bins, yscale=:log10)\n",
        "      else\n",
        "        plot = histogram(degrees, weights=probabilities, xlabel=\"Degree (K)\", ylabel=\"Probability (P(K))\", legend=false, bins=num_bins)\n",
        "      end\n",
        "\n",
        "    end\n",
        "\n",
        "    return plot\n",
        "end\n",
        "\n",
        "\n"
      ]
    },
    {
      "cell_type": "code",
      "execution_count": null,
      "metadata": {
        "colab": {
          "base_uri": "https://localhost:8080/"
        },
        "id": "Ty--6tqiYhdq",
        "outputId": "d69103c3-bdbc-4847-c449-3e532736d522"
      },
      "outputs": [
        {
          "data": {
            "text/plain": [
              "degree_pdf (generic function with 4 methods)"
            ]
          },
          "execution_count": 206,
          "metadata": {},
          "output_type": "execute_result"
        }
      ],
      "source": [
        "\n",
        "using Plots\n",
        "\n",
        " #Fucntion to select the number of decimals displayed in the charts\n",
        "  function custom_xformatter(x)\n",
        "    return string(round(x, digits=3))\n",
        "  end\n",
        "\n",
        "# Function to calculate the degree probability distribution function and the complimentary cummulative distribution function\n",
        "\n",
        "function degree_pdf(graph, num_bins::Int=10, log_scale::Bool=false, CCDF::Bool=false)\n",
        "\n",
        "    degree_counts = sort(Graphs.degree_histogram(graph))\n",
        "    l = length(degree_counts)\n",
        "    lr = 0\n",
        "    hr = 0\n",
        "\n",
        "  #=\n",
        "    if num_bins > l\n",
        "      num_bins = l\n",
        "      println(\"Not feasible to have a number of bins ($num_bins) greater than the actual number of different degree values, building the histogram with $l bins.\")\n",
        "    elseif l%num_bins !=0\n",
        "      for i in num_bins:l\n",
        "        if l%i == 0\n",
        "          hr = i\n",
        "          break\n",
        "        end\n",
        "      end\n",
        "      for i in l-1:-1:num_bins\n",
        "        if l%i == 0\n",
        "          lr = i\n",
        "          break\n",
        "        end\n",
        "      end\n",
        "      bn = num_bins - min(num_bins - hr, num_bins - lr)\n",
        "      println(\"$l different degree values. Not feasible to build the histogram with $num_bins bins, building the histogram with the closest feasible number - $bn bins.\")\n",
        "      num_bins = bn\n",
        "    end\n",
        "  =#\n",
        "\n",
        "\n",
        "    println(\"Degree counts $degree_counts\")\n",
        "\n",
        "    degree_counts_f = Dict([(k, 0) for k in Iterators.partition(keys(degree_counts), Int(round(l/num_bins)))])\n",
        "\n",
        "    for i in keys(degree_counts)\n",
        "      for j in keys(degree_counts_f)\n",
        "        if i in j\n",
        "          degree_counts_f[j] += degree_counts[i]\n",
        "        end\n",
        "      end\n",
        "    end\n",
        "    println(\"Sumed degree counts $degree_counts_f\")\n",
        "\n",
        "    # Calculate probabilities\n",
        "    num_nodes = nv(graph)\n",
        "    pdf =sort( Dict(degree => count / num_nodes for (degree, count) in degree_counts_f))\n",
        "\n",
        "    println(\"PDF: $pdf\")\n",
        "\n",
        "    degrees = collect(keys(pdf))\n",
        "    probabilities = collect(values(pdf))\n",
        "\n",
        "    println(\"Degrees: $degrees\")\n",
        "    println(\"Probabilities: $probabilities\")\n",
        "\n",
        "\n",
        "    if log_scale\n",
        "\n",
        "    # Find 𝑘min = min(𝑘) and 𝑘max = max(𝑘) to change to log-scale\n",
        "    k_min = minimum(degree(graph))\n",
        "    k_max = maximum(degree(graph))\n",
        "    log_data = log.(degree(network))\n",
        "    bin_edges = range(log(k_min), stop=log(k_max + 1), length=num_bins+1)\n",
        "    total_elements = length(log_data)\n",
        "\n",
        "    bin_counts = zeros(Int, length(bin_edges))\n",
        "\n",
        "    for element in log_data\n",
        "        # Find the index of the bin the element belongs to\n",
        "        bin_index = findfirst(x -> x >= element, bin_edges[2:length(bin_counts)])\n",
        "        # Increment the count for the corresponding bin\n",
        "        bin_counts[bin_index] += 1\n",
        "      end\n",
        "\n",
        "    bin_counts=bin_counts[1:length(bin_counts)-1]\n",
        "\n",
        "    probabilities=bin_counts/total_elements\n",
        "\n",
        "        # Calculate CCDF\n",
        "        if CCDF\n",
        "          ccdf_values = 1.0 .- cumsum(probabilities)\n",
        "          plot=bar(bin_edges, ccdf_values,  xlabel=\"log(K)\", ylabel=\"Comp. Cum. Log(Pk)\", title=\"CCDF Log-Log Histogram\",xticks=bin_edges, legend=false,bar_edges=false,xrotation=45, xformatter=custom_xformatter )\n",
        "\n",
        "        else\n",
        "          plot=bar(bin_edges, probabilities,  xlabel=\"log(K)\", ylabel=\"Log(Pk)\", title=\"Log-Log PDF Histogram\",xticks=bin_edges, legend=false,bar_edges=false,xrotation=45, xformatter=custom_xformatter )\n",
        "\n",
        "        end\n",
        "\n",
        "    else\n",
        "\n",
        "      if CCDF\n",
        "       print(\"Hola\")\n",
        "       # plt=histogram(degrees, weights=probabilities, bins=num_bins)\n",
        "\n",
        "        #deg_bins=plt[1][2][:x]\n",
        "        #prob_bins=plt[1][2][:y]\n",
        "\n",
        "         # Calculate CCDF\n",
        "        #cum_prob_bins=1 .- cumsum(prob_bins)\n",
        "        cum_prob_bins=1 .- cumsum(probabilities)\n",
        "        print(cum_prob_bins)\n",
        "\n",
        "        # plot=bar(deg_bins,cum_prob_bins, xlabel=\"Degree (k)\", ylabel=\"Comp. Cum. P(k)\", title=\" CCDF Histogram\",xticks=deg_bins, legend=false,bar_edges=false,xrotation=45, xformatter=custom_xformatter )\n",
        "        plot=bar(string.(degrees),cum_prob_bins, xlabel=\"Degree (k)\", ylabel=\"Comp. Cum. P(k)\", title=\" CCDF Histogram\", legend=false,bar_edges=false,xrotation=45, xformatter=custom_xformatter )\n",
        "\n",
        "\n",
        "      else\n",
        "        plot = histogram(degrees, weights=probabilities, xlabel=\"Degree (k)\", ylabel=\"Probability (P(K))\", title=\"PDF Histogram\", legend=false, bins=num_bins, xformatter=custom_xformatter )\n",
        "        #plot=bar(string.(degrees), probabilities, xlabel=\"Degree (k)\", ylabel=\"Probability (P(K))\", title=\"PDF Histogram\",  legend=false, bins=num_bins, xformatter=custom_xformatter)\n",
        "      end\n",
        "\n",
        "    end\n",
        "\n",
        "    return plot\n",
        "end\n",
        "\n",
        "\n"
      ]
    },
    {
      "cell_type": "code",
      "execution_count": null,
      "metadata": {
        "colab": {
          "base_uri": "https://localhost:8080/",
          "height": 158
        },
        "id": "wVJBgOn_GCAJ",
        "outputId": "6b960447-72f7-4acb-d51c-41f224148d4b"
      },
      "outputs": [
        {
          "ename": "NameError",
          "evalue": "name 'degree_pdf' is not defined",
          "output_type": "error",
          "traceback": [
            "\u001b[0;31m---------------------------------------------------------------------------\u001b[0m",
            "\u001b[0;31mNameError\u001b[0m                                 Traceback (most recent call last)",
            "\u001b[0;32m<ipython-input-1-58837426f832>\u001b[0m in \u001b[0;36m<cell line: 2>\u001b[0;34m()\u001b[0m\n\u001b[1;32m      1\u001b[0m \u001b[0;31m#degree_pdf(graph, bins, log_scale, CCDF)\u001b[0m\u001b[0;34m\u001b[0m\u001b[0;34m\u001b[0m\u001b[0m\n\u001b[0;32m----> 2\u001b[0;31m \u001b[0mdegree_pdf\u001b[0m\u001b[0;34m(\u001b[0m\u001b[0mnetwork\u001b[0m\u001b[0;34m,\u001b[0m \u001b[0;36m10\u001b[0m\u001b[0;34m,\u001b[0m \u001b[0mfalse\u001b[0m\u001b[0;34m,\u001b[0m \u001b[0mfalse\u001b[0m\u001b[0;34m)\u001b[0m\u001b[0;34m\u001b[0m\u001b[0;34m\u001b[0m\u001b[0m\n\u001b[0m",
            "\u001b[0;31mNameError\u001b[0m: name 'degree_pdf' is not defined"
          ]
        }
      ],
      "source": [
        "#degree_pdf(graph, bins, log_scale, CCDF)\n",
        "degree_pdf(network, 10, false, false)"
      ]
    },
    {
      "cell_type": "code",
      "execution_count": null,
      "metadata": {
        "colab": {
          "base_uri": "https://localhost:8080/"
        },
        "id": "WoZxL3XdgTGL",
        "outputId": "5b57ec6e-378d-4ddf-e5f5-4f1c2f48e694"
      },
      "outputs": [
        {
          "data": {
            "text/plain": [
              "12-element Vector{SubArray{Int64, 1, Vector{Int64}, Tuple{UnitRange{Int64}}, true}}:\n",
              " [1, 2, 3, 4, 5, 6, 7, 8, 9, 10]\n",
              " [11, 12, 13, 14, 15, 16, 17, 18, 19, 20]\n",
              " [21, 22, 23, 24, 25, 26, 27, 28, 29, 30]\n",
              " [31, 32, 33, 34, 35, 36, 37, 38, 39, 40]\n",
              " [41, 42, 43, 44, 45, 46, 47, 48, 49, 50]\n",
              " [51, 52, 53, 54, 55, 56, 57, 58, 59, 60]\n",
              " [61, 62, 63, 64, 65, 66, 67, 68, 69, 70]\n",
              " [71, 72, 73, 74, 75, 76, 77, 78, 79, 80]\n",
              " [81, 82, 83, 84, 85, 86, 87, 88, 89, 90]\n",
              " [91, 92, 93, 94, 95, 96, 97, 98, 99, 100]\n",
              " [101, 102, 103, 104, 105, 106, 107, 108, 109, 110]\n",
              " [111, 112, 113]"
            ]
          },
          "execution_count": 193,
          "metadata": {},
          "output_type": "execute_result"
        }
      ],
      "source": [
        "collect(Iterators.partition(collect(1:113),10))"
      ]
    },
    {
      "cell_type": "code",
      "execution_count": null,
      "metadata": {
        "colab": {
          "base_uri": "https://localhost:8080/"
        },
        "id": "XExAOnyt-xOz",
        "outputId": "a922e6eb-db6a-4455-addc-5ca4049e977b"
      },
      "outputs": [
        {
          "name": "stdout",
          "output_type": "stream",
          "text": [
            "3"
          ]
        }
      ],
      "source": [
        "degree_counts = Graphs.degree_histogram(network)\n",
        "b = 3\n",
        "l = length(degree_counts)\n",
        "lr = 0\n",
        "hr = 0\n",
        "\n",
        "if b > l\n",
        "  b = l\n",
        "  println(\"Not feasible to have a number of bins ($b) greater than the actual number of different degree values, building the histogram with $l bins.\")\n",
        "elseif l%b !=0\n",
        "  for i in b:l\n",
        "    if l%i == 0\n",
        "      hr = i\n",
        "      break\n",
        "    end\n",
        "  end\n",
        "  for i in l-1:-1:b\n",
        "    if l%i == 0\n",
        "      lr = i\n",
        "      break\n",
        "    end\n",
        "  end\n",
        "  println(lr, hr)\n",
        "  println(\"\\n\")\n",
        "  println(b - hr)\n",
        "  println(\"\\n\")\n",
        "  println(b - lr)\n",
        "  println(\"\\n\")\n",
        "  println(min(b - hr, b - lr))\n",
        "  println(\"\\n\")\n",
        "  bn = b - min(b - hr, b - lr)\n",
        "  println(\"$l different degree values. Not feasible to build the histogram with $b bins, building the histogram with the closest feasible number - $bn bins.\")\n",
        "  b = bn\n",
        "end\n",
        "\n",
        "print(b)"
      ]
    },
    {
      "cell_type": "code",
      "execution_count": null,
      "metadata": {
        "colab": {
          "base_uri": "https://localhost:8080/"
        },
        "id": "0vy2RDQkJWw7",
        "outputId": "911c592a-b757-423c-9c99-14bcc647902b"
      },
      "outputs": [
        {
          "data": {
            "text/plain": [
              "OrderedCollections.OrderedDict{Int64, Int64} with 12 entries:\n",
              "  1  => 9\n",
              "  2  => 6\n",
              "  3  => 6\n",
              "  4  => 5\n",
              "  5  => 8\n",
              "  6  => 8\n",
              "  7  => 7\n",
              "  8  => 4\n",
              "  9  => 4\n",
              "  10 => 2\n",
              "  11 => 2\n",
              "  12 => 1"
            ]
          },
          "execution_count": 68,
          "metadata": {},
          "output_type": "execute_result"
        }
      ],
      "source": [
        "sort(degree_counts)"
      ]
    },
    {
      "cell_type": "code",
      "execution_count": null,
      "metadata": {
        "colab": {
          "base_uri": "https://localhost:8080/"
        },
        "id": "boQ9tbyy_5zY",
        "outputId": "ffe7dab1-a0a6-42b7-e28f-0c05cec0f1a4"
      },
      "outputs": [
        {
          "data": {
            "text/plain": [
              "Base.Iterators.PartitionIterator{Base.KeySet{Int64, Dict{Int64, Int64}}}([5, 12, 8, 1, 6, 11, 9, 3, 7, 4, 2, 10], 2)"
            ]
          },
          "execution_count": 54,
          "metadata": {},
          "output_type": "execute_result"
        }
      ],
      "source": [
        "Iterators.partition(keys(degree_counts), 2)"
      ]
    },
    {
      "cell_type": "code",
      "execution_count": null,
      "metadata": {
        "colab": {
          "base_uri": "https://localhost:8080/"
        },
        "id": "PUaBr49HI8yI",
        "outputId": "d524bdc1-ba10-445c-d1aa-2fe3ce203f85"
      },
      "outputs": [
        {
          "data": {
            "text/plain": [
              "Dict{Vector{Int64}, Int64} with 12 entries:\n",
              "  [3]  => 0\n",
              "  [5]  => 0\n",
              "  [7]  => 0\n",
              "  [12] => 0\n",
              "  [8]  => 0\n",
              "  [1]  => 0\n",
              "  [4]  => 0\n",
              "  [6]  => 0\n",
              "  [11] => 0\n",
              "  [2]  => 0\n",
              "  [10] => 0\n",
              "  [9]  => 0"
            ]
          },
          "execution_count": 62,
          "metadata": {},
          "output_type": "execute_result"
        }
      ],
      "source": [
        "Dict([(k, 0) for k in Iterators.partition(keys(degree_counts), 1)])"
      ]
    },
    {
      "cell_type": "code",
      "execution_count": null,
      "metadata": {
        "colab": {
          "base_uri": "https://localhost:8080/"
        },
        "id": "sDtm3P_5DHaq",
        "outputId": "b6d6bd7f-91bb-4bdd-d101-f20e4ed66f50"
      },
      "outputs": [
        {
          "data": {
            "text/plain": [
              "1.0"
            ]
          },
          "execution_count": 64,
          "metadata": {},
          "output_type": "execute_result"
        }
      ],
      "source": [
        "12/12"
      ]
    },
    {
      "cell_type": "code",
      "execution_count": null,
      "metadata": {
        "colab": {
          "base_uri": "https://localhost:8080/",
          "height": 124
        },
        "id": "XWgwXPCgKUQb",
        "outputId": "ef51d9a1-41da-4ebd-83a4-7cbfb773f6f0"
      },
      "outputs": [
        {
          "ename": "LoadError",
          "evalue": "UndefVarError: bin_edges not defined",
          "output_type": "error",
          "traceback": [
            "UndefVarError: bin_edges not defined",
            "",
            "Stacktrace:",
            " [1] top-level scope",
            "   @ In[9]:1"
          ]
        }
      ],
      "source": [
        "bin_counts = zeros(Int, length(bin_edges))\n",
        "delta=bin_edges[2]-bin_edges[1]+1e-12\n",
        "\n",
        "for element in log_data\n",
        "    # Find the index of the bin the element belongs to\n",
        "    bin_index = findfirst(x -> x >= element, bin_edges[2:length(bin_counts)])\n",
        "    # Increment the count for the corresponding bin\n",
        "    bin_counts[bin_index] += 1\n",
        "  end\n",
        "\n",
        "bin_counts=bin_counts[1:length(bin_counts)-1]\n",
        "\n",
        "probabilities=bin_counts/total_elements\n",
        "\n",
        "bar(\n",
        "    xlabel=\"log(k)\",\n",
        "    ylabel=\"Probability\",\n",
        "    title=\"Log-Log Scale Histogram\",\n",
        "    xticks=bin_edges,\n",
        "    legend=false,\n",
        "    bar_width=0.8,\n",
        "    bar_edges=false,\n",
        "    seriestype=:bar,\n",
        "    bins=bin_edges,\n",
        "    weights=probabilities,\n",
        ")\n"
      ]
    },
    {
      "cell_type": "code",
      "execution_count": null,
      "metadata": {
        "id": "1UJOvmbjWfQ8"
      },
      "outputs": [],
      "source": [
        "\n",
        "# Plot the bar chart\n",
        "\n",
        "\n"
      ]
    },
    {
      "cell_type": "code",
      "execution_count": null,
      "metadata": {
        "colab": {
          "base_uri": "https://localhost:8080/",
          "height": 124
        },
        "id": "wKNPRxfDTZCU",
        "outputId": "a67b5396-3ade-4afb-d7fe-b9c2803872c7"
      },
      "outputs": [
        {
          "ename": "LoadError",
          "evalue": "UndefVarError: bin_edges not defined",
          "output_type": "error",
          "traceback": [
            "UndefVarError: bin_edges not defined",
            "",
            "Stacktrace:",
            " [1] top-level scope",
            "   @ In[11]:1"
          ]
        }
      ],
      "source": [
        "bin_counts = zeros(Int, length(bin_edges))\n",
        "delta=bin_edges[2]-bin_edges[1]+1e-12\n",
        "\n",
        "for element in log_data\n",
        "    # Find the index of the bin the element belongs to\n",
        "    bin_index = findfirst(x -> x >= element, bin_edges[2:length(bin_counts)])\n",
        "    # Increment the count for the corresponding bin\n",
        "    bin_counts[bin_index] += 1\n",
        "  end\n",
        "\n",
        "bin_counts=bin_counts[1:length(bin_counts)-1]\n",
        "\n",
        "probabilities=bin_counts/total_elements\n"
      ]
    },
    {
      "cell_type": "code",
      "execution_count": null,
      "metadata": {
        "colab": {
          "base_uri": "https://localhost:8080/",
          "height": 211
        },
        "id": "edyJLJvs593Z",
        "outputId": "76478087-fa8e-40aa-e01c-44c427f56b80"
      },
      "outputs": [
        {
          "ename": "LoadError",
          "evalue": "ArgumentError: Package StatsBase not found in current path.\n- Run `import Pkg; Pkg.add(\"StatsBase\")` to install the StatsBase package.",
          "output_type": "error",
          "traceback": [
            "ArgumentError: Package StatsBase not found in current path.\n- Run `import Pkg; Pkg.add(\"StatsBase\")` to install the StatsBase package.",
            "",
            "Stacktrace:",
            " [1] macro expansion",
            "   @ ./loading.jl:1163 [inlined]",
            " [2] macro expansion",
            "   @ ./lock.jl:223 [inlined]",
            " [3] require(into::Module, mod::Symbol)",
            "   @ Base ./loading.jl:1144"
          ]
        }
      ],
      "source": [
        "using Plots, StatsBase\n",
        "g1 = randn(100)\n",
        "gcdf = ecdf(g1)\n",
        "plot(x ->1- gcdf(x),  seriestype=:bar, num_bins=10)"
      ]
    },
    {
      "cell_type": "code",
      "execution_count": null,
      "metadata": {
        "colab": {
          "base_uri": "https://localhost:8080/",
          "height": 422
        },
        "id": "x2bxwXF4DdSh",
        "outputId": "7ce858b5-271f-4614-f205-02cbac732452"
      },
      "outputs": [
        {
          "data": {
            "image/svg+xml": [
              "<?xml version=\"1.0\" encoding=\"utf-8\"?>\n",
              "<svg xmlns=\"http://www.w3.org/2000/svg\" xmlns:xlink=\"http://www.w3.org/1999/xlink\" width=\"600\" height=\"400\" viewBox=\"0 0 2400 1600\">\n",
              "<defs>\n",
              "  <clipPath id=\"clip940\">\n",
              "    <rect x=\"0\" y=\"0\" width=\"2400\" height=\"1600\"/>\n",
              "  </clipPath>\n",
              "</defs>\n",
              "<path clip-path=\"url(#clip940)\" d=\"M0 1600 L2400 1600 L2400 0 L0 0  Z\" fill=\"#ffffff\" fill-rule=\"evenodd\" fill-opacity=\"1\"/>\n",
              "<defs>\n",
              "  <clipPath id=\"clip941\">\n",
              "    <rect x=\"480\" y=\"0\" width=\"1681\" height=\"1600\"/>\n",
              "  </clipPath>\n",
              "</defs>\n",
              "<path clip-path=\"url(#clip940)\" d=\"M219.866 1423.18 L2352.76 1423.18 L2352.76 123.472 L219.866 123.472  Z\" fill=\"#ffffff\" fill-rule=\"evenodd\" fill-opacity=\"1\"/>\n",
              "<defs>\n",
              "  <clipPath id=\"clip942\">\n",
              "    <rect x=\"219\" y=\"123\" width=\"2134\" height=\"1301\"/>\n",
              "  </clipPath>\n",
              "</defs>\n",
              "<polyline clip-path=\"url(#clip942)\" style=\"stroke:#000000; stroke-linecap:round; stroke-linejoin:round; stroke-width:2; stroke-opacity:0.1; fill:none\" points=\"633.524,1423.18 633.524,123.472 \"/>\n",
              "<polyline clip-path=\"url(#clip942)\" style=\"stroke:#000000; stroke-linecap:round; stroke-linejoin:round; stroke-width:2; stroke-opacity:0.1; fill:none\" points=\"1065.13,1423.18 1065.13,123.472 \"/>\n",
              "<polyline clip-path=\"url(#clip942)\" style=\"stroke:#000000; stroke-linecap:round; stroke-linejoin:round; stroke-width:2; stroke-opacity:0.1; fill:none\" points=\"1496.73,1423.18 1496.73,123.472 \"/>\n",
              "<polyline clip-path=\"url(#clip942)\" style=\"stroke:#000000; stroke-linecap:round; stroke-linejoin:round; stroke-width:2; stroke-opacity:0.1; fill:none\" points=\"1928.33,1423.18 1928.33,123.472 \"/>\n",
              "<polyline clip-path=\"url(#clip940)\" style=\"stroke:#000000; stroke-linecap:round; stroke-linejoin:round; stroke-width:4; stroke-opacity:1; fill:none\" points=\"219.866,1423.18 2352.76,1423.18 \"/>\n",
              "<polyline clip-path=\"url(#clip940)\" style=\"stroke:#000000; stroke-linecap:round; stroke-linejoin:round; stroke-width:4; stroke-opacity:1; fill:none\" points=\"633.524,1423.18 633.524,1404.28 \"/>\n",
              "<polyline clip-path=\"url(#clip940)\" style=\"stroke:#000000; stroke-linecap:round; stroke-linejoin:round; stroke-width:4; stroke-opacity:1; fill:none\" points=\"1065.13,1423.18 1065.13,1404.28 \"/>\n",
              "<polyline clip-path=\"url(#clip940)\" style=\"stroke:#000000; stroke-linecap:round; stroke-linejoin:round; stroke-width:4; stroke-opacity:1; fill:none\" points=\"1496.73,1423.18 1496.73,1404.28 \"/>\n",
              "<polyline clip-path=\"url(#clip940)\" style=\"stroke:#000000; stroke-linecap:round; stroke-linejoin:round; stroke-width:4; stroke-opacity:1; fill:none\" points=\"1928.33,1423.18 1928.33,1404.28 \"/>\n",
              "<path clip-path=\"url(#clip940)\" d=\"M603.466 1468.75 L633.142 1468.75 L633.142 1472.69 L603.466 1472.69 L603.466 1468.75 Z\" fill=\"#000000\" fill-rule=\"nonzero\" fill-opacity=\"1\" /><path clip-path=\"url(#clip940)\" d=\"M647.262 1481.64 L663.581 1481.64 L663.581 1485.58 L641.637 1485.58 L641.637 1481.64 Q644.299 1478.89 648.882 1474.26 Q653.489 1469.61 654.669 1468.27 Q656.915 1465.74 657.794 1464.01 Q658.697 1462.25 658.697 1460.56 Q658.697 1457.8 656.753 1456.07 Q654.832 1454.33 651.73 1454.33 Q649.531 1454.33 647.077 1455.09 Q644.646 1455.86 641.869 1457.41 L641.869 1452.69 Q644.693 1451.55 647.146 1450.97 Q649.6 1450.39 651.637 1450.39 Q657.007 1450.39 660.202 1453.08 Q663.396 1455.77 663.396 1460.26 Q663.396 1462.39 662.586 1464.31 Q661.799 1466.2 659.693 1468.8 Q659.114 1469.47 656.012 1472.69 Q652.91 1475.88 647.262 1481.64 Z\" fill=\"#000000\" fill-rule=\"nonzero\" fill-opacity=\"1\" /><path clip-path=\"url(#clip940)\" d=\"M1034.88 1468.75 L1064.56 1468.75 L1064.56 1472.69 L1034.88 1472.69 L1034.88 1468.75 Z\" fill=\"#000000\" fill-rule=\"nonzero\" fill-opacity=\"1\" /><path clip-path=\"url(#clip940)\" d=\"M1075.46 1481.64 L1083.1 1481.64 L1083.1 1455.28 L1074.79 1456.95 L1074.79 1452.69 L1083.05 1451.02 L1087.73 1451.02 L1087.73 1481.64 L1095.37 1481.64 L1095.37 1485.58 L1075.46 1485.58 L1075.46 1481.64 Z\" fill=\"#000000\" fill-rule=\"nonzero\" fill-opacity=\"1\" /><path clip-path=\"url(#clip940)\" d=\"M1496.73 1454.1 Q1493.12 1454.1 1491.29 1457.66 Q1489.48 1461.2 1489.48 1468.33 Q1489.48 1475.44 1491.29 1479.01 Q1493.12 1482.55 1496.73 1482.55 Q1500.36 1482.55 1502.17 1479.01 Q1504 1475.44 1504 1468.33 Q1504 1461.2 1502.17 1457.66 Q1500.36 1454.1 1496.73 1454.1 M1496.73 1450.39 Q1502.54 1450.39 1505.59 1455 Q1508.67 1459.58 1508.67 1468.33 Q1508.67 1477.06 1505.59 1481.67 Q1502.54 1486.25 1496.73 1486.25 Q1490.92 1486.25 1487.84 1481.67 Q1484.78 1477.06 1484.78 1468.33 Q1484.78 1459.58 1487.84 1455 Q1490.92 1450.39 1496.73 1450.39 Z\" fill=\"#000000\" fill-rule=\"nonzero\" fill-opacity=\"1\" /><path clip-path=\"url(#clip940)\" d=\"M1918.71 1481.64 L1926.35 1481.64 L1926.35 1455.28 L1918.04 1456.95 L1918.04 1452.69 L1926.3 1451.02 L1930.98 1451.02 L1930.98 1481.64 L1938.62 1481.64 L1938.62 1485.58 L1918.71 1485.58 L1918.71 1481.64 Z\" fill=\"#000000\" fill-rule=\"nonzero\" fill-opacity=\"1\" /><path clip-path=\"url(#clip940)\" d=\"M1196.65 1533.45 L1196.65 1538.98 Q1194.17 1537.71 1191.49 1537.07 Q1188.82 1536.44 1185.96 1536.44 Q1181.6 1536.44 1179.4 1537.77 Q1177.23 1539.11 1177.23 1541.79 Q1177.23 1543.82 1178.79 1545 Q1180.35 1546.15 1185.06 1547.2 L1187.07 1547.64 Q1193.31 1548.98 1195.92 1551.43 Q1198.56 1553.85 1198.56 1558.21 Q1198.56 1563.17 1194.61 1566.07 Q1190.7 1568.97 1183.82 1568.97 Q1180.96 1568.97 1177.84 1568.39 Q1174.75 1567.85 1171.31 1566.74 L1171.31 1560.69 Q1174.56 1562.38 1177.71 1563.24 Q1180.86 1564.07 1183.95 1564.07 Q1188.09 1564.07 1190.32 1562.66 Q1192.54 1561.23 1192.54 1558.65 Q1192.54 1556.27 1190.92 1554.99 Q1189.33 1553.72 1183.89 1552.54 L1181.85 1552.07 Q1176.41 1550.92 1173.99 1548.56 Q1171.57 1546.18 1171.57 1542.04 Q1171.57 1537.01 1175.13 1534.27 Q1178.7 1531.54 1185.26 1531.54 Q1188.5 1531.54 1191.37 1532.01 Q1194.23 1532.49 1196.65 1533.45 Z\" fill=\"#000000\" fill-rule=\"nonzero\" fill-opacity=\"1\" /><path clip-path=\"url(#clip940)\" d=\"M1224.09 1550.12 Q1216.99 1550.12 1214.25 1551.75 Q1211.51 1553.37 1211.51 1557.29 Q1211.51 1560.4 1213.55 1562.25 Q1215.62 1564.07 1219.15 1564.07 Q1224.02 1564.07 1226.95 1560.63 Q1229.91 1557.16 1229.91 1551.43 L1229.91 1550.12 L1224.09 1550.12 M1235.77 1547.71 L1235.77 1568.04 L1229.91 1568.04 L1229.91 1562.63 Q1227.91 1565.88 1224.91 1567.44 Q1221.92 1568.97 1217.59 1568.97 Q1212.12 1568.97 1208.87 1565.91 Q1205.66 1562.82 1205.66 1557.67 Q1205.66 1551.65 1209.67 1548.6 Q1213.71 1545.54 1221.7 1545.54 L1229.91 1545.54 L1229.91 1544.97 Q1229.91 1540.93 1227.24 1538.73 Q1224.6 1536.5 1219.79 1536.5 Q1216.73 1536.5 1213.84 1537.23 Q1210.94 1537.97 1208.27 1539.43 L1208.27 1534.02 Q1211.48 1532.78 1214.51 1532.17 Q1217.53 1531.54 1220.39 1531.54 Q1228.13 1531.54 1231.95 1535.55 Q1235.77 1539.56 1235.77 1547.71 Z\" fill=\"#000000\" fill-rule=\"nonzero\" fill-opacity=\"1\" /><path clip-path=\"url(#clip940)\" d=\"M1275.58 1539.24 Q1277.78 1535.29 1280.84 1533.41 Q1283.89 1531.54 1288.03 1531.54 Q1293.6 1531.54 1296.62 1535.45 Q1299.65 1539.33 1299.65 1546.53 L1299.65 1568.04 L1293.76 1568.04 L1293.76 1546.72 Q1293.76 1541.59 1291.94 1539.11 Q1290.13 1536.63 1286.41 1536.63 Q1281.86 1536.63 1279.21 1539.65 Q1276.57 1542.68 1276.57 1547.9 L1276.57 1568.04 L1270.68 1568.04 L1270.68 1546.72 Q1270.68 1541.56 1268.87 1539.11 Q1267.05 1536.63 1263.27 1536.63 Q1258.78 1536.63 1256.14 1539.68 Q1253.5 1542.71 1253.5 1547.9 L1253.5 1568.04 L1247.61 1568.04 L1247.61 1532.4 L1253.5 1532.4 L1253.5 1537.93 Q1255.5 1534.66 1258.3 1533.1 Q1261.1 1531.54 1264.95 1531.54 Q1268.84 1531.54 1271.54 1533.51 Q1274.28 1535.48 1275.58 1539.24 Z\" fill=\"#000000\" fill-rule=\"nonzero\" fill-opacity=\"1\" /><path clip-path=\"url(#clip940)\" d=\"M1316.99 1562.7 L1316.99 1581.6 L1311.11 1581.6 L1311.11 1532.4 L1316.99 1532.4 L1316.99 1537.81 Q1318.84 1534.62 1321.64 1533.1 Q1324.47 1531.54 1328.39 1531.54 Q1334.88 1531.54 1338.92 1536.69 Q1343 1541.85 1343 1550.25 Q1343 1558.65 1338.92 1563.81 Q1334.88 1568.97 1328.39 1568.97 Q1324.47 1568.97 1321.64 1567.44 Q1318.84 1565.88 1316.99 1562.7 M1336.92 1550.25 Q1336.92 1543.79 1334.24 1540.13 Q1331.6 1536.44 1326.96 1536.44 Q1322.31 1536.44 1319.64 1540.13 Q1316.99 1543.79 1316.99 1550.25 Q1316.99 1556.71 1319.64 1560.4 Q1322.31 1564.07 1326.96 1564.07 Q1331.6 1564.07 1334.24 1560.4 Q1336.92 1556.71 1336.92 1550.25 Z\" fill=\"#000000\" fill-rule=\"nonzero\" fill-opacity=\"1\" /><path clip-path=\"url(#clip940)\" d=\"M1352.71 1518.52 L1358.56 1518.52 L1358.56 1568.04 L1352.71 1568.04 L1352.71 1518.52 Z\" fill=\"#000000\" fill-rule=\"nonzero\" fill-opacity=\"1\" /><path clip-path=\"url(#clip940)\" d=\"M1401.31 1548.76 L1401.31 1551.62 L1374.38 1551.62 Q1374.76 1557.67 1378.01 1560.85 Q1381.29 1564 1387.11 1564 Q1390.49 1564 1393.64 1563.17 Q1396.82 1562.35 1399.94 1560.69 L1399.94 1566.23 Q1396.79 1567.57 1393.48 1568.27 Q1390.17 1568.97 1386.76 1568.97 Q1378.23 1568.97 1373.23 1564 Q1368.27 1559.04 1368.27 1550.57 Q1368.27 1541.82 1372.98 1536.69 Q1377.72 1531.54 1385.74 1531.54 Q1392.94 1531.54 1397.11 1536.18 Q1401.31 1540.8 1401.31 1548.76 M1395.45 1547.04 Q1395.39 1542.23 1392.75 1539.37 Q1390.14 1536.5 1385.81 1536.5 Q1380.91 1536.5 1377.95 1539.27 Q1375.02 1542.04 1374.57 1547.07 L1395.45 1547.04 Z\" fill=\"#000000\" fill-rule=\"nonzero\" fill-opacity=\"1\" /><polyline clip-path=\"url(#clip942)\" style=\"stroke:#000000; stroke-linecap:round; stroke-linejoin:round; stroke-width:2; stroke-opacity:0.1; fill:none\" points=\"219.866,1423.18 2352.76,1423.18 \"/>\n",
              "<polyline clip-path=\"url(#clip942)\" style=\"stroke:#000000; stroke-linecap:round; stroke-linejoin:round; stroke-width:2; stroke-opacity:0.1; fill:none\" points=\"219.866,1157.93 2352.76,1157.93 \"/>\n",
              "<polyline clip-path=\"url(#clip942)\" style=\"stroke:#000000; stroke-linecap:round; stroke-linejoin:round; stroke-width:2; stroke-opacity:0.1; fill:none\" points=\"219.866,892.687 2352.76,892.687 \"/>\n",
              "<polyline clip-path=\"url(#clip942)\" style=\"stroke:#000000; stroke-linecap:round; stroke-linejoin:round; stroke-width:2; stroke-opacity:0.1; fill:none\" points=\"219.866,627.44 2352.76,627.44 \"/>\n",
              "<polyline clip-path=\"url(#clip942)\" style=\"stroke:#000000; stroke-linecap:round; stroke-linejoin:round; stroke-width:2; stroke-opacity:0.1; fill:none\" points=\"219.866,362.194 2352.76,362.194 \"/>\n",
              "<polyline clip-path=\"url(#clip940)\" style=\"stroke:#000000; stroke-linecap:round; stroke-linejoin:round; stroke-width:4; stroke-opacity:1; fill:none\" points=\"219.866,1423.18 219.866,123.472 \"/>\n",
              "<polyline clip-path=\"url(#clip940)\" style=\"stroke:#000000; stroke-linecap:round; stroke-linejoin:round; stroke-width:4; stroke-opacity:1; fill:none\" points=\"219.866,1423.18 238.764,1423.18 \"/>\n",
              "<polyline clip-path=\"url(#clip940)\" style=\"stroke:#000000; stroke-linecap:round; stroke-linejoin:round; stroke-width:4; stroke-opacity:1; fill:none\" points=\"219.866,1157.93 238.764,1157.93 \"/>\n",
              "<polyline clip-path=\"url(#clip940)\" style=\"stroke:#000000; stroke-linecap:round; stroke-linejoin:round; stroke-width:4; stroke-opacity:1; fill:none\" points=\"219.866,892.687 238.764,892.687 \"/>\n",
              "<polyline clip-path=\"url(#clip940)\" style=\"stroke:#000000; stroke-linecap:round; stroke-linejoin:round; stroke-width:4; stroke-opacity:1; fill:none\" points=\"219.866,627.44 238.764,627.44 \"/>\n",
              "<polyline clip-path=\"url(#clip940)\" style=\"stroke:#000000; stroke-linecap:round; stroke-linejoin:round; stroke-width:4; stroke-opacity:1; fill:none\" points=\"219.866,362.194 238.764,362.194 \"/>\n",
              "<path clip-path=\"url(#clip940)\" d=\"M126.691 1408.98 Q123.08 1408.98 121.251 1412.54 Q119.445 1416.08 119.445 1423.21 Q119.445 1430.32 121.251 1433.89 Q123.08 1437.43 126.691 1437.43 Q130.325 1437.43 132.13 1433.89 Q133.959 1430.32 133.959 1423.21 Q133.959 1416.08 132.13 1412.54 Q130.325 1408.98 126.691 1408.98 M126.691 1405.27 Q132.501 1405.27 135.556 1409.88 Q138.635 1414.46 138.635 1423.21 Q138.635 1431.94 135.556 1436.55 Q132.501 1441.13 126.691 1441.13 Q120.88 1441.13 117.802 1436.55 Q114.746 1431.94 114.746 1423.21 Q114.746 1414.46 117.802 1409.88 Q120.88 1405.27 126.691 1405.27 Z\" fill=\"#000000\" fill-rule=\"nonzero\" fill-opacity=\"1\" /><path clip-path=\"url(#clip940)\" d=\"M146.853 1434.58 L151.737 1434.58 L151.737 1440.46 L146.853 1440.46 L146.853 1434.58 Z\" fill=\"#000000\" fill-rule=\"nonzero\" fill-opacity=\"1\" /><path clip-path=\"url(#clip940)\" d=\"M171.922 1408.98 Q168.311 1408.98 166.482 1412.54 Q164.677 1416.08 164.677 1423.21 Q164.677 1430.32 166.482 1433.89 Q168.311 1437.43 171.922 1437.43 Q175.556 1437.43 177.362 1433.89 Q179.19 1430.32 179.19 1423.21 Q179.19 1416.08 177.362 1412.54 Q175.556 1408.98 171.922 1408.98 M171.922 1405.27 Q177.732 1405.27 180.788 1409.88 Q183.866 1414.46 183.866 1423.21 Q183.866 1431.94 180.788 1436.55 Q177.732 1441.13 171.922 1441.13 Q166.112 1441.13 163.033 1436.55 Q159.978 1431.94 159.978 1423.21 Q159.978 1414.46 163.033 1409.88 Q166.112 1405.27 171.922 1405.27 Z\" fill=\"#000000\" fill-rule=\"nonzero\" fill-opacity=\"1\" /><path clip-path=\"url(#clip940)\" d=\"M128.288 1143.73 Q124.677 1143.73 122.848 1147.3 Q121.043 1150.84 121.043 1157.97 Q121.043 1165.07 122.848 1168.64 Q124.677 1172.18 128.288 1172.18 Q131.922 1172.18 133.728 1168.64 Q135.556 1165.07 135.556 1157.97 Q135.556 1150.84 133.728 1147.3 Q131.922 1143.73 128.288 1143.73 M128.288 1140.03 Q134.098 1140.03 137.154 1144.63 Q140.232 1149.22 140.232 1157.97 Q140.232 1166.69 137.154 1171.3 Q134.098 1175.88 128.288 1175.88 Q122.478 1175.88 119.399 1171.3 Q116.343 1166.69 116.343 1157.97 Q116.343 1149.22 119.399 1144.63 Q122.478 1140.03 128.288 1140.03 Z\" fill=\"#000000\" fill-rule=\"nonzero\" fill-opacity=\"1\" /><path clip-path=\"url(#clip940)\" d=\"M148.45 1169.33 L153.334 1169.33 L153.334 1175.21 L148.45 1175.21 L148.45 1169.33 Z\" fill=\"#000000\" fill-rule=\"nonzero\" fill-opacity=\"1\" /><path clip-path=\"url(#clip940)\" d=\"M167.547 1171.28 L183.866 1171.28 L183.866 1175.21 L161.922 1175.21 L161.922 1171.28 Q164.584 1168.52 169.167 1163.89 Q173.774 1159.24 174.954 1157.9 Q177.2 1155.38 178.079 1153.64 Q178.982 1151.88 178.982 1150.19 Q178.982 1147.44 177.038 1145.7 Q175.116 1143.96 172.014 1143.96 Q169.815 1143.96 167.362 1144.73 Q164.931 1145.49 162.153 1147.04 L162.153 1142.32 Q164.977 1141.19 167.431 1140.61 Q169.885 1140.03 171.922 1140.03 Q177.292 1140.03 180.487 1142.71 Q183.681 1145.4 183.681 1149.89 Q183.681 1152.02 182.871 1153.94 Q182.084 1155.84 179.977 1158.43 Q179.399 1159.1 176.297 1162.32 Q173.195 1165.51 167.547 1171.28 Z\" fill=\"#000000\" fill-rule=\"nonzero\" fill-opacity=\"1\" /><path clip-path=\"url(#clip940)\" d=\"M126.205 878.486 Q122.593 878.486 120.765 882.05 Q118.959 885.592 118.959 892.722 Q118.959 899.828 120.765 903.393 Q122.593 906.935 126.205 906.935 Q129.839 906.935 131.644 903.393 Q133.473 899.828 133.473 892.722 Q133.473 885.592 131.644 882.05 Q129.839 878.486 126.205 878.486 M126.205 874.782 Q132.015 874.782 135.07 879.388 Q138.149 883.972 138.149 892.722 Q138.149 901.448 135.07 906.055 Q132.015 910.638 126.205 910.638 Q120.394 910.638 117.316 906.055 Q114.26 901.448 114.26 892.722 Q114.26 883.972 117.316 879.388 Q120.394 874.782 126.205 874.782 Z\" fill=\"#000000\" fill-rule=\"nonzero\" fill-opacity=\"1\" /><path clip-path=\"url(#clip940)\" d=\"M146.366 904.087 L151.251 904.087 L151.251 909.967 L146.366 909.967 L146.366 904.087 Z\" fill=\"#000000\" fill-rule=\"nonzero\" fill-opacity=\"1\" /><path clip-path=\"url(#clip940)\" d=\"M174.283 879.481 L162.477 897.93 L174.283 897.93 L174.283 879.481 M173.056 875.407 L178.936 875.407 L178.936 897.93 L183.866 897.93 L183.866 901.819 L178.936 901.819 L178.936 909.967 L174.283 909.967 L174.283 901.819 L158.681 901.819 L158.681 897.305 L173.056 875.407 Z\" fill=\"#000000\" fill-rule=\"nonzero\" fill-opacity=\"1\" /><path clip-path=\"url(#clip940)\" d=\"M126.529 613.239 Q122.918 613.239 121.089 616.804 Q119.283 620.346 119.283 627.475 Q119.283 634.582 121.089 638.146 Q122.918 641.688 126.529 641.688 Q130.163 641.688 131.968 638.146 Q133.797 634.582 133.797 627.475 Q133.797 620.346 131.968 616.804 Q130.163 613.239 126.529 613.239 M126.529 609.535 Q132.339 609.535 135.394 614.142 Q138.473 618.725 138.473 627.475 Q138.473 636.202 135.394 640.808 Q132.339 645.392 126.529 645.392 Q120.718 645.392 117.64 640.808 Q114.584 636.202 114.584 627.475 Q114.584 618.725 117.64 614.142 Q120.718 609.535 126.529 609.535 Z\" fill=\"#000000\" fill-rule=\"nonzero\" fill-opacity=\"1\" /><path clip-path=\"url(#clip940)\" d=\"M146.691 638.841 L151.575 638.841 L151.575 644.72 L146.691 644.72 L146.691 638.841 Z\" fill=\"#000000\" fill-rule=\"nonzero\" fill-opacity=\"1\" /><path clip-path=\"url(#clip940)\" d=\"M172.339 625.577 Q169.19 625.577 167.339 627.73 Q165.51 629.883 165.51 633.633 Q165.51 637.359 167.339 639.535 Q169.19 641.688 172.339 641.688 Q175.487 641.688 177.315 639.535 Q179.167 637.359 179.167 633.633 Q179.167 629.883 177.315 627.73 Q175.487 625.577 172.339 625.577 M181.621 610.924 L181.621 615.184 Q179.862 614.35 178.056 613.91 Q176.274 613.471 174.514 613.471 Q169.885 613.471 167.431 616.596 Q165.001 619.721 164.653 626.04 Q166.019 624.026 168.079 622.961 Q170.139 621.873 172.616 621.873 Q177.825 621.873 180.834 625.045 Q183.866 628.193 183.866 633.633 Q183.866 638.957 180.718 642.174 Q177.57 645.392 172.339 645.392 Q166.343 645.392 163.172 640.808 Q160.001 636.202 160.001 627.475 Q160.001 619.281 163.89 614.42 Q167.778 609.535 174.329 609.535 Q176.089 609.535 177.871 609.883 Q179.676 610.23 181.621 610.924 Z\" fill=\"#000000\" fill-rule=\"nonzero\" fill-opacity=\"1\" /><path clip-path=\"url(#clip940)\" d=\"M126.783 347.993 Q123.172 347.993 121.343 351.557 Q119.538 355.099 119.538 362.229 Q119.538 369.335 121.343 372.9 Q123.172 376.442 126.783 376.442 Q130.417 376.442 132.223 372.9 Q134.052 369.335 134.052 362.229 Q134.052 355.099 132.223 351.557 Q130.417 347.993 126.783 347.993 M126.783 344.289 Q132.593 344.289 135.649 348.895 Q138.728 353.479 138.728 362.229 Q138.728 370.955 135.649 375.562 Q132.593 380.145 126.783 380.145 Q120.973 380.145 117.894 375.562 Q114.839 370.955 114.839 362.229 Q114.839 353.479 117.894 348.895 Q120.973 344.289 126.783 344.289 Z\" fill=\"#000000\" fill-rule=\"nonzero\" fill-opacity=\"1\" /><path clip-path=\"url(#clip940)\" d=\"M146.945 373.594 L151.829 373.594 L151.829 379.474 L146.945 379.474 L146.945 373.594 Z\" fill=\"#000000\" fill-rule=\"nonzero\" fill-opacity=\"1\" /><path clip-path=\"url(#clip940)\" d=\"M172.014 363.062 Q168.681 363.062 166.76 364.844 Q164.862 366.627 164.862 369.752 Q164.862 372.877 166.76 374.659 Q168.681 376.442 172.014 376.442 Q175.348 376.442 177.269 374.659 Q179.19 372.854 179.19 369.752 Q179.19 366.627 177.269 364.844 Q175.371 363.062 172.014 363.062 M167.339 361.071 Q164.329 360.331 162.64 358.27 Q160.973 356.21 160.973 353.247 Q160.973 349.104 163.913 346.696 Q166.876 344.289 172.014 344.289 Q177.176 344.289 180.116 346.696 Q183.056 349.104 183.056 353.247 Q183.056 356.21 181.366 358.27 Q179.7 360.331 176.714 361.071 Q180.093 361.858 181.968 364.15 Q183.866 366.442 183.866 369.752 Q183.866 374.775 180.788 377.46 Q177.732 380.145 172.014 380.145 Q166.297 380.145 163.218 377.46 Q160.163 374.775 160.163 369.752 Q160.163 366.442 162.061 364.15 Q163.959 361.858 167.339 361.071 M165.626 353.687 Q165.626 356.372 167.292 357.877 Q168.982 359.381 172.014 359.381 Q175.024 359.381 176.714 357.877 Q178.426 356.372 178.426 353.687 Q178.426 351.002 176.714 349.497 Q175.024 347.993 172.014 347.993 Q168.982 347.993 167.292 349.497 Q165.626 351.002 165.626 353.687 Z\" fill=\"#000000\" fill-rule=\"nonzero\" fill-opacity=\"1\" /><path clip-path=\"url(#clip940)\" d=\"M21.7677 935.015 L39.6235 935.015 L39.6235 926.93 Q39.6235 922.443 37.3 919.992 Q34.9765 917.541 30.6797 917.541 Q26.4147 917.541 24.0912 919.992 Q21.7677 922.443 21.7677 926.93 L21.7677 935.015 M16.4842 941.444 L16.4842 926.93 Q16.4842 918.942 20.1126 914.867 Q23.7092 910.762 30.6797 910.762 Q37.7138 910.762 41.3104 914.867 Q44.907 918.942 44.907 926.93 L44.907 935.015 L64.0042 935.015 L64.0042 941.444 L16.4842 941.444 Z\" fill=\"#000000\" fill-rule=\"nonzero\" fill-opacity=\"1\" /><path clip-path=\"url(#clip940)\" d=\"M33.8307 882.88 Q33.2578 883.866 33.0032 885.044 Q32.7167 886.19 32.7167 887.59 Q32.7167 892.556 35.9632 895.229 Q39.1779 897.871 45.2253 897.871 L64.0042 897.871 L64.0042 903.759 L28.3562 903.759 L28.3562 897.871 L33.8944 897.871 Q30.6479 896.025 29.0883 893.065 Q27.4968 890.105 27.4968 885.872 Q27.4968 885.267 27.5923 884.535 Q27.656 883.803 27.8151 882.912 L33.8307 882.88 Z\" fill=\"#000000\" fill-rule=\"nonzero\" fill-opacity=\"1\" /><path clip-path=\"url(#clip940)\" d=\"M32.4621 864.356 Q32.4621 869.066 36.1542 871.803 Q39.8145 874.541 46.212 874.541 Q52.6095 874.541 56.3017 871.835 Q59.9619 869.098 59.9619 864.356 Q59.9619 859.677 56.2698 856.94 Q52.5777 854.202 46.212 854.202 Q39.8781 854.202 36.186 856.94 Q32.4621 859.677 32.4621 864.356 M27.4968 864.356 Q27.4968 856.717 32.4621 852.356 Q37.4273 847.996 46.212 847.996 Q54.9649 847.996 59.9619 852.356 Q64.9272 856.717 64.9272 864.356 Q64.9272 872.026 59.9619 876.387 Q54.9649 880.715 46.212 880.715 Q37.4273 880.715 32.4621 876.387 Q27.4968 872.026 27.4968 864.356 Z\" fill=\"#000000\" fill-rule=\"nonzero\" fill-opacity=\"1\" /><path clip-path=\"url(#clip940)\" d=\"M46.212 812.698 Q39.7508 812.698 36.0905 815.371 Q32.3984 818.013 32.3984 822.66 Q32.3984 827.307 36.0905 829.981 Q39.7508 832.623 46.212 832.623 Q52.6732 832.623 56.3653 829.981 Q60.0256 827.307 60.0256 822.66 Q60.0256 818.013 56.3653 815.371 Q52.6732 812.698 46.212 812.698 M33.7671 832.623 Q30.5842 830.776 29.0564 827.976 Q27.4968 825.143 27.4968 821.228 Q27.4968 814.735 32.6531 810.693 Q37.8093 806.619 46.212 806.619 Q54.6147 806.619 59.771 810.693 Q64.9272 814.735 64.9272 821.228 Q64.9272 825.143 63.3994 827.976 Q61.8398 830.776 58.657 832.623 L64.0042 832.623 L64.0042 838.511 L14.479 838.511 L14.479 832.623 L33.7671 832.623 Z\" fill=\"#000000\" fill-rule=\"nonzero\" fill-opacity=\"1\" /><path clip-path=\"url(#clip940)\" d=\"M46.0847 780.71 Q46.0847 787.808 47.7079 790.545 Q49.3312 793.282 53.2461 793.282 Q56.3653 793.282 58.2114 791.245 Q60.0256 789.177 60.0256 785.644 Q60.0256 780.774 56.5881 777.846 Q53.1188 774.886 47.3897 774.886 L46.0847 774.886 L46.0847 780.71 M43.6657 769.029 L64.0042 769.029 L64.0042 774.886 L58.5933 774.886 Q61.8398 776.891 63.3994 779.883 Q64.9272 782.875 64.9272 787.203 Q64.9272 792.678 61.8716 795.924 Q58.7843 799.139 53.6281 799.139 Q47.6125 799.139 44.5569 795.129 Q41.5014 791.086 41.5014 783.097 L41.5014 774.886 L40.9285 774.886 Q36.8862 774.886 34.6901 777.559 Q32.4621 780.201 32.4621 785.007 Q32.4621 788.063 33.1941 790.959 Q33.9262 793.855 35.3903 796.529 L29.9795 796.529 Q28.7381 793.314 28.1334 790.291 Q27.4968 787.267 27.4968 784.402 Q27.4968 776.668 31.5072 772.849 Q35.5176 769.029 43.6657 769.029 Z\" fill=\"#000000\" fill-rule=\"nonzero\" fill-opacity=\"1\" /><path clip-path=\"url(#clip940)\" d=\"M46.212 731.376 Q39.7508 731.376 36.0905 734.05 Q32.3984 736.691 32.3984 741.338 Q32.3984 745.985 36.0905 748.659 Q39.7508 751.301 46.212 751.301 Q52.6732 751.301 56.3653 748.659 Q60.0256 745.985 60.0256 741.338 Q60.0256 736.691 56.3653 734.05 Q52.6732 731.376 46.212 731.376 M33.7671 751.301 Q30.5842 749.455 29.0564 746.654 Q27.4968 743.821 27.4968 739.906 Q27.4968 733.413 32.6531 729.371 Q37.8093 725.297 46.212 725.297 Q54.6147 725.297 59.771 729.371 Q64.9272 733.413 64.9272 739.906 Q64.9272 743.821 63.3994 746.654 Q61.8398 749.455 58.657 751.301 L64.0042 751.301 L64.0042 757.189 L14.479 757.189 L14.479 751.301 L33.7671 751.301 Z\" fill=\"#000000\" fill-rule=\"nonzero\" fill-opacity=\"1\" /><path clip-path=\"url(#clip940)\" d=\"M28.3562 715.589 L28.3562 709.733 L64.0042 709.733 L64.0042 715.589 L28.3562 715.589 M14.479 715.589 L14.479 709.733 L21.895 709.733 L21.895 715.589 L14.479 715.589 Z\" fill=\"#000000\" fill-rule=\"nonzero\" fill-opacity=\"1\" /><path clip-path=\"url(#clip940)\" d=\"M14.479 697.479 L14.479 691.622 L64.0042 691.622 L64.0042 697.479 L14.479 697.479 Z\" fill=\"#000000\" fill-rule=\"nonzero\" fill-opacity=\"1\" /><path clip-path=\"url(#clip940)\" d=\"M28.3562 679.368 L28.3562 673.512 L64.0042 673.512 L64.0042 679.368 L28.3562 679.368 M14.479 679.368 L14.479 673.512 L21.895 673.512 L21.895 679.368 L14.479 679.368 Z\" fill=\"#000000\" fill-rule=\"nonzero\" fill-opacity=\"1\" /><path clip-path=\"url(#clip940)\" d=\"M18.2347 655.465 L28.3562 655.465 L28.3562 643.402 L32.9077 643.402 L32.9077 655.465 L52.2594 655.465 Q56.6199 655.465 57.8613 654.287 Q59.1026 653.078 59.1026 649.418 L59.1026 643.402 L64.0042 643.402 L64.0042 649.418 Q64.0042 656.197 61.4897 658.775 Q58.9434 661.353 52.2594 661.353 L32.9077 661.353 L32.9077 665.65 L28.3562 665.65 L28.3562 661.353 L18.2347 661.353 L18.2347 655.465 Z\" fill=\"#000000\" fill-rule=\"nonzero\" fill-opacity=\"1\" /><path clip-path=\"url(#clip940)\" d=\"M67.3143 620.867 Q73.68 623.35 75.6216 625.705 Q77.5631 628.061 77.5631 632.007 L77.5631 636.686 L72.6615 636.686 L72.6615 633.249 Q72.6615 630.83 71.5157 629.493 Q70.3699 628.156 66.1048 626.533 L63.4312 625.482 L28.3562 639.901 L28.3562 633.694 L56.238 622.554 L28.3562 611.414 L28.3562 605.208 L67.3143 620.867 Z\" fill=\"#000000\" fill-rule=\"nonzero\" fill-opacity=\"1\" /><path clip-path=\"url(#clip940)\" d=\"M595.976 12.096 L634.217 12.096 L634.217 18.9825 L604.159 18.9825 L604.159 36.8875 L632.961 36.8875 L632.961 43.7741 L604.159 43.7741 L604.159 65.6895 L634.946 65.6895 L634.946 72.576 L595.976 72.576 L595.976 12.096 Z\" fill=\"#000000\" fill-rule=\"nonzero\" fill-opacity=\"1\" /><path clip-path=\"url(#clip940)\" d=\"M683.395 35.9153 Q686.19 30.8922 690.079 28.5022 Q693.968 26.1121 699.234 26.1121 Q706.323 26.1121 710.171 31.0947 Q714.02 36.0368 714.02 45.1919 L714.02 72.576 L706.525 72.576 L706.525 45.4349 Q706.525 38.913 704.216 35.7533 Q701.907 32.5936 697.168 32.5936 Q691.375 32.5936 688.013 36.4419 Q684.651 40.2903 684.651 46.9338 L684.651 72.576 L677.156 72.576 L677.156 45.4349 Q677.156 38.8725 674.847 35.7533 Q672.538 32.5936 667.718 32.5936 Q662.006 32.5936 658.644 36.4824 Q655.281 40.3308 655.281 46.9338 L655.281 72.576 L647.787 72.576 L647.787 27.2059 L655.281 27.2059 L655.281 34.2544 Q657.834 30.082 661.398 28.0971 Q664.963 26.1121 669.865 26.1121 Q674.807 26.1121 678.25 28.6237 Q681.734 31.1352 683.395 35.9153 Z\" fill=\"#000000\" fill-rule=\"nonzero\" fill-opacity=\"1\" /><path clip-path=\"url(#clip940)\" d=\"M736.097 65.7705 L736.097 89.8329 L728.603 89.8329 L728.603 27.2059 L736.097 27.2059 L736.097 34.0924 Q738.447 30.0415 742.011 28.0971 Q745.617 26.1121 750.599 26.1121 Q758.863 26.1121 764.008 32.6746 Q769.193 39.2371 769.193 49.9314 Q769.193 60.6258 764.008 67.1883 Q758.863 73.7508 750.599 73.7508 Q745.617 73.7508 742.011 71.8063 Q738.447 69.8214 736.097 65.7705 M761.456 49.9314 Q761.456 41.7081 758.053 37.0496 Q754.691 32.3505 748.776 32.3505 Q742.862 32.3505 739.459 37.0496 Q736.097 41.7081 736.097 49.9314 Q736.097 58.1548 739.459 62.8538 Q742.862 67.5124 748.776 67.5124 Q754.691 67.5124 758.053 62.8538 Q761.456 58.1548 761.456 49.9314 Z\" fill=\"#000000\" fill-rule=\"nonzero\" fill-opacity=\"1\" /><path clip-path=\"url(#clip940)\" d=\"M781.548 27.2059 L789.002 27.2059 L789.002 72.576 L781.548 72.576 L781.548 27.2059 M781.548 9.54393 L789.002 9.54393 L789.002 18.9825 L781.548 18.9825 L781.548 9.54393 Z\" fill=\"#000000\" fill-rule=\"nonzero\" fill-opacity=\"1\" /><path clip-path=\"url(#clip940)\" d=\"M830.888 34.1734 Q829.632 33.4443 828.134 33.1202 Q826.675 32.7556 824.893 32.7556 Q818.573 32.7556 815.171 36.8875 Q811.808 40.9789 811.808 48.6757 L811.808 72.576 L804.314 72.576 L804.314 27.2059 L811.808 27.2059 L811.808 34.2544 Q814.158 30.1225 817.925 28.1376 Q821.693 26.1121 827.08 26.1121 Q827.85 26.1121 828.782 26.2337 Q829.713 26.3147 830.848 26.5172 L830.888 34.1734 Z\" fill=\"#000000\" fill-rule=\"nonzero\" fill-opacity=\"1\" /><path clip-path=\"url(#clip940)\" d=\"M838.706 27.2059 L846.16 27.2059 L846.16 72.576 L838.706 72.576 L838.706 27.2059 M838.706 9.54393 L846.16 9.54393 L846.16 18.9825 L838.706 18.9825 L838.706 9.54393 Z\" fill=\"#000000\" fill-rule=\"nonzero\" fill-opacity=\"1\" /><path clip-path=\"url(#clip940)\" d=\"M894.406 28.9478 L894.406 35.9153 Q891.247 34.1734 888.046 33.3227 Q884.887 32.4315 881.646 32.4315 Q874.395 32.4315 870.384 37.0496 Q866.374 41.6271 866.374 49.9314 Q866.374 58.2358 870.384 62.8538 Q874.395 67.4314 881.646 67.4314 Q884.887 67.4314 888.046 66.5807 Q891.247 65.6895 894.406 63.9476 L894.406 70.8341 Q891.287 72.2924 887.925 73.0216 Q884.603 73.7508 880.836 73.7508 Q870.587 73.7508 864.551 67.3098 Q858.515 60.8689 858.515 49.9314 Q858.515 38.832 864.592 32.472 Q870.709 26.1121 881.322 26.1121 Q884.765 26.1121 888.046 26.8413 Q891.328 27.5299 894.406 28.9478 Z\" fill=\"#000000\" fill-rule=\"nonzero\" fill-opacity=\"1\" /><path clip-path=\"url(#clip940)\" d=\"M927.988 49.7694 Q918.955 49.7694 915.471 51.8354 Q911.987 53.9013 911.987 58.8839 Q911.987 62.8538 914.58 65.2034 Q917.213 67.5124 921.709 67.5124 Q927.907 67.5124 931.634 63.1374 Q935.402 58.7219 935.402 51.4303 L935.402 49.7694 L927.988 49.7694 M942.855 46.6907 L942.855 72.576 L935.402 72.576 L935.402 65.6895 Q932.849 69.8214 929.042 71.8063 Q925.234 73.7508 919.725 73.7508 Q912.757 73.7508 908.625 69.8619 Q904.534 65.9325 904.534 59.3701 Q904.534 51.7138 909.638 47.825 Q914.782 43.9361 924.95 43.9361 L935.402 43.9361 L935.402 43.2069 Q935.402 38.0623 931.999 35.2672 Q928.636 32.4315 922.52 32.4315 Q918.631 32.4315 914.944 33.3632 Q911.258 34.295 907.855 36.1584 L907.855 29.2718 Q911.947 27.692 915.795 26.9223 Q919.643 26.1121 923.289 26.1121 Q933.133 26.1121 937.994 31.2163 Q942.855 36.3204 942.855 46.6907 Z\" fill=\"#000000\" fill-rule=\"nonzero\" fill-opacity=\"1\" /><path clip-path=\"url(#clip940)\" d=\"M958.208 9.54393 L965.662 9.54393 L965.662 72.576 L958.208 72.576 L958.208 9.54393 Z\" fill=\"#000000\" fill-rule=\"nonzero\" fill-opacity=\"1\" /><path clip-path=\"url(#clip940)\" d=\"M1053.24 16.7545 L1053.24 25.383 Q1049.11 21.5346 1044.41 19.6307 Q1039.75 17.7268 1034.49 17.7268 Q1024.12 17.7268 1018.61 24.0867 Q1013.1 30.4061 1013.1 42.3968 Q1013.1 54.3469 1018.61 60.7069 Q1024.12 67.0263 1034.49 67.0263 Q1039.75 67.0263 1044.41 65.1223 Q1049.11 63.2184 1053.24 59.3701 L1053.24 67.9175 Q1048.95 70.8341 1044.13 72.2924 Q1039.35 73.7508 1034 73.7508 Q1020.27 73.7508 1012.37 65.3654 Q1004.47 56.9395 1004.47 42.3968 Q1004.47 27.8135 1012.37 19.4281 Q1020.27 11.0023 1034 11.0023 Q1039.43 11.0023 1044.21 12.4606 Q1049.03 13.8784 1053.24 16.7545 Z\" fill=\"#000000\" fill-rule=\"nonzero\" fill-opacity=\"1\" /><path clip-path=\"url(#clip940)\" d=\"M1064.79 54.671 L1064.79 27.2059 L1072.24 27.2059 L1072.24 54.3874 Q1072.24 60.8284 1074.75 64.0691 Q1077.26 67.2693 1082.29 67.2693 Q1088.32 67.2693 1091.81 63.421 Q1095.33 59.5726 1095.33 52.9291 L1095.33 27.2059 L1102.78 27.2059 L1102.78 72.576 L1095.33 72.576 L1095.33 65.6084 Q1092.62 69.7404 1089.01 71.7658 Q1085.45 73.7508 1080.71 73.7508 Q1072.89 73.7508 1068.84 68.8897 Q1064.79 64.0286 1064.79 54.671 M1083.54 26.1121 L1083.54 26.1121 Z\" fill=\"#000000\" fill-rule=\"nonzero\" fill-opacity=\"1\" /><path clip-path=\"url(#clip940)\" d=\"M1153.46 35.9153 Q1156.26 30.8922 1160.15 28.5022 Q1164.03 26.1121 1169.3 26.1121 Q1176.39 26.1121 1180.24 31.0947 Q1184.09 36.0368 1184.09 45.1919 L1184.09 72.576 L1176.59 72.576 L1176.59 45.4349 Q1176.59 38.913 1174.28 35.7533 Q1171.97 32.5936 1167.23 32.5936 Q1161.44 32.5936 1158.08 36.4419 Q1154.72 40.2903 1154.72 46.9338 L1154.72 72.576 L1147.22 72.576 L1147.22 45.4349 Q1147.22 38.8725 1144.91 35.7533 Q1142.61 32.5936 1137.78 32.5936 Q1132.07 32.5936 1128.71 36.4824 Q1125.35 40.3308 1125.35 46.9338 L1125.35 72.576 L1117.85 72.576 L1117.85 27.2059 L1125.35 27.2059 L1125.35 34.2544 Q1127.9 30.082 1131.47 28.0971 Q1135.03 26.1121 1139.93 26.1121 Q1144.87 26.1121 1148.32 28.6237 Q1151.8 31.1352 1153.46 35.9153 Z\" fill=\"#000000\" fill-rule=\"nonzero\" fill-opacity=\"1\" /><path clip-path=\"url(#clip940)\" d=\"M1198.95 9.54393 L1206.41 9.54393 L1206.41 72.576 L1198.95 72.576 L1198.95 9.54393 Z\" fill=\"#000000\" fill-rule=\"nonzero\" fill-opacity=\"1\" /><path clip-path=\"url(#clip940)\" d=\"M1221.23 54.671 L1221.23 27.2059 L1228.69 27.2059 L1228.69 54.3874 Q1228.69 60.8284 1231.2 64.0691 Q1233.71 67.2693 1238.73 67.2693 Q1244.77 67.2693 1248.25 63.421 Q1251.78 59.5726 1251.78 52.9291 L1251.78 27.2059 L1259.23 27.2059 L1259.23 72.576 L1251.78 72.576 L1251.78 65.6084 Q1249.06 69.7404 1245.46 71.7658 Q1241.89 73.7508 1237.15 73.7508 Q1229.34 73.7508 1225.28 68.8897 Q1221.23 64.0286 1221.23 54.671 M1239.99 26.1121 L1239.99 26.1121 Z\" fill=\"#000000\" fill-rule=\"nonzero\" fill-opacity=\"1\" /><path clip-path=\"url(#clip940)\" d=\"M1295.2 49.7694 Q1286.17 49.7694 1282.69 51.8354 Q1279.2 53.9013 1279.2 58.8839 Q1279.2 62.8538 1281.79 65.2034 Q1284.43 67.5124 1288.92 67.5124 Q1295.12 67.5124 1298.85 63.1374 Q1302.62 58.7219 1302.62 51.4303 L1302.62 49.7694 L1295.2 49.7694 M1310.07 46.6907 L1310.07 72.576 L1302.62 72.576 L1302.62 65.6895 Q1300.06 69.8214 1296.26 71.8063 Q1292.45 73.7508 1286.94 73.7508 Q1279.97 73.7508 1275.84 69.8619 Q1271.75 65.9325 1271.75 59.3701 Q1271.75 51.7138 1276.85 47.825 Q1282 43.9361 1292.16 43.9361 L1302.62 43.9361 L1302.62 43.2069 Q1302.62 38.0623 1299.21 35.2672 Q1295.85 32.4315 1289.73 32.4315 Q1285.85 32.4315 1282.16 33.3632 Q1278.47 34.295 1275.07 36.1584 L1275.07 29.2718 Q1279.16 27.692 1283.01 26.9223 Q1286.86 26.1121 1290.5 26.1121 Q1300.35 26.1121 1305.21 31.2163 Q1310.07 36.3204 1310.07 46.6907 Z\" fill=\"#000000\" fill-rule=\"nonzero\" fill-opacity=\"1\" /><path clip-path=\"url(#clip940)\" d=\"M1332.8 14.324 L1332.8 27.2059 L1348.15 27.2059 L1348.15 32.9987 L1332.8 32.9987 L1332.8 57.6282 Q1332.8 63.1779 1334.29 64.7578 Q1335.83 66.3376 1340.49 66.3376 L1348.15 66.3376 L1348.15 72.576 L1340.49 72.576 Q1331.86 72.576 1328.58 69.3758 Q1325.3 66.1351 1325.3 57.6282 L1325.3 32.9987 L1319.83 32.9987 L1319.83 27.2059 L1325.3 27.2059 L1325.3 14.324 L1332.8 14.324 Z\" fill=\"#000000\" fill-rule=\"nonzero\" fill-opacity=\"1\" /><path clip-path=\"url(#clip940)\" d=\"M1357.95 27.2059 L1365.4 27.2059 L1365.4 72.576 L1357.95 72.576 L1357.95 27.2059 M1357.95 9.54393 L1365.4 9.54393 L1365.4 18.9825 L1357.95 18.9825 L1357.95 9.54393 Z\" fill=\"#000000\" fill-rule=\"nonzero\" fill-opacity=\"1\" /><path clip-path=\"url(#clip940)\" d=\"M1375.65 27.2059 L1383.55 27.2059 L1397.73 65.2844 L1411.91 27.2059 L1419.81 27.2059 L1402.79 72.576 L1392.67 72.576 L1375.65 27.2059 Z\" fill=\"#000000\" fill-rule=\"nonzero\" fill-opacity=\"1\" /><path clip-path=\"url(#clip940)\" d=\"M1468.91 48.0275 L1468.91 51.6733 L1434.63 51.6733 Q1435.12 59.3701 1439.25 63.421 Q1443.43 67.4314 1450.84 67.4314 Q1455.13 67.4314 1459.14 66.3781 Q1463.19 65.3249 1467.16 63.2184 L1467.16 70.267 Q1463.15 71.9684 1458.94 72.8596 Q1454.73 73.7508 1450.39 73.7508 Q1439.54 73.7508 1433.18 67.4314 Q1426.86 61.1119 1426.86 50.3365 Q1426.86 39.1965 1432.85 32.6746 Q1438.89 26.1121 1449.1 26.1121 Q1458.25 26.1121 1463.56 32.0264 Q1468.91 37.9003 1468.91 48.0275 M1461.45 45.84 Q1461.37 39.7232 1458.01 36.0774 Q1454.69 32.4315 1449.18 32.4315 Q1442.94 32.4315 1439.17 35.9558 Q1435.45 39.4801 1434.88 45.8805 L1461.45 45.84 Z\" fill=\"#000000\" fill-rule=\"nonzero\" fill-opacity=\"1\" /><path clip-path=\"url(#clip940)\" d=\"M1516.02 18.8205 L1516.02 65.8515 L1525.9 65.8515 Q1538.42 65.8515 1544.21 60.1802 Q1550.05 54.509 1550.05 42.2752 Q1550.05 30.1225 1544.21 24.4918 Q1538.42 18.8205 1525.9 18.8205 L1516.02 18.8205 M1507.83 12.096 L1524.65 12.096 Q1542.23 12.096 1550.45 19.4281 Q1558.67 26.7198 1558.67 42.2752 Q1558.67 57.9117 1550.41 65.2439 Q1542.15 72.576 1524.65 72.576 L1507.83 72.576 L1507.83 12.096 Z\" fill=\"#000000\" fill-rule=\"nonzero\" fill-opacity=\"1\" /><path clip-path=\"url(#clip940)\" d=\"M1571.39 27.2059 L1578.85 27.2059 L1578.85 72.576 L1571.39 72.576 L1571.39 27.2059 M1571.39 9.54393 L1578.85 9.54393 L1578.85 18.9825 L1571.39 18.9825 L1571.39 9.54393 Z\" fill=\"#000000\" fill-rule=\"nonzero\" fill-opacity=\"1\" /><path clip-path=\"url(#clip940)\" d=\"M1623.37 28.5427 L1623.37 35.5912 Q1620.21 33.9709 1616.8 33.1607 Q1613.4 32.3505 1609.76 32.3505 Q1604.21 32.3505 1601.41 34.0519 Q1598.66 35.7533 1598.66 39.156 Q1598.66 41.7486 1600.64 43.2475 Q1602.63 44.7058 1608.62 46.0426 L1611.17 46.6097 Q1619.11 48.3111 1622.43 51.4303 Q1625.8 54.509 1625.8 60.0587 Q1625.8 66.3781 1620.77 70.0644 Q1615.79 73.7508 1607.04 73.7508 Q1603.4 73.7508 1599.43 73.0216 Q1595.5 72.3329 1591.12 70.9151 L1591.12 63.2184 Q1595.25 65.3654 1599.26 66.4591 Q1603.27 67.5124 1607.2 67.5124 Q1612.47 67.5124 1615.31 65.73 Q1618.14 63.9071 1618.14 60.6258 Q1618.14 57.5877 1616.07 55.9673 Q1614.05 54.3469 1607.12 52.8481 L1604.53 52.2405 Q1597.6 50.7821 1594.52 47.7845 Q1591.45 44.7463 1591.45 39.4801 Q1591.45 33.0797 1595.98 29.5959 Q1600.52 26.1121 1608.86 26.1121 Q1613 26.1121 1616.64 26.7198 Q1620.29 27.3274 1623.37 28.5427 Z\" fill=\"#000000\" fill-rule=\"nonzero\" fill-opacity=\"1\" /><path clip-path=\"url(#clip940)\" d=\"M1645.04 14.324 L1645.04 27.2059 L1660.39 27.2059 L1660.39 32.9987 L1645.04 32.9987 L1645.04 57.6282 Q1645.04 63.1779 1646.54 64.7578 Q1648.08 66.3376 1652.74 66.3376 L1660.39 66.3376 L1660.39 72.576 L1652.74 72.576 Q1644.11 72.576 1640.83 69.3758 Q1637.54 66.1351 1637.54 57.6282 L1637.54 32.9987 L1632.08 32.9987 L1632.08 27.2059 L1637.54 27.2059 L1637.54 14.324 L1645.04 14.324 Z\" fill=\"#000000\" fill-rule=\"nonzero\" fill-opacity=\"1\" /><path clip-path=\"url(#clip940)\" d=\"M1696.49 34.1734 Q1695.23 33.4443 1693.73 33.1202 Q1692.27 32.7556 1690.49 32.7556 Q1684.17 32.7556 1680.77 36.8875 Q1677.41 40.9789 1677.41 48.6757 L1677.41 72.576 L1669.91 72.576 L1669.91 27.2059 L1677.41 27.2059 L1677.41 34.2544 Q1679.76 30.1225 1683.52 28.1376 Q1687.29 26.1121 1692.68 26.1121 Q1693.45 26.1121 1694.38 26.2337 Q1695.31 26.3147 1696.44 26.5172 L1696.49 34.1734 Z\" fill=\"#000000\" fill-rule=\"nonzero\" fill-opacity=\"1\" /><path clip-path=\"url(#clip940)\" d=\"M1704.3 27.2059 L1711.76 27.2059 L1711.76 72.576 L1704.3 72.576 L1704.3 27.2059 M1704.3 9.54393 L1711.76 9.54393 L1711.76 18.9825 L1704.3 18.9825 L1704.3 9.54393 Z\" fill=\"#000000\" fill-rule=\"nonzero\" fill-opacity=\"1\" /><path clip-path=\"url(#clip940)\" d=\"M1759.92 49.9314 Q1759.92 41.7081 1756.52 37.0496 Q1753.16 32.3505 1747.24 32.3505 Q1741.33 32.3505 1737.93 37.0496 Q1734.56 41.7081 1734.56 49.9314 Q1734.56 58.1548 1737.93 62.8538 Q1741.33 67.5124 1747.24 67.5124 Q1753.16 67.5124 1756.52 62.8538 Q1759.92 58.1548 1759.92 49.9314 M1734.56 34.0924 Q1736.91 30.0415 1740.48 28.0971 Q1744.08 26.1121 1749.07 26.1121 Q1757.33 26.1121 1762.47 32.6746 Q1767.66 39.2371 1767.66 49.9314 Q1767.66 60.6258 1762.47 67.1883 Q1757.33 73.7508 1749.07 73.7508 Q1744.08 73.7508 1740.48 71.8063 Q1736.91 69.8214 1734.56 65.7705 L1734.56 72.576 L1727.07 72.576 L1727.07 9.54393 L1734.56 9.54393 L1734.56 34.0924 Z\" fill=\"#000000\" fill-rule=\"nonzero\" fill-opacity=\"1\" /><path clip-path=\"url(#clip940)\" d=\"M1779.25 54.671 L1779.25 27.2059 L1786.7 27.2059 L1786.7 54.3874 Q1786.7 60.8284 1789.21 64.0691 Q1791.72 67.2693 1796.75 67.2693 Q1802.78 67.2693 1806.26 63.421 Q1809.79 59.5726 1809.79 52.9291 L1809.79 27.2059 L1817.24 27.2059 L1817.24 72.576 L1809.79 72.576 L1809.79 65.6084 Q1807.08 69.7404 1803.47 71.7658 Q1799.9 73.7508 1795.17 73.7508 Q1787.35 73.7508 1783.3 68.8897 Q1779.25 64.0286 1779.25 54.671 M1798 26.1121 L1798 26.1121 Z\" fill=\"#000000\" fill-rule=\"nonzero\" fill-opacity=\"1\" /><path clip-path=\"url(#clip940)\" d=\"M1839.97 14.324 L1839.97 27.2059 L1855.32 27.2059 L1855.32 32.9987 L1839.97 32.9987 L1839.97 57.6282 Q1839.97 63.1779 1841.47 64.7578 Q1843.01 66.3376 1847.67 66.3376 L1855.32 66.3376 L1855.32 72.576 L1847.67 72.576 Q1839.04 72.576 1835.76 69.3758 Q1832.47 66.1351 1832.47 57.6282 L1832.47 32.9987 L1827.01 32.9987 L1827.01 27.2059 L1832.47 27.2059 L1832.47 14.324 L1839.97 14.324 Z\" fill=\"#000000\" fill-rule=\"nonzero\" fill-opacity=\"1\" /><path clip-path=\"url(#clip940)\" d=\"M1865.12 27.2059 L1872.58 27.2059 L1872.58 72.576 L1865.12 72.576 L1865.12 27.2059 M1865.12 9.54393 L1872.58 9.54393 L1872.58 18.9825 L1865.12 18.9825 L1865.12 9.54393 Z\" fill=\"#000000\" fill-rule=\"nonzero\" fill-opacity=\"1\" /><path clip-path=\"url(#clip940)\" d=\"M1905.76 32.4315 Q1899.76 32.4315 1896.28 37.1306 Q1892.79 41.7891 1892.79 49.9314 Q1892.79 58.0738 1896.24 62.7728 Q1899.72 67.4314 1905.76 67.4314 Q1911.71 67.4314 1915.19 62.7323 Q1918.68 58.0333 1918.68 49.9314 Q1918.68 41.8701 1915.19 37.1711 Q1911.71 32.4315 1905.76 32.4315 M1905.76 26.1121 Q1915.48 26.1121 1921.03 32.4315 Q1926.58 38.7509 1926.58 49.9314 Q1926.58 61.0714 1921.03 67.4314 Q1915.48 73.7508 1905.76 73.7508 Q1895.99 73.7508 1890.44 67.4314 Q1884.93 61.0714 1884.93 49.9314 Q1884.93 38.7509 1890.44 32.4315 Q1895.99 26.1121 1905.76 26.1121 Z\" fill=\"#000000\" fill-rule=\"nonzero\" fill-opacity=\"1\" /><path clip-path=\"url(#clip940)\" d=\"M1976.65 45.1919 L1976.65 72.576 L1969.19 72.576 L1969.19 45.4349 Q1969.19 38.994 1966.68 35.7938 Q1964.17 32.5936 1959.15 32.5936 Q1953.11 32.5936 1949.63 36.4419 Q1946.14 40.2903 1946.14 46.9338 L1946.14 72.576 L1938.65 72.576 L1938.65 27.2059 L1946.14 27.2059 L1946.14 34.2544 Q1948.82 30.163 1952.42 28.1376 Q1956.07 26.1121 1960.81 26.1121 Q1968.63 26.1121 1972.64 30.9732 Q1976.65 35.7938 1976.65 45.1919 Z\" fill=\"#000000\" fill-rule=\"nonzero\" fill-opacity=\"1\" /><path clip-path=\"url(#clip942)\" d=\"M337.179 123.472 L337.179 1423.18 L337.279 1423.18 L337.279 123.472 L337.179 123.472 L337.179 123.472  Z\" fill=\"#009af9\" fill-rule=\"evenodd\" fill-opacity=\"1\"/>\n",
              "<polyline clip-path=\"url(#clip942)\" style=\"stroke:#000000; stroke-linecap:round; stroke-linejoin:round; stroke-width:4; stroke-opacity:1; fill:none\" points=\"337.179,123.472 337.179,1423.18 337.279,1423.18 337.279,123.472 337.179,123.472 \"/>\n",
              "<path clip-path=\"url(#clip942)\" d=\"M754.963 149.997 L754.963 1423.18 L755.064 1423.18 L755.064 149.997 L754.963 149.997 L754.963 149.997  Z\" fill=\"#009af9\" fill-rule=\"evenodd\" fill-opacity=\"1\"/>\n",
              "<polyline clip-path=\"url(#clip942)\" style=\"stroke:#000000; stroke-linecap:round; stroke-linejoin:round; stroke-width:4; stroke-opacity:1; fill:none\" points=\"754.963,149.997 754.963,1423.18 755.064,1423.18 755.064,149.997 754.963,149.997 \"/>\n",
              "<path clip-path=\"url(#clip942)\" d=\"M861.941 176.521 L861.941 1423.18 L862.042 1423.18 L862.042 176.521 L861.941 176.521 L861.941 176.521  Z\" fill=\"#009af9\" fill-rule=\"evenodd\" fill-opacity=\"1\"/>\n",
              "<polyline clip-path=\"url(#clip942)\" style=\"stroke:#000000; stroke-linecap:round; stroke-linejoin:round; stroke-width:4; stroke-opacity:1; fill:none\" points=\"861.941,176.521 861.941,1423.18 862.042,1423.18 862.042,176.521 861.941,176.521 \"/>\n",
              "<path clip-path=\"url(#clip942)\" d=\"M873.573 203.046 L873.573 1423.18 L873.673 1423.18 L873.673 203.046 L873.573 203.046 L873.573 203.046  Z\" fill=\"#009af9\" fill-rule=\"evenodd\" fill-opacity=\"1\"/>\n",
              "<polyline clip-path=\"url(#clip942)\" style=\"stroke:#000000; stroke-linecap:round; stroke-linejoin:round; stroke-width:4; stroke-opacity:1; fill:none\" points=\"873.573,203.046 873.573,1423.18 873.673,1423.18 873.673,203.046 873.573,203.046 \"/>\n",
              "<path clip-path=\"url(#clip942)\" d=\"M901.739 229.571 L901.739 1423.18 L901.839 1423.18 L901.839 229.571 L901.739 229.571 L901.739 229.571  Z\" fill=\"#009af9\" fill-rule=\"evenodd\" fill-opacity=\"1\"/>\n",
              "<polyline clip-path=\"url(#clip942)\" style=\"stroke:#000000; stroke-linecap:round; stroke-linejoin:round; stroke-width:4; stroke-opacity:1; fill:none\" points=\"901.739,229.571 901.739,1423.18 901.839,1423.18 901.839,229.571 901.739,229.571 \"/>\n",
              "<path clip-path=\"url(#clip942)\" d=\"M912.698 256.095 L912.698 1423.18 L912.798 1423.18 L912.798 256.095 L912.698 256.095 L912.698 256.095  Z\" fill=\"#009af9\" fill-rule=\"evenodd\" fill-opacity=\"1\"/>\n",
              "<polyline clip-path=\"url(#clip942)\" style=\"stroke:#000000; stroke-linecap:round; stroke-linejoin:round; stroke-width:4; stroke-opacity:1; fill:none\" points=\"912.698,256.095 912.698,1423.18 912.798,1423.18 912.798,256.095 912.698,256.095 \"/>\n",
              "<path clip-path=\"url(#clip942)\" d=\"M931.382 282.62 L931.382 1423.18 L931.483 1423.18 L931.483 282.62 L931.382 282.62 L931.382 282.62  Z\" fill=\"#009af9\" fill-rule=\"evenodd\" fill-opacity=\"1\"/>\n",
              "<polyline clip-path=\"url(#clip942)\" style=\"stroke:#000000; stroke-linecap:round; stroke-linejoin:round; stroke-width:4; stroke-opacity:1; fill:none\" points=\"931.382,282.62 931.382,1423.18 931.483,1423.18 931.483,282.62 931.382,282.62 \"/>\n",
              "<path clip-path=\"url(#clip942)\" d=\"M993.697 309.145 L993.697 1423.18 L993.797 1423.18 L993.797 309.145 L993.697 309.145 L993.697 309.145  Z\" fill=\"#009af9\" fill-rule=\"evenodd\" fill-opacity=\"1\"/>\n",
              "<polyline clip-path=\"url(#clip942)\" style=\"stroke:#000000; stroke-linecap:round; stroke-linejoin:round; stroke-width:4; stroke-opacity:1; fill:none\" points=\"993.697,309.145 993.697,1423.18 993.797,1423.18 993.797,309.145 993.697,309.145 \"/>\n",
              "<path clip-path=\"url(#clip942)\" d=\"M1034.25 335.669 L1034.25 1423.18 L1034.35 1423.18 L1034.35 335.669 L1034.25 335.669 L1034.25 335.669  Z\" fill=\"#009af9\" fill-rule=\"evenodd\" fill-opacity=\"1\"/>\n",
              "<polyline clip-path=\"url(#clip942)\" style=\"stroke:#000000; stroke-linecap:round; stroke-linejoin:round; stroke-width:4; stroke-opacity:1; fill:none\" points=\"1034.25,335.669 1034.25,1423.18 1034.35,1423.18 1034.35,335.669 1034.25,335.669 \"/>\n",
              "<path clip-path=\"url(#clip942)\" d=\"M1078.18 362.194 L1078.18 1423.18 L1078.28 1423.18 L1078.28 362.194 L1078.18 362.194 L1078.18 362.194  Z\" fill=\"#009af9\" fill-rule=\"evenodd\" fill-opacity=\"1\"/>\n",
              "<polyline clip-path=\"url(#clip942)\" style=\"stroke:#000000; stroke-linecap:round; stroke-linejoin:round; stroke-width:4; stroke-opacity:1; fill:none\" points=\"1078.18,362.194 1078.18,1423.18 1078.28,1423.18 1078.28,362.194 1078.18,362.194 \"/>\n",
              "<path clip-path=\"url(#clip942)\" d=\"M1106.88 388.719 L1106.88 1423.18 L1106.98 1423.18 L1106.98 388.719 L1106.88 388.719 L1106.88 388.719  Z\" fill=\"#009af9\" fill-rule=\"evenodd\" fill-opacity=\"1\"/>\n",
              "<polyline clip-path=\"url(#clip942)\" style=\"stroke:#000000; stroke-linecap:round; stroke-linejoin:round; stroke-width:4; stroke-opacity:1; fill:none\" points=\"1106.88,388.719 1106.88,1423.18 1106.98,1423.18 1106.98,388.719 1106.88,388.719 \"/>\n",
              "<path clip-path=\"url(#clip942)\" d=\"M1134.93 415.243 L1134.93 1423.18 L1135.03 1423.18 L1135.03 415.243 L1134.93 415.243 L1134.93 415.243  Z\" fill=\"#009af9\" fill-rule=\"evenodd\" fill-opacity=\"1\"/>\n",
              "<polyline clip-path=\"url(#clip942)\" style=\"stroke:#000000; stroke-linecap:round; stroke-linejoin:round; stroke-width:4; stroke-opacity:1; fill:none\" points=\"1134.93,415.243 1134.93,1423.18 1135.03,1423.18 1135.03,415.243 1134.93,415.243 \"/>\n",
              "<path clip-path=\"url(#clip942)\" d=\"M1153.93 441.768 L1153.93 1423.18 L1154.03 1423.18 L1154.03 441.768 L1153.93 441.768 L1153.93 441.768  Z\" fill=\"#009af9\" fill-rule=\"evenodd\" fill-opacity=\"1\"/>\n",
              "<polyline clip-path=\"url(#clip942)\" style=\"stroke:#000000; stroke-linecap:round; stroke-linejoin:round; stroke-width:4; stroke-opacity:1; fill:none\" points=\"1153.93,441.768 1153.93,1423.18 1154.03,1423.18 1154.03,441.768 1153.93,441.768 \"/>\n",
              "<path clip-path=\"url(#clip942)\" d=\"M1155.46 468.293 L1155.46 1423.18 L1155.57 1423.18 L1155.57 468.293 L1155.46 468.293 L1155.46 468.293  Z\" fill=\"#009af9\" fill-rule=\"evenodd\" fill-opacity=\"1\"/>\n",
              "<polyline clip-path=\"url(#clip942)\" style=\"stroke:#000000; stroke-linecap:round; stroke-linejoin:round; stroke-width:4; stroke-opacity:1; fill:none\" points=\"1155.46,468.293 1155.46,1423.18 1155.57,1423.18 1155.57,468.293 1155.46,468.293 \"/>\n",
              "<path clip-path=\"url(#clip942)\" d=\"M1182.24 494.817 L1182.24 1423.18 L1182.34 1423.18 L1182.34 494.817 L1182.24 494.817 L1182.24 494.817  Z\" fill=\"#009af9\" fill-rule=\"evenodd\" fill-opacity=\"1\"/>\n",
              "<polyline clip-path=\"url(#clip942)\" style=\"stroke:#000000; stroke-linecap:round; stroke-linejoin:round; stroke-width:4; stroke-opacity:1; fill:none\" points=\"1182.24,494.817 1182.24,1423.18 1182.34,1423.18 1182.34,494.817 1182.24,494.817 \"/>\n",
              "<path clip-path=\"url(#clip942)\" d=\"M1220.57 521.342 L1220.57 1423.18 L1220.67 1423.18 L1220.67 521.342 L1220.57 521.342 L1220.57 521.342  Z\" fill=\"#009af9\" fill-rule=\"evenodd\" fill-opacity=\"1\"/>\n",
              "<polyline clip-path=\"url(#clip942)\" style=\"stroke:#000000; stroke-linecap:round; stroke-linejoin:round; stroke-width:4; stroke-opacity:1; fill:none\" points=\"1220.57,521.342 1220.57,1423.18 1220.67,1423.18 1220.67,521.342 1220.57,521.342 \"/>\n",
              "<path clip-path=\"url(#clip942)\" d=\"M1254.18 547.866 L1254.18 1423.18 L1254.28 1423.18 L1254.28 547.866 L1254.18 547.866 L1254.18 547.866  Z\" fill=\"#009af9\" fill-rule=\"evenodd\" fill-opacity=\"1\"/>\n",
              "<polyline clip-path=\"url(#clip942)\" style=\"stroke:#000000; stroke-linecap:round; stroke-linejoin:round; stroke-width:4; stroke-opacity:1; fill:none\" points=\"1254.18,547.866 1254.18,1423.18 1254.28,1423.18 1254.28,547.866 1254.18,547.866 \"/>\n",
              "<path clip-path=\"url(#clip942)\" d=\"M1278.09 574.391 L1278.09 1423.18 L1278.19 1423.18 L1278.19 574.391 L1278.09 574.391 L1278.09 574.391  Z\" fill=\"#009af9\" fill-rule=\"evenodd\" fill-opacity=\"1\"/>\n",
              "<polyline clip-path=\"url(#clip942)\" style=\"stroke:#000000; stroke-linecap:round; stroke-linejoin:round; stroke-width:4; stroke-opacity:1; fill:none\" points=\"1278.09,574.391 1278.09,1423.18 1278.19,1423.18 1278.19,574.391 1278.09,574.391 \"/>\n",
              "<path clip-path=\"url(#clip942)\" d=\"M1287.91 600.916 L1287.91 1423.18 L1288.01 1423.18 L1288.01 600.916 L1287.91 600.916 L1287.91 600.916  Z\" fill=\"#009af9\" fill-rule=\"evenodd\" fill-opacity=\"1\"/>\n",
              "<polyline clip-path=\"url(#clip942)\" style=\"stroke:#000000; stroke-linecap:round; stroke-linejoin:round; stroke-width:4; stroke-opacity:1; fill:none\" points=\"1287.91,600.916 1287.91,1423.18 1288.01,1423.18 1288.01,600.916 1287.91,600.916 \"/>\n",
              "<path clip-path=\"url(#clip942)\" d=\"M1321.1 627.44 L1321.1 1423.18 L1321.2 1423.18 L1321.2 627.44 L1321.1 627.44 L1321.1 627.44  Z\" fill=\"#009af9\" fill-rule=\"evenodd\" fill-opacity=\"1\"/>\n",
              "<polyline clip-path=\"url(#clip942)\" style=\"stroke:#000000; stroke-linecap:round; stroke-linejoin:round; stroke-width:4; stroke-opacity:1; fill:none\" points=\"1321.1,627.44 1321.1,1423.18 1321.2,1423.18 1321.2,627.44 1321.1,627.44 \"/>\n",
              "<path clip-path=\"url(#clip942)\" d=\"M1380.33 653.965 L1380.33 1423.18 L1380.43 1423.18 L1380.43 653.965 L1380.33 653.965 L1380.33 653.965  Z\" fill=\"#009af9\" fill-rule=\"evenodd\" fill-opacity=\"1\"/>\n",
              "<polyline clip-path=\"url(#clip942)\" style=\"stroke:#000000; stroke-linecap:round; stroke-linejoin:round; stroke-width:4; stroke-opacity:1; fill:none\" points=\"1380.33,653.965 1380.33,1423.18 1380.43,1423.18 1380.43,653.965 1380.33,653.965 \"/>\n",
              "<path clip-path=\"url(#clip942)\" d=\"M1380.46 680.49 L1380.46 1423.18 L1380.56 1423.18 L1380.56 680.49 L1380.46 680.49 L1380.46 680.49  Z\" fill=\"#009af9\" fill-rule=\"evenodd\" fill-opacity=\"1\"/>\n",
              "<polyline clip-path=\"url(#clip942)\" style=\"stroke:#000000; stroke-linecap:round; stroke-linejoin:round; stroke-width:4; stroke-opacity:1; fill:none\" points=\"1380.46,680.49 1380.46,1423.18 1380.56,1423.18 1380.56,680.49 1380.46,680.49 \"/>\n",
              "<path clip-path=\"url(#clip942)\" d=\"M1394.79 707.014 L1394.79 1423.18 L1394.89 1423.18 L1394.89 707.014 L1394.79 707.014 L1394.79 707.014  Z\" fill=\"#009af9\" fill-rule=\"evenodd\" fill-opacity=\"1\"/>\n",
              "<polyline clip-path=\"url(#clip942)\" style=\"stroke:#000000; stroke-linecap:round; stroke-linejoin:round; stroke-width:4; stroke-opacity:1; fill:none\" points=\"1394.79,707.014 1394.79,1423.18 1394.89,1423.18 1394.89,707.014 1394.79,707.014 \"/>\n",
              "<path clip-path=\"url(#clip942)\" d=\"M1403.2 733.539 L1403.2 1423.18 L1403.3 1423.18 L1403.3 733.539 L1403.2 733.539 L1403.2 733.539  Z\" fill=\"#009af9\" fill-rule=\"evenodd\" fill-opacity=\"1\"/>\n",
              "<polyline clip-path=\"url(#clip942)\" style=\"stroke:#000000; stroke-linecap:round; stroke-linejoin:round; stroke-width:4; stroke-opacity:1; fill:none\" points=\"1403.2,733.539 1403.2,1423.18 1403.3,1423.18 1403.3,733.539 1403.2,733.539 \"/>\n",
              "<path clip-path=\"url(#clip942)\" d=\"M1455.89 760.064 L1455.89 1423.18 L1455.99 1423.18 L1455.99 760.064 L1455.89 760.064 L1455.89 760.064  Z\" fill=\"#009af9\" fill-rule=\"evenodd\" fill-opacity=\"1\"/>\n",
              "<polyline clip-path=\"url(#clip942)\" style=\"stroke:#000000; stroke-linecap:round; stroke-linejoin:round; stroke-width:4; stroke-opacity:1; fill:none\" points=\"1455.89,760.064 1455.89,1423.18 1455.99,1423.18 1455.99,760.064 1455.89,760.064 \"/>\n",
              "<path clip-path=\"url(#clip942)\" d=\"M1460.93 786.588 L1460.93 1423.18 L1461.03 1423.18 L1461.03 786.588 L1460.93 786.588 L1460.93 786.588  Z\" fill=\"#009af9\" fill-rule=\"evenodd\" fill-opacity=\"1\"/>\n",
              "<polyline clip-path=\"url(#clip942)\" style=\"stroke:#000000; stroke-linecap:round; stroke-linejoin:round; stroke-width:4; stroke-opacity:1; fill:none\" points=\"1460.93,786.588 1460.93,1423.18 1461.03,1423.18 1461.03,786.588 1460.93,786.588 \"/>\n",
              "<path clip-path=\"url(#clip942)\" d=\"M1506.27 813.113 L1506.27 1423.18 L1506.37 1423.18 L1506.37 813.113 L1506.27 813.113 L1506.27 813.113  Z\" fill=\"#009af9\" fill-rule=\"evenodd\" fill-opacity=\"1\"/>\n",
              "<polyline clip-path=\"url(#clip942)\" style=\"stroke:#000000; stroke-linecap:round; stroke-linejoin:round; stroke-width:4; stroke-opacity:1; fill:none\" points=\"1506.27,813.113 1506.27,1423.18 1506.37,1423.18 1506.37,813.113 1506.27,813.113 \"/>\n",
              "<path clip-path=\"url(#clip942)\" d=\"M1535.06 839.638 L1535.06 1423.18 L1535.16 1423.18 L1535.16 839.638 L1535.06 839.638 L1535.06 839.638  Z\" fill=\"#009af9\" fill-rule=\"evenodd\" fill-opacity=\"1\"/>\n",
              "<polyline clip-path=\"url(#clip942)\" style=\"stroke:#000000; stroke-linecap:round; stroke-linejoin:round; stroke-width:4; stroke-opacity:1; fill:none\" points=\"1535.06,839.638 1535.06,1423.18 1535.16,1423.18 1535.16,839.638 1535.06,839.638 \"/>\n",
              "<path clip-path=\"url(#clip942)\" d=\"M1575.14 866.162 L1575.14 1423.18 L1575.24 1423.18 L1575.24 866.162 L1575.14 866.162 L1575.14 866.162  Z\" fill=\"#009af9\" fill-rule=\"evenodd\" fill-opacity=\"1\"/>\n",
              "<polyline clip-path=\"url(#clip942)\" style=\"stroke:#000000; stroke-linecap:round; stroke-linejoin:round; stroke-width:4; stroke-opacity:1; fill:none\" points=\"1575.14,866.162 1575.14,1423.18 1575.24,1423.18 1575.24,866.162 1575.14,866.162 \"/>\n",
              "<path clip-path=\"url(#clip942)\" d=\"M1582.1 892.687 L1582.1 1423.18 L1582.2 1423.18 L1582.2 892.687 L1582.1 892.687 L1582.1 892.687  Z\" fill=\"#009af9\" fill-rule=\"evenodd\" fill-opacity=\"1\"/>\n",
              "<polyline clip-path=\"url(#clip942)\" style=\"stroke:#000000; stroke-linecap:round; stroke-linejoin:round; stroke-width:4; stroke-opacity:1; fill:none\" points=\"1582.1,892.687 1582.1,1423.18 1582.2,1423.18 1582.2,892.687 1582.1,892.687 \"/>\n",
              "<path clip-path=\"url(#clip942)\" d=\"M1617.84 919.212 L1617.84 1423.18 L1617.94 1423.18 L1617.94 919.212 L1617.84 919.212 L1617.84 919.212  Z\" fill=\"#009af9\" fill-rule=\"evenodd\" fill-opacity=\"1\"/>\n",
              "<polyline clip-path=\"url(#clip942)\" style=\"stroke:#000000; stroke-linecap:round; stroke-linejoin:round; stroke-width:4; stroke-opacity:1; fill:none\" points=\"1617.84,919.212 1617.84,1423.18 1617.94,1423.18 1617.94,919.212 1617.84,919.212 \"/>\n",
              "<path clip-path=\"url(#clip942)\" d=\"M1653.28 945.736 L1653.28 1423.18 L1653.38 1423.18 L1653.38 945.736 L1653.28 945.736 L1653.28 945.736  Z\" fill=\"#009af9\" fill-rule=\"evenodd\" fill-opacity=\"1\"/>\n",
              "<polyline clip-path=\"url(#clip942)\" style=\"stroke:#000000; stroke-linecap:round; stroke-linejoin:round; stroke-width:4; stroke-opacity:1; fill:none\" points=\"1653.28,945.736 1653.28,1423.18 1653.38,1423.18 1653.38,945.736 1653.28,945.736 \"/>\n",
              "<path clip-path=\"url(#clip942)\" d=\"M1658.3 972.261 L1658.3 1423.18 L1658.4 1423.18 L1658.4 972.261 L1658.3 972.261 L1658.3 972.261  Z\" fill=\"#009af9\" fill-rule=\"evenodd\" fill-opacity=\"1\"/>\n",
              "<polyline clip-path=\"url(#clip942)\" style=\"stroke:#000000; stroke-linecap:round; stroke-linejoin:round; stroke-width:4; stroke-opacity:1; fill:none\" points=\"1658.3,972.261 1658.3,1423.18 1658.4,1423.18 1658.4,972.261 1658.3,972.261 \"/>\n",
              "<path clip-path=\"url(#clip942)\" d=\"M1663.47 998.785 L1663.47 1423.18 L1663.57 1423.18 L1663.57 998.785 L1663.47 998.785 L1663.47 998.785  Z\" fill=\"#009af9\" fill-rule=\"evenodd\" fill-opacity=\"1\"/>\n",
              "<polyline clip-path=\"url(#clip942)\" style=\"stroke:#000000; stroke-linecap:round; stroke-linejoin:round; stroke-width:4; stroke-opacity:1; fill:none\" points=\"1663.47,998.785 1663.47,1423.18 1663.57,1423.18 1663.57,998.785 1663.47,998.785 \"/>\n",
              "<path clip-path=\"url(#clip942)\" d=\"M1675.5 1025.31 L1675.5 1423.18 L1675.6 1423.18 L1675.6 1025.31 L1675.5 1025.31 L1675.5 1025.31  Z\" fill=\"#009af9\" fill-rule=\"evenodd\" fill-opacity=\"1\"/>\n",
              "<polyline clip-path=\"url(#clip942)\" style=\"stroke:#000000; stroke-linecap:round; stroke-linejoin:round; stroke-width:4; stroke-opacity:1; fill:none\" points=\"1675.5,1025.31 1675.5,1423.18 1675.6,1423.18 1675.6,1025.31 1675.5,1025.31 \"/>\n",
              "<path clip-path=\"url(#clip942)\" d=\"M1710.19 1051.83 L1710.19 1423.18 L1710.29 1423.18 L1710.29 1051.83 L1710.19 1051.83 L1710.19 1051.83  Z\" fill=\"#009af9\" fill-rule=\"evenodd\" fill-opacity=\"1\"/>\n",
              "<polyline clip-path=\"url(#clip942)\" style=\"stroke:#000000; stroke-linecap:round; stroke-linejoin:round; stroke-width:4; stroke-opacity:1; fill:none\" points=\"1710.19,1051.83 1710.19,1423.18 1710.29,1423.18 1710.29,1051.83 1710.19,1051.83 \"/>\n",
              "<path clip-path=\"url(#clip942)\" d=\"M1750.14 1078.36 L1750.14 1423.18 L1750.24 1423.18 L1750.24 1078.36 L1750.14 1078.36 L1750.14 1078.36  Z\" fill=\"#009af9\" fill-rule=\"evenodd\" fill-opacity=\"1\"/>\n",
              "<polyline clip-path=\"url(#clip942)\" style=\"stroke:#000000; stroke-linecap:round; stroke-linejoin:round; stroke-width:4; stroke-opacity:1; fill:none\" points=\"1750.14,1078.36 1750.14,1423.18 1750.24,1423.18 1750.24,1078.36 1750.14,1078.36 \"/>\n",
              "<path clip-path=\"url(#clip942)\" d=\"M1811.9 1104.88 L1811.9 1423.18 L1812 1423.18 L1812 1104.88 L1811.9 1104.88 L1811.9 1104.88  Z\" fill=\"#009af9\" fill-rule=\"evenodd\" fill-opacity=\"1\"/>\n",
              "<polyline clip-path=\"url(#clip942)\" style=\"stroke:#000000; stroke-linecap:round; stroke-linejoin:round; stroke-width:4; stroke-opacity:1; fill:none\" points=\"1811.9,1104.88 1811.9,1423.18 1812,1423.18 1812,1104.88 1811.9,1104.88 \"/>\n",
              "<path clip-path=\"url(#clip942)\" d=\"M1818.47 1131.41 L1818.47 1423.18 L1818.57 1423.18 L1818.57 1131.41 L1818.47 1131.41 L1818.47 1131.41  Z\" fill=\"#009af9\" fill-rule=\"evenodd\" fill-opacity=\"1\"/>\n",
              "<polyline clip-path=\"url(#clip942)\" style=\"stroke:#000000; stroke-linecap:round; stroke-linejoin:round; stroke-width:4; stroke-opacity:1; fill:none\" points=\"1818.47,1131.41 1818.47,1423.18 1818.57,1423.18 1818.57,1131.41 1818.47,1131.41 \"/>\n",
              "<path clip-path=\"url(#clip942)\" d=\"M1883.16 1157.93 L1883.16 1423.18 L1883.26 1423.18 L1883.26 1157.93 L1883.16 1157.93 L1883.16 1157.93  Z\" fill=\"#009af9\" fill-rule=\"evenodd\" fill-opacity=\"1\"/>\n",
              "<polyline clip-path=\"url(#clip942)\" style=\"stroke:#000000; stroke-linecap:round; stroke-linejoin:round; stroke-width:4; stroke-opacity:1; fill:none\" points=\"1883.16,1157.93 1883.16,1423.18 1883.26,1423.18 1883.26,1157.93 1883.16,1157.93 \"/>\n",
              "<path clip-path=\"url(#clip942)\" d=\"M1896.52 1184.46 L1896.52 1423.18 L1896.62 1423.18 L1896.62 1184.46 L1896.52 1184.46 L1896.52 1184.46  Z\" fill=\"#009af9\" fill-rule=\"evenodd\" fill-opacity=\"1\"/>\n",
              "<polyline clip-path=\"url(#clip942)\" style=\"stroke:#000000; stroke-linecap:round; stroke-linejoin:round; stroke-width:4; stroke-opacity:1; fill:none\" points=\"1896.52,1184.46 1896.52,1423.18 1896.62,1423.18 1896.62,1184.46 1896.52,1184.46 \"/>\n",
              "<path clip-path=\"url(#clip942)\" d=\"M1938.93 1210.98 L1938.93 1423.18 L1939.03 1423.18 L1939.03 1210.98 L1938.93 1210.98 L1938.93 1210.98  Z\" fill=\"#009af9\" fill-rule=\"evenodd\" fill-opacity=\"1\"/>\n",
              "<polyline clip-path=\"url(#clip942)\" style=\"stroke:#000000; stroke-linecap:round; stroke-linejoin:round; stroke-width:4; stroke-opacity:1; fill:none\" points=\"1938.93,1210.98 1938.93,1423.18 1939.03,1423.18 1939.03,1210.98 1938.93,1210.98 \"/>\n",
              "<path clip-path=\"url(#clip942)\" d=\"M1944.39 1237.51 L1944.39 1423.18 L1944.49 1423.18 L1944.49 1237.51 L1944.39 1237.51 L1944.39 1237.51  Z\" fill=\"#009af9\" fill-rule=\"evenodd\" fill-opacity=\"1\"/>\n",
              "<polyline clip-path=\"url(#clip942)\" style=\"stroke:#000000; stroke-linecap:round; stroke-linejoin:round; stroke-width:4; stroke-opacity:1; fill:none\" points=\"1944.39,1237.51 1944.39,1423.18 1944.49,1423.18 1944.49,1237.51 1944.39,1237.51 \"/>\n",
              "<path clip-path=\"url(#clip942)\" d=\"M1947.36 1264.03 L1947.36 1423.18 L1947.46 1423.18 L1947.46 1264.03 L1947.36 1264.03 L1947.36 1264.03  Z\" fill=\"#009af9\" fill-rule=\"evenodd\" fill-opacity=\"1\"/>\n",
              "<polyline clip-path=\"url(#clip942)\" style=\"stroke:#000000; stroke-linecap:round; stroke-linejoin:round; stroke-width:4; stroke-opacity:1; fill:none\" points=\"1947.36,1264.03 1947.36,1423.18 1947.46,1423.18 1947.46,1264.03 1947.36,1264.03 \"/>\n",
              "<path clip-path=\"url(#clip942)\" d=\"M1976.48 1290.56 L1976.48 1423.18 L1976.58 1423.18 L1976.58 1290.56 L1976.48 1290.56 L1976.48 1290.56  Z\" fill=\"#009af9\" fill-rule=\"evenodd\" fill-opacity=\"1\"/>\n",
              "<polyline clip-path=\"url(#clip942)\" style=\"stroke:#000000; stroke-linecap:round; stroke-linejoin:round; stroke-width:4; stroke-opacity:1; fill:none\" points=\"1976.48,1290.56 1976.48,1423.18 1976.58,1423.18 1976.58,1290.56 1976.48,1290.56 \"/>\n",
              "<path clip-path=\"url(#clip942)\" d=\"M1978.74 1317.08 L1978.74 1423.18 L1978.84 1423.18 L1978.84 1317.08 L1978.74 1317.08 L1978.74 1317.08  Z\" fill=\"#009af9\" fill-rule=\"evenodd\" fill-opacity=\"1\"/>\n",
              "<polyline clip-path=\"url(#clip942)\" style=\"stroke:#000000; stroke-linecap:round; stroke-linejoin:round; stroke-width:4; stroke-opacity:1; fill:none\" points=\"1978.74,1317.08 1978.74,1423.18 1978.84,1423.18 1978.84,1317.08 1978.74,1317.08 \"/>\n",
              "<path clip-path=\"url(#clip942)\" d=\"M2033.06 1343.61 L2033.06 1423.18 L2033.16 1423.18 L2033.16 1343.61 L2033.06 1343.61 L2033.06 1343.61  Z\" fill=\"#009af9\" fill-rule=\"evenodd\" fill-opacity=\"1\"/>\n",
              "<polyline clip-path=\"url(#clip942)\" style=\"stroke:#000000; stroke-linecap:round; stroke-linejoin:round; stroke-width:4; stroke-opacity:1; fill:none\" points=\"2033.06,1343.61 2033.06,1423.18 2033.16,1423.18 2033.16,1343.61 2033.06,1343.61 \"/>\n",
              "<path clip-path=\"url(#clip942)\" d=\"M2182.93 1370.13 L2182.93 1423.18 L2183.03 1423.18 L2183.03 1370.13 L2182.93 1370.13 L2182.93 1370.13  Z\" fill=\"#009af9\" fill-rule=\"evenodd\" fill-opacity=\"1\"/>\n",
              "<polyline clip-path=\"url(#clip942)\" style=\"stroke:#000000; stroke-linecap:round; stroke-linejoin:round; stroke-width:4; stroke-opacity:1; fill:none\" points=\"2182.93,1370.13 2182.93,1423.18 2183.03,1423.18 2183.03,1370.13 2182.93,1370.13 \"/>\n",
              "<path clip-path=\"url(#clip942)\" d=\"M2223.36 1396.66 L2223.36 1423.18 L2223.46 1423.18 L2223.46 1396.66 L2223.36 1396.66 L2223.36 1396.66  Z\" fill=\"#009af9\" fill-rule=\"evenodd\" fill-opacity=\"1\"/>\n",
              "<polyline clip-path=\"url(#clip942)\" style=\"stroke:#000000; stroke-linecap:round; stroke-linejoin:round; stroke-width:4; stroke-opacity:1; fill:none\" points=\"2223.36,1396.66 2223.36,1423.18 2223.46,1423.18 2223.46,1396.66 2223.36,1396.66 \"/>\n",
              "<path clip-path=\"url(#clip942)\" d=\"M2235.34 1423.18 L2235.34 1423.18 L2235.44 1423.18 L2235.44 1423.18 L2235.34 1423.18 L2235.34 1423.18  Z\" fill=\"#009af9\" fill-rule=\"evenodd\" fill-opacity=\"1\"/>\n",
              "<polyline clip-path=\"url(#clip942)\" style=\"stroke:#000000; stroke-linecap:round; stroke-linejoin:round; stroke-width:4; stroke-opacity:1; fill:none\" points=\"2235.34,1423.18 2235.34,1423.18 2235.44,1423.18 2235.34,1423.18 \"/>\n",
              "<circle clip-path=\"url(#clip942)\" style=\"fill:#009af9; stroke:none; fill-opacity:0\" cx=\"337.229\" cy=\"123.472\" r=\"2\"/>\n",
              "<circle clip-path=\"url(#clip942)\" style=\"fill:#009af9; stroke:none; fill-opacity:0\" cx=\"755.014\" cy=\"149.997\" r=\"2\"/>\n",
              "<circle clip-path=\"url(#clip942)\" style=\"fill:#009af9; stroke:none; fill-opacity:0\" cx=\"861.992\" cy=\"176.521\" r=\"2\"/>\n",
              "<circle clip-path=\"url(#clip942)\" style=\"fill:#009af9; stroke:none; fill-opacity:0\" cx=\"873.623\" cy=\"203.046\" r=\"2\"/>\n",
              "<circle clip-path=\"url(#clip942)\" style=\"fill:#009af9; stroke:none; fill-opacity:0\" cx=\"901.789\" cy=\"229.571\" r=\"2\"/>\n",
              "<circle clip-path=\"url(#clip942)\" style=\"fill:#009af9; stroke:none; fill-opacity:0\" cx=\"912.748\" cy=\"256.095\" r=\"2\"/>\n",
              "<circle clip-path=\"url(#clip942)\" style=\"fill:#009af9; stroke:none; fill-opacity:0\" cx=\"931.433\" cy=\"282.62\" r=\"2\"/>\n",
              "<circle clip-path=\"url(#clip942)\" style=\"fill:#009af9; stroke:none; fill-opacity:0\" cx=\"993.747\" cy=\"309.145\" r=\"2\"/>\n",
              "<circle clip-path=\"url(#clip942)\" style=\"fill:#009af9; stroke:none; fill-opacity:0\" cx=\"1034.3\" cy=\"335.669\" r=\"2\"/>\n",
              "<circle clip-path=\"url(#clip942)\" style=\"fill:#009af9; stroke:none; fill-opacity:0\" cx=\"1078.23\" cy=\"362.194\" r=\"2\"/>\n",
              "<circle clip-path=\"url(#clip942)\" style=\"fill:#009af9; stroke:none; fill-opacity:0\" cx=\"1106.93\" cy=\"388.719\" r=\"2\"/>\n",
              "<circle clip-path=\"url(#clip942)\" style=\"fill:#009af9; stroke:none; fill-opacity:0\" cx=\"1134.98\" cy=\"415.243\" r=\"2\"/>\n",
              "<circle clip-path=\"url(#clip942)\" style=\"fill:#009af9; stroke:none; fill-opacity:0\" cx=\"1153.98\" cy=\"441.768\" r=\"2\"/>\n",
              "<circle clip-path=\"url(#clip942)\" style=\"fill:#009af9; stroke:none; fill-opacity:0\" cx=\"1155.52\" cy=\"468.293\" r=\"2\"/>\n",
              "<circle clip-path=\"url(#clip942)\" style=\"fill:#009af9; stroke:none; fill-opacity:0\" cx=\"1182.29\" cy=\"494.817\" r=\"2\"/>\n",
              "<circle clip-path=\"url(#clip942)\" style=\"fill:#009af9; stroke:none; fill-opacity:0\" cx=\"1220.62\" cy=\"521.342\" r=\"2\"/>\n",
              "<circle clip-path=\"url(#clip942)\" style=\"fill:#009af9; stroke:none; fill-opacity:0\" cx=\"1254.23\" cy=\"547.866\" r=\"2\"/>\n",
              "<circle clip-path=\"url(#clip942)\" style=\"fill:#009af9; stroke:none; fill-opacity:0\" cx=\"1278.14\" cy=\"574.391\" r=\"2\"/>\n",
              "<circle clip-path=\"url(#clip942)\" style=\"fill:#009af9; stroke:none; fill-opacity:0\" cx=\"1287.96\" cy=\"600.916\" r=\"2\"/>\n",
              "<circle clip-path=\"url(#clip942)\" style=\"fill:#009af9; stroke:none; fill-opacity:0\" cx=\"1321.15\" cy=\"627.44\" r=\"2\"/>\n",
              "<circle clip-path=\"url(#clip942)\" style=\"fill:#009af9; stroke:none; fill-opacity:0\" cx=\"1380.38\" cy=\"653.965\" r=\"2\"/>\n",
              "<circle clip-path=\"url(#clip942)\" style=\"fill:#009af9; stroke:none; fill-opacity:0\" cx=\"1380.51\" cy=\"680.49\" r=\"2\"/>\n",
              "<circle clip-path=\"url(#clip942)\" style=\"fill:#009af9; stroke:none; fill-opacity:0\" cx=\"1394.84\" cy=\"707.014\" r=\"2\"/>\n",
              "<circle clip-path=\"url(#clip942)\" style=\"fill:#009af9; stroke:none; fill-opacity:0\" cx=\"1403.25\" cy=\"733.539\" r=\"2\"/>\n",
              "<circle clip-path=\"url(#clip942)\" style=\"fill:#009af9; stroke:none; fill-opacity:0\" cx=\"1455.94\" cy=\"760.064\" r=\"2\"/>\n",
              "<circle clip-path=\"url(#clip942)\" style=\"fill:#009af9; stroke:none; fill-opacity:0\" cx=\"1460.98\" cy=\"786.588\" r=\"2\"/>\n",
              "<circle clip-path=\"url(#clip942)\" style=\"fill:#009af9; stroke:none; fill-opacity:0\" cx=\"1506.32\" cy=\"813.113\" r=\"2\"/>\n",
              "<circle clip-path=\"url(#clip942)\" style=\"fill:#009af9; stroke:none; fill-opacity:0\" cx=\"1535.11\" cy=\"839.638\" r=\"2\"/>\n",
              "<circle clip-path=\"url(#clip942)\" style=\"fill:#009af9; stroke:none; fill-opacity:0\" cx=\"1575.19\" cy=\"866.162\" r=\"2\"/>\n",
              "<circle clip-path=\"url(#clip942)\" style=\"fill:#009af9; stroke:none; fill-opacity:0\" cx=\"1582.15\" cy=\"892.687\" r=\"2\"/>\n",
              "<circle clip-path=\"url(#clip942)\" style=\"fill:#009af9; stroke:none; fill-opacity:0\" cx=\"1617.89\" cy=\"919.212\" r=\"2\"/>\n",
              "<circle clip-path=\"url(#clip942)\" style=\"fill:#009af9; stroke:none; fill-opacity:0\" cx=\"1653.33\" cy=\"945.736\" r=\"2\"/>\n",
              "<circle clip-path=\"url(#clip942)\" style=\"fill:#009af9; stroke:none; fill-opacity:0\" cx=\"1658.35\" cy=\"972.261\" r=\"2\"/>\n",
              "<circle clip-path=\"url(#clip942)\" style=\"fill:#009af9; stroke:none; fill-opacity:0\" cx=\"1663.52\" cy=\"998.785\" r=\"2\"/>\n",
              "<circle clip-path=\"url(#clip942)\" style=\"fill:#009af9; stroke:none; fill-opacity:0\" cx=\"1675.55\" cy=\"1025.31\" r=\"2\"/>\n",
              "<circle clip-path=\"url(#clip942)\" style=\"fill:#009af9; stroke:none; fill-opacity:0\" cx=\"1710.24\" cy=\"1051.83\" r=\"2\"/>\n",
              "<circle clip-path=\"url(#clip942)\" style=\"fill:#009af9; stroke:none; fill-opacity:0\" cx=\"1750.19\" cy=\"1078.36\" r=\"2\"/>\n",
              "<circle clip-path=\"url(#clip942)\" style=\"fill:#009af9; stroke:none; fill-opacity:0\" cx=\"1811.95\" cy=\"1104.88\" r=\"2\"/>\n",
              "<circle clip-path=\"url(#clip942)\" style=\"fill:#009af9; stroke:none; fill-opacity:0\" cx=\"1818.52\" cy=\"1131.41\" r=\"2\"/>\n",
              "<circle clip-path=\"url(#clip942)\" style=\"fill:#009af9; stroke:none; fill-opacity:0\" cx=\"1883.21\" cy=\"1157.93\" r=\"2\"/>\n",
              "<circle clip-path=\"url(#clip942)\" style=\"fill:#009af9; stroke:none; fill-opacity:0\" cx=\"1896.57\" cy=\"1184.46\" r=\"2\"/>\n",
              "<circle clip-path=\"url(#clip942)\" style=\"fill:#009af9; stroke:none; fill-opacity:0\" cx=\"1938.98\" cy=\"1210.98\" r=\"2\"/>\n",
              "<circle clip-path=\"url(#clip942)\" style=\"fill:#009af9; stroke:none; fill-opacity:0\" cx=\"1944.44\" cy=\"1237.51\" r=\"2\"/>\n",
              "<circle clip-path=\"url(#clip942)\" style=\"fill:#009af9; stroke:none; fill-opacity:0\" cx=\"1947.41\" cy=\"1264.03\" r=\"2\"/>\n",
              "<circle clip-path=\"url(#clip942)\" style=\"fill:#009af9; stroke:none; fill-opacity:0\" cx=\"1976.53\" cy=\"1290.56\" r=\"2\"/>\n",
              "<circle clip-path=\"url(#clip942)\" style=\"fill:#009af9; stroke:none; fill-opacity:0\" cx=\"1978.79\" cy=\"1317.08\" r=\"2\"/>\n",
              "<circle clip-path=\"url(#clip942)\" style=\"fill:#009af9; stroke:none; fill-opacity:0\" cx=\"2033.11\" cy=\"1343.61\" r=\"2\"/>\n",
              "<circle clip-path=\"url(#clip942)\" style=\"fill:#009af9; stroke:none; fill-opacity:0\" cx=\"2182.98\" cy=\"1370.13\" r=\"2\"/>\n",
              "<circle clip-path=\"url(#clip942)\" style=\"fill:#009af9; stroke:none; fill-opacity:0\" cx=\"2223.41\" cy=\"1396.66\" r=\"2\"/>\n",
              "<circle clip-path=\"url(#clip942)\" style=\"fill:#009af9; stroke:none; fill-opacity:0\" cx=\"2235.39\" cy=\"1423.18\" r=\"2\"/>\n",
              "</svg>\n"
            ]
          },
          "execution_count": 13,
          "metadata": {},
          "output_type": "execute_result"
        }
      ],
      "source": [
        "using Plots\n",
        "n = 50\n",
        "g1 = [randn() for i = 1:n] # generate the samples\n",
        "\n",
        "p = plot(sort(g1), 1 .- (1:n)./n,\n",
        "    xlabel = \"sample\", ylabel = \"Probability\",\n",
        "    title = \"Empirical Cumluative Distribution\", label = \"\", seriestype=:bar, num_bins=10 )"
      ]
    },
    {
      "cell_type": "code",
      "execution_count": null,
      "metadata": {
        "colab": {
          "base_uri": "https://localhost:8080/",
          "height": 124
        },
        "id": "ZYtHbJ0s_Omj",
        "outputId": "73ea2b8b-9dd9-4be1-c126-f63c98de2934"
      },
      "outputs": [
        {
          "ename": "LoadError",
          "evalue": "syntax: missing comma or ) in argument list",
          "output_type": "error",
          "traceback": [
            "syntax: missing comma or ) in argument list",
            "",
            "Stacktrace:",
            " [1] top-level scope",
            "   @ In[14]:5"
          ]
        }
      ],
      "source": [
        "using Plots\n",
        "\n",
        "plt=histogram(degrees,probabilities\n",
        "\n",
        "x1=plt[1][2][:x]\n",
        "y1=plt[1][2][:y]\n",
        "println(x1,y1)\n",
        "y1=1 .- cumsum(y1)\n",
        "\n",
        "bar(x1,y1)\n",
        "\n",
        "#plt=bar(x, y, label=\"Original Data\", xlabel=\"X\", ylabel=\"Y\")\n",
        "\n",
        "# Plot the modified data\n",
        "\n"
      ]
    },
    {
      "cell_type": "code",
      "execution_count": null,
      "metadata": {
        "colab": {
          "base_uri": "https://localhost:8080/",
          "height": 124
        },
        "id": "_hwJSoAeSNO8",
        "outputId": "2b726fd7-5130-440a-bf9b-2fe75e3db2f6"
      },
      "outputs": [
        {
          "ename": "LoadError",
          "evalue": "UndefVarError: degrees not defined",
          "output_type": "error",
          "traceback": [
            "UndefVarError: degrees not defined",
            "",
            "Stacktrace:",
            " [1] top-level scope",
            "   @ In[15]:3"
          ]
        }
      ],
      "source": [
        "using Plots\n",
        "\n",
        "plt=histogram(degrees,probabilities,bins=12)\n",
        "x1=plt[1][2][:x]\n",
        "y1=plt[1][2][:y]\n",
        "println(x1,y1)\n",
        "\n",
        "y1=1 .- cumsum(y1)\n",
        "\n",
        "bar(x1,y1)\n"
      ]
    },
    {
      "cell_type": "code",
      "execution_count": null,
      "metadata": {
        "colab": {
          "base_uri": "https://localhost:8080/",
          "height": 54
        },
        "id": "8ie49yeHPlIL",
        "outputId": "e4419daa-639a-4665-82d5-ed724a9ee24a"
      },
      "outputs": [
        {
          "ename": "LoadError",
          "evalue": "UndefVarError: probabilities not defined",
          "output_type": "error",
          "traceback": [
            "UndefVarError: probabilities not defined",
            ""
          ]
        }
      ],
      "source": [
        "probabilities"
      ]
    },
    {
      "cell_type": "code",
      "execution_count": null,
      "metadata": {
        "colab": {
          "base_uri": "https://localhost:8080/",
          "height": 124
        },
        "id": "kuKQqKPYOkSW",
        "outputId": "cc6d41d5-ddc8-4948-fcde-c51d90d9cab6"
      },
      "outputs": [
        {
          "ename": "LoadError",
          "evalue": "UndefVarError: probabilities not defined",
          "output_type": "error",
          "traceback": [
            "UndefVarError: probabilities not defined",
            "",
            "Stacktrace:",
            " [1] top-level scope",
            "   @ In[17]:1"
          ]
        }
      ],
      "source": [
        "sum(probabilities)"
      ]
    },
    {
      "cell_type": "code",
      "execution_count": null,
      "metadata": {
        "colab": {
          "base_uri": "https://localhost:8080/",
          "height": 124
        },
        "id": "ZxkWno4gOMRO",
        "outputId": "a51bd30d-5a88-4326-d9cc-fd97effbdfa3"
      },
      "outputs": [
        {
          "ename": "LoadError",
          "evalue": "UndefVarError: network not defined",
          "output_type": "error",
          "traceback": [
            "UndefVarError: network not defined",
            "",
            "Stacktrace:",
            " [1] top-level scope",
            "   @ In[18]:1"
          ]
        }
      ],
      "source": [
        "  degree_counts = Graphs.degree_histogram(network)\n",
        "\n",
        "    # Calculate probabilities\n",
        "    num_nodes = nv(network)\n",
        "\n",
        "\n",
        "    pdf = sort(Dict(degree => count / num_nodes for (degree, count) in degree_counts))\n",
        "\n",
        "    degrees = collect(keys(pdf))\n",
        "    probabilities = collect(values(pdf))"
      ]
    },
    {
      "cell_type": "code",
      "execution_count": null,
      "metadata": {
        "colab": {
          "base_uri": "https://localhost:8080/",
          "height": 124
        },
        "id": "HMI6QNE69QSH",
        "outputId": "d6b6a1c8-f17a-4e7b-ee6d-4b602ac89102"
      },
      "outputs": [
        {
          "ename": "LoadError",
          "evalue": "UndefVarError: x not defined",
          "output_type": "error",
          "traceback": [
            "UndefVarError: x not defined",
            "",
            "Stacktrace:",
            " [1] top-level scope",
            "   @ In[19]:1"
          ]
        }
      ],
      "source": [
        "plt=plot(x, y, label=\"Original Data\", xlabel=\"X\", ylabel=\"Y\")\n",
        "\n",
        "# Plot the modified data\n",
        "\n",
        "collect(plt[1][1][:y])"
      ]
    },
    {
      "cell_type": "markdown",
      "metadata": {
        "id": "8RC1QNNqk6h1"
      },
      "source": [
        "# Need Help?\n",
        "\n",
        "* Learning: https://julialang.org/learning/\n",
        "* Documentation: https://docs.julialang.org/\n",
        "* Questions & Discussions:\n",
        "  * https://discourse.julialang.org/\n",
        "  * http://julialang.slack.com/\n",
        "  * https://stackoverflow.com/questions/tagged/julia\n",
        "\n",
        "If you ever ask for help or file an issue about Julia, you should generally provide the output of `versioninfo()`."
      ]
    },
    {
      "cell_type": "markdown",
      "metadata": {
        "id": "2UMidUQB03vJ"
      },
      "source": [
        "Add new code cells by clicking the `+ Code` button (or _Insert_ > _Code cell_).\n",
        "\n",
        "Have fun!\n",
        "\n",
        "<img src=\"https://raw.githubusercontent.com/JuliaLang/julia-logo-graphics/master/images/julia-logo-mask.png\" height=\"100\" />"
      ]
    }
  ],
  "metadata": {
    "colab": {
      "provenance": []
    },
    "gpuClass": "standard",
    "kernelspec": {
      "display_name": "Julia",
      "language": "julia",
      "name": "julia"
    },
    "language_info": {
      "file_extension": ".jl",
      "mimetype": "application/julia",
      "name": "julia"
    }
  },
  "nbformat": 4,
  "nbformat_minor": 0
}
